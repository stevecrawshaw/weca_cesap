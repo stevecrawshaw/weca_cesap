{
 "cells": [
  {
   "cell_type": "code",
   "execution_count": 4,
   "metadata": {},
   "outputs": [],
   "source": [
    "import polars as pl     "
   ]
  },
  {
   "cell_type": "code",
   "execution_count": 5,
   "metadata": {},
   "outputs": [],
   "source": [
    "df = pl.DataFrame(\n",
    "    {'uprn':['a', 'a', 'c', 'd', 'e', 'e'],\n",
    "     'ld':['01/01/2023', '01/02/2023', '01/01/2023', '01/01/2023', '01/01/2023', '01/03/2023'],\n",
    "     'lmk': [1, 2, 3, 4, 5, 6]}\n",
    ")"
   ]
  },
  {
   "cell_type": "code",
   "execution_count": 6,
   "metadata": {},
   "outputs": [
    {
     "data": {
      "text/html": [
       "<div><style>\n",
       ".dataframe > thead > tr > th,\n",
       ".dataframe > tbody > tr > td {\n",
       "  text-align: right;\n",
       "}\n",
       "</style>\n",
       "<small>shape: (6, 3)</small><table border=\"1\" class=\"dataframe\"><thead><tr><th>uprn</th><th>ld</th><th>lmk</th></tr><tr><td>str</td><td>str</td><td>i64</td></tr></thead><tbody><tr><td>&quot;a&quot;</td><td>&quot;01/01/2023&quot;</td><td>1</td></tr><tr><td>&quot;a&quot;</td><td>&quot;01/02/2023&quot;</td><td>2</td></tr><tr><td>&quot;c&quot;</td><td>&quot;01/01/2023&quot;</td><td>3</td></tr><tr><td>&quot;d&quot;</td><td>&quot;01/01/2023&quot;</td><td>4</td></tr><tr><td>&quot;e&quot;</td><td>&quot;01/01/2023&quot;</td><td>5</td></tr><tr><td>&quot;e&quot;</td><td>&quot;01/03/2023&quot;</td><td>6</td></tr></tbody></table></div>"
      ],
      "text/plain": [
       "shape: (6, 3)\n",
       "┌──────┬────────────┬─────┐\n",
       "│ uprn ┆ ld         ┆ lmk │\n",
       "│ ---  ┆ ---        ┆ --- │\n",
       "│ str  ┆ str        ┆ i64 │\n",
       "╞══════╪════════════╪═════╡\n",
       "│ a    ┆ 01/01/2023 ┆ 1   │\n",
       "│ a    ┆ 01/02/2023 ┆ 2   │\n",
       "│ c    ┆ 01/01/2023 ┆ 3   │\n",
       "│ d    ┆ 01/01/2023 ┆ 4   │\n",
       "│ e    ┆ 01/01/2023 ┆ 5   │\n",
       "│ e    ┆ 01/03/2023 ┆ 6   │\n",
       "└──────┴────────────┴─────┘"
      ]
     },
     "execution_count": 6,
     "metadata": {},
     "output_type": "execute_result"
    }
   ],
   "source": [
    "df"
   ]
  },
  {
   "cell_type": "code",
   "execution_count": 20,
   "metadata": {},
   "outputs": [
    {
     "data": {
      "text/html": [
       "<div><style>\n",
       ".dataframe > thead > tr > th,\n",
       ".dataframe > tbody > tr > td {\n",
       "  text-align: right;\n",
       "}\n",
       "</style>\n",
       "<small>shape: (4, 4)</small><table border=\"1\" class=\"dataframe\"><thead><tr><th>uprn</th><th>ld</th><th>lmk</th><th>date</th></tr><tr><td>str</td><td>str</td><td>i64</td><td>date</td></tr></thead><tbody><tr><td>&quot;a&quot;</td><td>&quot;01/02/2023&quot;</td><td>2</td><td>2023-02-01</td></tr><tr><td>&quot;e&quot;</td><td>&quot;01/03/2023&quot;</td><td>6</td><td>2023-03-01</td></tr><tr><td>&quot;d&quot;</td><td>&quot;01/01/2023&quot;</td><td>4</td><td>2023-01-01</td></tr><tr><td>&quot;c&quot;</td><td>&quot;01/01/2023&quot;</td><td>3</td><td>2023-01-01</td></tr></tbody></table></div>"
      ],
      "text/plain": [
       "shape: (4, 4)\n",
       "┌──────┬────────────┬─────┬────────────┐\n",
       "│ uprn ┆ ld         ┆ lmk ┆ date       │\n",
       "│ ---  ┆ ---        ┆ --- ┆ ---        │\n",
       "│ str  ┆ str        ┆ i64 ┆ date       │\n",
       "╞══════╪════════════╪═════╪════════════╡\n",
       "│ a    ┆ 01/02/2023 ┆ 2   ┆ 2023-02-01 │\n",
       "│ e    ┆ 01/03/2023 ┆ 6   ┆ 2023-03-01 │\n",
       "│ d    ┆ 01/01/2023 ┆ 4   ┆ 2023-01-01 │\n",
       "│ c    ┆ 01/01/2023 ┆ 3   ┆ 2023-01-01 │\n",
       "└──────┴────────────┴─────┴────────────┘"
      ]
     },
     "execution_count": 20,
     "metadata": {},
     "output_type": "execute_result"
    }
   ],
   "source": [
    "(df\n",
    " .with_columns(pl.col('ld').str.to_date('%d/%m/%Y').alias('date'))\n",
    " .sort(['uprn', 'date'])\n",
    " .groupby('uprn').last()\n",
    "\n",
    " )"
   ]
  },
  {
   "cell_type": "code",
   "execution_count": null,
   "metadata": {},
   "outputs": [],
   "source": []
  },
  {
   "cell_type": "code",
   "execution_count": null,
   "metadata": {},
   "outputs": [],
   "source": []
  },
  {
   "cell_type": "code",
   "execution_count": null,
   "metadata": {},
   "outputs": [],
   "source": []
  }
 ],
 "metadata": {
  "kernelspec": {
   "display_name": "ds01",
   "language": "python",
   "name": "python3"
  },
  "language_info": {
   "codemirror_mode": {
    "name": "ipython",
    "version": 3
   },
   "file_extension": ".py",
   "mimetype": "text/x-python",
   "name": "python",
   "nbconvert_exporter": "python",
   "pygments_lexer": "ipython3",
   "version": "3.10.11"
  }
 },
 "nbformat": 4,
 "nbformat_minor": 2
}
