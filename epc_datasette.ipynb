{
 "cells": [
  {
   "cell_type": "code",
   "execution_count": 1,
   "metadata": {},
   "outputs": [],
   "source": [
    "from sqlite_utils import Database\n",
    "import polars as pl\n",
    "from datetime import datetime\n",
    "import os\n",
    "# import json\n",
    "import get_ca_data as get_ca # functions for retrieving CA \\ common data"
   ]
  },
  {
   "cell_type": "code",
   "execution_count": 2,
   "metadata": {},
   "outputs": [],
   "source": [
    "epc_clean = (pl.read_csv('data/epc_subset_polars_last.csv', n_rows=400))\n"
   ]
  },
  {
   "cell_type": "code",
   "execution_count": 3,
   "metadata": {},
   "outputs": [],
   "source": [
    "epc_names = get_ca.get_rename_dict(epc_clean, get_ca.remove_numbers)\n",
    "\n",
    "epc_clean_df = (\n",
    "    epc_clean\n",
    "    .with_columns([pl.col('LODGEMENT_DATETIME')\n",
    "                   .str.to_datetime()\n",
    "                   .dt.date()\n",
    "                   .alias('date')])\n",
    "    .with_columns([pl.col('date').dt.year().alias('year'),\n",
    "                   pl.col('date').dt.month().cast(pl.Int16).alias('month'),\n",
    "                   pl.col('date').cast(pl.Utf8)])\n",
    "    .rename(epc_names)\n",
    "    .select(pl.exclude('lodgement_datetime'))\n",
    "    \n",
    ")\n",
    "# epc_clean_df.glimpse()"
   ]
  },
  {
   "cell_type": "code",
   "execution_count": 4,
   "metadata": {},
   "outputs": [],
   "source": [
    "ca_la_df = get_ca.get_ca_la_df(year = 2023)\n",
    "ca_la_codes = get_ca.get_ca_la_codes(ca_la_df)\n",
    "postcode_file = get_ca.get_zipped_csv_file(url = \"https://www.arcgis.com/sharing/rest/content/items/3770c5e8b0c24f1dbe6d2fc6b46a0b18/data\",\n",
    "                      file_folder_name = \"postcode_lookup\")\n",
    "postcodes_df = get_ca.get_postcode_df(postcode_file, ca_la_codes)"
   ]
  },
  {
   "cell_type": "code",
   "execution_count": 5,
   "metadata": {},
   "outputs": [],
   "source": [
    "# postcodes_df.glimpse()"
   ]
  },
  {
   "cell_type": "code",
   "execution_count": 6,
   "metadata": {},
   "outputs": [],
   "source": [
    "# ca_la_df.select(pl.col('ladcd')).unique()"
   ]
  },
  {
   "cell_type": "code",
   "execution_count": 7,
   "metadata": {},
   "outputs": [],
   "source": [
    "# this is hit by the 2000 record limit too so use DL file\n",
    "# input_file = get_ca.get_geojson(url = \"https://services1.arcgis.com/ESMARspQHYMw9BZ9/arcgis/rest/services/LLSOA_Dec_2021_PWC_for_England_and_Wales_2022/FeatureServer/0/query\",\n",
    "#                       destination_directory = \"data\\\\geojson\")"
   ]
  },
  {
   "cell_type": "code",
   "execution_count": 8,
   "metadata": {},
   "outputs": [],
   "source": [
    "ca_lsoa_codes = get_ca.get_ca_lsoa_codes(postcodes_df)"
   ]
  },
  {
   "cell_type": "code",
   "execution_count": null,
   "metadata": {},
   "outputs": [],
   "source": [
    "\n"
   ]
  },
  {
   "cell_type": "code",
   "execution_count": 9,
   "metadata": {},
   "outputs": [],
   "source": [
    "url_imd_csv = \"https://open-geography-portalx-ons.hub.arcgis.com/datasets/ons::index-of-multiple-deprivation-dec-2019-lookup-in-england.csv?where=1=1&outSR=%7B%22latestWkid%22%3A3857%2C%22wkid%22%3A102100%7D\""
   ]
  },
  {
   "cell_type": "code",
   "execution_count": 10,
   "metadata": {},
   "outputs": [],
   "source": [
    "imd_df_raw = pl.read_csv(url_imd_csv)"
   ]
  },
  {
   "cell_type": "code",
   "execution_count": 11,
   "metadata": {},
   "outputs": [],
   "source": [
    "rename_dict_imd = get_ca.get_rename_dict(imd_df_raw, get_ca.remove_numbers, rm_numbers = True)"
   ]
  },
  {
   "cell_type": "code",
   "execution_count": 12,
   "metadata": {},
   "outputs": [],
   "source": [
    "imd_df = (\n",
    "    imd_df_raw\n",
    "    .rename(rename_dict_imd)\n",
    "    .select(pl.all().exclude('fid'))\n",
    "    .filter(pl.col('lsoacd').is_in(ca_lsoa_codes))\n",
    ")\n",
    "n_unmatched_lsoas = len(ca_lsoa_codes) - imd_df.shape[0]"
   ]
  },
  {
   "cell_type": "code",
   "execution_count": 13,
   "metadata": {},
   "outputs": [],
   "source": [
    "\n",
    "db = Database('data/ca_epc.db', recreate=False)"
   ]
  },
  {
   "cell_type": "code",
   "execution_count": 15,
   "metadata": {},
   "outputs": [
    {
     "data": {
      "text/plain": [
       "<Table imd_tbl (lsoacd, lsoanm, ladcd, ladnm, imd)>"
      ]
     },
     "execution_count": 15,
     "metadata": {},
     "output_type": "execute_result"
    }
   ],
   "source": [
    "db['imd_tbl'].create(\n",
    "{\n",
    " 'lsoacd': str,\n",
    " 'lsoanm': str,\n",
    " 'ladcd': str,\n",
    " 'ladnm': str,\n",
    " 'imd': int\n",
    " },\n",
    " pk = 'lsoacd'\n",
    ")"
   ]
  },
  {
   "cell_type": "code",
   "execution_count": 16,
   "metadata": {},
   "outputs": [
    {
     "data": {
      "text/plain": [
       "<Table ca_la_tbl (ladcd, ladnm, cauthcd, cauthnm)>"
      ]
     },
     "execution_count": 16,
     "metadata": {},
     "output_type": "execute_result"
    }
   ],
   "source": [
    "db['ca_la_tbl'].create(\n",
    "{\n",
    " 'ladcd': str,\n",
    " 'ladnm': str,\n",
    " 'cauthcd': str,\n",
    " 'cauthnm': str\n",
    " },\n",
    " pk = 'ladcd'\n",
    ")"
   ]
  },
  {
   "cell_type": "code",
   "execution_count": 17,
   "metadata": {},
   "outputs": [
    {
     "data": {
      "text/plain": [
       "<Table postcodes_tbl (pcds, lsoacd, msoacd, ladcd, ladnm)>"
      ]
     },
     "execution_count": 17,
     "metadata": {},
     "output_type": "execute_result"
    }
   ],
   "source": [
    "db['postcodes_tbl'].create(\n",
    "    {\"pcds\": str,\n",
    "     \"lsoacd\": str,\n",
    "     \"msoacd\": str,\n",
    "     \"ladcd\": str,\n",
    "     \"ladnm\": str},\n",
    "     pk = 'pcds'\n",
    "     )"
   ]
  },
  {
   "cell_type": "code",
   "execution_count": 18,
   "metadata": {},
   "outputs": [
    {
     "data": {
      "text/plain": [
       "<Table epc_clean_tbl (uprn, lmk_key, postcode, current_energy_rating, local_authority, property_type, transaction_type, environment_impact_current, co2_emissions_current, tenure, date, year, month)>"
      ]
     },
     "execution_count": 18,
     "metadata": {},
     "output_type": "execute_result"
    }
   ],
   "source": [
    "db['epc_clean_tbl'].create(\n",
    "{'uprn': int,\n",
    " 'lmk_key': str,\n",
    " 'postcode': str,\n",
    " 'current_energy_rating': str,\n",
    " 'local_authority': str,\n",
    " 'property_type': str,\n",
    " 'transaction_type': str,\n",
    " 'environment_impact_current': int,\n",
    " 'co2_emissions_current': float,\n",
    " 'tenure': str,\n",
    " 'date': str,\n",
    " 'year': int,\n",
    " 'month': int},\n",
    " pk = 'lmk_key'\n",
    ")"
   ]
  },
  {
   "cell_type": "code",
   "execution_count": 19,
   "metadata": {},
   "outputs": [
    {
     "data": {
      "text/plain": [
       "<Table postcodes_tbl (pcds, lsoacd, msoacd, ladcd, ladnm)>"
      ]
     },
     "execution_count": 19,
     "metadata": {},
     "output_type": "execute_result"
    }
   ],
   "source": [
    "db['epc_clean_tbl'].add_foreign_key('postcode', 'postcodes_tbl', 'pcds')\n",
    "db['postcodes_tbl'].add_foreign_key('lsoacd', 'imd_tbl', 'lsoacd')\n",
    "db['postcodes_tbl'].add_foreign_key('ladcd', 'ca_la_tbl', 'ladcd')"
   ]
  },
  {
   "cell_type": "code",
   "execution_count": 22,
   "metadata": {},
   "outputs": [
    {
     "name": "stdout",
     "output_type": "stream",
     "text": [
      "CREATE TABLE \"postcodes_tbl\" (\n",
      "   [pcds] TEXT PRIMARY KEY,\n",
      "   [lsoacd] TEXT REFERENCES [imd_tbl]([lsoacd]),\n",
      "   [msoacd] TEXT,\n",
      "   [ladcd] TEXT REFERENCES [ca_la_tbl]([ladcd]),\n",
      "   [ladnm] TEXT\n",
      ")\n"
     ]
    }
   ],
   "source": [
    "print(db['postcodes_tbl'].schema)"
   ]
  },
  {
   "cell_type": "code",
   "execution_count": 23,
   "metadata": {},
   "outputs": [],
   "source": [
    "db.close()\n"
   ]
  },
  {
   "cell_type": "code",
   "execution_count": null,
   "metadata": {},
   "outputs": [],
   "source": []
  },
  {
   "cell_type": "code",
   "execution_count": null,
   "metadata": {},
   "outputs": [],
   "source": []
  },
  {
   "cell_type": "code",
   "execution_count": 9,
   "metadata": {},
   "outputs": [],
   "source": [
    "lsoa_bng_file_path = get_ca.filter_geojson('data/geojson/LLSOA_Dec_2021_PWC_for_England_and_Wales_2022_-7534040603619445107.geojson',\n",
    " output_file='data/geojson/ca_lsoa_pwc.geojson',\n",
    " property_name = 'LSOA21CD',\n",
    " ca_lsoa_codes = ca_lsoa_codes)"
   ]
  },
  {
   "cell_type": "code",
   "execution_count": 14,
   "metadata": {},
   "outputs": [
    {
     "data": {
      "text/plain": [
       "'data/geojson/ca_lsoa_pwc_wgs84.geojson'"
      ]
     },
     "execution_count": 14,
     "metadata": {},
     "output_type": "execute_result"
    }
   ],
   "source": [
    "get_ca.reproject(input_bng_file='data/geojson/ca_lsoa_pwc.geojson', output_wgs84_file='data/geojson/ca_lsoa_pwc_wgs84.geojson')"
   ]
  },
  {
   "cell_type": "code",
   "execution_count": null,
   "metadata": {},
   "outputs": [],
   "source": [
    "# import the lsoa PWC file as geojson to the DB\n",
    "# geojson-to-sqlite ca_epc.db lsoa_pwc_tbl geojson/ca_lsoa_pwc_wgs84.geojson\n"
   ]
  },
  {
   "cell_type": "code",
   "execution_count": 24,
   "metadata": {},
   "outputs": [],
   "source": [
    "epc_clean_tbl_payload = epc_clean_df.to_dicts()\n",
    "ca_la_tbl_payload = ca_la_df.to_dicts()\n",
    "postcodes_tbl_payload = postcodes_df.to_dicts()\n",
    "imd_tbl_payload = imd_df.to_dicts()"
   ]
  },
  {
   "cell_type": "code",
   "execution_count": 27,
   "metadata": {},
   "outputs": [
    {
     "data": {
      "text/plain": [
       "<Table imd_tbl (lsoacd, lsoanm, ladcd, ladnm, imd)>"
      ]
     },
     "execution_count": 27,
     "metadata": {},
     "output_type": "execute_result"
    }
   ],
   "source": [
    "db['ca_la_tbl'].insert_all(ca_la_tbl_payload)\n",
    "db['epc_clean_tbl'].insert_all(epc_clean_tbl_payload)\n",
    "db['postcodes_tbl'].insert_all(postcodes_tbl_payload)\n",
    "db['imd_tbl'].insert_all(imd_tbl_payload)\n"
   ]
  },
  {
   "cell_type": "code",
   "execution_count": 47,
   "metadata": {},
   "outputs": [
    {
     "name": "stdout",
     "output_type": "stream",
     "text": [
      "{'uprn': None, 'lmk_key': '632d66abdfbd4f709d71851927a2d79fce2fd90e4d67fe999bc22b5a9970bcc2', 'postcode': 'BL5 3WB', 'current_energy_rating': 'B', 'local_authority': 'E08000001', 'property_type': 'Flat', 'transaction_type': 'marketed sale', 'environment_impact_current': 87, 'co2_emissions_current': 0.8, 'tenure': 'Owner-occupied', 'date': '2023-08-31', 'year': 2023, 'month': 8}\n",
      "{'uprn': 4210003725, 'lmk_key': '8126d78434eb72180e023c7d522d811b8a11a9d6f206aa19a867f06df5d4599c', 'postcode': 'BL3 1PS', 'current_energy_rating': 'C', 'local_authority': 'E08000001', 'property_type': 'House', 'transaction_type': 'marketed sale', 'environment_impact_current': 74, 'co2_emissions_current': 3.0, 'tenure': 'Owner-occupied', 'date': '2021-04-03', 'year': 2021, 'month': 4}\n",
      "{'uprn': 10001239702, 'lmk_key': '69223609222016052017263804808356', 'postcode': 'BL1 5WA', 'current_energy_rating': 'C', 'local_authority': 'E08000001', 'property_type': 'House', 'transaction_type': 'marketed sale', 'environment_impact_current': 71, 'co2_emissions_current': 6.1, 'tenure': 'owner-occupied', 'date': '2016-05-20', 'year': 2016, 'month': 5}\n",
      "{'uprn': 10001239704, 'lmk_key': '1099459139642014100812510823040588', 'postcode': 'BL3 5NP', 'current_energy_rating': 'D', 'local_authority': 'E08000001', 'property_type': 'House', 'transaction_type': 'none of the above', 'environment_impact_current': 68, 'co2_emissions_current': 2.3, 'tenure': 'rental (private)', 'date': '2014-10-08', 'year': 2014, 'month': 10}\n"
     ]
    }
   ],
   "source": [
    "for row in db['epc_clean_tbl'].rows:\n",
    "    print(row)"
   ]
  },
  {
   "cell_type": "code",
   "execution_count": 28,
   "metadata": {},
   "outputs": [
    {
     "name": "stdout",
     "output_type": "stream",
     "text": [
      "CREATE TABLE [imd_tbl] (\n",
      "   [lsoacd] TEXT PRIMARY KEY,\n",
      "   [lsoanm] TEXT,\n",
      "   [ladcd] TEXT,\n",
      "   [ladnm] TEXT,\n",
      "   [imd] INTEGER\n",
      ");\n",
      "CREATE TABLE [ca_la_tbl] (\n",
      "   [ladcd] TEXT PRIMARY KEY,\n",
      "   [ladnm] TEXT,\n",
      "   [cauthcd] TEXT,\n",
      "   [cauthnm] TEXT\n",
      ");\n",
      "CREATE TABLE \"epc_clean_tbl\" (\n",
      "   [uprn] INTEGER,\n",
      "   [lmk_key] TEXT PRIMARY KEY,\n",
      "   [postcode] TEXT REFERENCES [postcodes_tbl]([pcds]),\n",
      "   [current_energy_rating] TEXT,\n",
      "   [local_authority] TEXT,\n",
      "   [property_type] TEXT,\n",
      "   [transaction_type] TEXT,\n",
      "   [environment_impact_current] INTEGER,\n",
      "   [co2_emissions_current] FLOAT,\n",
      "   [tenure] TEXT,\n",
      "   [date] TEXT,\n",
      "   [year] INTEGER,\n",
      "   [month] INTEGER\n",
      ");\n",
      "CREATE TABLE \"postcodes_tbl\" (\n",
      "   [pcds] TEXT PRIMARY KEY,\n",
      "   [lsoacd] TEXT REFERENCES [imd_tbl]([lsoacd]),\n",
      "   [msoacd] TEXT,\n",
      "   [ladcd] TEXT REFERENCES [ca_la_tbl]([ladcd]),\n",
      "   [ladnm] TEXT\n",
      ");\n",
      "CREATE TABLE [lsoa_pwc_tbl] (\n",
      "   [id] INTEGER PRIMARY KEY,\n",
      "   [FID] INTEGER,\n",
      "   [LSOA21CD] TEXT,\n",
      "   [GlobalID] TEXT,\n",
      "   [geometry] TEXT\n",
      ");\n"
     ]
    }
   ],
   "source": [
    "print(db.schema)"
   ]
  },
  {
   "cell_type": "code",
   "execution_count": 49,
   "metadata": {},
   "outputs": [],
   "source": [
    "db.close()"
   ]
  },
  {
   "cell_type": "code",
   "execution_count": null,
   "metadata": {},
   "outputs": [],
   "source": []
  }
 ],
 "metadata": {
  "kernelspec": {
   "display_name": "Python 3",
   "language": "python",
   "name": "python3"
  },
  "language_info": {
   "codemirror_mode": {
    "name": "ipython",
    "version": 3
   },
   "file_extension": ".py",
   "mimetype": "text/x-python",
   "name": "python",
   "nbconvert_exporter": "python",
   "pygments_lexer": "ipython3",
   "version": "3.12.0"
  }
 },
 "nbformat": 4,
 "nbformat_minor": 2
}
