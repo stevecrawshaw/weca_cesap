{
 "cells": [
  {
   "cell_type": "code",
   "execution_count": 1,
   "metadata": {},
   "outputs": [],
   "source": [
    "from sqlite_utils import Database\n",
    "import polars as pl\n",
    "from datetime import datetime\n",
    "import os\n",
    "# import json\n",
    "import get_ca_data as get_ca # functions for retrieving CA \\ common data"
   ]
  },
  {
   "cell_type": "code",
   "execution_count": 2,
   "metadata": {},
   "outputs": [],
   "source": [
    "epc_clean = (pl.read_csv('data/epc_subset_polars_last.csv', n_rows=400))\n"
   ]
  },
  {
   "cell_type": "code",
   "execution_count": 3,
   "metadata": {},
   "outputs": [
    {
     "name": "stdout",
     "output_type": "stream",
     "text": [
      "Rows: 400\n",
      "Columns: 13\n",
      "$ uprn                       <i64> None, 4210003725, 10001239702, 10001239704, 10001239709, 10001239711, 10001239712, 10001239714, 10001239715, 10001239716\n",
      "$ lmk_key                    <str> '632d66abdfbd4f709d71851927a2d79fce2fd90e4d67fe999bc22b5a9970bcc2', '8126d78434eb72180e023c7d522d811b8a11a9d6f206aa19a867f06df5d4599c', '69223609222016052017263804808356', '1099459139642014100812510823040588', '876abfcefe535b31e3e3e46264de08d97acec07eb72415f2fa967061afc6315d', 'e9c4c64a24ad61bbf2c4de0d3bd97725b8dde5d9b21a12e2cd0888e34ac6af15', '1019963559062013100615514564448457', '1485207013512016100421133096069648', '1389662563632016072714480291278400', 'aade8e478efe85ef7a8b090f1a4eedd4941217246ccb9019e35ef1d944af8505'\n",
      "$ postcode                   <str> 'BL5 3WB', 'BL3 1PS', 'BL1 5WA', 'BL3 5NP', 'BL3 5NP', 'BL3 5NP', 'BL3 5NP', 'BL3 5NP', 'BL3 5NP', 'BL3 5NP'\n",
      "$ current_energy_rating      <str> 'B', 'C', 'C', 'D', 'C', 'C', 'C', 'D', 'E', 'D'\n",
      "$ local_authority            <str> 'E08000001', 'E08000001', 'E08000001', 'E08000001', 'E08000001', 'E08000001', 'E08000001', 'E08000001', 'E08000001', 'E08000001'\n",
      "$ property_type              <str> 'Flat', 'House', 'House', 'House', 'House', 'House', 'House', 'House', 'House', 'House'\n",
      "$ transaction_type           <str> 'marketed sale', 'marketed sale', 'marketed sale', 'none of the above', 'non marketed sale', 'rental', 'rental (private)', 'marketed sale', 'ECO assessment', 'rental'\n",
      "$ environment_impact_current <i64> 87, 74, 71, 68, 73, 69, 79, 57, 42, 41\n",
      "$ co2_emissions_current      <f64> 0.8, 3.0, 6.1, 2.3, 2.1, 2.4, 1.5, 3.2, 5.1, 5.6\n",
      "$ tenure                     <str> 'Owner-occupied', 'Owner-occupied', 'owner-occupied', 'rental (private)', 'Owner-occupied', 'Rented (private)', 'rental (private)', 'owner-occupied', 'owner-occupied', 'Rented (private)'\n",
      "$ date                       <str> '2023-08-31', '2021-04-03', '2016-05-20', '2014-10-08', '2022-05-18', '2021-01-20', '2013-10-06', '2016-10-04', '2016-07-27', '2021-09-22'\n",
      "$ year                       <i32> 2023, 2021, 2016, 2014, 2022, 2021, 2013, 2016, 2016, 2021\n",
      "$ month                      <i16> 8, 4, 5, 10, 5, 1, 10, 10, 7, 9\n",
      "\n"
     ]
    }
   ],
   "source": [
    "epc_names = get_ca.get_rename_dict(epc_clean)\n",
    "\n",
    "epc_clean_df = (\n",
    "    epc_clean\n",
    "    .with_columns([pl.col('LODGEMENT_DATETIME')\n",
    "                   .str.to_datetime()\n",
    "                   .dt.date()\n",
    "                   .alias('date')])\n",
    "    .with_columns([pl.col('date').dt.year().alias('year'),\n",
    "                   pl.col('date').dt.month().cast(pl.Int16).alias('month'),\n",
    "                   pl.col('date').cast(pl.Utf8)])\n",
    "    .rename(epc_names)\n",
    "    .select(pl.exclude('lodgement_datetime'))\n",
    "    \n",
    ")\n",
    "epc_clean_df.glimpse()"
   ]
  },
  {
   "cell_type": "code",
   "execution_count": 4,
   "metadata": {},
   "outputs": [],
   "source": [
    "ca_la_df = get_ca.get_ca_la_df(year = 2023)\n",
    "ca_la_codes = get_ca.get_ca_la_codes(ca_la_df)\n",
    "postcode_file = get_ca.get_postcode_file(url = \"https://www.arcgis.com/sharing/rest/content/items/3770c5e8b0c24f1dbe6d2fc6b46a0b18/data\",\n",
    "                      destination_directory = \"data\\\\postcode_lookup\")\n",
    "postcodes_df = get_ca.get_postcode_df(postcode_file, ca_la_codes)"
   ]
  },
  {
   "cell_type": "code",
   "execution_count": 5,
   "metadata": {},
   "outputs": [
    {
     "name": "stdout",
     "output_type": "stream",
     "text": [
      "Rows: 582364\n",
      "Columns: 5\n",
      "$ pcds   <str> 'B1 1AA', 'B1 1AD', 'B1 1AG', 'B1 1AH', 'B1 1AQ', 'B1 1AT', 'B1 1AY', 'B1 1AZ', 'B1 1BA', 'B1 1BB'\n",
      "$ lsoacd <str> 'E01033625', 'E01033625', 'E01033616', 'E01033625', 'E01033616', 'E01033625', 'E01033625', 'E01033625', 'E01033615', 'E01033620'\n",
      "$ msoacd <str> 'E02006899', 'E02006899', 'E02006896', 'E02006899', 'E02006896', 'E02006899', 'E02006899', 'E02006899', 'E02006896', 'E02006899'\n",
      "$ ladcd  <str> 'E08000025', 'E08000025', 'E08000025', 'E08000025', 'E08000025', 'E08000025', 'E08000025', 'E08000025', 'E08000025', 'E08000025'\n",
      "$ ladnm  <str> 'Birmingham', 'Birmingham', 'Birmingham', 'Birmingham', 'Birmingham', 'Birmingham', 'Birmingham', 'Birmingham', 'Birmingham', 'Birmingham'\n",
      "\n"
     ]
    }
   ],
   "source": [
    "postcodes_df.glimpse()"
   ]
  },
  {
   "cell_type": "code",
   "execution_count": 19,
   "metadata": {},
   "outputs": [],
   "source": [
    "# ca_la_df.select(pl.col('ladcd')).unique()"
   ]
  },
  {
   "cell_type": "code",
   "execution_count": 6,
   "metadata": {},
   "outputs": [],
   "source": [
    "input_file = get_ca.get_geojson(url = \"https://services1.arcgis.com/ESMARspQHYMw9BZ9/arcgis/rest/services/LLSOA_Dec_2021_PWC_for_England_and_Wales_2022/FeatureServer/0/query\",\n",
    "                      destination_directory = \"data\\\\geojson\")"
   ]
  },
  {
   "cell_type": "code",
   "execution_count": 7,
   "metadata": {},
   "outputs": [],
   "source": [
    "ca_lsoa_codes = get_ca.get_ca_lsoa_codes(postcodes_df)"
   ]
  },
  {
   "cell_type": "code",
   "execution_count": 8,
   "metadata": {},
   "outputs": [],
   "source": [
    "output_file = 'data\\\\geojson\\\\ca_lsoa.geojson'\n",
    "property_name = 'LSOA21CD'\n",
    "\n",
    "ca_lsoa_geojson = get_ca.filter_geojson(input_file, output_file, property_name, ca_lsoa_codes)\n"
   ]
  },
  {
   "cell_type": "code",
   "execution_count": null,
   "metadata": {},
   "outputs": [],
   "source": []
  },
  {
   "cell_type": "code",
   "execution_count": null,
   "metadata": {},
   "outputs": [],
   "source": []
  },
  {
   "cell_type": "code",
   "execution_count": 20,
   "metadata": {},
   "outputs": [],
   "source": [
    "db.close()"
   ]
  },
  {
   "cell_type": "code",
   "execution_count": 21,
   "metadata": {},
   "outputs": [],
   "source": [
    "\n",
    "db = Database('data/ca_epc.db', recreate=True)"
   ]
  },
  {
   "cell_type": "code",
   "execution_count": 22,
   "metadata": {},
   "outputs": [
    {
     "data": {
      "text/plain": [
       "<Table ca_la_tbl (ladcd, ladnm, cauthcd, cauthnm)>"
      ]
     },
     "execution_count": 22,
     "metadata": {},
     "output_type": "execute_result"
    }
   ],
   "source": [
    "db['ca_la_tbl'].create(\n",
    "{\n",
    " 'ladcd': str,\n",
    " 'ladnm': str,\n",
    " 'cauthcd': str,\n",
    " 'cauthnm': str\n",
    " },\n",
    " pk = 'ladcd'\n",
    ")"
   ]
  },
  {
   "cell_type": "code",
   "execution_count": 23,
   "metadata": {},
   "outputs": [
    {
     "data": {
      "text/plain": [
       "<Table postcodes_tbl (pcds, lsoacd, msoacd, ladcd, ladnm)>"
      ]
     },
     "execution_count": 23,
     "metadata": {},
     "output_type": "execute_result"
    }
   ],
   "source": [
    "db['postcodes_tbl'].create(\n",
    "    {\"pcds\": str,\n",
    "     \"lsoacd\": str,\n",
    "     \"msoacd\": str,\n",
    "     \"ladcd\": str,\n",
    "     \"ladnm\": str},\n",
    "     pk = 'pcds'\n",
    "    #  ,\n",
    "    #  foreign_keys = [\n",
    "    #      ('ladcd', 'ca_la_tbl', 'ladcd')\n",
    "        #  ,\n",
    "        #  ('lsoacd', 'ca_lsoa_tbl', 'LSOA21CD')\n",
    "    #  ]\n",
    "     )"
   ]
  },
  {
   "cell_type": "code",
   "execution_count": 24,
   "metadata": {},
   "outputs": [
    {
     "data": {
      "text/plain": [
       "<Table epc_clean_tbl (uprn, lmk_key, postcode, current_energy_rating, local_authority, property_type, transaction_type, environment_impact_current, co2_emissions_current, tenure, date, year, month)>"
      ]
     },
     "execution_count": 24,
     "metadata": {},
     "output_type": "execute_result"
    }
   ],
   "source": [
    "db['epc_clean_tbl'].create(\n",
    "{'uprn': int,\n",
    " 'lmk_key': str,\n",
    " 'postcode': str,\n",
    " 'current_energy_rating': str,\n",
    " 'local_authority': str,\n",
    " 'property_type': str,\n",
    " 'transaction_type': str,\n",
    " 'environment_impact_current': int,\n",
    " 'co2_emissions_current': float,\n",
    " 'tenure': str,\n",
    " 'date': str,\n",
    " 'year': int,\n",
    " 'month': int},\n",
    " pk = 'lmk_key',\n",
    " foreign_keys=[\n",
    "     ('postcode', 'postcodes_tbl', 'pcds')\n",
    " ]\n",
    ")"
   ]
  },
  {
   "cell_type": "code",
   "execution_count": 25,
   "metadata": {},
   "outputs": [],
   "source": [
    "epc_clean_tbl_payload = epc_clean_df.to_dicts()\n",
    "ca_la_tbl_payload = ca_la_df.to_dicts()\n",
    "postcodes_tbl_payload = postcodes_df.to_dicts()"
   ]
  },
  {
   "cell_type": "code",
   "execution_count": 26,
   "metadata": {},
   "outputs": [
    {
     "data": {
      "text/plain": [
       "<Table postcodes_tbl (pcds, lsoacd, msoacd, ladcd, ladnm)>"
      ]
     },
     "execution_count": 26,
     "metadata": {},
     "output_type": "execute_result"
    }
   ],
   "source": [
    "db['ca_la_tbl'].insert_all(ca_la_tbl_payload)\n",
    "db['epc_clean_tbl'].insert_all(epc_clean_tbl_payload)\n",
    "db['postcodes_tbl'].insert_all(postcodes_tbl_payload)\n"
   ]
  },
  {
   "cell_type": "code",
   "execution_count": 47,
   "metadata": {},
   "outputs": [
    {
     "name": "stdout",
     "output_type": "stream",
     "text": [
      "{'uprn': None, 'lmk_key': '632d66abdfbd4f709d71851927a2d79fce2fd90e4d67fe999bc22b5a9970bcc2', 'postcode': 'BL5 3WB', 'current_energy_rating': 'B', 'local_authority': 'E08000001', 'property_type': 'Flat', 'transaction_type': 'marketed sale', 'environment_impact_current': 87, 'co2_emissions_current': 0.8, 'tenure': 'Owner-occupied', 'date': '2023-08-31', 'year': 2023, 'month': 8}\n",
      "{'uprn': 4210003725, 'lmk_key': '8126d78434eb72180e023c7d522d811b8a11a9d6f206aa19a867f06df5d4599c', 'postcode': 'BL3 1PS', 'current_energy_rating': 'C', 'local_authority': 'E08000001', 'property_type': 'House', 'transaction_type': 'marketed sale', 'environment_impact_current': 74, 'co2_emissions_current': 3.0, 'tenure': 'Owner-occupied', 'date': '2021-04-03', 'year': 2021, 'month': 4}\n",
      "{'uprn': 10001239702, 'lmk_key': '69223609222016052017263804808356', 'postcode': 'BL1 5WA', 'current_energy_rating': 'C', 'local_authority': 'E08000001', 'property_type': 'House', 'transaction_type': 'marketed sale', 'environment_impact_current': 71, 'co2_emissions_current': 6.1, 'tenure': 'owner-occupied', 'date': '2016-05-20', 'year': 2016, 'month': 5}\n",
      "{'uprn': 10001239704, 'lmk_key': '1099459139642014100812510823040588', 'postcode': 'BL3 5NP', 'current_energy_rating': 'D', 'local_authority': 'E08000001', 'property_type': 'House', 'transaction_type': 'none of the above', 'environment_impact_current': 68, 'co2_emissions_current': 2.3, 'tenure': 'rental (private)', 'date': '2014-10-08', 'year': 2014, 'month': 10}\n"
     ]
    }
   ],
   "source": [
    "for row in db['epc_clean_tbl'].rows:\n",
    "    print(row)"
   ]
  },
  {
   "cell_type": "code",
   "execution_count": 48,
   "metadata": {},
   "outputs": [
    {
     "name": "stdout",
     "output_type": "stream",
     "text": [
      "CREATE TABLE [epc_ca_clean_tbl] (\n",
      "   [UPRN] TEXT,\n",
      "   [LMK_KEY] TEXT,\n",
      "   [POSTCODE] TEXT,\n",
      "   [CURRENT_ENERGY_RATING] TEXT,\n",
      "   [LOCAL_AUTHORITY] TEXT,\n",
      "   [PROPERTY_TYPE] TEXT,\n",
      "   [LODGEMENT_DATETIME] TEXT,\n",
      "   [TRANSACTION_TYPE] TEXT,\n",
      "   [ENVIRONMENT_IMPACT_CURRENT] TEXT,\n",
      "   [TENURE] TEXT\n",
      ");\n",
      "CREATE TABLE [epc_clean_tbl] (\n",
      "   [uprn] INTEGER,\n",
      "   [lmk_key] TEXT,\n",
      "   [postcode] TEXT,\n",
      "   [current_energy_rating] TEXT,\n",
      "   [local_authority] TEXT,\n",
      "   [property_type] TEXT,\n",
      "   [transaction_type] TEXT,\n",
      "   [environment_impact_current] INTEGER,\n",
      "   [co2_emissions_current] FLOAT,\n",
      "   [tenure] TEXT,\n",
      "   [date] TEXT,\n",
      "   [year] INTEGER,\n",
      "   [month] INTEGER\n",
      ");\n"
     ]
    }
   ],
   "source": [
    "print(db.schema)"
   ]
  },
  {
   "cell_type": "code",
   "execution_count": 49,
   "metadata": {},
   "outputs": [],
   "source": [
    "db.close()"
   ]
  },
  {
   "cell_type": "code",
   "execution_count": null,
   "metadata": {},
   "outputs": [],
   "source": []
  }
 ],
 "metadata": {
  "kernelspec": {
   "display_name": "Python 3",
   "language": "python",
   "name": "python3"
  },
  "language_info": {
   "codemirror_mode": {
    "name": "ipython",
    "version": 3
   },
   "file_extension": ".py",
   "mimetype": "text/x-python",
   "name": "python",
   "nbconvert_exporter": "python",
   "pygments_lexer": "ipython3",
   "version": "3.12.0"
  }
 },
 "nbformat": 4,
 "nbformat_minor": 2
}
