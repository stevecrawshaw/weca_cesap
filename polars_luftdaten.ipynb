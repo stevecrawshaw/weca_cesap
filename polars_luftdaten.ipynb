{
 "cells": [
  {
   "cell_type": "code",
   "execution_count": 9,
   "metadata": {},
   "outputs": [],
   "source": [
    "import polars as pl"
   ]
  },
  {
   "cell_type": "code",
   "execution_count": 34,
   "metadata": {},
   "outputs": [],
   "source": [
    "df_raw = pl.read_csv('../../Downloads/2023-10_sds011.csv', n_rows=10000000, separator=';')\n",
    "df_raw.write_csv('data/luft.csv', separator=';')\n"
   ]
  },
  {
   "cell_type": "code",
   "execution_count": 35,
   "metadata": {},
   "outputs": [],
   "source": [
    "input_file = 'data/luft.csv'\n",
    "# input file = \"../../Downloads/2023-10_sds011.csv\"\n"
   ]
  },
  {
   "cell_type": "code",
   "execution_count": 36,
   "metadata": {},
   "outputs": [],
   "source": [
    "\n",
    "q = (pl.scan_csv(input_file,\n",
    "separator = \";\",\n",
    "dtypes = {'sensor_id': pl.Int64,\n",
    "          'lat': pl.Float64,\n",
    "          'lon': pl.Float64,\n",
    "          'timestamp': pl.Utf8,\n",
    "          'P1': pl.Utf8,\n",
    "          'P2': pl.Utf8})\n",
    "          .select(pl.col(['sensor_id', 'lat', 'lon', 'timestamp', 'P1', 'P2']))\n",
    "          # .with_columns(pl.col(['lat', 'lon']).cast(pl.Float64, strict = False))\n",
    "          .filter(pl.col('lon').is_in([-3, -2]))\n",
    "          # .head(10000)\n",
    "\n",
    "          )"
   ]
  },
  {
   "cell_type": "code",
   "execution_count": 37,
   "metadata": {},
   "outputs": [
    {
     "data": {
      "text/html": [
       "<i>naive plan: (run <b>LazyFrame.explain(optimized=True)</b> to see the optimized plan)</i>\n",
       "    <p></p>\n",
       "    <div>FILTER col(\"lon\").is_in([Series]) FROM<p></p> SELECT [col(\"sensor_id\"), col(\"lat\"), col(\"lon\"), col(\"timestamp\"), col(\"P1\"), col(\"P2\")] FROM<p></p><p></p>    Csv SCAN data/luft.csv<p></p>    PROJECT */12 COLUMNS</div>"
      ],
      "text/plain": [
       "<LazyFrame [6 cols, {\"sensor_id\": Int64 … \"P2\": Utf8}] at 0x7F081A333CD0>"
      ]
     },
     "execution_count": 37,
     "metadata": {},
     "output_type": "execute_result"
    }
   ],
   "source": [
    "q"
   ]
  },
  {
   "cell_type": "code",
   "execution_count": 38,
   "metadata": {},
   "outputs": [],
   "source": [
    "df = q.collect()"
   ]
  },
  {
   "cell_type": "code",
   "execution_count": 39,
   "metadata": {},
   "outputs": [
    {
     "data": {
      "text/plain": [
       "(770, 6)"
      ]
     },
     "execution_count": 39,
     "metadata": {},
     "output_type": "execute_result"
    }
   ],
   "source": [
    "df.shape"
   ]
  },
  {
   "cell_type": "code",
   "execution_count": 41,
   "metadata": {},
   "outputs": [
    {
     "data": {
      "text/html": [
       "<div><style>\n",
       ".dataframe > thead > tr > th,\n",
       ".dataframe > tbody > tr > td {\n",
       "  text-align: right;\n",
       "  white-space: pre-wrap;\n",
       "}\n",
       "</style>\n",
       "<small>shape: (5, 6)</small><table border=\"1\" class=\"dataframe\"><thead><tr><th>sensor_id</th><th>lat</th><th>lon</th><th>timestamp</th><th>P1</th><th>P2</th></tr><tr><td>i64</td><td>f64</td><td>f64</td><td>str</td><td>str</td><td>str</td></tr></thead><tbody><tr><td>55300</td><td>51.446</td><td>-2.0</td><td>&quot;2023-10-01T00:…</td><td>&quot;10.38&quot;</td><td>&quot;4.63&quot;</td></tr><tr><td>55300</td><td>51.446</td><td>-2.0</td><td>&quot;2023-10-01T00:…</td><td>&quot;10.90&quot;</td><td>&quot;4.90&quot;</td></tr><tr><td>55300</td><td>51.446</td><td>-2.0</td><td>&quot;2023-10-01T00:…</td><td>&quot;9.00&quot;</td><td>&quot;4.47&quot;</td></tr><tr><td>55300</td><td>51.446</td><td>-2.0</td><td>&quot;2023-10-01T00:…</td><td>&quot;8.45&quot;</td><td>&quot;4.22&quot;</td></tr><tr><td>55300</td><td>51.446</td><td>-2.0</td><td>&quot;2023-10-01T00:…</td><td>&quot;10.48&quot;</td><td>&quot;4.93&quot;</td></tr></tbody></table></div>"
      ],
      "text/plain": [
       "shape: (5, 6)\n",
       "┌───────────┬────────┬──────┬─────────────────────┬───────┬──────┐\n",
       "│ sensor_id ┆ lat    ┆ lon  ┆ timestamp           ┆ P1    ┆ P2   │\n",
       "│ ---       ┆ ---    ┆ ---  ┆ ---                 ┆ ---   ┆ ---  │\n",
       "│ i64       ┆ f64    ┆ f64  ┆ str                 ┆ str   ┆ str  │\n",
       "╞═══════════╪════════╪══════╪═════════════════════╪═══════╪══════╡\n",
       "│ 55300     ┆ 51.446 ┆ -2.0 ┆ 2023-10-01T00:00:24 ┆ 10.38 ┆ 4.63 │\n",
       "│ 55300     ┆ 51.446 ┆ -2.0 ┆ 2023-10-01T00:02:55 ┆ 10.90 ┆ 4.90 │\n",
       "│ 55300     ┆ 51.446 ┆ -2.0 ┆ 2023-10-01T00:05:22 ┆ 9.00  ┆ 4.47 │\n",
       "│ 55300     ┆ 51.446 ┆ -2.0 ┆ 2023-10-01T00:07:52 ┆ 8.45  ┆ 4.22 │\n",
       "│ 55300     ┆ 51.446 ┆ -2.0 ┆ 2023-10-01T00:10:19 ┆ 10.48 ┆ 4.93 │\n",
       "└───────────┴────────┴──────┴─────────────────────┴───────┴──────┘"
      ]
     },
     "execution_count": 41,
     "metadata": {},
     "output_type": "execute_result"
    }
   ],
   "source": [
    "(df\n",
    " .with_columns(pl.col('lon').cast(pl.Float64))\n",
    " .sort('lon')\n",
    "\n",
    " .head()\n",
    "\n",
    "\n",
    " )"
   ]
  },
  {
   "cell_type": "code",
   "execution_count": null,
   "metadata": {},
   "outputs": [],
   "source": []
  }
 ],
 "metadata": {
  "kernelspec": {
   "display_name": "polars",
   "language": "python",
   "name": "python3"
  },
  "language_info": {
   "codemirror_mode": {
    "name": "ipython",
    "version": 3
   },
   "file_extension": ".py",
   "mimetype": "text/x-python",
   "name": "python",
   "nbconvert_exporter": "python",
   "pygments_lexer": "ipython3",
   "version": "3.11.0"
  }
 },
 "nbformat": 4,
 "nbformat_minor": 2
}
