{
 "cells": [
  {
   "cell_type": "markdown",
   "id": "3657ccac-b88c-4aad-b798-51039c5960a6",
   "metadata": {},
   "source": [
    "## This notebook builds the SQLite database used for the datasette instance for air quality data"
   ]
  },
  {
   "cell_type": "markdown",
   "id": "ee65ec4e-bf7e-418c-8ae8-75909e4c5ee5",
   "metadata": {},
   "source": [
    "### Load Libraries"
   ]
  },
  {
   "cell_type": "code",
   "execution_count": 1,
   "id": "bb962bed-0496-4da6-bc27-6411b41b1ede",
   "metadata": {},
   "outputs": [],
   "source": [
    "import pandas as pd\n",
    "import numpy as np\n",
    "import sqlite3\n",
    "import sqlalchemy\n",
    "from sqlite_utils import Database #datasette sqlite utilities"
   ]
  },
  {
   "cell_type": "markdown",
   "id": "5f081f64-897e-4370-8315-b9e7cb416680",
   "metadata": {},
   "source": [
    "### Download data from air quality monitoring sites"
   ]
  },
  {
   "cell_type": "code",
   "execution_count": 9,
   "id": "0629ceb9-9c37-42d0-af83-14cbf47d8b44",
   "metadata": {},
   "outputs": [],
   "source": [
    "url_aqms = 'https://opendata.bristol.gov.uk/' \\\n",
    "'explore/dataset/air-quality-monitoring-sites/download/' \\\n",
    "'?format=csv&timezone=Europe/London&lang=en&use_labels_for_header=false&csv_separator=%3B'\n",
    "\n",
    "aqms = pd.read_csv(url_aqms, sep = \";\")"
   ]
  },
  {
   "cell_type": "markdown",
   "id": "65c31684-6c9b-4a91-ae24-b47e65e83468",
   "metadata": {},
   "source": [
    "Wrangle data from air quality monitoring sites"
   ]
  },
  {
   "cell_type": "code",
   "execution_count": 10,
   "id": "1186b602-a7af-4855-95da-e69179ca301b",
   "metadata": {},
   "outputs": [],
   "source": [
    "# change dtype for this field\n",
    "aqms.colocated = aqms.colocated.fillna(0.0).astype('int', errors = 'ignore')"
   ]
  },
  {
   "cell_type": "code",
   "execution_count": 11,
   "id": "c32a2398-3903-4af4-bf89-87eebbb819e1",
   "metadata": {},
   "outputs": [],
   "source": [
    "# df for the splitting of geopoint\n",
    "latlon_df = aqms.geo_point_2d.str.split(\",\", n = 1, expand = True)"
   ]
  },
  {
   "cell_type": "code",
   "execution_count": 12,
   "id": "efd44a32-0390-4425-a2d4-ac1b102e78bb",
   "metadata": {},
   "outputs": [],
   "source": [
    "aqms['latitude'] = latlon_df[0].astype('float')\n",
    "aqms['longitude'] = latlon_df[1].astype('float') #need long names for cluster map plugin"
   ]
  },
  {
   "cell_type": "markdown",
   "id": "b4fe9058-eb5a-4d3e-844e-96a9dd9044b1",
   "metadata": {},
   "source": [
    "Create paths for the photos of each monitoring site - not all of these will render"
   ]
  },
  {
   "cell_type": "code",
   "execution_count": 13,
   "id": "6d42b196-abb5-4065-b1ee-724d3eac94d2",
   "metadata": {},
   "outputs": [],
   "source": [
    "aqms['thumbnail_photo'] = 'http://maps.bristol.gov.uk/media/airquality/thumbs/' + aqms.siteid.astype(str) + '.jpg'\n",
    "aqms['fullsize_photo'] = 'http://maps.bristol.gov.uk/media/airquality/full/' + aqms.siteid.astype(str) + '.jpg'"
   ]
  },
  {
   "cell_type": "code",
   "execution_count": 14,
   "id": "3dd2d3f2-3b88-40d5-8df2-4ebcf28e01b2",
   "metadata": {},
   "outputs": [],
   "source": [
    "aqms.drop(columns = ['geo_point_2d'], inplace = True)\n",
    "aqms.drop(columns = 'photopath', inplace = True)"
   ]
  },
  {
   "cell_type": "code",
   "execution_count": 15,
   "id": "f255228a-5b1c-4194-a629-9030b01bfe07",
   "metadata": {},
   "outputs": [],
   "source": [
    "aqms.rename(columns = {'siteid': 'site_id'}, inplace = True)"
   ]
  },
  {
   "cell_type": "markdown",
   "id": "f83e6a82-b3b4-422a-b81c-bad14a3ff2b7",
   "metadata": {},
   "source": [
    "### Download and prep the annual NO2 diffusion tube data"
   ]
  },
  {
   "cell_type": "code",
   "execution_count": 16,
   "id": "f7aca62f-08bf-4c0c-83dd-61a3cd9dd56c",
   "metadata": {},
   "outputs": [],
   "source": [
    "# get the diffusion tube data\n",
    "url_no2 = 'https://opendata.bristol.gov.uk/' \\\n",
    "'explore/dataset/no2-diffusion-tube-data/download/' \\\n",
    "'?format=csv&timezone=Europe/London&lang=en&use_labels_for_header=false&csv_separator=%3B'\n",
    "\n",
    "usecols = ['siteid', 'count', 'conc_ugm3', 'year']\n",
    "\n",
    "no2dt = pd.read_csv(url_no2, sep = \";\", usecols = usecols)\n",
    "no2dt.rename(columns = {'siteid': 'site_id', 'conc_ugm3': 'no2'}, inplace = True)"
   ]
  },
  {
   "cell_type": "markdown",
   "id": "95796c93-9c2a-47e3-be35-69e725aa0b6f",
   "metadata": {},
   "source": [
    "### Download and prep the continuous data and the raw diffusion tube data - use the ods_api.ipynb notebook"
   ]
  },
  {
   "cell_type": "code",
   "execution_count": 17,
   "id": "624121eb-bfdf-4bbe-bde5-e1ba8ca8eedb",
   "metadata": {},
   "outputs": [],
   "source": [
    "url_aqdc_1 = 'data/aqdc_df_smaller.csv'\n",
    "path_no2_raw = 'data/raw_tubes.csv'"
   ]
  },
  {
   "cell_type": "code",
   "execution_count": 18,
   "id": "71e8da11-7d37-4e05-81f6-fcc1bf3d7551",
   "metadata": {},
   "outputs": [],
   "source": [
    "no2_tubes_raw = pd.read_csv(path_no2_raw, sep = \",\")"
   ]
  },
  {
   "cell_type": "code",
   "execution_count": 19,
   "id": "82741897-af70-4771-b207-3eabe45eec20",
   "metadata": {},
   "outputs": [
    {
     "data": {
      "text/html": [
       "<div>\n",
       "<style scoped>\n",
       "    .dataframe tbody tr th:only-of-type {\n",
       "        vertical-align: middle;\n",
       "    }\n",
       "\n",
       "    .dataframe tbody tr th {\n",
       "        vertical-align: top;\n",
       "    }\n",
       "\n",
       "    .dataframe thead th {\n",
       "        text-align: right;\n",
       "    }\n",
       "</style>\n",
       "<table border=\"1\" class=\"dataframe\">\n",
       "  <thead>\n",
       "    <tr style=\"text-align: right;\">\n",
       "      <th></th>\n",
       "      <th>id</th>\n",
       "      <th>site_id</th>\n",
       "      <th>dateon</th>\n",
       "      <th>dateoff</th>\n",
       "      <th>mid_date</th>\n",
       "      <th>no2</th>\n",
       "    </tr>\n",
       "  </thead>\n",
       "  <tbody>\n",
       "    <tr>\n",
       "      <th>0</th>\n",
       "      <td>133942</td>\n",
       "      <td>22</td>\n",
       "      <td>2022-09-30</td>\n",
       "      <td>2022-11-03</td>\n",
       "      <td>2022-10-17</td>\n",
       "      <td>42.2270</td>\n",
       "    </tr>\n",
       "    <tr>\n",
       "      <th>1</th>\n",
       "      <td>133970</td>\n",
       "      <td>373</td>\n",
       "      <td>2022-09-30</td>\n",
       "      <td>2022-11-03</td>\n",
       "      <td>2022-10-17</td>\n",
       "      <td>32.4965</td>\n",
       "    </tr>\n",
       "    <tr>\n",
       "      <th>2</th>\n",
       "      <td>134083</td>\n",
       "      <td>640</td>\n",
       "      <td>2022-09-30</td>\n",
       "      <td>2022-11-03</td>\n",
       "      <td>2022-10-17</td>\n",
       "      <td>28.2151</td>\n",
       "    </tr>\n",
       "    <tr>\n",
       "      <th>3</th>\n",
       "      <td>134089</td>\n",
       "      <td>646</td>\n",
       "      <td>2022-09-30</td>\n",
       "      <td>2022-11-03</td>\n",
       "      <td>2022-10-17</td>\n",
       "      <td>30.1125</td>\n",
       "    </tr>\n",
       "    <tr>\n",
       "      <th>4</th>\n",
       "      <td>134094</td>\n",
       "      <td>651</td>\n",
       "      <td>2022-09-30</td>\n",
       "      <td>2022-11-03</td>\n",
       "      <td>2022-10-17</td>\n",
       "      <td>30.9396</td>\n",
       "    </tr>\n",
       "    <tr>\n",
       "      <th>...</th>\n",
       "      <td>...</td>\n",
       "      <td>...</td>\n",
       "      <td>...</td>\n",
       "      <td>...</td>\n",
       "      <td>...</td>\n",
       "      <td>...</td>\n",
       "    </tr>\n",
       "    <tr>\n",
       "      <th>71390</th>\n",
       "      <td>26440</td>\n",
       "      <td>17</td>\n",
       "      <td>1991-04-01</td>\n",
       "      <td>1991-04-15</td>\n",
       "      <td>1991-04-08</td>\n",
       "      <td>38.0000</td>\n",
       "    </tr>\n",
       "    <tr>\n",
       "      <th>71391</th>\n",
       "      <td>26441</td>\n",
       "      <td>18</td>\n",
       "      <td>1991-04-01</td>\n",
       "      <td>1991-04-15</td>\n",
       "      <td>1991-04-08</td>\n",
       "      <td>35.0000</td>\n",
       "    </tr>\n",
       "    <tr>\n",
       "      <th>71392</th>\n",
       "      <td>26447</td>\n",
       "      <td>4</td>\n",
       "      <td>1991-04-01</td>\n",
       "      <td>1991-04-15</td>\n",
       "      <td>1991-04-08</td>\n",
       "      <td>105.0000</td>\n",
       "    </tr>\n",
       "    <tr>\n",
       "      <th>71393</th>\n",
       "      <td>26449</td>\n",
       "      <td>6</td>\n",
       "      <td>1991-04-01</td>\n",
       "      <td>1991-04-15</td>\n",
       "      <td>1991-04-08</td>\n",
       "      <td>111.0000</td>\n",
       "    </tr>\n",
       "    <tr>\n",
       "      <th>71394</th>\n",
       "      <td>26438</td>\n",
       "      <td>13</td>\n",
       "      <td>1991-04-01</td>\n",
       "      <td>1991-04-15</td>\n",
       "      <td>1991-04-08</td>\n",
       "      <td>30.0000</td>\n",
       "    </tr>\n",
       "  </tbody>\n",
       "</table>\n",
       "<p>71395 rows × 6 columns</p>\n",
       "</div>"
      ],
      "text/plain": [
       "           id  site_id      dateon     dateoff    mid_date       no2\n",
       "0      133942       22  2022-09-30  2022-11-03  2022-10-17   42.2270\n",
       "1      133970      373  2022-09-30  2022-11-03  2022-10-17   32.4965\n",
       "2      134083      640  2022-09-30  2022-11-03  2022-10-17   28.2151\n",
       "3      134089      646  2022-09-30  2022-11-03  2022-10-17   30.1125\n",
       "4      134094      651  2022-09-30  2022-11-03  2022-10-17   30.9396\n",
       "...       ...      ...         ...         ...         ...       ...\n",
       "71390   26440       17  1991-04-01  1991-04-15  1991-04-08   38.0000\n",
       "71391   26441       18  1991-04-01  1991-04-15  1991-04-08   35.0000\n",
       "71392   26447        4  1991-04-01  1991-04-15  1991-04-08  105.0000\n",
       "71393   26449        6  1991-04-01  1991-04-15  1991-04-08  111.0000\n",
       "71394   26438       13  1991-04-01  1991-04-15  1991-04-08   30.0000\n",
       "\n",
       "[71395 rows x 6 columns]"
      ]
     },
     "execution_count": 19,
     "metadata": {},
     "output_type": "execute_result"
    }
   ],
   "source": [
    "no2_tubes_raw"
   ]
  },
  {
   "cell_type": "code",
   "execution_count": 20,
   "id": "0424926c-6864-4218-9731-0559dfaa8cd7",
   "metadata": {},
   "outputs": [],
   "source": [
    "# def read_aqdc_from_url(url):\n",
    "#     drop_cols = ['location', 'geo_point_2d', 'datestart', 'dateend', 'current', 'instrumenttype']\n",
    "#     df = pd.read_csv(url, sep = \";\", usecols = lambda x: x not in drop_cols)\n",
    "#     #aqdc['date_time'] = pd.to_datetime(aqdc.date_time)\n",
    "#     df.rename(columns = {'siteid': 'site_id'}, inplace = True)\n",
    "#     return df\n",
    "    "
   ]
  },
  {
   "cell_type": "markdown",
   "id": "0eeafa49-d86d-4c27-8cd8-a5266e24f958",
   "metadata": {},
   "source": [
    "Wrangle continuous data to add useful date time artefacts and clean"
   ]
  },
  {
   "cell_type": "code",
   "execution_count": 21,
   "id": "b2ba464f-65a4-47f4-9dc6-70d496e4313f",
   "metadata": {},
   "outputs": [],
   "source": [
    "\n",
    "aqdc = pd.read_csv(url_aqdc_1, sep = \",\")\n",
    "aqdc.drop(columns = 'Unnamed: 0', inplace = True)\n",
    "aqdc.rename(columns = {'siteid': 'site_id'}, inplace = True)\n",
    "aqdc['date'] = aqdc['date_time'].str.slice(0, 10)\n",
    "aqdc['hour'] = aqdc['date_time'].str.slice(11, 13).astype(int)\n",
    "aqdc['year'] = aqdc['date_time'].str.slice(0, 4).astype(int)\n",
    "aqdc['month'] = aqdc['date_time'].str.slice(5, 7).astype(int)\n",
    "aqdc['day_of_month'] = aqdc['date_time'].str.slice(8, 10).astype(int)\n",
    "aqdc['date_time'] = pd.to_datetime(aqdc.date_time)\n"
   ]
  },
  {
   "cell_type": "code",
   "execution_count": 22,
   "id": "2f5ebab1-0d5a-4a3f-9bbc-aad8e41a9b0a",
   "metadata": {},
   "outputs": [],
   "source": [
    "aqdc.sort_values(by = ['date_time'], inplace = True, ascending = False)"
   ]
  },
  {
   "cell_type": "code",
   "execution_count": 23,
   "id": "5d1893cf-af91-43bb-b6ce-a1394b587e3f",
   "metadata": {},
   "outputs": [
    {
     "data": {
      "text/html": [
       "<div>\n",
       "<style scoped>\n",
       "    .dataframe tbody tr th:only-of-type {\n",
       "        vertical-align: middle;\n",
       "    }\n",
       "\n",
       "    .dataframe tbody tr th {\n",
       "        vertical-align: top;\n",
       "    }\n",
       "\n",
       "    .dataframe thead th {\n",
       "        text-align: right;\n",
       "    }\n",
       "</style>\n",
       "<table border=\"1\" class=\"dataframe\">\n",
       "  <thead>\n",
       "    <tr style=\"text-align: right;\">\n",
       "      <th></th>\n",
       "      <th>date_time</th>\n",
       "      <th>site_id</th>\n",
       "      <th>nox</th>\n",
       "      <th>no2</th>\n",
       "      <th>no</th>\n",
       "      <th>pm10</th>\n",
       "      <th>pm25</th>\n",
       "      <th>temp</th>\n",
       "      <th>rh</th>\n",
       "      <th>date</th>\n",
       "      <th>hour</th>\n",
       "      <th>year</th>\n",
       "      <th>month</th>\n",
       "      <th>day_of_month</th>\n",
       "    </tr>\n",
       "  </thead>\n",
       "  <tbody>\n",
       "    <tr>\n",
       "      <th>698895</th>\n",
       "      <td>2022-12-18 10:00:00+00:00</td>\n",
       "      <td>463</td>\n",
       "      <td>18.812094</td>\n",
       "      <td>11.061688</td>\n",
       "      <td>5.053468</td>\n",
       "      <td>NaN</td>\n",
       "      <td>NaN</td>\n",
       "      <td>NaN</td>\n",
       "      <td>NaN</td>\n",
       "      <td>2022-12-18</td>\n",
       "      <td>10</td>\n",
       "      <td>2022</td>\n",
       "      <td>12</td>\n",
       "      <td>18</td>\n",
       "    </tr>\n",
       "    <tr>\n",
       "      <th>694413</th>\n",
       "      <td>2022-12-18 10:00:00+00:00</td>\n",
       "      <td>672</td>\n",
       "      <td>44.139438</td>\n",
       "      <td>33.723218</td>\n",
       "      <td>6.731862</td>\n",
       "      <td>NaN</td>\n",
       "      <td>NaN</td>\n",
       "      <td>NaN</td>\n",
       "      <td>NaN</td>\n",
       "      <td>2022-12-18</td>\n",
       "      <td>10</td>\n",
       "      <td>2022</td>\n",
       "      <td>12</td>\n",
       "      <td>18</td>\n",
       "    </tr>\n",
       "    <tr>\n",
       "      <th>694412</th>\n",
       "      <td>2022-12-18 10:00:00+00:00</td>\n",
       "      <td>203</td>\n",
       "      <td>23.544468</td>\n",
       "      <td>17.789437</td>\n",
       "      <td>3.748967</td>\n",
       "      <td>NaN</td>\n",
       "      <td>NaN</td>\n",
       "      <td>NaN</td>\n",
       "      <td>NaN</td>\n",
       "      <td>2022-12-18</td>\n",
       "      <td>10</td>\n",
       "      <td>2022</td>\n",
       "      <td>12</td>\n",
       "      <td>18</td>\n",
       "    </tr>\n",
       "    <tr>\n",
       "      <th>762036</th>\n",
       "      <td>2022-12-18 10:00:00+00:00</td>\n",
       "      <td>270</td>\n",
       "      <td>35.510344</td>\n",
       "      <td>19.109062</td>\n",
       "      <td>10.701684</td>\n",
       "      <td>NaN</td>\n",
       "      <td>NaN</td>\n",
       "      <td>NaN</td>\n",
       "      <td>NaN</td>\n",
       "      <td>2022-12-18</td>\n",
       "      <td>10</td>\n",
       "      <td>2022</td>\n",
       "      <td>12</td>\n",
       "      <td>18</td>\n",
       "    </tr>\n",
       "    <tr>\n",
       "      <th>698810</th>\n",
       "      <td>2022-12-18 10:00:00+00:00</td>\n",
       "      <td>215</td>\n",
       "      <td>77.586936</td>\n",
       "      <td>34.167344</td>\n",
       "      <td>28.306900</td>\n",
       "      <td>NaN</td>\n",
       "      <td>NaN</td>\n",
       "      <td>NaN</td>\n",
       "      <td>NaN</td>\n",
       "      <td>2022-12-18</td>\n",
       "      <td>10</td>\n",
       "      <td>2022</td>\n",
       "      <td>12</td>\n",
       "      <td>18</td>\n",
       "    </tr>\n",
       "    <tr>\n",
       "      <th>...</th>\n",
       "      <td>...</td>\n",
       "      <td>...</td>\n",
       "      <td>...</td>\n",
       "      <td>...</td>\n",
       "      <td>...</td>\n",
       "      <td>...</td>\n",
       "      <td>...</td>\n",
       "      <td>...</td>\n",
       "      <td>...</td>\n",
       "      <td>...</td>\n",
       "      <td>...</td>\n",
       "      <td>...</td>\n",
       "      <td>...</td>\n",
       "      <td>...</td>\n",
       "    </tr>\n",
       "    <tr>\n",
       "      <th>401694</th>\n",
       "      <td>2010-01-01 00:00:00+00:00</td>\n",
       "      <td>203</td>\n",
       "      <td>36.500000</td>\n",
       "      <td>19.750000</td>\n",
       "      <td>4.000000</td>\n",
       "      <td>NaN</td>\n",
       "      <td>NaN</td>\n",
       "      <td>NaN</td>\n",
       "      <td>NaN</td>\n",
       "      <td>2010-01-01</td>\n",
       "      <td>0</td>\n",
       "      <td>2010</td>\n",
       "      <td>1</td>\n",
       "      <td>1</td>\n",
       "    </tr>\n",
       "    <tr>\n",
       "      <th>766455</th>\n",
       "      <td>2010-01-01 00:00:00+00:00</td>\n",
       "      <td>447</td>\n",
       "      <td>45.250000</td>\n",
       "      <td>37.750000</td>\n",
       "      <td>7.500000</td>\n",
       "      <td>NaN</td>\n",
       "      <td>NaN</td>\n",
       "      <td>NaN</td>\n",
       "      <td>NaN</td>\n",
       "      <td>2010-01-01</td>\n",
       "      <td>0</td>\n",
       "      <td>2010</td>\n",
       "      <td>1</td>\n",
       "      <td>1</td>\n",
       "    </tr>\n",
       "    <tr>\n",
       "      <th>766456</th>\n",
       "      <td>2010-01-01 00:00:00+00:00</td>\n",
       "      <td>459</td>\n",
       "      <td>66.440000</td>\n",
       "      <td>40.570000</td>\n",
       "      <td>16.860000</td>\n",
       "      <td>NaN</td>\n",
       "      <td>NaN</td>\n",
       "      <td>NaN</td>\n",
       "      <td>NaN</td>\n",
       "      <td>2010-01-01</td>\n",
       "      <td>0</td>\n",
       "      <td>2010</td>\n",
       "      <td>1</td>\n",
       "      <td>1</td>\n",
       "    </tr>\n",
       "    <tr>\n",
       "      <th>380010</th>\n",
       "      <td>2010-01-01 00:00:00+00:00</td>\n",
       "      <td>395</td>\n",
       "      <td>65.750000</td>\n",
       "      <td>42.000000</td>\n",
       "      <td>15.500000</td>\n",
       "      <td>NaN</td>\n",
       "      <td>NaN</td>\n",
       "      <td>NaN</td>\n",
       "      <td>NaN</td>\n",
       "      <td>2010-01-01</td>\n",
       "      <td>0</td>\n",
       "      <td>2010</td>\n",
       "      <td>1</td>\n",
       "      <td>1</td>\n",
       "    </tr>\n",
       "    <tr>\n",
       "      <th>194067</th>\n",
       "      <td>2010-01-01 00:00:00+00:00</td>\n",
       "      <td>463</td>\n",
       "      <td>48.750000</td>\n",
       "      <td>32.250000</td>\n",
       "      <td>10.750000</td>\n",
       "      <td>NaN</td>\n",
       "      <td>NaN</td>\n",
       "      <td>NaN</td>\n",
       "      <td>NaN</td>\n",
       "      <td>2010-01-01</td>\n",
       "      <td>0</td>\n",
       "      <td>2010</td>\n",
       "      <td>1</td>\n",
       "      <td>1</td>\n",
       "    </tr>\n",
       "  </tbody>\n",
       "</table>\n",
       "<p>871701 rows × 14 columns</p>\n",
       "</div>"
      ],
      "text/plain": [
       "                       date_time  site_id        nox        no2         no  \\\n",
       "698895 2022-12-18 10:00:00+00:00      463  18.812094  11.061688   5.053468   \n",
       "694413 2022-12-18 10:00:00+00:00      672  44.139438  33.723218   6.731862   \n",
       "694412 2022-12-18 10:00:00+00:00      203  23.544468  17.789437   3.748967   \n",
       "762036 2022-12-18 10:00:00+00:00      270  35.510344  19.109062  10.701684   \n",
       "698810 2022-12-18 10:00:00+00:00      215  77.586936  34.167344  28.306900   \n",
       "...                          ...      ...        ...        ...        ...   \n",
       "401694 2010-01-01 00:00:00+00:00      203  36.500000  19.750000   4.000000   \n",
       "766455 2010-01-01 00:00:00+00:00      447  45.250000  37.750000   7.500000   \n",
       "766456 2010-01-01 00:00:00+00:00      459  66.440000  40.570000  16.860000   \n",
       "380010 2010-01-01 00:00:00+00:00      395  65.750000  42.000000  15.500000   \n",
       "194067 2010-01-01 00:00:00+00:00      463  48.750000  32.250000  10.750000   \n",
       "\n",
       "        pm10  pm25  temp  rh        date  hour  year  month  day_of_month  \n",
       "698895   NaN   NaN   NaN NaN  2022-12-18    10  2022     12            18  \n",
       "694413   NaN   NaN   NaN NaN  2022-12-18    10  2022     12            18  \n",
       "694412   NaN   NaN   NaN NaN  2022-12-18    10  2022     12            18  \n",
       "762036   NaN   NaN   NaN NaN  2022-12-18    10  2022     12            18  \n",
       "698810   NaN   NaN   NaN NaN  2022-12-18    10  2022     12            18  \n",
       "...      ...   ...   ...  ..         ...   ...   ...    ...           ...  \n",
       "401694   NaN   NaN   NaN NaN  2010-01-01     0  2010      1             1  \n",
       "766455   NaN   NaN   NaN NaN  2010-01-01     0  2010      1             1  \n",
       "766456   NaN   NaN   NaN NaN  2010-01-01     0  2010      1             1  \n",
       "380010   NaN   NaN   NaN NaN  2010-01-01     0  2010      1             1  \n",
       "194067   NaN   NaN   NaN NaN  2010-01-01     0  2010      1             1  \n",
       "\n",
       "[871701 rows x 14 columns]"
      ]
     },
     "execution_count": 23,
     "metadata": {},
     "output_type": "execute_result"
    }
   ],
   "source": [
    "aqdc"
   ]
  },
  {
   "cell_type": "markdown",
   "id": "59179e0f-7d4f-4a06-8551-2b64a888da43",
   "metadata": {},
   "source": [
    "Construct the dictionaries that will be used to populate the tables"
   ]
  },
  {
   "cell_type": "code",
   "execution_count": 24,
   "id": "0233e83f-ff2e-41a7-83b4-9ce0fed1cea4",
   "metadata": {},
   "outputs": [],
   "source": [
    "# data for inserting as dicts\n",
    "aqdc_payload = aqdc.to_dict(orient = 'records')\n",
    "no2dt_payload = no2dt.to_dict(orient = 'records')\n",
    "aqms_payload = aqms.to_dict(orient = 'records')\n",
    "no2_tubes_raw_payload = no2_tubes_raw.to_dict(orient = 'records')"
   ]
  },
  {
   "cell_type": "markdown",
   "id": "0458a831-3053-4637-9069-716d45d0fe8a",
   "metadata": {},
   "source": [
    "Build the database and populate"
   ]
  },
  {
   "cell_type": "code",
   "execution_count": 25,
   "id": "bdb1963f-a889-494d-b11b-43fd0336b064",
   "metadata": {},
   "outputs": [],
   "source": [
    "db = Database('bristol_airquality_datasette.db', recreate = True)"
   ]
  },
  {
   "cell_type": "code",
   "execution_count": 26,
   "id": "fb9af8cd-9848-404f-b103-b9e671521d5a",
   "metadata": {},
   "outputs": [
    {
     "data": {
      "text/plain": [
       "<Table no2-diffusion-tube-data (site_id, year, no2, count)>"
      ]
     },
     "execution_count": 26,
     "metadata": {},
     "output_type": "execute_result"
    }
   ],
   "source": [
    "db['no2-diffusion-tube-data'].create({\n",
    "    'site_id':int,\n",
    "    'year': int,\n",
    "    'no2':float,\n",
    "    'count':int\n",
    "},\n",
    "    pk = ['site_id', 'year']\n",
    ")"
   ]
  },
  {
   "cell_type": "code",
   "execution_count": 27,
   "id": "0c63149d-4a90-4e0c-a05c-f9bce3ff2ea5",
   "metadata": {},
   "outputs": [
    {
     "data": {
      "text/plain": [
       "<Table air-quality-monitoring-sites (location, site_id, easting, northing, current, pollutants, instrumenttype, exposure, tube_kerb_distance_m, rec_kerb_distance_m, comments, aqma, detailed_location, sample_height, elevation, grid_id, locationclass, thumbnail_photo, fullsize_photo, datestart, dateend, description, colocated, duplicate_triplicate, laqm_locationclass, latitude, longitude)>"
      ]
     },
     "execution_count": 27,
     "metadata": {},
     "output_type": "execute_result"
    }
   ],
   "source": [
    "db['air-quality-monitoring-sites'].create(\n",
    "{\n",
    "    'location':str,\n",
    "   'site_id':int,\n",
    "   'easting':int,\n",
    "   'northing':int,\n",
    "   'current':int,\n",
    "   'pollutants':str,\n",
    "   'instrumenttype':str,\n",
    "   'exposure':int,\n",
    "   'tube_kerb_distance_m':float,\n",
    "   'rec_kerb_distance_m':float,\n",
    "   'comments':str,\n",
    "   'aqma':int,\n",
    "   'detailed_location':str,\n",
    "   'sample_height':float,\n",
    "   'elevation':float,\n",
    "   'grid_id':float,\n",
    "   'locationclass':str,\n",
    "   'thumbnail_photo':str,\n",
    "   'fullsize_photo':str, \n",
    "   'datestart':str,\n",
    "   'dateend':str,\n",
    "   'description':float,\n",
    "   'colocated':int,\n",
    "   'duplicate_triplicate':str,\n",
    "   'laqm_locationclass':str,\n",
    "   'latitude':float,\n",
    "   'longitude':float\n",
    "},\n",
    "    pk = ['site_id']\n",
    ")"
   ]
  },
  {
   "cell_type": "code",
   "execution_count": 28,
   "id": "2de46152-cb7f-4e50-89b5-479c3dfbef0c",
   "metadata": {},
   "outputs": [
    {
     "data": {
      "text/plain": [
       "<Table air-quality-data-continuous (site_id, date_time, date, year, month, day_of_month, hour, nox, no2, no, pm10, pm25, temp, rh)>"
      ]
     },
     "execution_count": 28,
     "metadata": {},
     "output_type": "execute_result"
    }
   ],
   "source": [
    "db[\"air-quality-data-continuous\"].create({\n",
    "   \"site_id\": int,\n",
    "   \"date_time\": str,\n",
    "   \"date\": str,\n",
    "   \"year\":int,\n",
    "   \"month\": int,\n",
    "   \"day_of_month\":int,\n",
    "   \"hour\":int,\n",
    "   \"nox\": float,\n",
    "   \"no2\": float,\n",
    "   \"no\": float,\n",
    "   \"pm10\": float,\n",
    "   \"pm25\": float,\n",
    "   \"temp\": float,\n",
    "   \"rh\": float\n",
    "    },\n",
    "    pk = (\"date_time\", \"site_id\")\n",
    ")"
   ]
  },
  {
   "cell_type": "code",
   "execution_count": 29,
   "id": "31dd99a7-25e8-4698-ad56-3cdfc2a595fd",
   "metadata": {},
   "outputs": [
    {
     "data": {
      "text/plain": [
       "<Table no2-tubes-raw (id, site_id, dateon, dateoff, mid_date, no2)>"
      ]
     },
     "execution_count": 29,
     "metadata": {},
     "output_type": "execute_result"
    }
   ],
   "source": [
    "db['no2-tubes-raw'].create({\n",
    "   \"id\":int,\n",
    "   \"site_id\": int,\n",
    "   \"dateon\": str,\n",
    "   \"dateoff\": str,\n",
    "   \"mid_date\":str,\n",
    "   \"no2\":float\n",
    "},\n",
    "pk = \"id\")"
   ]
  },
  {
   "cell_type": "markdown",
   "id": "79a84d65-727a-4143-8334-b7a06c56d179",
   "metadata": {},
   "source": [
    "This section builds the relationships between the primary and foreign keys in the relevant tables"
   ]
  },
  {
   "cell_type": "code",
   "execution_count": 30,
   "id": "d29d98c2-63ea-49e0-baac-420abefb0921",
   "metadata": {},
   "outputs": [
    {
     "data": {
      "text/plain": [
       "<Table no2-tubes-raw (id, site_id, dateon, dateoff, mid_date, no2)>"
      ]
     },
     "execution_count": 30,
     "metadata": {},
     "output_type": "execute_result"
    }
   ],
   "source": [
    "# table.add_foreign_key(column, other_table, other_column)\n",
    "\n",
    "db['air-quality-data-continuous'].add_foreign_key('site_id', 'air-quality-monitoring-sites', 'site_id')\n",
    "db['air-quality-monitoring-sites'].add_foreign_key('site_id', 'air-quality-data-continuous', 'site_id')\n",
    "db['no2-diffusion-tube-data'].add_foreign_key('site_id', 'air-quality-monitoring-sites', 'site_id')\n",
    "db['no2-tubes-raw'].add_foreign_key('site_id', 'air-quality-monitoring-sites', 'site_id')\n"
   ]
  },
  {
   "cell_type": "markdown",
   "id": "84e9477f-4d57-4b2f-9fe0-b26023ac1693",
   "metadata": {},
   "source": [
    "Now we insert the payloads into the created tables"
   ]
  },
  {
   "cell_type": "code",
   "execution_count": 31,
   "id": "f49c2d5a-8588-42dd-85af-21548f0373c5",
   "metadata": {},
   "outputs": [
    {
     "data": {
      "text/plain": [
       "<Table no2-diffusion-tube-data (site_id, year, no2, count)>"
      ]
     },
     "execution_count": 31,
     "metadata": {},
     "output_type": "execute_result"
    }
   ],
   "source": [
    "db['no2-diffusion-tube-data'].insert_all(no2dt_payload)"
   ]
  },
  {
   "cell_type": "code",
   "execution_count": 32,
   "id": "383739c1-d29c-4240-a498-7bef3d890b61",
   "metadata": {},
   "outputs": [
    {
     "data": {
      "text/plain": [
       "<Table air-quality-monitoring-sites (location, site_id, easting, northing, current, pollutants, instrumenttype, exposure, tube_kerb_distance_m, rec_kerb_distance_m, comments, aqma, detailed_location, sample_height, elevation, grid_id, locationclass, thumbnail_photo, fullsize_photo, datestart, dateend, description, colocated, duplicate_triplicate, laqm_locationclass, latitude, longitude)>"
      ]
     },
     "execution_count": 32,
     "metadata": {},
     "output_type": "execute_result"
    }
   ],
   "source": [
    "db['air-quality-monitoring-sites'].insert_all(aqms_payload)"
   ]
  },
  {
   "cell_type": "code",
   "execution_count": 33,
   "id": "70b99a99-b1a4-4afb-aec8-a862bd79a174",
   "metadata": {},
   "outputs": [
    {
     "data": {
      "text/plain": [
       "<Table air-quality-data-continuous (site_id, date_time, date, year, month, day_of_month, hour, nox, no2, no, pm10, pm25, temp, rh)>"
      ]
     },
     "execution_count": 33,
     "metadata": {},
     "output_type": "execute_result"
    }
   ],
   "source": [
    "db['air-quality-data-continuous'].insert_all(aqdc_payload)"
   ]
  },
  {
   "cell_type": "code",
   "execution_count": 34,
   "id": "fbbf8d0f-73ba-4352-938c-3c35ca2f2b95",
   "metadata": {},
   "outputs": [
    {
     "data": {
      "text/plain": [
       "<Table no2-tubes-raw (id, site_id, dateon, dateoff, mid_date, no2)>"
      ]
     },
     "execution_count": 34,
     "metadata": {},
     "output_type": "execute_result"
    }
   ],
   "source": [
    "db['no2-tubes-raw'].insert_all(no2_tubes_raw_payload)"
   ]
  },
  {
   "cell_type": "code",
   "execution_count": 35,
   "id": "94b43b5c-9b42-46df-87e6-5dc22304b356",
   "metadata": {},
   "outputs": [
    {
     "name": "stdout",
     "output_type": "stream",
     "text": [
      "CREATE TABLE [no2-diffusion-tube-data] (\n",
      "   [site_id] INTEGER,\n",
      "   [year] INTEGER,\n",
      "   [no2] FLOAT,\n",
      "   [count] INTEGER,\n",
      "   PRIMARY KEY ([site_id], [year]),\n",
      "   FOREIGN KEY([site_id]) REFERENCES [air-quality-monitoring-sites]([site_id])\n",
      ");\n",
      "CREATE TABLE [air-quality-monitoring-sites] (\n",
      "   [location] TEXT,\n",
      "   [site_id] INTEGER PRIMARY KEY,\n",
      "   [easting] INTEGER,\n",
      "   [northing] INTEGER,\n",
      "   [current] INTEGER,\n",
      "   [pollutants] TEXT,\n",
      "   [instrumenttype] TEXT,\n",
      "   [exposure] INTEGER,\n",
      "   [tube_kerb_distance_m] FLOAT,\n",
      "   [rec_kerb_distance_m] FLOAT,\n",
      "   [comments] TEXT,\n",
      "   [aqma] INTEGER,\n",
      "   [detailed_location] TEXT,\n",
      "   [sample_height] FLOAT,\n",
      "   [elevation] FLOAT,\n",
      "   [grid_id] FLOAT,\n",
      "   [locationclass] TEXT,\n",
      "   [thumbnail_photo] TEXT,\n",
      "   [fullsize_photo] TEXT,\n",
      "   [datestart] TEXT,\n",
      "   [dateend] TEXT,\n",
      "   [description] FLOAT,\n",
      "   [colocated] INTEGER,\n",
      "   [duplicate_triplicate] TEXT,\n",
      "   [laqm_locationclass] TEXT,\n",
      "   [latitude] FLOAT,\n",
      "   [longitude] FLOAT,\n",
      "   FOREIGN KEY([site_id]) REFERENCES [air-quality-data-continuous]([site_id])\n",
      ");\n",
      "CREATE TABLE [air-quality-data-continuous] (\n",
      "   [site_id] INTEGER,\n",
      "   [date_time] TEXT,\n",
      "   [date] TEXT,\n",
      "   [year] INTEGER,\n",
      "   [month] INTEGER,\n",
      "   [day_of_month] INTEGER,\n",
      "   [hour] INTEGER,\n",
      "   [nox] FLOAT,\n",
      "   [no2] FLOAT,\n",
      "   [no] FLOAT,\n",
      "   [pm10] FLOAT,\n",
      "   [pm25] FLOAT,\n",
      "   [temp] FLOAT,\n",
      "   [rh] FLOAT,\n",
      "   PRIMARY KEY ([date_time], [site_id]),\n",
      "   FOREIGN KEY([site_id]) REFERENCES [air-quality-monitoring-sites]([site_id])\n",
      ");\n",
      "CREATE TABLE [no2-tubes-raw] (\n",
      "   [id] INTEGER PRIMARY KEY,\n",
      "   [site_id] INTEGER,\n",
      "   [dateon] TEXT,\n",
      "   [dateoff] TEXT,\n",
      "   [mid_date] TEXT,\n",
      "   [no2] FLOAT,\n",
      "   FOREIGN KEY([site_id]) REFERENCES [air-quality-monitoring-sites]([site_id])\n",
      ");\n"
     ]
    }
   ],
   "source": [
    "print(db.schema)"
   ]
  },
  {
   "cell_type": "markdown",
   "id": "6efd5b32-bb46-4536-a35a-15280ab3f302",
   "metadata": {},
   "source": [
    "### This section sets up spatial index to enable spatial operations on the data. This is needed for the spatialite functionality"
   ]
  },
  {
   "cell_type": "code",
   "execution_count": 36,
   "id": "90d58ed3-aa8e-4b9d-a2d4-7234ee2da69b",
   "metadata": {},
   "outputs": [],
   "source": [
    "conn = sqlite3.connect(\"bristol_airquality_datasette.db\")\n",
    "# Lead the spatialite extension:\n",
    "conn.enable_load_extension(True)"
   ]
  },
  {
   "cell_type": "code",
   "execution_count": 37,
   "id": "fb56d529-129b-443c-8494-cb31cd82cca7",
   "metadata": {},
   "outputs": [],
   "source": [
    "conn.load_extension(\"/usr/lib/x86_64-linux-gnu/mod_spatialite\")"
   ]
  },
  {
   "cell_type": "code",
   "execution_count": 38,
   "id": "38c93d03-c181-4b5f-a59b-8fd11090106c",
   "metadata": {},
   "outputs": [
    {
     "data": {
      "text/plain": [
       "<sqlite3.Cursor at 0x7f48605e2b20>"
      ]
     },
     "execution_count": 38,
     "metadata": {},
     "output_type": "execute_result"
    }
   ],
   "source": [
    "# Initialize spatial metadata for this database:\n",
    "conn.execute(\"select InitSpatialMetadata(1)\")\n",
    "# Add a geometry column called point_geom to our museums table:\n",
    "conn.execute(\n",
    "    \"SELECT AddGeometryColumn('air-quality-monitoring-sites', 'point_geom', 4326, 'POINT', 2);\"\n",
    ")"
   ]
  },
  {
   "cell_type": "code",
   "execution_count": 39,
   "id": "f536bd9a-d373-4bb8-8654-666c9b08c2a4",
   "metadata": {},
   "outputs": [
    {
     "data": {
      "text/plain": [
       "<sqlite3.Cursor at 0x7f485d3781f0>"
      ]
     },
     "execution_count": 39,
     "metadata": {},
     "output_type": "execute_result"
    }
   ],
   "source": [
    "# Now update that geometry column with the lat/lon points\n",
    "conn.execute(\n",
    "    \"\"\"\n",
    "    UPDATE 'air-quality-monitoring-sites' SET\n",
    "    point_geom = GeomFromText('POINT('||\"longitude\"||' '||\"latitude\"||')',4326);\n",
    "\"\"\"\n",
    ")"
   ]
  },
  {
   "cell_type": "code",
   "execution_count": 40,
   "id": "f2332e08-054a-4703-9d3c-e472e8383906",
   "metadata": {},
   "outputs": [
    {
     "data": {
      "text/plain": [
       "<sqlite3.Cursor at 0x7f485d378110>"
      ]
     },
     "execution_count": 40,
     "metadata": {},
     "output_type": "execute_result"
    }
   ],
   "source": [
    "# Now add a spatial index to that column\n",
    "conn.execute(\n",
    "    'select CreateSpatialIndex(\"air-quality-monitoring-sites\", \"point_geom\");'\n",
    ")"
   ]
  },
  {
   "cell_type": "code",
   "execution_count": 41,
   "id": "b00692a9-dfe3-4e05-98be-c86bb8ec3865",
   "metadata": {},
   "outputs": [],
   "source": [
    "# If you don't commit your changes will not be persisted:\n",
    "conn.commit()\n",
    "conn.close()"
   ]
  },
  {
   "cell_type": "markdown",
   "id": "281e1abc-7a48-461c-bf8e-c2ef5b61e734",
   "metadata": {},
   "source": [
    "Now set up some Views for easy access to commonly desired snapshots of the data"
   ]
  },
  {
   "cell_type": "code",
   "execution_count": 42,
   "id": "4d90709d-f44c-4ad6-a861-e25d2ac5e02d",
   "metadata": {},
   "outputs": [],
   "source": [
    "if db['no2_diffusion_tube_locations_vw'].exists():\n",
    "    db['no2_diffusion_tube_locations_vw'].drop()"
   ]
  },
  {
   "cell_type": "code",
   "execution_count": 43,
   "id": "d6225955-5e35-4143-8ed0-5c81f3cfcc7d",
   "metadata": {},
   "outputs": [
    {
     "data": {
      "text/plain": [
       "<Database <sqlite3.Connection object at 0x7f485d3157b0>>"
      ]
     },
     "execution_count": 43,
     "metadata": {},
     "output_type": "execute_result"
    }
   ],
   "source": [
    "db.create_view(\"no2_diffusion_tube_locations_vw\", \"\"\"\n",
    "SELECT\n",
    "    'no2-diffusion-tube-data'.site_id,\n",
    "    location,\n",
    "    year,\n",
    "    round(no2, 1) no2,\n",
    "    easting,\n",
    "    northing,\n",
    "    round(latitude, 6) latitude,\n",
    "    round(longitude, 6) longitude,\n",
    "    count\n",
    "FROM 'air-quality-monitoring-sites'\n",
    "INNER JOIN 'no2-diffusion-tube-data'\n",
    "ON 'air-quality-monitoring-sites'.site_id = 'no2-diffusion-tube-data'.site_id\n",
    "ORDER BY 'no2-diffusion-tube-data'.site_id, year\n",
    "\"\"\")"
   ]
  },
  {
   "cell_type": "code",
   "execution_count": 44,
   "id": "82334aed-8e6e-4eab-a0eb-8aa7b896d259",
   "metadata": {},
   "outputs": [],
   "source": [
    "if db[\"annual_mean_continuous_vw\"].exists():\n",
    "    db[\"annual_mean_continuous_vw\"].drop()"
   ]
  },
  {
   "cell_type": "code",
   "execution_count": 45,
   "id": "78841af6-cc2e-41fb-b958-421e56902930",
   "metadata": {},
   "outputs": [
    {
     "data": {
      "text/plain": [
       "<Database <sqlite3.Connection object at 0x7f485d3157b0>>"
      ]
     },
     "execution_count": 45,
     "metadata": {},
     "output_type": "execute_result"
    }
   ],
   "source": [
    "db.create_view(\"annual_mean_continuous_vw\", \"\"\"\n",
    "SELECT \n",
    "    'air-quality-data-continuous'.site_id,\n",
    "    year,\n",
    "    ROUND(AVG(no2), 1) mean_no2,\n",
    "    ROUND(AVG(pm10), 1) mean_pm10,\n",
    "    ROUND(AVG(pm25), 1) as mean_pm25\n",
    "FROM 'air-quality-data-continuous'\n",
    "GROUP BY 'air-quality-data-continuous'.site_id, year\n",
    "ORDER BY year, 'air-quality-data-continuous'.site_id\n",
    "\"\"\")"
   ]
  },
  {
   "cell_type": "markdown",
   "id": "1705e73b-cf7c-4ed8-89a7-676b114ee67b",
   "metadata": {},
   "source": [
    "## COMPLETE"
   ]
  },
  {
   "cell_type": "code",
   "execution_count": 45,
   "id": "32573239-3580-4eb1-a3f7-a72ca56757d6",
   "metadata": {},
   "outputs": [],
   "source": [
    "# if db['annual_mean_locations_vw'].exists():\n",
    "#     db['annual_mean_locations_vw'].drop()"
   ]
  },
  {
   "cell_type": "code",
   "execution_count": 46,
   "id": "237c858d-286d-4684-a321-fbd40564a2aa",
   "metadata": {},
   "outputs": [
    {
     "name": "stdout",
     "output_type": "stream",
     "text": [
      "Database\t aqdc\t aqdc_payload\t aqms\t aqms_payload\t conn\t db\t latlon_df\t no2_tubes_raw\t \n",
      "no2_tubes_raw_payload\t no2dt\t no2dt_payload\t np\t path_no2_raw\t pd\t sqlalchemy\t sqlite3\t url_aqdc_1\t \n",
      "url_aqms\t url_no2\t usecols\t \n"
     ]
    }
   ],
   "source": [
    "%who\n"
   ]
  },
  {
   "cell_type": "code",
   "execution_count": 45,
   "id": "c8f0a270-49f7-40e0-8896-00bda0ceab31",
   "metadata": {},
   "outputs": [],
   "source": [
    "#not working\n",
    "# db.create_view(\"annual_mean_locations_vw\", \"\"\"\n",
    "# SELECT \n",
    "#     'annual_mean_continuous_vw'.site_id,\n",
    "#     'air-quality-monitoring-sites'.location,\n",
    "#     year,\n",
    "#     mean_no2,\n",
    "#     mean_pm10,\n",
    "#     mean_pm25,\n",
    "#     ROUND(latitude, 6) latitude,\n",
    "#     ROUND(longitude, 6) longitude\n",
    "# FROM 'annual_mean_continuous_vw'\n",
    "# INNER JOIN 'air-quality-monitoring-sites'\n",
    "# ON 'air-quality-monitoring-sites'.site_id = 'annual_mean_continuous_vw'.site_id\n",
    "# \"\"\")\n",
    "\n",
    "\n"
   ]
  },
  {
   "cell_type": "code",
   "execution_count": 38,
   "id": "cf35434b-40a0-42ff-9cf3-b95b804c5e84",
   "metadata": {},
   "outputs": [],
   "source": [
    "# print(db.schema)"
   ]
  },
  {
   "cell_type": "code",
   "execution_count": null,
   "id": "5f420b8e-cae3-444b-b036-89636bd8b6c6",
   "metadata": {},
   "outputs": [],
   "source": [
    "!ls -l"
   ]
  },
  {
   "cell_type": "code",
   "execution_count": null,
   "id": "8c29676e-7c8d-4ce8-bbbe-4ef262dd4487",
   "metadata": {},
   "outputs": [],
   "source": [
    "# for row in db['aqdc.db'].rows:\n",
    "#     print(row)"
   ]
  },
  {
   "cell_type": "code",
   "execution_count": null,
   "id": "7059adba-8b66-46aa-94d9-dc95b215111b",
   "metadata": {},
   "outputs": [],
   "source": [
    "# for row in db.query(\"select * from aqdc where siteid = 203\"):\n",
    "#     print(row)"
   ]
  },
  {
   "cell_type": "code",
   "execution_count": 22,
   "id": "5ba2560d-f09a-4381-b926-4757973db76e",
   "metadata": {},
   "outputs": [
    {
     "data": {
      "text/plain": [
       "['no2dt', 'aqms', 'aqdc']"
      ]
     },
     "execution_count": 22,
     "metadata": {},
     "output_type": "execute_result"
    }
   ],
   "source": [
    "db.table_names()"
   ]
  },
  {
   "cell_type": "code",
   "execution_count": null,
   "id": "03a519ce-4a6a-48ff-86bf-c629b22c03df",
   "metadata": {},
   "outputs": [],
   "source": [
    "# print(db.schema)"
   ]
  },
  {
   "cell_type": "code",
   "execution_count": null,
   "id": "6c7ab1e5-b942-4f81-90b0-7da180484e9a",
   "metadata": {},
   "outputs": [],
   "source": [
    "con = sqlite3.connect('aq_data.db')\n",
    "cur = con.cursor()"
   ]
  },
  {
   "cell_type": "code",
   "execution_count": null,
   "id": "37fc8454-3809-4afb-805f-1beb929a0389",
   "metadata": {},
   "outputs": [],
   "source": [
    "con.close()"
   ]
  },
  {
   "cell_type": "code",
   "execution_count": null,
   "id": "e40a0aa3-0b81-4c9c-bc98-8c5025005105",
   "metadata": {},
   "outputs": [],
   "source": [
    "query = \"\"\"\n",
    "SELECT *\n",
    "FROM aqdc\n",
    "WHERE site_id = 203\n",
    "\"\"\"\n",
    "df_aqdc = pd.read_sql_query(query, con, parse_dates = {'date_time':\"%Y-%m-%dT%H:%M:%S%z\"}) # parse the date col in read operation"
   ]
  },
  {
   "cell_type": "code",
   "execution_count": null,
   "id": "28303f5d-730b-45ac-af85-aa060b6ea0e2",
   "metadata": {},
   "outputs": [],
   "source": [
    "df_aqdc['date_time']"
   ]
  },
  {
   "cell_type": "code",
   "execution_count": null,
   "id": "b07056a7-ffac-492a-b949-3675aa6ae579",
   "metadata": {},
   "outputs": [],
   "source": [
    "query = \"\"\"\n",
    "SELECT *\n",
    "FROM no2dt\n",
    "WHERE site_id = 4 AND year = 2021\n",
    "\"\"\"\n",
    "df_no2dt = pd.read_sql_query(query, con)"
   ]
  },
  {
   "cell_type": "code",
   "execution_count": null,
   "id": "32b91215-7c30-48bc-a32c-010e4a6cfdb3",
   "metadata": {},
   "outputs": [],
   "source": [
    "df_no2dt"
   ]
  },
  {
   "cell_type": "code",
   "execution_count": null,
   "id": "30fc33ef-c9bf-40d1-a465-b8df2193caff",
   "metadata": {},
   "outputs": [],
   "source": [
    "query = \"\"\"\n",
    "SELECT *\n",
    "FROM aqms\n",
    "WHERE instrumenttype = \"Continuous (Reference)\" AND current\n",
    "\"\"\"\n",
    "df_aqms = pd.read_sql_query(query, con)"
   ]
  },
  {
   "cell_type": "code",
   "execution_count": null,
   "id": "1b64e1b5-b594-48ca-a6d7-9087590791ab",
   "metadata": {},
   "outputs": [],
   "source": [
    "df_aqms"
   ]
  },
  {
   "cell_type": "code",
   "execution_count": null,
   "id": "64c669c2-6e4a-4535-b934-e2464409fa65",
   "metadata": {},
   "outputs": [],
   "source": [
    "# con.close()"
   ]
  },
  {
   "cell_type": "code",
   "execution_count": null,
   "id": "7fd9dce4-041a-4806-a2d9-a6bb4ed86ce9",
   "metadata": {},
   "outputs": [],
   "source": []
  },
  {
   "cell_type": "code",
   "execution_count": null,
   "id": "80d127f7-1291-4b08-90dc-48ea36729f73",
   "metadata": {},
   "outputs": [],
   "source": [
    "query = \"SELECT* FROM aqdc\"\n",
    "df_aqdc = pd.read_sql_query(query,  con)"
   ]
  },
  {
   "cell_type": "code",
   "execution_count": null,
   "id": "3784746f-5be1-4d9c-b951-d9c6a311f34c",
   "metadata": {},
   "outputs": [],
   "source": [
    "df_aqdc"
   ]
  },
  {
   "cell_type": "code",
   "execution_count": null,
   "id": "f1e6420a-4dc0-4a84-84b7-dadce852ae60",
   "metadata": {},
   "outputs": [],
   "source": [
    "!ls -l"
   ]
  },
  {
   "cell_type": "code",
   "execution_count": null,
   "id": "71d9ad5b-fb14-4ca6-a02d-831a321b8f0b",
   "metadata": {},
   "outputs": [],
   "source": [
    "url_aqdc_upsert = 'nov2-5.csv'"
   ]
  },
  {
   "cell_type": "code",
   "execution_count": null,
   "id": "cb6e8bc1-598b-402a-85bf-9922b1cc0bfb",
   "metadata": {},
   "outputs": [],
   "source": [
    "aqdc_upsert = read_aqdc_from_url(url_aqdc_upsert)"
   ]
  },
  {
   "cell_type": "code",
   "execution_count": null,
   "id": "0c3abe6e-7111-4411-b8c6-e11f74dfad00",
   "metadata": {},
   "outputs": [],
   "source": [
    "aqdc_upsert"
   ]
  },
  {
   "cell_type": "code",
   "execution_count": null,
   "id": "3ca896b4-c927-48c4-bd44-52552b9fcde5",
   "metadata": {},
   "outputs": [],
   "source": []
  },
  {
   "cell_type": "code",
   "execution_count": null,
   "id": "c97e5549-b97f-4718-a6e9-bdce2e0a4d11",
   "metadata": {},
   "outputs": [],
   "source": [
    "aqdc_upsert_payload = aqdc_upsert.to_dict(orient = 'records')"
   ]
  },
  {
   "cell_type": "code",
   "execution_count": null,
   "id": "747ee12a-0445-4ed4-b37e-4c94760582f3",
   "metadata": {},
   "outputs": [],
   "source": [
    "db['aqdc'].upsert_all(aqdc_upsert_payload, pk = ['date_time','site_id'])"
   ]
  },
  {
   "cell_type": "code",
   "execution_count": null,
   "id": "6c09153a-2cdc-425f-b38b-a42ba5834475",
   "metadata": {},
   "outputs": [],
   "source": [
    "query = \"\"\"\n",
    "SELECT *\n",
    "FROM aqdc\n",
    "\"\"\"\n",
    "df_aqdc = pd.read_sql_query(query, con, parse_dates = {'date_time':\"%Y-%m-%dT%H:%M:%S%z\"}) # parse the date col in read operation"
   ]
  },
  {
   "cell_type": "code",
   "execution_count": null,
   "id": "078bdf99-ee33-4c85-8559-738c8b770236",
   "metadata": {},
   "outputs": [],
   "source": [
    "df_aqdc"
   ]
  }
 ],
 "metadata": {
  "kernelspec": {
   "display_name": "Python 3 (ipykernel)",
   "language": "python",
   "name": "python3"
  },
  "language_info": {
   "codemirror_mode": {
    "name": "ipython",
    "version": 3
   },
   "file_extension": ".py",
   "mimetype": "text/x-python",
   "name": "python",
   "nbconvert_exporter": "python",
   "pygments_lexer": "ipython3",
   "version": "3.9.15"
  },
  "vscode": {
   "interpreter": {
    "hash": "1529e91f9e4a6f84babf69f8451fba9fcbaa67e8752c9d20a044c88c8b5eb3a1"
   }
  }
 },
 "nbformat": 4,
 "nbformat_minor": 5
}
