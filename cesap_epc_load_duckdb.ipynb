{
 "cells": [
  {
   "cell_type": "code",
   "execution_count": 11,
   "metadata": {},
   "outputs": [],
   "source": [
    "# use .venv - make sure to restart jupyter kernel. duckdb need python 3.10\n",
    "import polars as pl\n",
    "import pyarrow\n",
    "import duckdb\n",
    "import get_ca_data as get_ca # functions for retrieving CA \\ common data\n",
    "from pathlib import Path\n",
    "import requests\n",
    "import os\n",
    "import yaml\n",
    "from tqdm import tqdm"
   ]
  },
  {
   "cell_type": "markdown",
   "metadata": {},
   "source": [
    "This notebook retrieves all the base data needed for comparison analysis with other Combined Authorities and loads it into a duckdb database.\n",
    "SQLite was tried, but it is slow, not directly compatible with polars and does not work well with datasette because of the size of data."
   ]
  },
  {
   "cell_type": "code",
   "execution_count": 2,
   "metadata": {},
   "outputs": [],
   "source": [
    "ca_la_df = get_ca.get_ca_la_df(2023, inc_ns=True) # include NS\n",
    "# ca_la_df.glimpse()\n"
   ]
  },
  {
   "cell_type": "code",
   "execution_count": 3,
   "metadata": {},
   "outputs": [],
   "source": [
    "la_list = (ca_la_df['ladcd']) #includes north somerset\n",
    "f'There are {str(la_list.shape)[1:3]} Local Authorities in Combined Authorities'\n",
    "ladnm = tuple(ca_la_df['ladnm'].to_list())"
   ]
  },
  {
   "cell_type": "markdown",
   "metadata": {},
   "source": [
    "Get the lookup table that relates DFT Local authority ID's in the Combined authorities to ONS LA codes"
   ]
  },
  {
   "cell_type": "code",
   "execution_count": 4,
   "metadata": {},
   "outputs": [],
   "source": [
    "ca_la_dft_lookup_df = get_ca.get_ca_la_dft_lookup(\n",
    "    dft_csv_path = 'https://storage.googleapis.com/dft-statistics/road-traffic/downloads/data-gov-uk/local_authority_traffic.csv',\n",
    "    la_list = la_list)\n",
    "# ca_la_dft_lookup_df.glimpse()"
   ]
  },
  {
   "cell_type": "code",
   "execution_count": 5,
   "metadata": {},
   "outputs": [
    {
     "name": "stdout",
     "output_type": "stream",
     "text": [
      "No files found in the directory.\n"
     ]
    }
   ],
   "source": [
    "ca_la_codes = get_ca.get_ca_la_codes(ca_la_df)\n",
    "postcode_file = get_ca.get_zipped_csv_file(url = \"https://www.arcgis.com/sharing/rest/content/items/3770c5e8b0c24f1dbe6d2fc6b46a0b18/data\",\n",
    "                      file_folder_name = \"postcode_lookup\")\n",
    "postcodes_df = get_ca.get_postcode_df(postcode_file, ca_la_codes)"
   ]
  },
  {
   "cell_type": "code",
   "execution_count": 6,
   "metadata": {},
   "outputs": [],
   "source": [
    "# this is hit by the 2000 record limit too so use DL file\n",
    "# input_file = get_ca.get_geojson(url = \"https://services1.arcgis.com/ESMARspQHYMw9BZ9/arcgis/rest/services/LLSOA_Dec_2021_PWC_for_England_and_Wales_2022/FeatureServer/0/query\",\n",
    "#                       destination_directory = \"data\\\\geojson\")"
   ]
  },
  {
   "cell_type": "code",
   "execution_count": 7,
   "metadata": {},
   "outputs": [],
   "source": [
    "ca_lsoa_codes = get_ca.get_ca_lsoa_codes(postcodes_df)"
   ]
  },
  {
   "cell_type": "markdown",
   "metadata": {},
   "source": [
    "run cell below if not needing to update LSOA geodata (its expensive and crashes)"
   ]
  },
  {
   "cell_type": "code",
   "execution_count": 8,
   "metadata": {},
   "outputs": [],
   "source": [
    "reproject_path = 'data/geojson/ca_lsoa_pwc_wgs84.geojson'\n",
    "reproject_lsoa_poly_path = 'data/geojson/ca_lsoa_poly_wgs84.geojson'"
   ]
  },
  {
   "cell_type": "code",
   "execution_count": 16,
   "metadata": {},
   "outputs": [],
   "source": [
    "# rename the LSOA features and return the path\n",
    "cleaned_lsoa_pwc_path = get_ca.clean_lsoa_geojson('data/LLSOA_Dec_2021_PWC_for_England_and_Wales_2022_-7534040603619445107.geojson',\n",
    "                                                  lsoacd='LSOA21CD')"
   ]
  },
  {
   "cell_type": "code",
   "execution_count": 17,
   "metadata": {},
   "outputs": [],
   "source": []
  },
  {
   "cell_type": "code",
   "execution_count": 19,
   "metadata": {},
   "outputs": [],
   "source": [
    "# filter for just the LSOA's in Combined Authorities\n",
    "ca_lsoa_pwc_path = get_ca.filter_geojson(input_file = cleaned_lsoa_pwc_path,\n",
    "                                         output_file='data/geojson/ca_lsoa_pwc.geojson',\n",
    "                                         property_name ='lsoacd',\n",
    "                                         ca_lsoa_codes = ca_lsoa_codes)"
   ]
  },
  {
   "cell_type": "code",
   "execution_count": 20,
   "metadata": {},
   "outputs": [],
   "source": [
    "cleaned_lsoa_poly_path = get_ca.clean_lsoa_geojson('data/geojson/Lower_layer_Super_Output_Areas_December_2021_Boundaries_EW_BFE_V10_1289561450475266465.geojson',\n",
    "                                                   lsoacd='LSOA21CD')"
   ]
  },
  {
   "cell_type": "code",
   "execution_count": 21,
   "metadata": {},
   "outputs": [],
   "source": [
    "# reproject to WGS84:4326 as default from ONS is 27700\n",
    "reproject_path = get_ca.reproject(ca_lsoa_pwc_path, output_wgs84_file='data/geojson/ca_lsoa_pwc_wgs84.geojson', lsoa_code = 'lsoacd')"
   ]
  },
  {
   "cell_type": "code",
   "execution_count": 22,
   "metadata": {},
   "outputs": [],
   "source": [
    "# filter for just the LSOA's polys in Combined Authorities\n",
    "ca_lsoa_poly_path = get_ca.filter_geojson(input_file = cleaned_lsoa_poly_path,\n",
    "                                         output_file='data/geojson/ca_lsoa_poly.geojson',\n",
    "                                         property_name ='lsoacd',\n",
    "                                         ca_lsoa_codes = ca_lsoa_codes)"
   ]
  },
  {
   "cell_type": "code",
   "execution_count": 23,
   "metadata": {},
   "outputs": [],
   "source": [
    "reproject_lsoa_poly_path = get_ca.reproject(ca_lsoa_poly_path, output_wgs84_file='data/geojson/ca_lsoa_poly_wgs84.geojson', lsoa_code = 'lsoacd')"
   ]
  },
  {
   "cell_type": "markdown",
   "metadata": {},
   "source": [
    "CSV no longer works so json is the way"
   ]
  },
  {
   "cell_type": "code",
   "execution_count": 24,
   "metadata": {},
   "outputs": [],
   "source": [
    "url_imd_json = \"https://services1.arcgis.com/ESMARspQHYMw9BZ9/arcgis/rest/services/Index_of_Multiple_Deprivation_Dec_2019_Lookup_in_England_2022/FeatureServer/0/query?where=1%3D1&outFields=*&outSR=4326&f=json\""
   ]
  },
  {
   "cell_type": "code",
   "execution_count": 25,
   "metadata": {},
   "outputs": [],
   "source": [
    "imd_json = requests.get(url_imd_json)"
   ]
  },
  {
   "cell_type": "code",
   "execution_count": 26,
   "metadata": {},
   "outputs": [],
   "source": [
    "features = imd_json.json()['features']"
   ]
  },
  {
   "cell_type": "code",
   "execution_count": 27,
   "metadata": {},
   "outputs": [],
   "source": [
    "imd_df_raw = pl.DataFrame(features).unnest(columns = 'attributes')"
   ]
  },
  {
   "cell_type": "code",
   "execution_count": 28,
   "metadata": {},
   "outputs": [],
   "source": [
    "rename_dict_imd = get_ca.get_rename_dict(imd_df_raw, get_ca.remove_numbers, rm_numbers = True)"
   ]
  },
  {
   "cell_type": "code",
   "execution_count": 29,
   "metadata": {},
   "outputs": [],
   "source": [
    "imd_df = (\n",
    "    imd_df_raw\n",
    "    .rename(rename_dict_imd)\n",
    "    .select(pl.all().exclude('fid'))\n",
    "    .filter(pl.col('lsoacd').is_in(ca_lsoa_codes))\n",
    ")\n",
    "n_unmatched_lsoas = len(ca_lsoa_codes) - imd_df.shape[0]"
   ]
  },
  {
   "cell_type": "code",
   "execution_count": 30,
   "metadata": {},
   "outputs": [],
   "source": [
    "del imd_df_raw, imd_json"
   ]
  },
  {
   "cell_type": "code",
   "execution_count": 31,
   "metadata": {},
   "outputs": [],
   "source": [
    "# https://geoportal.statistics.gov.uk/datasets/lsoa-dec-2021-pwc-for-england-and-wales/explore"
   ]
  },
  {
   "cell_type": "code",
   "execution_count": 32,
   "metadata": {},
   "outputs": [],
   "source": [
    "cols_schema_nondom = {\n",
    "    'LMK_KEY': pl.Utf8,\n",
    "    'POSTCODE': pl.Utf8,\n",
    "    'BUILDING_REFERENCE_NUMBER': pl.Int64,\n",
    "    'ASSET_RATING': pl.Int64,\n",
    "    'ASSET_RATING_BAND': pl.Utf8,\n",
    "    'PROPERTY_TYPE': pl.Utf8,\n",
    "    'LOCAL_AUTHORITY': pl.Utf8,\n",
    "    'CONSTITUENCY': pl.Utf8,\n",
    "    'TRANSACTION_TYPE': pl.Utf8,\n",
    "    'STANDARD_EMISSIONS': pl.Float64,\n",
    "    'TYPICAL_EMISSIONS': pl.Float64,\n",
    "    'TARGET_EMISSIONS': pl.Float64,\n",
    "    'BUILDING_EMISSIONS': pl.Float64,\n",
    "    'BUILDING_LEVEL': pl.Int64,\n",
    "    'RENEWABLE_SOURCES': pl.Utf8,\n",
    "    'LODGEMENT_DATETIME': pl.Utf8,\n",
    "    'UPRN': pl.Utf8\n",
    "    }"
   ]
  },
  {
   "cell_type": "code",
   "execution_count": 17,
   "metadata": {},
   "outputs": [],
   "source": [
    "epc_non_domestic = (pl.scan_csv(\n",
    "    'data/all-non-domestic-certificates-single-file/certificates.csv',\n",
    "    schema = cols_schema_nondom,\n",
    "\n",
    ")\n",
    ".filter(pl.col('LOCAL_AUTHORITY').is_in(la_list.to_list()))\n",
    ".with_columns(pl.col('LODGEMENT_DATETIME').str.to_datetime(format='%Y-%m-%d %H:%M:%S', strict=False))\n",
    "                    .sort(pl.col(['UPRN', 'LODGEMENT_DATETIME']))\n",
    "                    .group_by('UPRN').last()\n",
    ").collect()"
   ]
  },
  {
   "cell_type": "code",
   "execution_count": 33,
   "metadata": {},
   "outputs": [],
   "source": [
    "cols_schema_dom = {\n",
    "                        'LMK_KEY':pl.Utf8,\n",
    "                        'POSTCODE':pl.Utf8,\n",
    "                        'LOCAL_AUTHORITY':pl.Utf8,\n",
    "                        'PROPERTY_TYPE':pl.Utf8,\n",
    "                        'LODGEMENT_DATETIME':pl.Utf8,\n",
    "                        'TRANSACTION_TYPE': pl.Utf8,\n",
    "                        'TENURE':pl.Utf8,\n",
    "                        'MAINS_GAS_FLAG':pl.Utf8,\n",
    "                        'HOT_WATER_ENERGY_EFF':pl.Utf8,\n",
    "                        'WINDOWS_DESCRIPTION':pl.Utf8,\n",
    "                        'WINDOWS_ENERGY_EFF':pl.Utf8,\n",
    "                        'WALLS_DESCRIPTION':pl.Utf8,\n",
    "                        'WALLS_ENERGY_EFF':pl.Utf8,\n",
    "                        'ROOF_DESCRIPTION':pl.Utf8,\n",
    "                        'ROOF_ENERGY_EFF':pl.Utf8,\n",
    "                        'MAINHEAT_DESCRIPTION':pl.Utf8,\n",
    "                        'MAINHEAT_ENERGY_EFF':pl.Utf8,\n",
    "                        'MAINHEAT_ENV_EFF':pl.Utf8,\n",
    "                        'MAIN_HEATING_CONTROLS':pl.Utf8,\n",
    "                        'MAINHEATCONT_DESCRIPTION':pl.Utf8,\n",
    "                        'MAINHEATC_ENERGY_EFF':pl.Utf8,\n",
    "                        'MAIN_FUEL':pl.Utf8,\n",
    "                        'SOLAR_WATER_HEATING_FLAG':pl.Utf8,\n",
    "                        'CONSTRUCTION_AGE_BAND':pl.Utf8,\n",
    "                        'CURRENT_ENERGY_RATING':pl.Utf8,\n",
    "                        'POTENTIAL_ENERGY_RATING':pl.Utf8,\n",
    "                        'CURRENT_ENERGY_EFFICIENCY':pl.Utf8,\n",
    "                        'POTENTIAL_ENERGY_EFFICIENCY':pl.Utf8,\n",
    "                        'BUILT_FORM':pl.Utf8,\n",
    "                        'CONSTITUENCY':pl.Utf8,\n",
    "                        'FLOOR_DESCRIPTION':pl.Utf8,\n",
    "                        'ENVIRONMENT_IMPACT_CURRENT':pl.Int64,\n",
    "                        'ENVIRONMENT_IMPACT_POTENTIAL':pl.Int64,\n",
    "                        'ENERGY_CONSUMPTION_CURRENT':pl.Int64,\n",
    "                        'ENERGY_CONSUMPTION_POTENTIAL':pl.Int64,\n",
    "                        'CO2_EMISS_CURR_PER_FLOOR_AREA':pl.Int64,\n",
    "                        'CO2_EMISSIONS_CURRENT': pl.Float64,\n",
    "                        'CO2_EMISSIONS_POTENTIAL':pl.Float64,\n",
    "                        'LIGHTING_COST_CURRENT':pl.Int64,\n",
    "                        'LIGHTING_COST_POTENTIAL':pl.Int64,\n",
    "                        'HEATING_COST_CURRENT':pl.Int64,\n",
    "                        'HEATING_COST_POTENTIAL':pl.Int64,\n",
    "                        'HOT_WATER_COST_CURRENT':pl.Int64,\n",
    "                        'HOT_WATER_COST_POTENTIAL':pl.Int64,\n",
    "                        'TOTAL_FLOOR_AREA':pl.Float64,\n",
    "                        'NUMBER_HABITABLE_ROOMS':pl.Int64,\n",
    "                        'NUMBER_HEATED_ROOMS':pl.Int64,\n",
    "                        'PHOTO_SUPPLY':pl.Float64,\n",
    "                        'UPRN':pl.Int64,\n",
    "                        'BUILDING_REFERENCE_NUMBER':pl.Int64\n",
    "                    }"
   ]
  },
  {
   "cell_type": "code",
   "execution_count": 34,
   "metadata": {},
   "outputs": [],
   "source": [
    "# cols_schema_adjusted this schema is for the csv files retrieved using the epc API\n",
    "cols_schema_adjusted = {\n",
    " 'lmk-key': pl.Utf8,\n",
    " 'postcode': pl.Utf8,\n",
    " 'local-authority': pl.Utf8,\n",
    " 'property-type': pl.Utf8,\n",
    " 'lodgement-datetime': pl.Utf8,\n",
    " 'transaction-type': pl.Utf8,\n",
    " 'tenure': pl.Utf8,\n",
    " 'mains-gas-flag': pl.Utf8,\n",
    " 'hot-water-energy-eff': pl.Utf8,\n",
    " 'windows-description': pl.Utf8,\n",
    " 'windows-energy-eff': pl.Utf8,\n",
    " 'walls-description': pl.Utf8,\n",
    " 'walls-energy-eff': pl.Utf8,\n",
    " 'roof-description': pl.Utf8,\n",
    " 'roof-energy-eff': pl.Utf8,\n",
    " 'mainheat-description': pl.Utf8,\n",
    " 'mainheat-energy-eff': pl.Utf8,\n",
    " 'mainheat-env-eff': pl.Utf8,\n",
    " 'main-heating-controls': pl.Utf8,\n",
    " 'mainheatcont-description': pl.Utf8,\n",
    " 'mainheatc-energy-eff': pl.Utf8,\n",
    " 'main-fuel': pl.Utf8,\n",
    " 'solar-water-heating-flag': pl.Utf8,\n",
    " 'construction-age-band': pl.Utf8,\n",
    " 'current-energy-rating': pl.Utf8,\n",
    " 'potential-energy-rating': pl.Utf8,\n",
    " 'current-energy-efficiency': pl.Utf8,\n",
    " 'potential-energy-efficiency': pl.Utf8,\n",
    " 'built-form': pl.Utf8,\n",
    " 'constituency': pl.Utf8,\n",
    " 'floor-description': pl.Utf8,\n",
    " 'environment-impact-current': pl.Int64,\n",
    " 'environment-impact-potential': pl.Int64,\n",
    " 'energy-consumption-current': pl.Int64,\n",
    " 'energy-consumption-potential': pl.Int64,\n",
    " 'co2-emiss-curr-per-floor-area': pl.Int64,\n",
    " 'co2-emissions-current': pl.Float64,\n",
    " 'co2-emissions-potential': pl.Float64,\n",
    " 'lighting-cost-current': pl.Int64,\n",
    " 'lighting-cost-potential': pl.Int64,\n",
    " 'heating-cost-current': pl.Int64,\n",
    " 'heating-cost-potential': pl.Int64,\n",
    " 'hot-water-cost-current': pl.Int64,\n",
    " 'hot-water-cost-potential': pl.Int64,\n",
    " 'total-floor-area': pl.Float64,\n",
    " 'number-habitable-rooms': pl.Int64,\n",
    " 'number-heated-rooms': pl.Int64,\n",
    " 'photo-supply': pl.Float64,\n",
    " 'uprn': pl.Int64,\n",
    " 'building-reference-number': pl.Int64}"
   ]
  },
  {
   "cell_type": "code",
   "execution_count": 36,
   "metadata": {},
   "outputs": [
    {
     "name": "stdout",
     "output_type": "stream",
     "text": [
      "Written 4540681 bytes to data/epc_csv/epc_E08000001.csv\n",
      "Written 4547719 bytes to data/epc_csv/epc_E08000001.csv\n",
      "Written 4566051 bytes to data/epc_csv/epc_E08000001.csv\n",
      "Written 4539925 bytes to data/epc_csv/epc_E08000001.csv\n",
      "Written 4643859 bytes to data/epc_csv/epc_E08000001.csv\n",
      "Written 4489296 bytes to data/epc_csv/epc_E08000001.csv\n",
      "Written 4481119 bytes to data/epc_csv/epc_E08000001.csv\n",
      "Written 4473265 bytes to data/epc_csv/epc_E08000001.csv\n",
      "Written 4450053 bytes to data/epc_csv/epc_E08000001.csv\n",
      "Written 4488283 bytes to data/epc_csv/epc_E08000001.csv\n",
      "Written 4461222 bytes to data/epc_csv/epc_E08000001.csv\n",
      "Written 4464468 bytes to data/epc_csv/epc_E08000001.csv\n",
      "Written 4474019 bytes to data/epc_csv/epc_E08000001.csv\n",
      "Written 4475073 bytes to data/epc_csv/epc_E08000001.csv\n",
      "Written 4476302 bytes to data/epc_csv/epc_E08000001.csv\n",
      "Written 4483704 bytes to data/epc_csv/epc_E08000001.csv\n",
      "Written 4477335 bytes to data/epc_csv/epc_E08000001.csv\n",
      "Written 4446718 bytes to data/epc_csv/epc_E08000001.csv\n",
      "Written 4455934 bytes to data/epc_csv/epc_E08000001.csv\n",
      "Written 4558684 bytes to data/epc_csv/epc_E08000001.csv\n",
      "Written 4751786 bytes to data/epc_csv/epc_E08000001.csv\n",
      "Written 4713943 bytes to data/epc_csv/epc_E08000001.csv\n",
      "Written 4713324 bytes to data/epc_csv/epc_E08000001.csv\n",
      "Written 4573256 bytes to data/epc_csv/epc_E08000001.csv\n",
      "Written 0 bytes to data/epc_csv/epc_E08000001.csv\n",
      "Written 4524204 bytes to data/epc_csv/epc_E08000002.csv\n",
      "Written 4506658 bytes to data/epc_csv/epc_E08000002.csv\n",
      "Written 4508103 bytes to data/epc_csv/epc_E08000002.csv\n",
      "Written 4562240 bytes to data/epc_csv/epc_E08000002.csv\n",
      "Written 4480259 bytes to data/epc_csv/epc_E08000002.csv\n",
      "Written 4468397 bytes to data/epc_csv/epc_E08000002.csv\n",
      "Written 4485560 bytes to data/epc_csv/epc_E08000002.csv\n",
      "Written 4484449 bytes to data/epc_csv/epc_E08000002.csv\n",
      "Written 4473780 bytes to data/epc_csv/epc_E08000002.csv\n",
      "Written 4462119 bytes to data/epc_csv/epc_E08000002.csv\n",
      "Written 4464680 bytes to data/epc_csv/epc_E08000002.csv\n",
      "Written 4474540 bytes to data/epc_csv/epc_E08000002.csv\n",
      "Written 4462241 bytes to data/epc_csv/epc_E08000002.csv\n",
      "Written 4626499 bytes to data/epc_csv/epc_E08000002.csv\n",
      "Written 4726043 bytes to data/epc_csv/epc_E08000002.csv\n",
      "Written 4714608 bytes to data/epc_csv/epc_E08000002.csv\n",
      "Written 852865 bytes to data/epc_csv/epc_E08000002.csv\n",
      "Written 0 bytes to data/epc_csv/epc_E08000002.csv\n",
      "Written 4548890 bytes to data/epc_csv/epc_E08000003.csv\n",
      "Written 4616622 bytes to data/epc_csv/epc_E08000003.csv\n",
      "Written 4620351 bytes to data/epc_csv/epc_E08000003.csv\n",
      "Written 4682807 bytes to data/epc_csv/epc_E08000003.csv\n",
      "Written 4576062 bytes to data/epc_csv/epc_E08000003.csv\n",
      "Written 4608366 bytes to data/epc_csv/epc_E08000003.csv\n",
      "Written 4572165 bytes to data/epc_csv/epc_E08000003.csv\n",
      "Written 4595585 bytes to data/epc_csv/epc_E08000003.csv\n",
      "Written 4644328 bytes to data/epc_csv/epc_E08000003.csv\n",
      "Written 4565180 bytes to data/epc_csv/epc_E08000003.csv\n",
      "Written 4657395 bytes to data/epc_csv/epc_E08000003.csv\n",
      "Written 4649508 bytes to data/epc_csv/epc_E08000003.csv\n",
      "Written 4690042 bytes to data/epc_csv/epc_E08000003.csv\n",
      "Written 4716523 bytes to data/epc_csv/epc_E08000003.csv\n",
      "Written 4727751 bytes to data/epc_csv/epc_E08000003.csv\n",
      "Written 4495536 bytes to data/epc_csv/epc_E08000003.csv\n",
      "Written 4518343 bytes to data/epc_csv/epc_E08000003.csv\n",
      "Written 4485276 bytes to data/epc_csv/epc_E08000003.csv\n",
      "Written 4535399 bytes to data/epc_csv/epc_E08000003.csv\n",
      "Written 4526970 bytes to data/epc_csv/epc_E08000003.csv\n",
      "Written 4511903 bytes to data/epc_csv/epc_E08000003.csv\n",
      "Written 4518987 bytes to data/epc_csv/epc_E08000003.csv\n",
      "Written 4494761 bytes to data/epc_csv/epc_E08000003.csv\n",
      "Written 4477749 bytes to data/epc_csv/epc_E08000003.csv\n",
      "Written 4493602 bytes to data/epc_csv/epc_E08000003.csv\n",
      "Written 4484464 bytes to data/epc_csv/epc_E08000003.csv\n",
      "Written 4493392 bytes to data/epc_csv/epc_E08000003.csv\n",
      "Written 4515440 bytes to data/epc_csv/epc_E08000003.csv\n",
      "Written 4503948 bytes to data/epc_csv/epc_E08000003.csv\n",
      "Written 4497773 bytes to data/epc_csv/epc_E08000003.csv\n",
      "Written 4485900 bytes to data/epc_csv/epc_E08000003.csv\n",
      "Written 4534848 bytes to data/epc_csv/epc_E08000003.csv\n",
      "Written 4491178 bytes to data/epc_csv/epc_E08000003.csv\n",
      "Written 4508986 bytes to data/epc_csv/epc_E08000003.csv\n",
      "Written 4503625 bytes to data/epc_csv/epc_E08000003.csv\n",
      "Written 4508995 bytes to data/epc_csv/epc_E08000003.csv\n",
      "Written 4510157 bytes to data/epc_csv/epc_E08000003.csv\n",
      "Written 4504579 bytes to data/epc_csv/epc_E08000003.csv\n",
      "Written 4521414 bytes to data/epc_csv/epc_E08000003.csv\n",
      "Written 4518875 bytes to data/epc_csv/epc_E08000003.csv\n",
      "Written 4498495 bytes to data/epc_csv/epc_E08000003.csv\n",
      "Written 4496889 bytes to data/epc_csv/epc_E08000003.csv\n",
      "Written 4502750 bytes to data/epc_csv/epc_E08000003.csv\n",
      "Written 4480833 bytes to data/epc_csv/epc_E08000003.csv\n",
      "Written 4502417 bytes to data/epc_csv/epc_E08000003.csv\n",
      "Written 4509878 bytes to data/epc_csv/epc_E08000003.csv\n",
      "Written 4533987 bytes to data/epc_csv/epc_E08000003.csv\n",
      "Written 4598184 bytes to data/epc_csv/epc_E08000003.csv\n",
      "Written 4775557 bytes to data/epc_csv/epc_E08000003.csv\n",
      "Written 4779951 bytes to data/epc_csv/epc_E08000003.csv\n",
      "Written 4774107 bytes to data/epc_csv/epc_E08000003.csv\n",
      "Written 4774958 bytes to data/epc_csv/epc_E08000003.csv\n",
      "Written 4707190 bytes to data/epc_csv/epc_E08000003.csv\n",
      "Written 4772589 bytes to data/epc_csv/epc_E08000003.csv\n",
      "Written 4701859 bytes to data/epc_csv/epc_E08000003.csv\n",
      "Written 4655625 bytes to data/epc_csv/epc_E08000003.csv\n",
      "Written 4737267 bytes to data/epc_csv/epc_E08000003.csv\n",
      "Written 4725006 bytes to data/epc_csv/epc_E08000003.csv\n",
      "Written 4743513 bytes to data/epc_csv/epc_E08000003.csv\n",
      "Written 4507884 bytes to data/epc_csv/epc_E08000003.csv\n",
      "Written 0 bytes to data/epc_csv/epc_E08000003.csv\n",
      "Written 4588236 bytes to data/epc_csv/epc_E08000004.csv\n",
      "Written 4594242 bytes to data/epc_csv/epc_E08000004.csv\n",
      "Written 4592154 bytes to data/epc_csv/epc_E08000004.csv\n",
      "Written 4603024 bytes to data/epc_csv/epc_E08000004.csv\n",
      "Written 4532046 bytes to data/epc_csv/epc_E08000004.csv\n",
      "Written 4528467 bytes to data/epc_csv/epc_E08000004.csv\n",
      "Written 4537379 bytes to data/epc_csv/epc_E08000004.csv\n",
      "Written 4510920 bytes to data/epc_csv/epc_E08000004.csv\n",
      "Written 4537022 bytes to data/epc_csv/epc_E08000004.csv\n",
      "Written 4533025 bytes to data/epc_csv/epc_E08000004.csv\n",
      "Written 4545701 bytes to data/epc_csv/epc_E08000004.csv\n",
      "Written 4527507 bytes to data/epc_csv/epc_E08000004.csv\n",
      "Written 4551965 bytes to data/epc_csv/epc_E08000004.csv\n",
      "Written 4544906 bytes to data/epc_csv/epc_E08000004.csv\n",
      "Written 4544362 bytes to data/epc_csv/epc_E08000004.csv\n",
      "Written 4523111 bytes to data/epc_csv/epc_E08000004.csv\n",
      "Written 4657621 bytes to data/epc_csv/epc_E08000004.csv\n",
      "Written 4826302 bytes to data/epc_csv/epc_E08000004.csv\n",
      "Written 4767227 bytes to data/epc_csv/epc_E08000004.csv\n",
      "Written 3639419 bytes to data/epc_csv/epc_E08000004.csv\n",
      "Written 0 bytes to data/epc_csv/epc_E08000004.csv\n",
      "Written 4499780 bytes to data/epc_csv/epc_E08000005.csv\n",
      "Written 4532533 bytes to data/epc_csv/epc_E08000005.csv\n",
      "Written 4545071 bytes to data/epc_csv/epc_E08000005.csv\n",
      "Written 4580879 bytes to data/epc_csv/epc_E08000005.csv\n",
      "Written 4545181 bytes to data/epc_csv/epc_E08000005.csv\n",
      "Written 4483465 bytes to data/epc_csv/epc_E08000005.csv\n",
      "Written 4474822 bytes to data/epc_csv/epc_E08000005.csv\n",
      "Written 4483752 bytes to data/epc_csv/epc_E08000005.csv\n",
      "Written 4459939 bytes to data/epc_csv/epc_E08000005.csv\n",
      "Written 4462790 bytes to data/epc_csv/epc_E08000005.csv\n",
      "Written 4469766 bytes to data/epc_csv/epc_E08000005.csv\n",
      "Written 4465295 bytes to data/epc_csv/epc_E08000005.csv\n",
      "Written 4473377 bytes to data/epc_csv/epc_E08000005.csv\n",
      "Written 4453717 bytes to data/epc_csv/epc_E08000005.csv\n",
      "Written 4427876 bytes to data/epc_csv/epc_E08000005.csv\n",
      "Written 4506415 bytes to data/epc_csv/epc_E08000005.csv\n",
      "Written 4708300 bytes to data/epc_csv/epc_E08000005.csv\n",
      "Written 4693891 bytes to data/epc_csv/epc_E08000005.csv\n",
      "Written 4461932 bytes to data/epc_csv/epc_E08000005.csv\n",
      "Written 0 bytes to data/epc_csv/epc_E08000005.csv\n",
      "Written 4667150 bytes to data/epc_csv/epc_E08000006.csv\n",
      "Written 4702868 bytes to data/epc_csv/epc_E08000006.csv\n",
      "Written 4673379 bytes to data/epc_csv/epc_E08000006.csv\n",
      "Written 4684605 bytes to data/epc_csv/epc_E08000006.csv\n",
      "Written 4669319 bytes to data/epc_csv/epc_E08000006.csv\n",
      "Written 4657149 bytes to data/epc_csv/epc_E08000006.csv\n",
      "Written 4696573 bytes to data/epc_csv/epc_E08000006.csv\n",
      "Written 4530038 bytes to data/epc_csv/epc_E08000006.csv\n",
      "Written 4502658 bytes to data/epc_csv/epc_E08000006.csv\n",
      "Written 4521314 bytes to data/epc_csv/epc_E08000006.csv\n",
      "Written 4486753 bytes to data/epc_csv/epc_E08000006.csv\n",
      "Written 4483059 bytes to data/epc_csv/epc_E08000006.csv\n",
      "Written 4496455 bytes to data/epc_csv/epc_E08000006.csv\n",
      "Written 4541153 bytes to data/epc_csv/epc_E08000006.csv\n",
      "Written 4529774 bytes to data/epc_csv/epc_E08000006.csv\n",
      "Written 4537816 bytes to data/epc_csv/epc_E08000006.csv\n",
      "Written 4536294 bytes to data/epc_csv/epc_E08000006.csv\n",
      "Written 4545364 bytes to data/epc_csv/epc_E08000006.csv\n",
      "Written 4555880 bytes to data/epc_csv/epc_E08000006.csv\n",
      "Written 4558203 bytes to data/epc_csv/epc_E08000006.csv\n",
      "Written 4553553 bytes to data/epc_csv/epc_E08000006.csv\n",
      "Written 4492560 bytes to data/epc_csv/epc_E08000006.csv\n",
      "Written 4528534 bytes to data/epc_csv/epc_E08000006.csv\n",
      "Written 4531779 bytes to data/epc_csv/epc_E08000006.csv\n",
      "Written 4559942 bytes to data/epc_csv/epc_E08000006.csv\n",
      "Written 4699691 bytes to data/epc_csv/epc_E08000006.csv\n",
      "Written 4825757 bytes to data/epc_csv/epc_E08000006.csv\n",
      "Written 4877948 bytes to data/epc_csv/epc_E08000006.csv\n",
      "Written 4789859 bytes to data/epc_csv/epc_E08000006.csv\n",
      "Written 4756446 bytes to data/epc_csv/epc_E08000006.csv\n",
      "Written 4717158 bytes to data/epc_csv/epc_E08000006.csv\n",
      "Written 555997 bytes to data/epc_csv/epc_E08000006.csv\n",
      "Written 0 bytes to data/epc_csv/epc_E08000006.csv\n",
      "Written 4622584 bytes to data/epc_csv/epc_E08000007.csv\n",
      "Written 4577488 bytes to data/epc_csv/epc_E08000007.csv\n",
      "Written 4566732 bytes to data/epc_csv/epc_E08000007.csv\n",
      "Written 4599643 bytes to data/epc_csv/epc_E08000007.csv\n",
      "Written 4652254 bytes to data/epc_csv/epc_E08000007.csv\n",
      "Written 4506752 bytes to data/epc_csv/epc_E08000007.csv\n",
      "Written 4510049 bytes to data/epc_csv/epc_E08000007.csv\n",
      "Written 4513936 bytes to data/epc_csv/epc_E08000007.csv\n",
      "Written 4484290 bytes to data/epc_csv/epc_E08000007.csv\n",
      "Written 4493741 bytes to data/epc_csv/epc_E08000007.csv\n",
      "Written 4476893 bytes to data/epc_csv/epc_E08000007.csv\n",
      "Written 4492473 bytes to data/epc_csv/epc_E08000007.csv\n",
      "Written 4494327 bytes to data/epc_csv/epc_E08000007.csv\n",
      "Written 4478467 bytes to data/epc_csv/epc_E08000007.csv\n",
      "Written 4489451 bytes to data/epc_csv/epc_E08000007.csv\n",
      "Written 4477739 bytes to data/epc_csv/epc_E08000007.csv\n",
      "Written 4455803 bytes to data/epc_csv/epc_E08000007.csv\n",
      "Written 4471112 bytes to data/epc_csv/epc_E08000007.csv\n",
      "Written 4494642 bytes to data/epc_csv/epc_E08000007.csv\n",
      "Written 4761523 bytes to data/epc_csv/epc_E08000007.csv\n",
      "Written 4772667 bytes to data/epc_csv/epc_E08000007.csv\n",
      "Written 4741560 bytes to data/epc_csv/epc_E08000007.csv\n",
      "Written 4726504 bytes to data/epc_csv/epc_E08000007.csv\n",
      "Written 569522 bytes to data/epc_csv/epc_E08000007.csv\n",
      "Written 0 bytes to data/epc_csv/epc_E08000007.csv\n",
      "Written 4579930 bytes to data/epc_csv/epc_E08000008.csv\n",
      "Written 4587862 bytes to data/epc_csv/epc_E08000008.csv\n",
      "Written 4549469 bytes to data/epc_csv/epc_E08000008.csv\n",
      "Written 4635300 bytes to data/epc_csv/epc_E08000008.csv\n",
      "Written 4598027 bytes to data/epc_csv/epc_E08000008.csv\n",
      "Written 4533652 bytes to data/epc_csv/epc_E08000008.csv\n",
      "Written 4517292 bytes to data/epc_csv/epc_E08000008.csv\n",
      "Written 4526827 bytes to data/epc_csv/epc_E08000008.csv\n",
      "Written 4529932 bytes to data/epc_csv/epc_E08000008.csv\n",
      "Written 4530110 bytes to data/epc_csv/epc_E08000008.csv\n",
      "Written 4504944 bytes to data/epc_csv/epc_E08000008.csv\n",
      "Written 4465534 bytes to data/epc_csv/epc_E08000008.csv\n",
      "Written 4465081 bytes to data/epc_csv/epc_E08000008.csv\n",
      "Written 4494066 bytes to data/epc_csv/epc_E08000008.csv\n",
      "Written 4518806 bytes to data/epc_csv/epc_E08000008.csv\n",
      "Written 4488447 bytes to data/epc_csv/epc_E08000008.csv\n",
      "Written 4494451 bytes to data/epc_csv/epc_E08000008.csv\n",
      "Written 4581937 bytes to data/epc_csv/epc_E08000008.csv\n",
      "Written 4783627 bytes to data/epc_csv/epc_E08000008.csv\n",
      "Written 4761240 bytes to data/epc_csv/epc_E08000008.csv\n",
      "Written 3756765 bytes to data/epc_csv/epc_E08000008.csv\n",
      "Written 0 bytes to data/epc_csv/epc_E08000008.csv\n",
      "Written 4666228 bytes to data/epc_csv/epc_E08000009.csv\n",
      "Written 4675368 bytes to data/epc_csv/epc_E08000009.csv\n",
      "Written 4690318 bytes to data/epc_csv/epc_E08000009.csv\n",
      "Written 4722981 bytes to data/epc_csv/epc_E08000009.csv\n",
      "Written 4568365 bytes to data/epc_csv/epc_E08000009.csv\n",
      "Written 4571582 bytes to data/epc_csv/epc_E08000009.csv\n",
      "Written 4555953 bytes to data/epc_csv/epc_E08000009.csv\n",
      "Written 4558521 bytes to data/epc_csv/epc_E08000009.csv\n",
      "Written 4539491 bytes to data/epc_csv/epc_E08000009.csv\n",
      "Written 4558965 bytes to data/epc_csv/epc_E08000009.csv\n",
      "Written 4563815 bytes to data/epc_csv/epc_E08000009.csv\n",
      "Written 4553344 bytes to data/epc_csv/epc_E08000009.csv\n",
      "Written 4559691 bytes to data/epc_csv/epc_E08000009.csv\n",
      "Written 4530550 bytes to data/epc_csv/epc_E08000009.csv\n",
      "Written 4568790 bytes to data/epc_csv/epc_E08000009.csv\n",
      "Written 4792670 bytes to data/epc_csv/epc_E08000009.csv\n",
      "Written 4818284 bytes to data/epc_csv/epc_E08000009.csv\n",
      "Written 4808243 bytes to data/epc_csv/epc_E08000009.csv\n",
      "Written 2490373 bytes to data/epc_csv/epc_E08000009.csv\n",
      "Written 0 bytes to data/epc_csv/epc_E08000009.csv\n",
      "Written 4530143 bytes to data/epc_csv/epc_E08000010.csv\n",
      "Written 4546534 bytes to data/epc_csv/epc_E08000010.csv\n",
      "Written 4553639 bytes to data/epc_csv/epc_E08000010.csv\n",
      "Written 4544787 bytes to data/epc_csv/epc_E08000010.csv\n",
      "Written 4579706 bytes to data/epc_csv/epc_E08000010.csv\n",
      "Written 4530991 bytes to data/epc_csv/epc_E08000010.csv\n",
      "Written 4476457 bytes to data/epc_csv/epc_E08000010.csv\n",
      "Written 4484622 bytes to data/epc_csv/epc_E08000010.csv\n",
      "Written 4470240 bytes to data/epc_csv/epc_E08000010.csv\n",
      "Written 4451373 bytes to data/epc_csv/epc_E08000010.csv\n",
      "Written 4473439 bytes to data/epc_csv/epc_E08000010.csv\n",
      "Written 4444730 bytes to data/epc_csv/epc_E08000010.csv\n",
      "Written 4445497 bytes to data/epc_csv/epc_E08000010.csv\n",
      "Written 4450899 bytes to data/epc_csv/epc_E08000010.csv\n",
      "Written 4450140 bytes to data/epc_csv/epc_E08000010.csv\n",
      "Written 4443361 bytes to data/epc_csv/epc_E08000010.csv\n",
      "Written 4457695 bytes to data/epc_csv/epc_E08000010.csv\n",
      "Written 4458629 bytes to data/epc_csv/epc_E08000010.csv\n",
      "Written 4445879 bytes to data/epc_csv/epc_E08000010.csv\n",
      "Written 4411781 bytes to data/epc_csv/epc_E08000010.csv\n",
      "Written 4446312 bytes to data/epc_csv/epc_E08000010.csv\n",
      "Written 4567150 bytes to data/epc_csv/epc_E08000010.csv\n",
      "Written 4704908 bytes to data/epc_csv/epc_E08000010.csv\n",
      "Written 4698004 bytes to data/epc_csv/epc_E08000010.csv\n",
      "Written 4679613 bytes to data/epc_csv/epc_E08000010.csv\n",
      "Written 4672833 bytes to data/epc_csv/epc_E08000010.csv\n",
      "Written 1744905 bytes to data/epc_csv/epc_E08000010.csv\n",
      "Written 0 bytes to data/epc_csv/epc_E08000010.csv\n",
      "Written 4626939 bytes to data/epc_csv/epc_E08000016.csv\n",
      "Written 4619380 bytes to data/epc_csv/epc_E08000016.csv\n",
      "Written 4596730 bytes to data/epc_csv/epc_E08000016.csv\n",
      "Written 4599581 bytes to data/epc_csv/epc_E08000016.csv\n",
      "Written 4630424 bytes to data/epc_csv/epc_E08000016.csv\n",
      "Written 4634906 bytes to data/epc_csv/epc_E08000016.csv\n",
      "Written 4709577 bytes to data/epc_csv/epc_E08000016.csv\n",
      "Written 4562511 bytes to data/epc_csv/epc_E08000016.csv\n",
      "Written 4568589 bytes to data/epc_csv/epc_E08000016.csv\n",
      "Written 4566638 bytes to data/epc_csv/epc_E08000016.csv\n",
      "Written 4570017 bytes to data/epc_csv/epc_E08000016.csv\n",
      "Written 4552492 bytes to data/epc_csv/epc_E08000016.csv\n",
      "Written 4561676 bytes to data/epc_csv/epc_E08000016.csv\n",
      "Written 4561481 bytes to data/epc_csv/epc_E08000016.csv\n",
      "Written 4543452 bytes to data/epc_csv/epc_E08000016.csv\n",
      "Written 4547479 bytes to data/epc_csv/epc_E08000016.csv\n",
      "Written 4518900 bytes to data/epc_csv/epc_E08000016.csv\n",
      "Written 4531255 bytes to data/epc_csv/epc_E08000016.csv\n",
      "Written 4690527 bytes to data/epc_csv/epc_E08000016.csv\n",
      "Written 4806343 bytes to data/epc_csv/epc_E08000016.csv\n",
      "Written 4767432 bytes to data/epc_csv/epc_E08000016.csv\n",
      "Written 4084552 bytes to data/epc_csv/epc_E08000016.csv\n",
      "Written 0 bytes to data/epc_csv/epc_E08000016.csv\n",
      "Written 4615212 bytes to data/epc_csv/epc_E08000017.csv\n",
      "Written 4601920 bytes to data/epc_csv/epc_E08000017.csv\n",
      "Written 4622383 bytes to data/epc_csv/epc_E08000017.csv\n",
      "Written 4619087 bytes to data/epc_csv/epc_E08000017.csv\n",
      "Written 4612138 bytes to data/epc_csv/epc_E08000017.csv\n",
      "Written 4660867 bytes to data/epc_csv/epc_E08000017.csv\n",
      "Written 4705312 bytes to data/epc_csv/epc_E08000017.csv\n",
      "Written 4552718 bytes to data/epc_csv/epc_E08000017.csv\n",
      "Written 4553438 bytes to data/epc_csv/epc_E08000017.csv\n",
      "Written 4547231 bytes to data/epc_csv/epc_E08000017.csv\n",
      "Written 4544374 bytes to data/epc_csv/epc_E08000017.csv\n",
      "Written 4547046 bytes to data/epc_csv/epc_E08000017.csv\n",
      "Written 4547584 bytes to data/epc_csv/epc_E08000017.csv\n",
      "Written 4528660 bytes to data/epc_csv/epc_E08000017.csv\n",
      "Written 4551089 bytes to data/epc_csv/epc_E08000017.csv\n",
      "Written 4573808 bytes to data/epc_csv/epc_E08000017.csv\n",
      "Written 4559539 bytes to data/epc_csv/epc_E08000017.csv\n",
      "Written 4554952 bytes to data/epc_csv/epc_E08000017.csv\n",
      "Written 4571592 bytes to data/epc_csv/epc_E08000017.csv\n",
      "Written 4575005 bytes to data/epc_csv/epc_E08000017.csv\n",
      "Written 4534202 bytes to data/epc_csv/epc_E08000017.csv\n",
      "Written 4515315 bytes to data/epc_csv/epc_E08000017.csv\n",
      "Written 4549555 bytes to data/epc_csv/epc_E08000017.csv\n",
      "Written 4743755 bytes to data/epc_csv/epc_E08000017.csv\n",
      "Written 4825102 bytes to data/epc_csv/epc_E08000017.csv\n",
      "Written 4791970 bytes to data/epc_csv/epc_E08000017.csv\n",
      "Written 4789217 bytes to data/epc_csv/epc_E08000017.csv\n",
      "Written 2114854 bytes to data/epc_csv/epc_E08000017.csv\n",
      "Written 0 bytes to data/epc_csv/epc_E08000017.csv\n",
      "Written 4630224 bytes to data/epc_csv/epc_E08000018.csv\n",
      "Written 4647258 bytes to data/epc_csv/epc_E08000018.csv\n",
      "Written 4605688 bytes to data/epc_csv/epc_E08000018.csv\n",
      "Written 4658626 bytes to data/epc_csv/epc_E08000018.csv\n",
      "Written 4652825 bytes to data/epc_csv/epc_E08000018.csv\n",
      "Written 4544200 bytes to data/epc_csv/epc_E08000018.csv\n",
      "Written 4533032 bytes to data/epc_csv/epc_E08000018.csv\n",
      "Written 4525997 bytes to data/epc_csv/epc_E08000018.csv\n",
      "Written 4544522 bytes to data/epc_csv/epc_E08000018.csv\n",
      "Written 4543869 bytes to data/epc_csv/epc_E08000018.csv\n",
      "Written 4536337 bytes to data/epc_csv/epc_E08000018.csv\n",
      "Written 4543274 bytes to data/epc_csv/epc_E08000018.csv\n",
      "Written 4551828 bytes to data/epc_csv/epc_E08000018.csv\n",
      "Written 4563192 bytes to data/epc_csv/epc_E08000018.csv\n",
      "Written 4550495 bytes to data/epc_csv/epc_E08000018.csv\n",
      "Written 4521239 bytes to data/epc_csv/epc_E08000018.csv\n",
      "Written 4536894 bytes to data/epc_csv/epc_E08000018.csv\n",
      "Written 4710049 bytes to data/epc_csv/epc_E08000018.csv\n",
      "Written 4828652 bytes to data/epc_csv/epc_E08000018.csv\n",
      "Written 4787811 bytes to data/epc_csv/epc_E08000018.csv\n",
      "Written 4756310 bytes to data/epc_csv/epc_E08000018.csv\n",
      "Written 599091 bytes to data/epc_csv/epc_E08000018.csv\n",
      "Written 0 bytes to data/epc_csv/epc_E08000018.csv\n",
      "Written 4611059 bytes to data/epc_csv/epc_E08000019.csv\n",
      "Written 4642556 bytes to data/epc_csv/epc_E08000019.csv\n",
      "Written 4635742 bytes to data/epc_csv/epc_E08000019.csv\n",
      "Written 4619084 bytes to data/epc_csv/epc_E08000019.csv\n",
      "Written 4622118 bytes to data/epc_csv/epc_E08000019.csv\n",
      "Written 4638776 bytes to data/epc_csv/epc_E08000019.csv\n",
      "Written 4640272 bytes to data/epc_csv/epc_E08000019.csv\n",
      "Written 4622709 bytes to data/epc_csv/epc_E08000019.csv\n",
      "Written 4711125 bytes to data/epc_csv/epc_E08000019.csv\n",
      "Written 4766470 bytes to data/epc_csv/epc_E08000019.csv\n",
      "Written 4582705 bytes to data/epc_csv/epc_E08000019.csv\n",
      "Written 4561227 bytes to data/epc_csv/epc_E08000019.csv\n",
      "Written 4539374 bytes to data/epc_csv/epc_E08000019.csv\n",
      "Written 4556537 bytes to data/epc_csv/epc_E08000019.csv\n",
      "Written 4547275 bytes to data/epc_csv/epc_E08000019.csv\n",
      "Written 4550139 bytes to data/epc_csv/epc_E08000019.csv\n",
      "Written 4535777 bytes to data/epc_csv/epc_E08000019.csv\n",
      "Written 4521474 bytes to data/epc_csv/epc_E08000019.csv\n",
      "Written 4541218 bytes to data/epc_csv/epc_E08000019.csv\n",
      "Written 4540319 bytes to data/epc_csv/epc_E08000019.csv\n",
      "Written 4559790 bytes to data/epc_csv/epc_E08000019.csv\n",
      "Written 4523708 bytes to data/epc_csv/epc_E08000019.csv\n",
      "Written 4537253 bytes to data/epc_csv/epc_E08000019.csv\n",
      "Written 4527143 bytes to data/epc_csv/epc_E08000019.csv\n",
      "Written 4530943 bytes to data/epc_csv/epc_E08000019.csv\n",
      "Written 4549384 bytes to data/epc_csv/epc_E08000019.csv\n",
      "Written 4549323 bytes to data/epc_csv/epc_E08000019.csv\n",
      "Written 4548508 bytes to data/epc_csv/epc_E08000019.csv\n",
      "Written 4543561 bytes to data/epc_csv/epc_E08000019.csv\n",
      "Written 4544144 bytes to data/epc_csv/epc_E08000019.csv\n",
      "Written 4546217 bytes to data/epc_csv/epc_E08000019.csv\n",
      "Written 4536737 bytes to data/epc_csv/epc_E08000019.csv\n",
      "Written 4505365 bytes to data/epc_csv/epc_E08000019.csv\n",
      "Written 4497313 bytes to data/epc_csv/epc_E08000019.csv\n",
      "Written 4512936 bytes to data/epc_csv/epc_E08000019.csv\n",
      "Written 4519922 bytes to data/epc_csv/epc_E08000019.csv\n",
      "Written 4532751 bytes to data/epc_csv/epc_E08000019.csv\n",
      "Written 4660140 bytes to data/epc_csv/epc_E08000019.csv\n",
      "Written 4795884 bytes to data/epc_csv/epc_E08000019.csv\n",
      "Written 4803621 bytes to data/epc_csv/epc_E08000019.csv\n",
      "Written 4787075 bytes to data/epc_csv/epc_E08000019.csv\n",
      "Written 4748824 bytes to data/epc_csv/epc_E08000019.csv\n",
      "Written 4771658 bytes to data/epc_csv/epc_E08000019.csv\n",
      "Written 4741983 bytes to data/epc_csv/epc_E08000019.csv\n",
      "Written 4789788 bytes to data/epc_csv/epc_E08000019.csv\n",
      "Written 4745733 bytes to data/epc_csv/epc_E08000019.csv\n",
      "Written 1838850 bytes to data/epc_csv/epc_E08000019.csv\n",
      "Written 0 bytes to data/epc_csv/epc_E08000019.csv\n",
      "Written 4599800 bytes to data/epc_csv/epc_E08000032.csv\n",
      "Written 4587334 bytes to data/epc_csv/epc_E08000032.csv\n",
      "Written 4590444 bytes to data/epc_csv/epc_E08000032.csv\n",
      "Written 4602301 bytes to data/epc_csv/epc_E08000032.csv\n",
      "Written 4614738 bytes to data/epc_csv/epc_E08000032.csv\n",
      "Written 4595310 bytes to data/epc_csv/epc_E08000032.csv\n",
      "Written 4609602 bytes to data/epc_csv/epc_E08000032.csv\n",
      "Written 4623345 bytes to data/epc_csv/epc_E08000032.csv\n",
      "Written 4722777 bytes to data/epc_csv/epc_E08000032.csv\n",
      "Written 4595874 bytes to data/epc_csv/epc_E08000032.csv\n",
      "Written 4523674 bytes to data/epc_csv/epc_E08000032.csv\n",
      "Written 4530328 bytes to data/epc_csv/epc_E08000032.csv\n",
      "Written 4528393 bytes to data/epc_csv/epc_E08000032.csv\n",
      "Written 4515070 bytes to data/epc_csv/epc_E08000032.csv\n",
      "Written 4525602 bytes to data/epc_csv/epc_E08000032.csv\n",
      "Written 4513516 bytes to data/epc_csv/epc_E08000032.csv\n",
      "Written 4555009 bytes to data/epc_csv/epc_E08000032.csv\n",
      "Written 4559433 bytes to data/epc_csv/epc_E08000032.csv\n",
      "Written 4553985 bytes to data/epc_csv/epc_E08000032.csv\n",
      "Written 4564361 bytes to data/epc_csv/epc_E08000032.csv\n",
      "Written 4565855 bytes to data/epc_csv/epc_E08000032.csv\n",
      "Written 4558689 bytes to data/epc_csv/epc_E08000032.csv\n",
      "Written 4550448 bytes to data/epc_csv/epc_E08000032.csv\n",
      "Written 4552864 bytes to data/epc_csv/epc_E08000032.csv\n",
      "Written 4548048 bytes to data/epc_csv/epc_E08000032.csv\n",
      "Written 4541959 bytes to data/epc_csv/epc_E08000032.csv\n",
      "Written 4554774 bytes to data/epc_csv/epc_E08000032.csv\n",
      "Written 4542297 bytes to data/epc_csv/epc_E08000032.csv\n",
      "Written 4537109 bytes to data/epc_csv/epc_E08000032.csv\n",
      "Written 4523136 bytes to data/epc_csv/epc_E08000032.csv\n",
      "Written 4515399 bytes to data/epc_csv/epc_E08000032.csv\n",
      "Written 4520475 bytes to data/epc_csv/epc_E08000032.csv\n",
      "Written 4529420 bytes to data/epc_csv/epc_E08000032.csv\n",
      "Written 4520257 bytes to data/epc_csv/epc_E08000032.csv\n",
      "Written 4516697 bytes to data/epc_csv/epc_E08000032.csv\n",
      "Written 4520069 bytes to data/epc_csv/epc_E08000032.csv\n",
      "Written 4498005 bytes to data/epc_csv/epc_E08000032.csv\n",
      "Written 4479678 bytes to data/epc_csv/epc_E08000032.csv\n",
      "Written 4469247 bytes to data/epc_csv/epc_E08000032.csv\n",
      "Written 4474671 bytes to data/epc_csv/epc_E08000032.csv\n",
      "Written 4496182 bytes to data/epc_csv/epc_E08000032.csv\n",
      "Written 4509126 bytes to data/epc_csv/epc_E08000032.csv\n",
      "Written 4759137 bytes to data/epc_csv/epc_E08000032.csv\n",
      "Written 4751730 bytes to data/epc_csv/epc_E08000032.csv\n",
      "Written 4774249 bytes to data/epc_csv/epc_E08000032.csv\n",
      "Written 4726470 bytes to data/epc_csv/epc_E08000032.csv\n",
      "Written 4742045 bytes to data/epc_csv/epc_E08000032.csv\n",
      "Written 4747820 bytes to data/epc_csv/epc_E08000032.csv\n",
      "Written 4734000 bytes to data/epc_csv/epc_E08000032.csv\n",
      "Written 3556279 bytes to data/epc_csv/epc_E08000032.csv\n",
      "Written 0 bytes to data/epc_csv/epc_E08000032.csv\n",
      "Written 4587556 bytes to data/epc_csv/epc_E08000033.csv\n",
      "Written 4600480 bytes to data/epc_csv/epc_E08000033.csv\n",
      "Written 4586070 bytes to data/epc_csv/epc_E08000033.csv\n",
      "Written 4639727 bytes to data/epc_csv/epc_E08000033.csv\n",
      "Written 4686101 bytes to data/epc_csv/epc_E08000033.csv\n",
      "Written 4534722 bytes to data/epc_csv/epc_E08000033.csv\n",
      "Written 4525940 bytes to data/epc_csv/epc_E08000033.csv\n",
      "Written 4541386 bytes to data/epc_csv/epc_E08000033.csv\n",
      "Written 4565072 bytes to data/epc_csv/epc_E08000033.csv\n",
      "Written 4546669 bytes to data/epc_csv/epc_E08000033.csv\n",
      "Written 4564315 bytes to data/epc_csv/epc_E08000033.csv\n",
      "Written 4532607 bytes to data/epc_csv/epc_E08000033.csv\n",
      "Written 4523413 bytes to data/epc_csv/epc_E08000033.csv\n",
      "Written 4512219 bytes to data/epc_csv/epc_E08000033.csv\n",
      "Written 4482825 bytes to data/epc_csv/epc_E08000033.csv\n",
      "Written 4511495 bytes to data/epc_csv/epc_E08000033.csv\n",
      "Written 4759158 bytes to data/epc_csv/epc_E08000033.csv\n",
      "Written 4747145 bytes to data/epc_csv/epc_E08000033.csv\n",
      "Written 4751814 bytes to data/epc_csv/epc_E08000033.csv\n",
      "Written 3178387 bytes to data/epc_csv/epc_E08000033.csv\n",
      "Written 0 bytes to data/epc_csv/epc_E08000033.csv\n",
      "Written 4584832 bytes to data/epc_csv/epc_E08000034.csv\n",
      "Written 4587425 bytes to data/epc_csv/epc_E08000034.csv\n",
      "Written 4590988 bytes to data/epc_csv/epc_E08000034.csv\n",
      "Written 4593779 bytes to data/epc_csv/epc_E08000034.csv\n",
      "Written 4592000 bytes to data/epc_csv/epc_E08000034.csv\n",
      "Written 4628190 bytes to data/epc_csv/epc_E08000034.csv\n",
      "Written 4776452 bytes to data/epc_csv/epc_E08000034.csv\n",
      "Written 4534800 bytes to data/epc_csv/epc_E08000034.csv\n",
      "Written 4531242 bytes to data/epc_csv/epc_E08000034.csv\n",
      "Written 4522381 bytes to data/epc_csv/epc_E08000034.csv\n",
      "Written 4528914 bytes to data/epc_csv/epc_E08000034.csv\n",
      "Written 4519263 bytes to data/epc_csv/epc_E08000034.csv\n",
      "Written 4515204 bytes to data/epc_csv/epc_E08000034.csv\n",
      "Written 4524787 bytes to data/epc_csv/epc_E08000034.csv\n",
      "Written 4527258 bytes to data/epc_csv/epc_E08000034.csv\n",
      "Written 4511394 bytes to data/epc_csv/epc_E08000034.csv\n",
      "Written 4510622 bytes to data/epc_csv/epc_E08000034.csv\n",
      "Written 4517548 bytes to data/epc_csv/epc_E08000034.csv\n",
      "Written 4501601 bytes to data/epc_csv/epc_E08000034.csv\n",
      "Written 4490985 bytes to data/epc_csv/epc_E08000034.csv\n",
      "Written 4490517 bytes to data/epc_csv/epc_E08000034.csv\n",
      "Written 4487317 bytes to data/epc_csv/epc_E08000034.csv\n",
      "Written 4482097 bytes to data/epc_csv/epc_E08000034.csv\n",
      "Written 4481540 bytes to data/epc_csv/epc_E08000034.csv\n",
      "Written 4460796 bytes to data/epc_csv/epc_E08000034.csv\n",
      "Written 4460605 bytes to data/epc_csv/epc_E08000034.csv\n",
      "Written 4475169 bytes to data/epc_csv/epc_E08000034.csv\n",
      "Written 4476949 bytes to data/epc_csv/epc_E08000034.csv\n",
      "Written 4726173 bytes to data/epc_csv/epc_E08000034.csv\n",
      "Written 4751963 bytes to data/epc_csv/epc_E08000034.csv\n",
      "Written 4748549 bytes to data/epc_csv/epc_E08000034.csv\n",
      "Written 4708216 bytes to data/epc_csv/epc_E08000034.csv\n",
      "Written 4725570 bytes to data/epc_csv/epc_E08000034.csv\n",
      "Written 4693460 bytes to data/epc_csv/epc_E08000034.csv\n",
      "Written 1463536 bytes to data/epc_csv/epc_E08000034.csv\n",
      "Written 0 bytes to data/epc_csv/epc_E08000034.csv\n",
      "Written 4555215 bytes to data/epc_csv/epc_E08000035.csv\n",
      "Written 4564053 bytes to data/epc_csv/epc_E08000035.csv\n",
      "Written 4563090 bytes to data/epc_csv/epc_E08000035.csv\n",
      "Written 4537481 bytes to data/epc_csv/epc_E08000035.csv\n",
      "Written 4555751 bytes to data/epc_csv/epc_E08000035.csv\n",
      "Written 4464844 bytes to data/epc_csv/epc_E08000035.csv\n",
      "Written 4503379 bytes to data/epc_csv/epc_E08000035.csv\n",
      "Written 4549220 bytes to data/epc_csv/epc_E08000035.csv\n",
      "Written 4544486 bytes to data/epc_csv/epc_E08000035.csv\n",
      "Written 4546835 bytes to data/epc_csv/epc_E08000035.csv\n",
      "Written 4460699 bytes to data/epc_csv/epc_E08000035.csv\n",
      "Written 4523635 bytes to data/epc_csv/epc_E08000035.csv\n",
      "Written 4547792 bytes to data/epc_csv/epc_E08000035.csv\n",
      "Written 4531325 bytes to data/epc_csv/epc_E08000035.csv\n",
      "Written 4575405 bytes to data/epc_csv/epc_E08000035.csv\n",
      "Written 4622223 bytes to data/epc_csv/epc_E08000035.csv\n",
      "Written 4698905 bytes to data/epc_csv/epc_E08000035.csv\n",
      "Written 4648384 bytes to data/epc_csv/epc_E08000035.csv\n",
      "Written 4453950 bytes to data/epc_csv/epc_E08000035.csv\n",
      "Written 4468395 bytes to data/epc_csv/epc_E08000035.csv\n",
      "Written 4400627 bytes to data/epc_csv/epc_E08000035.csv\n",
      "Written 4439200 bytes to data/epc_csv/epc_E08000035.csv\n",
      "Written 4444922 bytes to data/epc_csv/epc_E08000035.csv\n",
      "Written 4455970 bytes to data/epc_csv/epc_E08000035.csv\n",
      "Written 4468729 bytes to data/epc_csv/epc_E08000035.csv\n",
      "Written 4472029 bytes to data/epc_csv/epc_E08000035.csv\n",
      "Written 4487642 bytes to data/epc_csv/epc_E08000035.csv\n",
      "Written 4473443 bytes to data/epc_csv/epc_E08000035.csv\n",
      "Written 4479486 bytes to data/epc_csv/epc_E08000035.csv\n",
      "Written 4457456 bytes to data/epc_csv/epc_E08000035.csv\n",
      "Written 4441463 bytes to data/epc_csv/epc_E08000035.csv\n",
      "Written 4461450 bytes to data/epc_csv/epc_E08000035.csv\n",
      "Written 4445310 bytes to data/epc_csv/epc_E08000035.csv\n",
      "Written 4482257 bytes to data/epc_csv/epc_E08000035.csv\n",
      "Written 4479819 bytes to data/epc_csv/epc_E08000035.csv\n",
      "Written 4486009 bytes to data/epc_csv/epc_E08000035.csv\n",
      "Written 4480762 bytes to data/epc_csv/epc_E08000035.csv\n",
      "Written 4463364 bytes to data/epc_csv/epc_E08000035.csv\n",
      "Written 4437630 bytes to data/epc_csv/epc_E08000035.csv\n",
      "Written 4446220 bytes to data/epc_csv/epc_E08000035.csv\n",
      "Written 4458692 bytes to data/epc_csv/epc_E08000035.csv\n",
      "Written 4461215 bytes to data/epc_csv/epc_E08000035.csv\n",
      "Written 4474349 bytes to data/epc_csv/epc_E08000035.csv\n",
      "Written 4470495 bytes to data/epc_csv/epc_E08000035.csv\n",
      "Written 4457666 bytes to data/epc_csv/epc_E08000035.csv\n",
      "Written 4461730 bytes to data/epc_csv/epc_E08000035.csv\n",
      "Written 4458264 bytes to data/epc_csv/epc_E08000035.csv\n",
      "Written 4469782 bytes to data/epc_csv/epc_E08000035.csv\n",
      "Written 4461993 bytes to data/epc_csv/epc_E08000035.csv\n",
      "Written 4460156 bytes to data/epc_csv/epc_E08000035.csv\n",
      "Written 4463881 bytes to data/epc_csv/epc_E08000035.csv\n",
      "Written 4454811 bytes to data/epc_csv/epc_E08000035.csv\n",
      "Written 4451821 bytes to data/epc_csv/epc_E08000035.csv\n",
      "Written 4450438 bytes to data/epc_csv/epc_E08000035.csv\n",
      "Written 4442335 bytes to data/epc_csv/epc_E08000035.csv\n",
      "Written 4430719 bytes to data/epc_csv/epc_E08000035.csv\n",
      "Written 4426745 bytes to data/epc_csv/epc_E08000035.csv\n",
      "Written 4447064 bytes to data/epc_csv/epc_E08000035.csv\n",
      "Written 4455142 bytes to data/epc_csv/epc_E08000035.csv\n",
      "Written 4447843 bytes to data/epc_csv/epc_E08000035.csv\n",
      "Written 4459498 bytes to data/epc_csv/epc_E08000035.csv\n",
      "Written 4484920 bytes to data/epc_csv/epc_E08000035.csv\n",
      "Written 4694146 bytes to data/epc_csv/epc_E08000035.csv\n",
      "Written 4695552 bytes to data/epc_csv/epc_E08000035.csv\n",
      "Written 4719207 bytes to data/epc_csv/epc_E08000035.csv\n",
      "Written 4728098 bytes to data/epc_csv/epc_E08000035.csv\n",
      "Written 4723665 bytes to data/epc_csv/epc_E08000035.csv\n",
      "Written 4744037 bytes to data/epc_csv/epc_E08000035.csv\n",
      "Written 4654334 bytes to data/epc_csv/epc_E08000035.csv\n",
      "Written 4693432 bytes to data/epc_csv/epc_E08000035.csv\n",
      "Written 4690940 bytes to data/epc_csv/epc_E08000035.csv\n",
      "Written 4700127 bytes to data/epc_csv/epc_E08000035.csv\n",
      "Written 4677667 bytes to data/epc_csv/epc_E08000035.csv\n",
      "Written 4706197 bytes to data/epc_csv/epc_E08000035.csv\n",
      "Written 4721036 bytes to data/epc_csv/epc_E08000035.csv\n",
      "Written 4672605 bytes to data/epc_csv/epc_E08000035.csv\n",
      "Written 4706757 bytes to data/epc_csv/epc_E08000035.csv\n",
      "Written 916545 bytes to data/epc_csv/epc_E08000035.csv\n",
      "Written 0 bytes to data/epc_csv/epc_E08000035.csv\n",
      "Written 4596260 bytes to data/epc_csv/epc_E08000036.csv\n",
      "Written 4618946 bytes to data/epc_csv/epc_E08000036.csv\n",
      "Written 4608038 bytes to data/epc_csv/epc_E08000036.csv\n",
      "Written 4616212 bytes to data/epc_csv/epc_E08000036.csv\n",
      "Written 4591512 bytes to data/epc_csv/epc_E08000036.csv\n",
      "Written 4590346 bytes to data/epc_csv/epc_E08000036.csv\n",
      "Written 4601204 bytes to data/epc_csv/epc_E08000036.csv\n",
      "Written 4686186 bytes to data/epc_csv/epc_E08000036.csv\n",
      "Written 4751302 bytes to data/epc_csv/epc_E08000036.csv\n",
      "Written 4728735 bytes to data/epc_csv/epc_E08000036.csv\n",
      "Written 4537926 bytes to data/epc_csv/epc_E08000036.csv\n",
      "Written 4553101 bytes to data/epc_csv/epc_E08000036.csv\n",
      "Written 4526328 bytes to data/epc_csv/epc_E08000036.csv\n",
      "Written 4488830 bytes to data/epc_csv/epc_E08000036.csv\n",
      "Written 4502061 bytes to data/epc_csv/epc_E08000036.csv\n",
      "Written 4477836 bytes to data/epc_csv/epc_E08000036.csv\n",
      "Written 4545068 bytes to data/epc_csv/epc_E08000036.csv\n",
      "Written 4550398 bytes to data/epc_csv/epc_E08000036.csv\n",
      "Written 4559959 bytes to data/epc_csv/epc_E08000036.csv\n",
      "Written 4552398 bytes to data/epc_csv/epc_E08000036.csv\n",
      "Written 4548607 bytes to data/epc_csv/epc_E08000036.csv\n",
      "Written 4547354 bytes to data/epc_csv/epc_E08000036.csv\n",
      "Written 4538003 bytes to data/epc_csv/epc_E08000036.csv\n",
      "Written 4539038 bytes to data/epc_csv/epc_E08000036.csv\n",
      "Written 4529412 bytes to data/epc_csv/epc_E08000036.csv\n",
      "Written 4535897 bytes to data/epc_csv/epc_E08000036.csv\n",
      "Written 4535785 bytes to data/epc_csv/epc_E08000036.csv\n",
      "Written 4538489 bytes to data/epc_csv/epc_E08000036.csv\n",
      "Written 4527966 bytes to data/epc_csv/epc_E08000036.csv\n",
      "Written 4505116 bytes to data/epc_csv/epc_E08000036.csv\n",
      "Written 4510763 bytes to data/epc_csv/epc_E08000036.csv\n",
      "Written 4528917 bytes to data/epc_csv/epc_E08000036.csv\n",
      "Written 4700499 bytes to data/epc_csv/epc_E08000036.csv\n",
      "Written 4774915 bytes to data/epc_csv/epc_E08000036.csv\n",
      "Written 4759815 bytes to data/epc_csv/epc_E08000036.csv\n",
      "Written 4771612 bytes to data/epc_csv/epc_E08000036.csv\n",
      "Written 4700651 bytes to data/epc_csv/epc_E08000036.csv\n",
      "Written 811011 bytes to data/epc_csv/epc_E08000036.csv\n",
      "Written 0 bytes to data/epc_csv/epc_E08000036.csv\n",
      "Written 4487133 bytes to data/epc_csv/epc_E06000006.csv\n",
      "Written 4490072 bytes to data/epc_csv/epc_E06000006.csv\n",
      "Written 4460867 bytes to data/epc_csv/epc_E06000006.csv\n",
      "Written 4435032 bytes to data/epc_csv/epc_E06000006.csv\n",
      "Written 4411758 bytes to data/epc_csv/epc_E06000006.csv\n",
      "Written 4397639 bytes to data/epc_csv/epc_E06000006.csv\n",
      "Written 4421883 bytes to data/epc_csv/epc_E06000006.csv\n",
      "Written 4409663 bytes to data/epc_csv/epc_E06000006.csv\n",
      "Written 4552762 bytes to data/epc_csv/epc_E06000006.csv\n",
      "Written 4668348 bytes to data/epc_csv/epc_E06000006.csv\n",
      "Written 1395445 bytes to data/epc_csv/epc_E06000006.csv\n",
      "Written 0 bytes to data/epc_csv/epc_E06000006.csv\n",
      "Written 4482098 bytes to data/epc_csv/epc_E08000011.csv\n",
      "Written 4460345 bytes to data/epc_csv/epc_E08000011.csv\n",
      "Written 4470114 bytes to data/epc_csv/epc_E08000011.csv\n",
      "Written 4402197 bytes to data/epc_csv/epc_E08000011.csv\n",
      "Written 4537595 bytes to data/epc_csv/epc_E08000011.csv\n",
      "Written 4418531 bytes to data/epc_csv/epc_E08000011.csv\n",
      "Written 4466490 bytes to data/epc_csv/epc_E08000011.csv\n",
      "Written 4442264 bytes to data/epc_csv/epc_E08000011.csv\n",
      "Written 4426893 bytes to data/epc_csv/epc_E08000011.csv\n",
      "Written 4438697 bytes to data/epc_csv/epc_E08000011.csv\n",
      "Written 4408459 bytes to data/epc_csv/epc_E08000011.csv\n",
      "Written 4404171 bytes to data/epc_csv/epc_E08000011.csv\n",
      "Written 4427919 bytes to data/epc_csv/epc_E08000011.csv\n",
      "Written 4691828 bytes to data/epc_csv/epc_E08000011.csv\n",
      "Written 4664628 bytes to data/epc_csv/epc_E08000011.csv\n",
      "Written 468372 bytes to data/epc_csv/epc_E08000011.csv\n",
      "Written 0 bytes to data/epc_csv/epc_E08000011.csv\n",
      "Written 4547483 bytes to data/epc_csv/epc_E08000012.csv\n",
      "Written 4555944 bytes to data/epc_csv/epc_E08000012.csv\n",
      "Written 4542896 bytes to data/epc_csv/epc_E08000012.csv\n",
      "Written 4549423 bytes to data/epc_csv/epc_E08000012.csv\n",
      "Written 4594941 bytes to data/epc_csv/epc_E08000012.csv\n",
      "Written 4552477 bytes to data/epc_csv/epc_E08000012.csv\n",
      "Written 4554437 bytes to data/epc_csv/epc_E08000012.csv\n",
      "Written 4571885 bytes to data/epc_csv/epc_E08000012.csv\n"
     ]
    },
    {
     "ename": "KeyboardInterrupt",
     "evalue": "",
     "output_type": "error",
     "traceback": [
      "\u001b[0;31m---------------------------------------------------------------------------\u001b[0m",
      "\u001b[0;31mKeyboardInterrupt\u001b[0m                         Traceback (most recent call last)",
      "Cell \u001b[0;32mIn[36], line 5\u001b[0m\n\u001b[1;32m      3\u001b[0m get_ca\u001b[38;5;241m.\u001b[39mdelete_all_csv_files(\u001b[38;5;124m'\u001b[39m\u001b[38;5;124mdata/epc_csv\u001b[39m\u001b[38;5;124m'\u001b[39m)\n\u001b[1;32m      4\u001b[0m epc_key \u001b[38;5;241m=\u001b[39m yaml\u001b[38;5;241m.\u001b[39msafe_load(\u001b[38;5;28mopen\u001b[39m(\u001b[38;5;124m'\u001b[39m\u001b[38;5;124m../config.yml\u001b[39m\u001b[38;5;124m'\u001b[39m))[\u001b[38;5;124m'\u001b[39m\u001b[38;5;124mepc\u001b[39m\u001b[38;5;124m'\u001b[39m][\u001b[38;5;124m'\u001b[39m\u001b[38;5;124mauth_token\u001b[39m\u001b[38;5;124m'\u001b[39m]\n\u001b[0;32m----> 5\u001b[0m [get_ca\u001b[38;5;241m.\u001b[39mget_epc_csv(la, epc_key) \u001b[38;5;28;01mfor\u001b[39;00m la \u001b[38;5;129;01min\u001b[39;00m la_list]\n",
      "Cell \u001b[0;32mIn[36], line 5\u001b[0m, in \u001b[0;36m<listcomp>\u001b[0;34m(.0)\u001b[0m\n\u001b[1;32m      3\u001b[0m get_ca\u001b[38;5;241m.\u001b[39mdelete_all_csv_files(\u001b[38;5;124m'\u001b[39m\u001b[38;5;124mdata/epc_csv\u001b[39m\u001b[38;5;124m'\u001b[39m)\n\u001b[1;32m      4\u001b[0m epc_key \u001b[38;5;241m=\u001b[39m yaml\u001b[38;5;241m.\u001b[39msafe_load(\u001b[38;5;28mopen\u001b[39m(\u001b[38;5;124m'\u001b[39m\u001b[38;5;124m../config.yml\u001b[39m\u001b[38;5;124m'\u001b[39m))[\u001b[38;5;124m'\u001b[39m\u001b[38;5;124mepc\u001b[39m\u001b[38;5;124m'\u001b[39m][\u001b[38;5;124m'\u001b[39m\u001b[38;5;124mauth_token\u001b[39m\u001b[38;5;124m'\u001b[39m]\n\u001b[0;32m----> 5\u001b[0m [\u001b[43mget_ca\u001b[49m\u001b[38;5;241;43m.\u001b[39;49m\u001b[43mget_epc_csv\u001b[49m\u001b[43m(\u001b[49m\u001b[43mla\u001b[49m\u001b[43m,\u001b[49m\u001b[43m \u001b[49m\u001b[43mepc_key\u001b[49m\u001b[43m)\u001b[49m \u001b[38;5;28;01mfor\u001b[39;00m la \u001b[38;5;129;01min\u001b[39;00m la_list]\n",
      "File \u001b[0;32m~/r-projects/weca_cesap/get_ca_data.py:420\u001b[0m, in \u001b[0;36mget_epc_csv\u001b[0;34m(la, epc_key)\u001b[0m\n\u001b[1;32m    417\u001b[0m     query_params[\u001b[38;5;124m\"\u001b[39m\u001b[38;5;124msearch-after\u001b[39m\u001b[38;5;124m\"\u001b[39m] \u001b[38;5;241m=\u001b[39m search_after\n\u001b[1;32m    419\u001b[0m \u001b[38;5;66;03m# Make the request\u001b[39;00m\n\u001b[0;32m--> 420\u001b[0m response \u001b[38;5;241m=\u001b[39m \u001b[43mrequests\u001b[49m\u001b[38;5;241;43m.\u001b[39;49m\u001b[43mget\u001b[49m\u001b[43m(\u001b[49m\u001b[43mbase_url\u001b[49m\u001b[43m,\u001b[49m\u001b[43m \u001b[49m\u001b[43mheaders\u001b[49m\u001b[38;5;241;43m=\u001b[39;49m\u001b[43mheaders\u001b[49m\u001b[43m,\u001b[49m\u001b[43m \u001b[49m\u001b[43mparams\u001b[49m\u001b[38;5;241;43m=\u001b[39;49m\u001b[43mquery_params\u001b[49m\u001b[43m)\u001b[49m\n\u001b[1;32m    421\u001b[0m response\u001b[38;5;241m.\u001b[39mraise_for_status()\n\u001b[1;32m    422\u001b[0m body \u001b[38;5;241m=\u001b[39m response\u001b[38;5;241m.\u001b[39mtext\n",
      "File \u001b[0;32m~/r-projects/weca_cesap/.venv/lib/python3.10/site-packages/requests/api.py:73\u001b[0m, in \u001b[0;36mget\u001b[0;34m(url, params, **kwargs)\u001b[0m\n\u001b[1;32m     62\u001b[0m \u001b[38;5;28;01mdef\u001b[39;00m \u001b[38;5;21mget\u001b[39m(url, params\u001b[38;5;241m=\u001b[39m\u001b[38;5;28;01mNone\u001b[39;00m, \u001b[38;5;241m*\u001b[39m\u001b[38;5;241m*\u001b[39mkwargs):\n\u001b[1;32m     63\u001b[0m \u001b[38;5;250m    \u001b[39m\u001b[38;5;124mr\u001b[39m\u001b[38;5;124;03m\"\"\"Sends a GET request.\u001b[39;00m\n\u001b[1;32m     64\u001b[0m \n\u001b[1;32m     65\u001b[0m \u001b[38;5;124;03m    :param url: URL for the new :class:`Request` object.\u001b[39;00m\n\u001b[0;32m   (...)\u001b[0m\n\u001b[1;32m     70\u001b[0m \u001b[38;5;124;03m    :rtype: requests.Response\u001b[39;00m\n\u001b[1;32m     71\u001b[0m \u001b[38;5;124;03m    \"\"\"\u001b[39;00m\n\u001b[0;32m---> 73\u001b[0m     \u001b[38;5;28;01mreturn\u001b[39;00m \u001b[43mrequest\u001b[49m\u001b[43m(\u001b[49m\u001b[38;5;124;43m\"\u001b[39;49m\u001b[38;5;124;43mget\u001b[39;49m\u001b[38;5;124;43m\"\u001b[39;49m\u001b[43m,\u001b[49m\u001b[43m \u001b[49m\u001b[43murl\u001b[49m\u001b[43m,\u001b[49m\u001b[43m \u001b[49m\u001b[43mparams\u001b[49m\u001b[38;5;241;43m=\u001b[39;49m\u001b[43mparams\u001b[49m\u001b[43m,\u001b[49m\u001b[43m \u001b[49m\u001b[38;5;241;43m*\u001b[39;49m\u001b[38;5;241;43m*\u001b[39;49m\u001b[43mkwargs\u001b[49m\u001b[43m)\u001b[49m\n",
      "File \u001b[0;32m~/r-projects/weca_cesap/.venv/lib/python3.10/site-packages/requests/api.py:59\u001b[0m, in \u001b[0;36mrequest\u001b[0;34m(method, url, **kwargs)\u001b[0m\n\u001b[1;32m     55\u001b[0m \u001b[38;5;66;03m# By using the 'with' statement we are sure the session is closed, thus we\u001b[39;00m\n\u001b[1;32m     56\u001b[0m \u001b[38;5;66;03m# avoid leaving sockets open which can trigger a ResourceWarning in some\u001b[39;00m\n\u001b[1;32m     57\u001b[0m \u001b[38;5;66;03m# cases, and look like a memory leak in others.\u001b[39;00m\n\u001b[1;32m     58\u001b[0m \u001b[38;5;28;01mwith\u001b[39;00m sessions\u001b[38;5;241m.\u001b[39mSession() \u001b[38;5;28;01mas\u001b[39;00m session:\n\u001b[0;32m---> 59\u001b[0m     \u001b[38;5;28;01mreturn\u001b[39;00m \u001b[43msession\u001b[49m\u001b[38;5;241;43m.\u001b[39;49m\u001b[43mrequest\u001b[49m\u001b[43m(\u001b[49m\u001b[43mmethod\u001b[49m\u001b[38;5;241;43m=\u001b[39;49m\u001b[43mmethod\u001b[49m\u001b[43m,\u001b[49m\u001b[43m \u001b[49m\u001b[43murl\u001b[49m\u001b[38;5;241;43m=\u001b[39;49m\u001b[43murl\u001b[49m\u001b[43m,\u001b[49m\u001b[43m \u001b[49m\u001b[38;5;241;43m*\u001b[39;49m\u001b[38;5;241;43m*\u001b[39;49m\u001b[43mkwargs\u001b[49m\u001b[43m)\u001b[49m\n",
      "File \u001b[0;32m~/r-projects/weca_cesap/.venv/lib/python3.10/site-packages/requests/sessions.py:589\u001b[0m, in \u001b[0;36mSession.request\u001b[0;34m(self, method, url, params, data, headers, cookies, files, auth, timeout, allow_redirects, proxies, hooks, stream, verify, cert, json)\u001b[0m\n\u001b[1;32m    584\u001b[0m send_kwargs \u001b[38;5;241m=\u001b[39m {\n\u001b[1;32m    585\u001b[0m     \u001b[38;5;124m\"\u001b[39m\u001b[38;5;124mtimeout\u001b[39m\u001b[38;5;124m\"\u001b[39m: timeout,\n\u001b[1;32m    586\u001b[0m     \u001b[38;5;124m\"\u001b[39m\u001b[38;5;124mallow_redirects\u001b[39m\u001b[38;5;124m\"\u001b[39m: allow_redirects,\n\u001b[1;32m    587\u001b[0m }\n\u001b[1;32m    588\u001b[0m send_kwargs\u001b[38;5;241m.\u001b[39mupdate(settings)\n\u001b[0;32m--> 589\u001b[0m resp \u001b[38;5;241m=\u001b[39m \u001b[38;5;28;43mself\u001b[39;49m\u001b[38;5;241;43m.\u001b[39;49m\u001b[43msend\u001b[49m\u001b[43m(\u001b[49m\u001b[43mprep\u001b[49m\u001b[43m,\u001b[49m\u001b[43m \u001b[49m\u001b[38;5;241;43m*\u001b[39;49m\u001b[38;5;241;43m*\u001b[39;49m\u001b[43msend_kwargs\u001b[49m\u001b[43m)\u001b[49m\n\u001b[1;32m    591\u001b[0m \u001b[38;5;28;01mreturn\u001b[39;00m resp\n",
      "File \u001b[0;32m~/r-projects/weca_cesap/.venv/lib/python3.10/site-packages/requests/sessions.py:703\u001b[0m, in \u001b[0;36mSession.send\u001b[0;34m(self, request, **kwargs)\u001b[0m\n\u001b[1;32m    700\u001b[0m start \u001b[38;5;241m=\u001b[39m preferred_clock()\n\u001b[1;32m    702\u001b[0m \u001b[38;5;66;03m# Send the request\u001b[39;00m\n\u001b[0;32m--> 703\u001b[0m r \u001b[38;5;241m=\u001b[39m \u001b[43madapter\u001b[49m\u001b[38;5;241;43m.\u001b[39;49m\u001b[43msend\u001b[49m\u001b[43m(\u001b[49m\u001b[43mrequest\u001b[49m\u001b[43m,\u001b[49m\u001b[43m \u001b[49m\u001b[38;5;241;43m*\u001b[39;49m\u001b[38;5;241;43m*\u001b[39;49m\u001b[43mkwargs\u001b[49m\u001b[43m)\u001b[49m\n\u001b[1;32m    705\u001b[0m \u001b[38;5;66;03m# Total elapsed time of the request (approximately)\u001b[39;00m\n\u001b[1;32m    706\u001b[0m elapsed \u001b[38;5;241m=\u001b[39m preferred_clock() \u001b[38;5;241m-\u001b[39m start\n",
      "File \u001b[0;32m~/r-projects/weca_cesap/.venv/lib/python3.10/site-packages/requests/adapters.py:486\u001b[0m, in \u001b[0;36mHTTPAdapter.send\u001b[0;34m(self, request, stream, timeout, verify, cert, proxies)\u001b[0m\n\u001b[1;32m    483\u001b[0m     timeout \u001b[38;5;241m=\u001b[39m TimeoutSauce(connect\u001b[38;5;241m=\u001b[39mtimeout, read\u001b[38;5;241m=\u001b[39mtimeout)\n\u001b[1;32m    485\u001b[0m \u001b[38;5;28;01mtry\u001b[39;00m:\n\u001b[0;32m--> 486\u001b[0m     resp \u001b[38;5;241m=\u001b[39m \u001b[43mconn\u001b[49m\u001b[38;5;241;43m.\u001b[39;49m\u001b[43murlopen\u001b[49m\u001b[43m(\u001b[49m\n\u001b[1;32m    487\u001b[0m \u001b[43m        \u001b[49m\u001b[43mmethod\u001b[49m\u001b[38;5;241;43m=\u001b[39;49m\u001b[43mrequest\u001b[49m\u001b[38;5;241;43m.\u001b[39;49m\u001b[43mmethod\u001b[49m\u001b[43m,\u001b[49m\n\u001b[1;32m    488\u001b[0m \u001b[43m        \u001b[49m\u001b[43murl\u001b[49m\u001b[38;5;241;43m=\u001b[39;49m\u001b[43murl\u001b[49m\u001b[43m,\u001b[49m\n\u001b[1;32m    489\u001b[0m \u001b[43m        \u001b[49m\u001b[43mbody\u001b[49m\u001b[38;5;241;43m=\u001b[39;49m\u001b[43mrequest\u001b[49m\u001b[38;5;241;43m.\u001b[39;49m\u001b[43mbody\u001b[49m\u001b[43m,\u001b[49m\n\u001b[1;32m    490\u001b[0m \u001b[43m        \u001b[49m\u001b[43mheaders\u001b[49m\u001b[38;5;241;43m=\u001b[39;49m\u001b[43mrequest\u001b[49m\u001b[38;5;241;43m.\u001b[39;49m\u001b[43mheaders\u001b[49m\u001b[43m,\u001b[49m\n\u001b[1;32m    491\u001b[0m \u001b[43m        \u001b[49m\u001b[43mredirect\u001b[49m\u001b[38;5;241;43m=\u001b[39;49m\u001b[38;5;28;43;01mFalse\u001b[39;49;00m\u001b[43m,\u001b[49m\n\u001b[1;32m    492\u001b[0m \u001b[43m        \u001b[49m\u001b[43massert_same_host\u001b[49m\u001b[38;5;241;43m=\u001b[39;49m\u001b[38;5;28;43;01mFalse\u001b[39;49;00m\u001b[43m,\u001b[49m\n\u001b[1;32m    493\u001b[0m \u001b[43m        \u001b[49m\u001b[43mpreload_content\u001b[49m\u001b[38;5;241;43m=\u001b[39;49m\u001b[38;5;28;43;01mFalse\u001b[39;49;00m\u001b[43m,\u001b[49m\n\u001b[1;32m    494\u001b[0m \u001b[43m        \u001b[49m\u001b[43mdecode_content\u001b[49m\u001b[38;5;241;43m=\u001b[39;49m\u001b[38;5;28;43;01mFalse\u001b[39;49;00m\u001b[43m,\u001b[49m\n\u001b[1;32m    495\u001b[0m \u001b[43m        \u001b[49m\u001b[43mretries\u001b[49m\u001b[38;5;241;43m=\u001b[39;49m\u001b[38;5;28;43mself\u001b[39;49m\u001b[38;5;241;43m.\u001b[39;49m\u001b[43mmax_retries\u001b[49m\u001b[43m,\u001b[49m\n\u001b[1;32m    496\u001b[0m \u001b[43m        \u001b[49m\u001b[43mtimeout\u001b[49m\u001b[38;5;241;43m=\u001b[39;49m\u001b[43mtimeout\u001b[49m\u001b[43m,\u001b[49m\n\u001b[1;32m    497\u001b[0m \u001b[43m        \u001b[49m\u001b[43mchunked\u001b[49m\u001b[38;5;241;43m=\u001b[39;49m\u001b[43mchunked\u001b[49m\u001b[43m,\u001b[49m\n\u001b[1;32m    498\u001b[0m \u001b[43m    \u001b[49m\u001b[43m)\u001b[49m\n\u001b[1;32m    500\u001b[0m \u001b[38;5;28;01mexcept\u001b[39;00m (ProtocolError, \u001b[38;5;167;01mOSError\u001b[39;00m) \u001b[38;5;28;01mas\u001b[39;00m err:\n\u001b[1;32m    501\u001b[0m     \u001b[38;5;28;01mraise\u001b[39;00m \u001b[38;5;167;01mConnectionError\u001b[39;00m(err, request\u001b[38;5;241m=\u001b[39mrequest)\n",
      "File \u001b[0;32m~/r-projects/weca_cesap/.venv/lib/python3.10/site-packages/urllib3/connectionpool.py:793\u001b[0m, in \u001b[0;36mHTTPConnectionPool.urlopen\u001b[0;34m(self, method, url, body, headers, retries, redirect, assert_same_host, timeout, pool_timeout, release_conn, chunked, body_pos, preload_content, decode_content, **response_kw)\u001b[0m\n\u001b[1;32m    790\u001b[0m response_conn \u001b[38;5;241m=\u001b[39m conn \u001b[38;5;28;01mif\u001b[39;00m \u001b[38;5;129;01mnot\u001b[39;00m release_conn \u001b[38;5;28;01melse\u001b[39;00m \u001b[38;5;28;01mNone\u001b[39;00m\n\u001b[1;32m    792\u001b[0m \u001b[38;5;66;03m# Make the request on the HTTPConnection object\u001b[39;00m\n\u001b[0;32m--> 793\u001b[0m response \u001b[38;5;241m=\u001b[39m \u001b[38;5;28;43mself\u001b[39;49m\u001b[38;5;241;43m.\u001b[39;49m\u001b[43m_make_request\u001b[49m\u001b[43m(\u001b[49m\n\u001b[1;32m    794\u001b[0m \u001b[43m    \u001b[49m\u001b[43mconn\u001b[49m\u001b[43m,\u001b[49m\n\u001b[1;32m    795\u001b[0m \u001b[43m    \u001b[49m\u001b[43mmethod\u001b[49m\u001b[43m,\u001b[49m\n\u001b[1;32m    796\u001b[0m \u001b[43m    \u001b[49m\u001b[43murl\u001b[49m\u001b[43m,\u001b[49m\n\u001b[1;32m    797\u001b[0m \u001b[43m    \u001b[49m\u001b[43mtimeout\u001b[49m\u001b[38;5;241;43m=\u001b[39;49m\u001b[43mtimeout_obj\u001b[49m\u001b[43m,\u001b[49m\n\u001b[1;32m    798\u001b[0m \u001b[43m    \u001b[49m\u001b[43mbody\u001b[49m\u001b[38;5;241;43m=\u001b[39;49m\u001b[43mbody\u001b[49m\u001b[43m,\u001b[49m\n\u001b[1;32m    799\u001b[0m \u001b[43m    \u001b[49m\u001b[43mheaders\u001b[49m\u001b[38;5;241;43m=\u001b[39;49m\u001b[43mheaders\u001b[49m\u001b[43m,\u001b[49m\n\u001b[1;32m    800\u001b[0m \u001b[43m    \u001b[49m\u001b[43mchunked\u001b[49m\u001b[38;5;241;43m=\u001b[39;49m\u001b[43mchunked\u001b[49m\u001b[43m,\u001b[49m\n\u001b[1;32m    801\u001b[0m \u001b[43m    \u001b[49m\u001b[43mretries\u001b[49m\u001b[38;5;241;43m=\u001b[39;49m\u001b[43mretries\u001b[49m\u001b[43m,\u001b[49m\n\u001b[1;32m    802\u001b[0m \u001b[43m    \u001b[49m\u001b[43mresponse_conn\u001b[49m\u001b[38;5;241;43m=\u001b[39;49m\u001b[43mresponse_conn\u001b[49m\u001b[43m,\u001b[49m\n\u001b[1;32m    803\u001b[0m \u001b[43m    \u001b[49m\u001b[43mpreload_content\u001b[49m\u001b[38;5;241;43m=\u001b[39;49m\u001b[43mpreload_content\u001b[49m\u001b[43m,\u001b[49m\n\u001b[1;32m    804\u001b[0m \u001b[43m    \u001b[49m\u001b[43mdecode_content\u001b[49m\u001b[38;5;241;43m=\u001b[39;49m\u001b[43mdecode_content\u001b[49m\u001b[43m,\u001b[49m\n\u001b[1;32m    805\u001b[0m \u001b[43m    \u001b[49m\u001b[38;5;241;43m*\u001b[39;49m\u001b[38;5;241;43m*\u001b[39;49m\u001b[43mresponse_kw\u001b[49m\u001b[43m,\u001b[49m\n\u001b[1;32m    806\u001b[0m \u001b[43m\u001b[49m\u001b[43m)\u001b[49m\n\u001b[1;32m    808\u001b[0m \u001b[38;5;66;03m# Everything went great!\u001b[39;00m\n\u001b[1;32m    809\u001b[0m clean_exit \u001b[38;5;241m=\u001b[39m \u001b[38;5;28;01mTrue\u001b[39;00m\n",
      "File \u001b[0;32m~/r-projects/weca_cesap/.venv/lib/python3.10/site-packages/urllib3/connectionpool.py:537\u001b[0m, in \u001b[0;36mHTTPConnectionPool._make_request\u001b[0;34m(self, conn, method, url, body, headers, retries, timeout, chunked, response_conn, preload_content, decode_content, enforce_content_length)\u001b[0m\n\u001b[1;32m    535\u001b[0m \u001b[38;5;66;03m# Receive the response from the server\u001b[39;00m\n\u001b[1;32m    536\u001b[0m \u001b[38;5;28;01mtry\u001b[39;00m:\n\u001b[0;32m--> 537\u001b[0m     response \u001b[38;5;241m=\u001b[39m \u001b[43mconn\u001b[49m\u001b[38;5;241;43m.\u001b[39;49m\u001b[43mgetresponse\u001b[49m\u001b[43m(\u001b[49m\u001b[43m)\u001b[49m\n\u001b[1;32m    538\u001b[0m \u001b[38;5;28;01mexcept\u001b[39;00m (BaseSSLError, \u001b[38;5;167;01mOSError\u001b[39;00m) \u001b[38;5;28;01mas\u001b[39;00m e:\n\u001b[1;32m    539\u001b[0m     \u001b[38;5;28mself\u001b[39m\u001b[38;5;241m.\u001b[39m_raise_timeout(err\u001b[38;5;241m=\u001b[39me, url\u001b[38;5;241m=\u001b[39murl, timeout_value\u001b[38;5;241m=\u001b[39mread_timeout)\n",
      "File \u001b[0;32m~/r-projects/weca_cesap/.venv/lib/python3.10/site-packages/urllib3/connection.py:466\u001b[0m, in \u001b[0;36mHTTPConnection.getresponse\u001b[0;34m(self)\u001b[0m\n\u001b[1;32m    463\u001b[0m \u001b[38;5;28;01mfrom\u001b[39;00m \u001b[38;5;21;01m.\u001b[39;00m\u001b[38;5;21;01mresponse\u001b[39;00m \u001b[38;5;28;01mimport\u001b[39;00m HTTPResponse\n\u001b[1;32m    465\u001b[0m \u001b[38;5;66;03m# Get the response from http.client.HTTPConnection\u001b[39;00m\n\u001b[0;32m--> 466\u001b[0m httplib_response \u001b[38;5;241m=\u001b[39m \u001b[38;5;28;43msuper\u001b[39;49m\u001b[43m(\u001b[49m\u001b[43m)\u001b[49m\u001b[38;5;241;43m.\u001b[39;49m\u001b[43mgetresponse\u001b[49m\u001b[43m(\u001b[49m\u001b[43m)\u001b[49m\n\u001b[1;32m    468\u001b[0m \u001b[38;5;28;01mtry\u001b[39;00m:\n\u001b[1;32m    469\u001b[0m     assert_header_parsing(httplib_response\u001b[38;5;241m.\u001b[39mmsg)\n",
      "File \u001b[0;32m/usr/lib/python3.10/http/client.py:1375\u001b[0m, in \u001b[0;36mHTTPConnection.getresponse\u001b[0;34m(self)\u001b[0m\n\u001b[1;32m   1373\u001b[0m \u001b[38;5;28;01mtry\u001b[39;00m:\n\u001b[1;32m   1374\u001b[0m     \u001b[38;5;28;01mtry\u001b[39;00m:\n\u001b[0;32m-> 1375\u001b[0m         \u001b[43mresponse\u001b[49m\u001b[38;5;241;43m.\u001b[39;49m\u001b[43mbegin\u001b[49m\u001b[43m(\u001b[49m\u001b[43m)\u001b[49m\n\u001b[1;32m   1376\u001b[0m     \u001b[38;5;28;01mexcept\u001b[39;00m \u001b[38;5;167;01mConnectionError\u001b[39;00m:\n\u001b[1;32m   1377\u001b[0m         \u001b[38;5;28mself\u001b[39m\u001b[38;5;241m.\u001b[39mclose()\n",
      "File \u001b[0;32m/usr/lib/python3.10/http/client.py:318\u001b[0m, in \u001b[0;36mHTTPResponse.begin\u001b[0;34m(self)\u001b[0m\n\u001b[1;32m    316\u001b[0m \u001b[38;5;66;03m# read until we get a non-100 response\u001b[39;00m\n\u001b[1;32m    317\u001b[0m \u001b[38;5;28;01mwhile\u001b[39;00m \u001b[38;5;28;01mTrue\u001b[39;00m:\n\u001b[0;32m--> 318\u001b[0m     version, status, reason \u001b[38;5;241m=\u001b[39m \u001b[38;5;28;43mself\u001b[39;49m\u001b[38;5;241;43m.\u001b[39;49m\u001b[43m_read_status\u001b[49m\u001b[43m(\u001b[49m\u001b[43m)\u001b[49m\n\u001b[1;32m    319\u001b[0m     \u001b[38;5;28;01mif\u001b[39;00m status \u001b[38;5;241m!=\u001b[39m CONTINUE:\n\u001b[1;32m    320\u001b[0m         \u001b[38;5;28;01mbreak\u001b[39;00m\n",
      "File \u001b[0;32m/usr/lib/python3.10/http/client.py:279\u001b[0m, in \u001b[0;36mHTTPResponse._read_status\u001b[0;34m(self)\u001b[0m\n\u001b[1;32m    278\u001b[0m \u001b[38;5;28;01mdef\u001b[39;00m \u001b[38;5;21m_read_status\u001b[39m(\u001b[38;5;28mself\u001b[39m):\n\u001b[0;32m--> 279\u001b[0m     line \u001b[38;5;241m=\u001b[39m \u001b[38;5;28mstr\u001b[39m(\u001b[38;5;28;43mself\u001b[39;49m\u001b[38;5;241;43m.\u001b[39;49m\u001b[43mfp\u001b[49m\u001b[38;5;241;43m.\u001b[39;49m\u001b[43mreadline\u001b[49m\u001b[43m(\u001b[49m\u001b[43m_MAXLINE\u001b[49m\u001b[43m \u001b[49m\u001b[38;5;241;43m+\u001b[39;49m\u001b[43m \u001b[49m\u001b[38;5;241;43m1\u001b[39;49m\u001b[43m)\u001b[49m, \u001b[38;5;124m\"\u001b[39m\u001b[38;5;124miso-8859-1\u001b[39m\u001b[38;5;124m\"\u001b[39m)\n\u001b[1;32m    280\u001b[0m     \u001b[38;5;28;01mif\u001b[39;00m \u001b[38;5;28mlen\u001b[39m(line) \u001b[38;5;241m>\u001b[39m _MAXLINE:\n\u001b[1;32m    281\u001b[0m         \u001b[38;5;28;01mraise\u001b[39;00m LineTooLong(\u001b[38;5;124m\"\u001b[39m\u001b[38;5;124mstatus line\u001b[39m\u001b[38;5;124m\"\u001b[39m)\n",
      "File \u001b[0;32m/usr/lib/python3.10/socket.py:705\u001b[0m, in \u001b[0;36mSocketIO.readinto\u001b[0;34m(self, b)\u001b[0m\n\u001b[1;32m    703\u001b[0m \u001b[38;5;28;01mwhile\u001b[39;00m \u001b[38;5;28;01mTrue\u001b[39;00m:\n\u001b[1;32m    704\u001b[0m     \u001b[38;5;28;01mtry\u001b[39;00m:\n\u001b[0;32m--> 705\u001b[0m         \u001b[38;5;28;01mreturn\u001b[39;00m \u001b[38;5;28;43mself\u001b[39;49m\u001b[38;5;241;43m.\u001b[39;49m\u001b[43m_sock\u001b[49m\u001b[38;5;241;43m.\u001b[39;49m\u001b[43mrecv_into\u001b[49m\u001b[43m(\u001b[49m\u001b[43mb\u001b[49m\u001b[43m)\u001b[49m\n\u001b[1;32m    706\u001b[0m     \u001b[38;5;28;01mexcept\u001b[39;00m timeout:\n\u001b[1;32m    707\u001b[0m         \u001b[38;5;28mself\u001b[39m\u001b[38;5;241m.\u001b[39m_timeout_occurred \u001b[38;5;241m=\u001b[39m \u001b[38;5;28;01mTrue\u001b[39;00m\n",
      "File \u001b[0;32m/usr/lib/python3.10/ssl.py:1303\u001b[0m, in \u001b[0;36mSSLSocket.recv_into\u001b[0;34m(self, buffer, nbytes, flags)\u001b[0m\n\u001b[1;32m   1299\u001b[0m     \u001b[38;5;28;01mif\u001b[39;00m flags \u001b[38;5;241m!=\u001b[39m \u001b[38;5;241m0\u001b[39m:\n\u001b[1;32m   1300\u001b[0m         \u001b[38;5;28;01mraise\u001b[39;00m \u001b[38;5;167;01mValueError\u001b[39;00m(\n\u001b[1;32m   1301\u001b[0m           \u001b[38;5;124m\"\u001b[39m\u001b[38;5;124mnon-zero flags not allowed in calls to recv_into() on \u001b[39m\u001b[38;5;132;01m%s\u001b[39;00m\u001b[38;5;124m\"\u001b[39m \u001b[38;5;241m%\u001b[39m\n\u001b[1;32m   1302\u001b[0m           \u001b[38;5;28mself\u001b[39m\u001b[38;5;241m.\u001b[39m\u001b[38;5;18m__class__\u001b[39m)\n\u001b[0;32m-> 1303\u001b[0m     \u001b[38;5;28;01mreturn\u001b[39;00m \u001b[38;5;28;43mself\u001b[39;49m\u001b[38;5;241;43m.\u001b[39;49m\u001b[43mread\u001b[49m\u001b[43m(\u001b[49m\u001b[43mnbytes\u001b[49m\u001b[43m,\u001b[49m\u001b[43m \u001b[49m\u001b[43mbuffer\u001b[49m\u001b[43m)\u001b[49m\n\u001b[1;32m   1304\u001b[0m \u001b[38;5;28;01melse\u001b[39;00m:\n\u001b[1;32m   1305\u001b[0m     \u001b[38;5;28;01mreturn\u001b[39;00m \u001b[38;5;28msuper\u001b[39m()\u001b[38;5;241m.\u001b[39mrecv_into(buffer, nbytes, flags)\n",
      "File \u001b[0;32m/usr/lib/python3.10/ssl.py:1159\u001b[0m, in \u001b[0;36mSSLSocket.read\u001b[0;34m(self, len, buffer)\u001b[0m\n\u001b[1;32m   1157\u001b[0m \u001b[38;5;28;01mtry\u001b[39;00m:\n\u001b[1;32m   1158\u001b[0m     \u001b[38;5;28;01mif\u001b[39;00m buffer \u001b[38;5;129;01mis\u001b[39;00m \u001b[38;5;129;01mnot\u001b[39;00m \u001b[38;5;28;01mNone\u001b[39;00m:\n\u001b[0;32m-> 1159\u001b[0m         \u001b[38;5;28;01mreturn\u001b[39;00m \u001b[38;5;28;43mself\u001b[39;49m\u001b[38;5;241;43m.\u001b[39;49m\u001b[43m_sslobj\u001b[49m\u001b[38;5;241;43m.\u001b[39;49m\u001b[43mread\u001b[49m\u001b[43m(\u001b[49m\u001b[38;5;28;43mlen\u001b[39;49m\u001b[43m,\u001b[49m\u001b[43m \u001b[49m\u001b[43mbuffer\u001b[49m\u001b[43m)\u001b[49m\n\u001b[1;32m   1160\u001b[0m     \u001b[38;5;28;01melse\u001b[39;00m:\n\u001b[1;32m   1161\u001b[0m         \u001b[38;5;28;01mreturn\u001b[39;00m \u001b[38;5;28mself\u001b[39m\u001b[38;5;241m.\u001b[39m_sslobj\u001b[38;5;241m.\u001b[39mread(\u001b[38;5;28mlen\u001b[39m)\n",
      "\u001b[0;31mKeyboardInterrupt\u001b[0m: "
     ]
    }
   ],
   "source": [
    "# Only run this if you are updating the EPC data from the opendatacommunities API\n",
    "# THIS WILL TAKE AT LEAST 2 HOURS TO RUN!!!\n",
    "get_ca.delete_all_csv_files('data/epc_csv')\n",
    "epc_key = yaml.safe_load(open('../config.yml'))['epc']['auth_token']\n",
    "[get_ca.get_epc_csv(la, epc_key) for la in la_list]"
   ]
  },
  {
   "cell_type": "code",
   "execution_count": 20,
   "metadata": {},
   "outputs": [
    {
     "name": "stdout",
     "output_type": "stream",
     "text": [
      "Rows: 4834093\n",
      "Columns: 50\n",
      "$ uprn                                   <i64> None, 4210003725, 10001239702, 10001239704, 10001239709, 10001239711, 10001239712, 10001239714, 10001239715, 10001239716\n",
      "$ lmk_key                                <str> 'e6ad9006bb1a9f37a05272e0804964314bb806040d4e913b18557f87435a4e62', '8126d78434eb72180e023c7d522d811b8a11a9d6f206aa19a867f06df5d4599c', '69223609222016052017263804808356', '1099459139642014100812510823040588', '876abfcefe535b31e3e3e46264de08d97acec07eb72415f2fa967061afc6315d', 'e9c4c64a24ad61bbf2c4de0d3bd97725b8dde5d9b21a12e2cd0888e34ac6af15', '1019963559062013100615514564448457', '1485207013512016100421133096069648', '1389662563632016072714480291278400', 'aade8e478efe85ef7a8b090f1a4eedd4941217246ccb9019e35ef1d944af8505'\n",
      "$ postcode                               <str> 'BL3 3GR', 'BL3 1PS', 'BL1 5WA', 'BL3 5NP', 'BL3 5NP', 'BL3 5NP', 'BL3 5NP', 'BL3 5NP', 'BL3 5NP', 'BL3 5NP'\n",
      "$ local_authority                        <str> 'E08000001', 'E08000001', 'E08000001', 'E08000001', 'E08000001', 'E08000001', 'E08000001', 'E08000001', 'E08000001', 'E08000001'\n",
      "$ property_type                          <str> 'House', 'House', 'House', 'House', 'House', 'House', 'House', 'House', 'House', 'House'\n",
      "$ lodgement_datetime            <datetime[μs]> 2024-05-31 12:18:06, 2021-04-03 11:13:34, 2016-05-20 17:26:38, 2014-10-08 12:51:08, 2022-05-18 19:12:32, 2021-01-20 00:00:00, 2013-10-06 15:51:45, 2016-10-04 21:13:30, 2016-07-27 14:48:02, 2021-09-22 16:29:52\n",
      "$ transaction_type                       <str> 'new dwelling', 'marketed sale', 'marketed sale', 'none of the above', 'non marketed sale', 'rental', 'rental (private)', 'marketed sale', 'ECO assessment', 'rental'\n",
      "$ tenure                                 <str> 'Not defined - use in the case of a new dwelling for which the intended tenure in not known. It is not to be used for an existing dwelling', 'Owner-occupied', 'owner-occupied', 'rental (private)', 'Owner-occupied', 'Rented (private)', 'rental (private)', 'owner-occupied', 'owner-occupied', 'Rented (private)'\n",
      "$ mains_gas_flag                         <str> None, 'Y', 'Y', 'Y', 'Y', 'Y', 'Y', 'Y', 'Y', 'Y'\n",
      "$ hot_water_energy_eff                   <str> 'Very Good', 'Good', 'Good', 'Good', 'Good', 'Good', 'Good', 'Good', 'Average', 'Average'\n",
      "$ windows_description                    <str> 'High performance glazing', 'Fully double glazed', 'Fully double glazed', 'Fully double glazed', 'Fully double glazed', 'Fully double glazed', 'Fully double glazed', 'Fully double glazed', 'Fully double glazed', 'Fully double glazed'\n",
      "$ windows_energy_eff                     <str> 'Very Good', 'Good', 'Good', 'Average', 'Good', 'Average', 'Average', 'Average', 'Average', 'Average'\n",
      "$ walls_description                      <str> 'Average thermal transmittance 0.21 W/m-�K', 'Cavity wall, as built, insulated (assumed)', 'Cavity wall, as built, insulated (assumed)', 'Cavity wall, filled cavity', 'Cavity wall, as built, no insulation (assumed)', 'Cavity wall, filled cavity', 'Cavity wall, filled cavity', 'Cavity wall, filled cavity', 'Cavity wall, as built, no insulation (assumed)', 'Cavity wall, filled cavity'\n",
      "$ walls_energy_eff                       <str> 'Very Good', 'Good', 'Good', 'Good', 'Poor', 'Average', 'Good', 'Good', 'Very Poor', 'Good'\n",
      "$ roof_description                       <str> 'Average thermal transmittance 0.11 W/m-�K', 'Pitched, 300 mm loft insulation', 'Pitched, 150 mm loft insulation', 'Pitched, 150 mm loft insulation', 'Pitched, 250 mm loft insulation', 'Pitched, 300 mm loft insulation', 'Pitched, 200 mm loft insulation', 'Pitched, limited insulation (assumed)', 'Pitched, no insulation (assumed)', 'Pitched, 150 mm loft insulation'\n",
      "$ roof_energy_eff                        <str> 'Very Good', 'Very Good', 'Good', 'Good', 'Good', 'Very Good', 'Good', 'Very Poor', 'Very Poor', 'Good'\n",
      "$ mainheat_description                   <str> 'Boiler and radiators, mains gas', 'Boiler and radiators, mains gas', 'Boiler and underfloor heating, mains gas', 'Boiler and radiators, mains gas', 'Boiler and radiators, mains gas', 'Boiler and radiators, mains gas', 'Boiler and radiators, mains gas', 'Boiler and radiators, mains gas', 'Boiler and radiators, mains gas', 'Electric storage heaters'\n",
      "$ mainheat_energy_eff                    <str> 'Good', 'Good', 'Good', 'Good', 'Good', 'Good', 'Good', 'Good', 'Good', 'Average'\n",
      "$ mainheat_env_eff                       <str> 'Good', 'Good', 'Good', 'Good', 'Good', 'Good', 'Good', 'Good', 'Good', 'Very Poor'\n",
      "$ main_heating_controls                  <str> None, None, '2105', '2107', None, None, '2106', '2102', '2106', None\n",
      "$ mainheatcont_description               <str> 'Programmer, room thermostat and TRVs', 'Programmer, room thermostat and TRVs', 'Programmer and at least two room thermostats', 'Programmer, TRVs and bypass', 'Programmer, no room thermostat', 'Programmer, TRVs and bypass', 'Programmer, room thermostat and TRVs', 'Programmer, no room thermostat', 'Programmer, room thermostat and TRVs', 'Automatic charge control'\n",
      "$ mainheatc_energy_eff                   <str> 'Good', 'Good', 'Good', 'Average', 'Very Poor', 'Average', 'Good', 'Very Poor', 'Good', 'Average'\n",
      "$ main_fuel                              <str> 'Gas: mains gas', 'mains gas (not community)', 'mains gas (not community)', 'mains gas (not community)', 'mains gas (not community)', 'mains gas (not community)', 'mains gas (not community)', 'mains gas (not community)', 'mains gas (not community)', 'electricity (not community)'\n",
      "$ solar_water_heating_flag               <str> None, 'N', 'N', None, 'N', 'N', None, 'N', 'N', 'N'\n",
      "$ construction_age_band                  <str> '2021', 'England and Wales: 2003-2006', 'England and Wales: 2003-2006', 'England and Wales: 1967-1975', 'England and Wales: 1967-1975', 'England and Wales: 1967-1975', 'England and Wales: 1996-2002', 'England and Wales: 1967-1975', 'England and Wales: before 1900', 'England and Wales: 1976-1982'\n",
      "$ current_energy_rating                  <str> 'B', 'C', 'C', 'D', 'C', 'C', 'C', 'D', 'E', 'D'\n",
      "$ potential_energy_rating                <str> 'A', 'B', 'B', 'B', 'A', 'B', 'B', 'B', 'C', 'B'\n",
      "$ current_energy_efficiency              <str> '86', '76', '76', '67', '73', '69', '76', '59', '49', '59'\n",
      "$ potential_energy_efficiency            <str> '95', '88', '82', '89', '92', '88', '91', '84', '80', '88'\n",
      "$ built_form                             <str> 'Mid-Terrace', 'Mid-Terrace', 'Detached', 'Semi-Detached', 'Mid-Terrace', 'Mid-Terrace', 'Mid-Terrace', 'Mid-Terrace', 'Mid-Terrace', 'Mid-Terrace'\n",
      "$ constituency                           <str> 'E14000579', 'E14000579', 'E14000580', 'E14000579', 'E14000579', 'E14000579', 'E14000579', 'E14000579', 'E14000579', 'E14000579'\n",
      "$ floor_description                      <str> 'Average thermal transmittance 0.17 W/m-�K', 'Solid, insulated (assumed)', 'Solid, insulated (assumed)', 'Solid, no insulation (assumed)', 'Solid, no insulation (assumed)', 'Solid, no insulation (assumed)', 'Solid, limited insulation (assumed)', 'Solid, no insulation (assumed)', 'Solid, no insulation (assumed)', 'Solid, no insulation (assumed)'\n",
      "$ environment_impact_current             <i64> 88, 74, 71, 68, 73, 69, 79, 57, 42, 41\n",
      "$ environment_impact_potential           <i64> 96, 86, 76, 92, 93, 88, 94, 84, 77, 87\n",
      "$ energy_consumption_current             <i64> 71, 151, 153, 220, 209, 241, 142, 331, 433, 445\n",
      "$ energy_consumption_potential           <i64> 24, 82, 127, 55, 58, 99, 36, 129, 168, 92\n",
      "$ co2_emiss_curr_per_floor_area          <i64> 12, 27, 27, 42, 37, 42, 27, 58, 76, 75\n",
      "$ co2_emissions_current                  <f64> 1.3, 3.0, 6.1, 2.3, 2.1, 2.4, 1.5, 3.2, 5.1, 5.6\n",
      "$ co2_emissions_potential                <f64> 0.5, 1.7, 5.1, 0.6, 0.6, 1.0, 0.4, 1.3, 2.0, 1.2\n",
      "$ lighting_cost_current                  <i64> 130, 97, 172, 72, 50, 72, 37, 70, 93, 92\n",
      "$ lighting_cost_potential                <i64> 130, 97, 102, 36, 50, 48, 37, 39, 46, 62\n",
      "$ heating_cost_current                   <i64> 408, 505, 1074, 441, 371, 418, 301, 623, 917, 787\n",
      "$ heating_cost_potential                 <i64> 408, 447, 1088, 358, 289, 360, 301, 480, 589, 366\n",
      "$ hot_water_cost_current                 <i64> 105, 95, 137, 96, 69, 82, 80, 103, 135, 272\n",
      "$ hot_water_cost_potential               <i64> 105, 68, 137, 59, 48, 59, 56, 47, 49, 68\n",
      "$ total_floor_area                       <f64> 106.0, 113.0, 227.0, 55.0, 56.0, 56.0, 56.0, 55.0, 67.0, 74.0\n",
      "$ number_habitable_rooms                 <i64> None, 5, 8, 4, 3, 3, 4, 4, 3, 5\n",
      "$ number_heated_rooms                    <i64> None, 5, 8, 4, 3, 3, 4, 3, 3, 4\n",
      "$ photo_supply                           <f64> None, 0.0, None, 0.0, 0.0, 0.0, 0.0, None, None, 0.0\n",
      "$ building_reference_number              <i64> 10006063912, 10000999752, 5002084468, 2651730278, 10002847611, 10000431747, 5653574178, 6852367478, 6061480478, 10001357190\n",
      "\n"
     ]
    }
   ],
   "source": [
    "epc_domestic = get_ca.ingest_dom_certs_csv(la_list, cols_schema_adjusted)\n",
    "epc_domestic.glimpse()"
   ]
  },
  {
   "cell_type": "code",
   "execution_count": 21,
   "metadata": {},
   "outputs": [],
   "source": [
    "# epc_domestic = get_ca.ingest_certs(la_list = la_list,\n",
    "#                                    cols_schema = cols_schema_dom,\n",
    "#                                    root_dir = 'data/all-domestic-certificates')\n",
    "# epc_domestic.glimpse()\n"
   ]
  },
  {
   "cell_type": "code",
   "execution_count": null,
   "metadata": {},
   "outputs": [],
   "source": [
    "all_dom_epc_raw = ingest_dom_certs_csv(la_list, cols_schema_adjusted)"
   ]
  },
  {
   "cell_type": "code",
   "execution_count": null,
   "metadata": {},
   "outputs": [
    {
     "name": "stdout",
     "output_type": "stream",
     "text": [
      "Rows: 4805082\n",
      "Columns: 52\n",
      "$ uprn                          <i64> 10001239702, 10001239704, 10001239709, 10001239711, 10001239712, 10001239714, 10001239715, 10001239716, 10001239717, 10001239718\n",
      "$ lmk_key                       <str> '69223609222016052017263804808356', '1099459139642014100812510823040588', '876abfcefe535b31e3e3e46264de08d97acec07eb72415f2fa967061afc6315d', 'e9c4c64a24ad61bbf2c4de0d3bd97725b8dde5d9b21a12e2cd0888e34ac6af15', '1019963559062013100615514564448457', '1485207013512016100421133096069648', '1389662563632016072714480291278400', 'aade8e478efe85ef7a8b090f1a4eedd4941217246ccb9019e35ef1d944af8505', '1006031609732013112914032764978690', 'de7a02fb12a4ef27399bd7054917b4fd2c166ac4a3d7da461f4f4b7876c8a664'\n",
      "$ postcode                      <str> 'BL1 5WA', 'BL3 5NP', 'BL3 5NP', 'BL3 5NP', 'BL3 5NP', 'BL3 5NP', 'BL3 5NP', 'BL3 5NP', 'BL3 5NP', 'BL3 5NP'\n",
      "$ local_authority               <str> 'E08000001', 'E08000001', 'E08000001', 'E08000001', 'E08000001', 'E08000001', 'E08000001', 'E08000001', 'E08000001', 'E08000001'\n",
      "$ property_type                 <str> 'House', 'House', 'House', 'House', 'House', 'House', 'House', 'House', 'House', 'House'\n",
      "$ transaction_type              <str> 'marketed sale', 'none of the above', 'non marketed sale', 'rental', 'rental (private)', 'marketed sale', 'ECO assessment', 'rental', 'FiT application', 'marketed sale'\n",
      "$ tenure                        <str> 'owner-occupied', 'rental (private)', 'Owner-occupied', 'Rented (private)', 'rental (private)', 'owner-occupied', 'owner-occupied', 'Rented (private)', 'rental (private)', 'Owner-occupied'\n",
      "$ mains_gas_flag                <str> 'Y', 'Y', 'Y', 'Y', 'Y', 'Y', 'Y', 'Y', 'Y', 'Y'\n",
      "$ hot_water_energy_eff          <str> 'Good', 'Good', 'Good', 'Good', 'Good', 'Good', 'Average', 'Average', 'Average', 'Good'\n",
      "$ windows_description           <str> 'Fully double glazed', 'Fully double glazed', 'Fully double glazed', 'Fully double glazed', 'Fully double glazed', 'Fully double glazed', 'Fully double glazed', 'Fully double glazed', 'Fully double glazed', 'Fully double glazed'\n",
      "$ windows_energy_eff            <str> 'Good', 'Average', 'Good', 'Average', 'Average', 'Average', 'Average', 'Average', 'Average', 'Average'\n",
      "$ walls_description             <str> 'Cavity wall, as built, insulated (assumed)', 'Cavity wall, filled cavity', 'Cavity wall, as built, no insulation (assumed)', 'Cavity wall, filled cavity', 'Cavity wall, filled cavity', 'Cavity wall, filled cavity', 'Cavity wall, as built, no insulation (assumed)', 'Cavity wall, filled cavity', 'Cavity wall, as built, no insulation (assumed)', 'Cavity wall, filled cavity'\n",
      "$ walls_energy_eff              <str> 'Good', 'Good', 'Poor', 'Average', 'Good', 'Good', 'Very Poor', 'Good', 'Poor', 'Average'\n",
      "$ roof_description              <str> 'Pitched, 150 mm loft insulation', 'Pitched, 150 mm loft insulation', 'Pitched, 250 mm loft insulation', 'Pitched, 300 mm loft insulation', 'Pitched, 200 mm loft insulation', 'Pitched, limited insulation (assumed)', 'Pitched, no insulation (assumed)', 'Pitched, 150 mm loft insulation', 'Pitched, no insulation (assumed)', 'Pitched, 250 mm loft insulation'\n",
      "$ roof_energy_eff               <str> 'Good', 'Good', 'Good', 'Very Good', 'Good', 'Very Poor', 'Very Poor', 'Good', 'Very Poor', 'Good'\n",
      "$ mainheat_description          <str> 'Boiler and underfloor heating, mains gas', 'Boiler and radiators, mains gas', 'Boiler and radiators, mains gas', 'Boiler and radiators, mains gas', 'Boiler and radiators, mains gas', 'Boiler and radiators, mains gas', 'Boiler and radiators, mains gas', 'Electric storage heaters', 'Boiler and radiators, mains gas', 'Boiler and radiators, mains gas'\n",
      "$ mainheat_energy_eff           <str> 'Good', 'Good', 'Good', 'Good', 'Good', 'Good', 'Good', 'Average', 'Good', 'Good'\n",
      "$ mainheat_env_eff              <str> 'Good', 'Good', 'Good', 'Good', 'Good', 'Good', 'Good', 'Very Poor', 'Good', 'Good'\n",
      "$ main_heating_controls         <str> '2105', '2107', None, None, '2106', '2102', '2106', None, '2107', None\n",
      "$ mainheatcont_description      <str> 'Programmer and at least two room thermostats', 'Programmer, TRVs and bypass', 'Programmer, no room thermostat', 'Programmer, TRVs and bypass', 'Programmer, room thermostat and TRVs', 'Programmer, no room thermostat', 'Programmer, room thermostat and TRVs', 'Automatic charge control', 'Programmer, TRVs and bypass', 'Programmer, room thermostat and TRVs'\n",
      "$ mainheatc_energy_eff          <str> 'Good', 'Average', 'Very Poor', 'Average', 'Good', 'Very Poor', 'Good', 'Average', 'Average', 'Good'\n",
      "$ main_fuel                     <str> 'mains gas (not community)', 'mains gas (not community)', 'mains gas (not community)', 'mains gas (not community)', 'mains gas (not community)', 'mains gas (not community)', 'mains gas (not community)', 'electricity (not community)', 'mains gas (not community)', 'mains gas (not community)'\n",
      "$ solar_water_heating_flag      <str> 'N', None, 'N', 'N', None, 'N', 'N', 'N', None, 'N'\n",
      "$ construction_age_band         <str> 'England and Wales: 2003-2006', 'England and Wales: 1967-1975', 'England and Wales: 1967-1975', 'England and Wales: 1967-1975', 'England and Wales: 1996-2002', 'England and Wales: 1967-1975', 'England and Wales: before 1900', 'England and Wales: 1976-1982', 'England and Wales: 1930-1949', 'England and Wales: 1967-1975'\n",
      "$ current_energy_rating         <str> 'C', 'D', 'C', 'C', 'C', 'D', 'E', 'D', 'D', 'C'\n",
      "$ potential_energy_rating       <str> 'B', 'B', 'A', 'B', 'B', 'B', 'C', 'B', 'B', 'B'\n",
      "$ current_energy_efficiency     <str> '76', '67', '73', '69', '76', '59', '49', '59', '60', '73'\n",
      "$ potential_energy_efficiency   <str> '82', '89', '92', '88', '91', '84', '80', '88', '86', '88'\n",
      "$ built_form                    <str> 'Detached', 'Semi-Detached', 'Mid-Terrace', 'Mid-Terrace', 'Mid-Terrace', 'Mid-Terrace', 'Mid-Terrace', 'Mid-Terrace', 'Mid-Terrace', 'Mid-Terrace'\n",
      "$ constituency                  <str> 'E14000580', 'E14000579', 'E14000579', 'E14000579', 'E14000579', 'E14000579', 'E14000579', 'E14000579', 'E14000579', 'E14000579'\n",
      "$ floor_description             <str> 'Solid, insulated (assumed)', 'Solid, no insulation (assumed)', 'Solid, no insulation (assumed)', 'Solid, no insulation (assumed)', 'Solid, limited insulation (assumed)', 'Solid, no insulation (assumed)', 'Solid, no insulation (assumed)', 'Solid, no insulation (assumed)', 'Solid, no insulation (assumed)', 'Solid, no insulation (assumed)'\n",
      "$ environment_impact_current    <i64> 71, 68, 73, 69, 79, 57, 42, 41, 57, 74\n",
      "$ environment_impact_potential  <i64> 76, 92, 93, 88, 94, 84, 77, 87, 87, 88\n",
      "$ energy_consumption_current    <i64> 153, 220, 209, 241, 142, 331, 433, 445, 286, 204\n",
      "$ energy_consumption_potential  <i64> 127, 55, 58, 99, 36, 129, 168, 92, 87, 97\n",
      "$ co2_emiss_curr_per_floor_area <i64> 27, 42, 37, 42, 27, 58, 76, 75, 55, 36\n",
      "$ co2_emissions_current         <f64> 6.1, 2.3, 2.1, 2.4, 1.5, 3.2, 5.1, 5.6, 3.2, 2.0\n",
      "$ co2_emissions_potential       <f64> 5.1, 0.6, 0.6, 1.0, 0.4, 1.3, 2.0, 1.2, 1.0, 1.0\n",
      "$ lighting_cost_current         <i64> 172, 72, 50, 72, 37, 70, 93, 92, 36, 48\n",
      "$ lighting_cost_potential       <i64> 102, 36, 50, 48, 37, 39, 46, 62, 36, 48\n",
      "$ heating_cost_current          <i64> 1074, 441, 371, 418, 301, 623, 917, 787, 516, 356\n",
      "$ heating_cost_potential        <i64> 1088, 358, 289, 360, 301, 480, 589, 366, 403, 356\n",
      "$ hot_water_cost_current        <i64> 137, 96, 69, 82, 80, 103, 135, 272, 174, 87\n",
      "$ hot_water_cost_potential      <i64> 137, 59, 48, 59, 56, 47, 49, 68, 62, 59\n",
      "$ total_floor_area              <f64> 227.0, 55.0, 56.0, 56.0, 56.0, 55.0, 67.0, 74.0, 58.0, 55.0\n",
      "$ number_habitable_rooms        <i64> 8, 4, 3, 3, 4, 4, 3, 5, 3, 4\n",
      "$ number_heated_rooms           <i64> 8, 4, 3, 3, 4, 3, 3, 4, 3, 4\n",
      "$ photo_supply                  <f64> None, 0.0, 0.0, 0.0, 0.0, None, None, 0.0, 0.0, 0.0\n",
      "$ building_reference_number     <i64> 5002084468, 2651730278, 10002847611, 10000431747, 5653574178, 6852367478, 6061480478, 10001357190, 54673178, 10000947734\n",
      "$ date                          <str> '2016-05-20', '2014-10-08', '2022-05-18', '2021-01-20', '2013-10-06', '2016-10-04', '2016-07-27', '2021-09-22', '2013-11-29', '2021-06-23'\n",
      "$ year                          <i32> 2016, 2014, 2022, 2021, 2013, 2016, 2016, 2021, 2013, 2021\n",
      "$ month                         <i16> 5, 10, 5, 1, 10, 10, 7, 9, 11, 6\n",
      "\n"
     ]
    }
   ],
   "source": [
    "epc_domestic_df = get_ca.wrangle_epc(certs_df = epc_domestic)\n",
    "epc_domestic_df.glimpse()"
   ]
  },
  {
   "cell_type": "code",
   "execution_count": 23,
   "metadata": {},
   "outputs": [],
   "source": [
    "epc_domestic_df = get_ca.wrangle_epc(certs_df = epc_domestic)"
   ]
  },
  {
   "cell_type": "code",
   "execution_count": 25,
   "metadata": {},
   "outputs": [
    {
     "data": {
      "text/html": [
       "<div><style>\n",
       ".dataframe > thead > tr,\n",
       ".dataframe > tbody > tr {\n",
       "  text-align: right;\n",
       "  white-space: pre-wrap;\n",
       "}\n",
       "</style>\n",
       "<small>shape: (162_851, 17)</small><table border=\"1\" class=\"dataframe\"><thead><tr><th>uprn</th><th>lmk_key</th><th>postcode</th><th>building_reference_number</th><th>asset_rating</th><th>asset_rating_band</th><th>property_type</th><th>local_authority</th><th>constituency</th><th>transaction_type</th><th>standard_emissions</th><th>typical_emissions</th><th>target_emissions</th><th>building_emissions</th><th>building_level</th><th>renewable_sources</th><th>lodgement_datetime</th></tr><tr><td>str</td><td>str</td><td>str</td><td>i64</td><td>i64</td><td>str</td><td>str</td><td>str</td><td>str</td><td>str</td><td>f64</td><td>f64</td><td>f64</td><td>f64</td><td>i64</td><td>str</td><td>datetime[μs]</td></tr></thead><tbody><tr><td>&quot;100000547109&quot;</td><td>&quot;85808380802013…</td><td>&quot;NE16 3AW&quot;</td><td>585648960000</td><td>121</td><td>&quot;E&quot;</td><td>&quot;B1 Offices and…</td><td>&quot;E08000037&quot;</td><td>&quot;E14000574&quot;</td><td>&quot;Mandatory issu…</td><td>34.56</td><td>49.76</td><td>18.66</td><td>83.75</td><td>3</td><td>null</td><td>2013-11-08 14:11:42</td></tr><tr><td>&quot;100012801072&quot;</td><td>&quot;10454919006201…</td><td>&quot;WA15 9SD&quot;</td><td>504195120000</td><td>78</td><td>&quot;D&quot;</td><td>&quot;A3/A4/A5 Resta…</td><td>&quot;E08000009&quot;</td><td>&quot;E14000532&quot;</td><td>&quot;Mandatory issu…</td><td>93.93</td><td>158.0</td><td>53.92</td><td>147.04</td><td>3</td><td>null</td><td>2015-10-07 15:42:59</td></tr><tr><td>&quot;100051933318&quot;</td><td>&quot;37389190342010…</td><td>&quot;BD13 2ES&quot;</td><td>736659470000</td><td>97</td><td>&quot;D&quot;</td><td>&quot;Restaurant/pub…</td><td>&quot;E08000032&quot;</td><td>&quot;E14000588&quot;</td><td>&quot;Mandatory issu…</td><td>64.83</td><td>82.12</td><td>47.91</td><td>125.73</td><td>3</td><td>null</td><td>2010-07-01 18:08:32</td></tr><tr><td>&quot;100052089863&quot;</td><td>&quot;cb9629f0eddbc0…</td><td>&quot;S2 4LT&quot;</td><td>10002494537</td><td>49</td><td>&quot;B&quot;</td><td>&quot;A3/A4/A5 Resta…</td><td>&quot;E08000019&quot;</td><td>&quot;E14000919&quot;</td><td>&quot;Mandatory issu…</td><td>113.45</td><td>197.23</td><td>67.3</td><td>112.16</td><td>3</td><td>null</td><td>2022-02-22 19:56:58</td></tr><tr><td>&quot;100070480039&quot;</td><td>&quot;85272574252013…</td><td>&quot;B30 2YH&quot;</td><td>523649720000</td><td>76</td><td>&quot;D&quot;</td><td>&quot;A1/A2 Retail a…</td><td>&quot;E08000025&quot;</td><td>&quot;E14000567&quot;</td><td>&quot;Mandatory issu…</td><td>76.17</td><td>107.7</td><td>40.39</td><td>115.45</td><td>3</td><td>null</td><td>2013-10-24 14:07:52</td></tr><tr><td>&hellip;</td><td>&hellip;</td><td>&hellip;</td><td>&hellip;</td><td>&hellip;</td><td>&hellip;</td><td>&hellip;</td><td>&hellip;</td><td>&hellip;</td><td>&hellip;</td><td>&hellip;</td><td>&hellip;</td><td>&hellip;</td><td>&hellip;</td><td>&hellip;</td><td>&hellip;</td><td>&hellip;</td></tr><tr><td>&quot;100012740537&quot;</td><td>&quot;43492325201604…</td><td>&quot;OL6 7TP&quot;</td><td>440339720000</td><td>58</td><td>&quot;C&quot;</td><td>&quot;D1 Non-residen…</td><td>&quot;E08000008&quot;</td><td>&quot;E14000537&quot;</td><td>&quot;Mandatory issu…</td><td>33.24</td><td>54.84</td><td>18.71</td><td>38.7</td><td>3</td><td>null</td><td>2016-04-12 23:50:45</td></tr><tr><td>&quot;72724300&quot;</td><td>&quot;da7a6cfc960769…</td><td>&quot;LS3 1BS&quot;</td><td>10005205283</td><td>59</td><td>&quot;C&quot;</td><td>&quot;Storage or Dis…</td><td>&quot;E08000035&quot;</td><td>&quot;E14000777&quot;</td><td>&quot;Mandatory issu…</td><td>12.1</td><td>28.5</td><td>7.11</td><td>14.28</td><td>3</td><td>null</td><td>2023-10-02 15:54:03</td></tr><tr><td>&quot;100012853605&quot;</td><td>&quot;482bbc1bca8c7f…</td><td>&quot;M41 7TE&quot;</td><td>10001311654</td><td>81</td><td>&quot;D&quot;</td><td>&quot;B1 Offices and…</td><td>&quot;E08000009&quot;</td><td>&quot;E14000979&quot;</td><td>&quot;Mandatory issu…</td><td>41.39</td><td>72.87</td><td>24.87</td><td>66.95</td><td>3</td><td>null</td><td>2021-06-28 09:24:29</td></tr><tr><td>&quot;100052039593&quot;</td><td>&quot;37f09fb8ba124b…</td><td>&quot;HX2 0AL&quot;</td><td>10001300394</td><td>97</td><td>&quot;D&quot;</td><td>&quot;A3/A4/A5 Resta…</td><td>&quot;E08000033&quot;</td><td>&quot;E14000723&quot;</td><td>&quot;Mandatory issu…</td><td>102.27</td><td>201.63</td><td>68.81</td><td>198.62</td><td>3</td><td>null</td><td>2021-05-29 05:26:35</td></tr><tr><td>&quot;100012799794&quot;</td><td>&quot;b8248124e8b447…</td><td>&quot;WA14 5GR&quot;</td><td>10004815899</td><td>59</td><td>&quot;C&quot;</td><td>&quot;Retail/Financi…</td><td>&quot;E08000009&quot;</td><td>&quot;E14000532&quot;</td><td>&quot;Mandatory issu…</td><td>19.99</td><td>24.91</td><td>6.21</td><td>23.51</td><td>3</td><td>null</td><td>2023-07-24 10:03:14</td></tr></tbody></table></div>"
      ],
      "text/plain": [
       "shape: (162_851, 17)\n",
       "┌───────────┬───────────┬──────────┬───────────┬───┬───────────┬───────────┬───────────┬───────────┐\n",
       "│ uprn      ┆ lmk_key   ┆ postcode ┆ building_ ┆ … ┆ building_ ┆ building_ ┆ renewable ┆ lodgement │\n",
       "│ ---       ┆ ---       ┆ ---      ┆ reference ┆   ┆ emissions ┆ level     ┆ _sources  ┆ _datetime │\n",
       "│ str       ┆ str       ┆ str      ┆ _number   ┆   ┆ ---       ┆ ---       ┆ ---       ┆ ---       │\n",
       "│           ┆           ┆          ┆ ---       ┆   ┆ f64       ┆ i64       ┆ str       ┆ datetime[ │\n",
       "│           ┆           ┆          ┆ i64       ┆   ┆           ┆           ┆           ┆ μs]       │\n",
       "╞═══════════╪═══════════╪══════════╪═══════════╪═══╪═══════════╪═══════════╪═══════════╪═══════════╡\n",
       "│ 100000547 ┆ 858083808 ┆ NE16 3AW ┆ 585648960 ┆ … ┆ 83.75     ┆ 3         ┆ null      ┆ 2013-11-0 │\n",
       "│ 109       ┆ 020131108 ┆          ┆ 000       ┆   ┆           ┆           ┆           ┆ 8         │\n",
       "│           ┆ 141142639 ┆          ┆           ┆   ┆           ┆           ┆           ┆ 14:11:42  │\n",
       "│           ┆ 09090     ┆          ┆           ┆   ┆           ┆           ┆           ┆           │\n",
       "│ 100012801 ┆ 104549190 ┆ WA15 9SD ┆ 504195120 ┆ … ┆ 147.04    ┆ 3         ┆ null      ┆ 2015-10-0 │\n",
       "│ 072       ┆ 062015100 ┆          ┆ 000       ┆   ┆           ┆           ┆           ┆ 7         │\n",
       "│           ┆ 715425901 ┆          ┆           ┆   ┆           ┆           ┆           ┆ 15:42:59  │\n",
       "│           ┆ 21085…    ┆          ┆           ┆   ┆           ┆           ┆           ┆           │\n",
       "│ 100051933 ┆ 373891903 ┆ BD13 2ES ┆ 736659470 ┆ … ┆ 125.73    ┆ 3         ┆ null      ┆ 2010-07-0 │\n",
       "│ 318       ┆ 420100701 ┆          ┆ 000       ┆   ┆           ┆           ┆           ┆ 1         │\n",
       "│           ┆ 180832774 ┆          ┆           ┆   ┆           ┆           ┆           ┆ 18:08:32  │\n",
       "│           ┆ 00260     ┆          ┆           ┆   ┆           ┆           ┆           ┆           │\n",
       "│ 100052089 ┆ cb9629f0e ┆ S2 4LT   ┆ 100024945 ┆ … ┆ 112.16    ┆ 3         ┆ null      ┆ 2022-02-2 │\n",
       "│ 863       ┆ ddbc08f17 ┆          ┆ 37        ┆   ┆           ┆           ┆           ┆ 2         │\n",
       "│           ┆ 211a5f1a5 ┆          ┆           ┆   ┆           ┆           ┆           ┆ 19:56:58  │\n",
       "│           ┆ 5545e…    ┆          ┆           ┆   ┆           ┆           ┆           ┆           │\n",
       "│ 100070480 ┆ 852725742 ┆ B30 2YH  ┆ 523649720 ┆ … ┆ 115.45    ┆ 3         ┆ null      ┆ 2013-10-2 │\n",
       "│ 039       ┆ 520131024 ┆          ┆ 000       ┆   ┆           ┆           ┆           ┆ 4         │\n",
       "│           ┆ 140752099 ┆          ┆           ┆   ┆           ┆           ┆           ┆ 14:07:52  │\n",
       "│           ┆ 09522     ┆          ┆           ┆   ┆           ┆           ┆           ┆           │\n",
       "│ …         ┆ …         ┆ …        ┆ …         ┆ … ┆ …         ┆ …         ┆ …         ┆ …         │\n",
       "│ 100012740 ┆ 434923252 ┆ OL6 7TP  ┆ 440339720 ┆ … ┆ 38.7      ┆ 3         ┆ null      ┆ 2016-04-1 │\n",
       "│ 537       ┆ 016041223 ┆          ┆ 000       ┆   ┆           ┆           ┆           ┆ 2         │\n",
       "│           ┆ 504509009 ┆          ┆           ┆   ┆           ┆           ┆           ┆ 23:50:45  │\n",
       "│           ┆ 424       ┆          ┆           ┆   ┆           ┆           ┆           ┆           │\n",
       "│ 72724300  ┆ da7a6cfc9 ┆ LS3 1BS  ┆ 100052052 ┆ … ┆ 14.28     ┆ 3         ┆ null      ┆ 2023-10-0 │\n",
       "│           ┆ 607699cf8 ┆          ┆ 83        ┆   ┆           ┆           ┆           ┆ 2         │\n",
       "│           ┆ ef257d3c6 ┆          ┆           ┆   ┆           ┆           ┆           ┆ 15:54:03  │\n",
       "│           ┆ 7b26c…    ┆          ┆           ┆   ┆           ┆           ┆           ┆           │\n",
       "│ 100012853 ┆ 482bbc1bc ┆ M41 7TE  ┆ 100013116 ┆ … ┆ 66.95     ┆ 3         ┆ null      ┆ 2021-06-2 │\n",
       "│ 605       ┆ a8c7fe5ff ┆          ┆ 54        ┆   ┆           ┆           ┆           ┆ 8         │\n",
       "│           ┆ 1b36ce5bb ┆          ┆           ┆   ┆           ┆           ┆           ┆ 09:24:29  │\n",
       "│           ┆ d822b…    ┆          ┆           ┆   ┆           ┆           ┆           ┆           │\n",
       "│ 100052039 ┆ 37f09fb8b ┆ HX2 0AL  ┆ 100013003 ┆ … ┆ 198.62    ┆ 3         ┆ null      ┆ 2021-05-2 │\n",
       "│ 593       ┆ a124b06c2 ┆          ┆ 94        ┆   ┆           ┆           ┆           ┆ 9         │\n",
       "│           ┆ 7492adc34 ┆          ┆           ┆   ┆           ┆           ┆           ┆ 05:26:35  │\n",
       "│           ┆ 00d8a…    ┆          ┆           ┆   ┆           ┆           ┆           ┆           │\n",
       "│ 100012799 ┆ b8248124e ┆ WA14 5GR ┆ 100048158 ┆ … ┆ 23.51     ┆ 3         ┆ null      ┆ 2023-07-2 │\n",
       "│ 794       ┆ 8b447b2a1 ┆          ┆ 99        ┆   ┆           ┆           ┆           ┆ 4         │\n",
       "│           ┆ 1af631d5a ┆          ┆           ┆   ┆           ┆           ┆           ┆ 10:03:14  │\n",
       "│           ┆ 25051…    ┆          ┆           ┆   ┆           ┆           ┆           ┆           │\n",
       "└───────────┴───────────┴──────────┴───────────┴───┴───────────┴───────────┴───────────┴───────────┘"
      ]
     },
     "execution_count": 25,
     "metadata": {},
     "output_type": "execute_result"
    }
   ],
   "source": [
    "epc_non_domestic.rename(lambda col: col.lower())"
   ]
  },
  {
   "cell_type": "code",
   "execution_count": 26,
   "metadata": {},
   "outputs": [
    {
     "name": "stdout",
     "output_type": "stream",
     "text": [
      "Rows: 162851\n",
      "Columns: 19\n",
      "$ uprn                      <str> '100000547109', '100012801072', '100051933318', '100052089863', '100070480039', '10006629006', '100050815770', '10090245109', '10008051954', '100110739430'\n",
      "$ lmk_key                   <str> '85808380802013110814114263909090', '104549190062015100715425901210850', '37389190342010070118083277400260', 'cb9629f0eddbc08f17211a5f1a55545e30c70e4c16410037862fc097b1ddb19d', '85272574252013102414075209909522', '132928202252018042410271003019240', '962340502018091521591684500910', '149624629052019101021563607909928', '141580320022019070212350652260840', 'd3ac70f4ac16dc5a74d8e627c46148c418da62f3309db574d49ce1ac585137fe'\n",
      "$ postcode                  <str> 'NE16 3AW', 'WA15 9SD', 'BD13 2ES', 'S2 4LT', 'B30 2YH', 'DN4 0TG', 'S60 5NU', 'B33 0SJ', 'PE1 5TU', 'DH1 5LX'\n",
      "$ building_reference_number <i64> 585648960000, 504195120000, 736659470000, 10002494537, 523649720000, 205623740001, 454674580000, 982497320000, 450620230000, 10002495346\n",
      "$ asset_rating              <i64> 121, 78, 97, 49, 76, 85, 58, 87, 77, 72\n",
      "$ asset_rating_band         <str> 'E', 'D', 'D', 'B', 'D', 'D', 'C', 'D', 'D', 'C'\n",
      "$ property_type             <str> 'B1 Offices and Workshop businesses', 'A3/A4/A5 Restaurant and Cafes/Drinking Establishments and Hot Food takeaways', 'Restaurant/public house', 'A3/A4/A5 Restaurant and Cafes/Drinking Establishments and Hot Food takeaways', 'A1/A2 Retail and Financial/Professional services', 'A1/A2 Retail and Financial/Professional services', 'A3/A4/A5 Restaurant and Cafes/Drinking Establishments and Hot Food takeaways', 'B2 to B7 General Industrial and Special Industrial Groups', 'B1 Offices and Workshop businesses', 'A1/A2 Retail and Financial/Professional services'\n",
      "$ local_authority           <str> 'E08000037', 'E08000009', 'E08000032', 'E08000019', 'E08000025', 'E08000017', 'E08000018', 'E08000025', 'E06000031', 'E06000047'\n",
      "$ constituency              <str> 'E14000574', 'E14000532', 'E14000588', 'E14000919', 'E14000567', 'E14000668', 'E14000904', 'E14000568', 'E14000878', 'E14000641'\n",
      "$ transaction_type          <str> 'Mandatory issue (Marketed sale).', 'Mandatory issue (Marketed sale).', 'Mandatory issue (Marketed sale).', 'Mandatory issue (Marketed sale)', 'Mandatory issue (Property to let).', 'Mandatory issue (Marketed sale).', 'Mandatory issue (Marketed sale).', 'Mandatory issue (Property to let).', 'Mandatory issue (Marketed sale).', 'Mandatory issue (Property to let).'\n",
      "$ standard_emissions        <f64> 34.56, 93.93, 64.83, 113.45, 76.17, 50.82, 82.75, 35.78, 16.98, 62.83\n",
      "$ typical_emissions         <f64> 49.76, 158.0, 82.12, 197.23, 107.7, 91.76, 156.07, 49.22, 28.49, 94.0\n",
      "$ target_emissions          <f64> 18.66, 53.92, 47.91, 67.3, 40.39, 31.31, 53.26, 16.8, 9.72, 32.08\n",
      "$ building_emissions        <f64> 83.75, 147.04, 125.73, 112.16, 115.45, 86.64, 95.33, 62.53, 26.31, 90.43\n",
      "$ building_level            <i64> 3, 3, 3, 3, 3, 3, 3, 3, 3, 3\n",
      "$ renewable_sources         <str> None, None, None, None, None, None, None, None, None, None\n",
      "$ date                      <str> '2013-11-08', '2015-10-07', '2010-07-01', '2022-02-22', '2013-10-24', '2018-04-24', '2018-09-15', '2019-10-10', '2019-07-02', '2022-01-11'\n",
      "$ year                      <i32> 2013, 2015, 2010, 2022, 2013, 2018, 2018, 2019, 2019, 2022\n",
      "$ month                     <i16> 11, 10, 7, 2, 10, 4, 9, 10, 7, 1\n",
      "\n"
     ]
    }
   ],
   "source": [
    "epc_non_domestic_df = get_ca.wrangle_epc(epc_non_domestic)\n",
    "epc_non_domestic_df.glimpse()"
   ]
  },
  {
   "cell_type": "code",
   "execution_count": 27,
   "metadata": {},
   "outputs": [],
   "source": [
    "del epc_domestic, epc_non_domestic"
   ]
  },
  {
   "cell_type": "markdown",
   "metadata": {},
   "source": [
    "Collect centroids - here to stop crash"
   ]
  },
  {
   "cell_type": "code",
   "execution_count": 28,
   "metadata": {},
   "outputs": [],
   "source": [
    "pc_centroids_q = pl.scan_csv('data/postcode_centroids.csv',\n",
    "                             dtypes={\n",
    "                                 'RU11IND': pl.Utf8,\n",
    "                                 'x': pl.Float64,\n",
    "                                 'y': pl.Float64\n",
    "                                 })\n",
    "# pc_centroids_df.head()"
   ]
  },
  {
   "cell_type": "code",
   "execution_count": 29,
   "metadata": {},
   "outputs": [],
   "source": [
    "pc_min_df = pc_centroids_q.head(1).collect()"
   ]
  },
  {
   "cell_type": "code",
   "execution_count": 30,
   "metadata": {},
   "outputs": [],
   "source": [
    "pc_rename_dict = get_ca.get_rename_dict(pc_min_df, get_ca.remove_numbers, rm_numbers=False)"
   ]
  },
  {
   "cell_type": "code",
   "execution_count": 31,
   "metadata": {},
   "outputs": [
    {
     "data": {
      "text/plain": [
       "{'OBJECTID': 'objectid',\n",
       " 'PCD': 'pcd',\n",
       " 'PCD2': 'pcd2',\n",
       " 'PCDS': 'pcds',\n",
       " 'DOINTR': 'dointr',\n",
       " 'DOTERM': 'doterm',\n",
       " 'USERTYPE': 'usertype',\n",
       " 'OSEAST1M': 'oseast1m',\n",
       " 'OSNRTH1M': 'osnrth1m',\n",
       " 'OSGRDIND': 'osgrdind',\n",
       " 'OA11': 'oa11',\n",
       " 'CTY': 'cty',\n",
       " 'CED': 'ced',\n",
       " 'LAUA': 'laua',\n",
       " 'WARD': 'ward',\n",
       " 'HLTHAU': 'hlthau',\n",
       " 'NHSER': 'nhser',\n",
       " 'CTRY': 'ctry',\n",
       " 'RGN': 'rgn',\n",
       " 'PCON': 'pcon',\n",
       " 'EER': 'eer',\n",
       " 'TECLEC': 'teclec',\n",
       " 'TTWA': 'ttwa',\n",
       " 'PCT': 'pct',\n",
       " 'ITL': 'itl',\n",
       " 'NPARK': 'npark',\n",
       " 'LSOA11': 'lsoa11',\n",
       " 'MSOA11': 'msoa11',\n",
       " 'WZ11': 'wz11',\n",
       " 'SICBL': 'sicbl',\n",
       " 'BUA11': 'bua11',\n",
       " 'BUASD11': 'buasd11',\n",
       " 'RU11IND': 'ru11ind',\n",
       " 'OAC11': 'oac11',\n",
       " 'LAT': 'lat',\n",
       " 'LONG': 'long',\n",
       " 'LEP1': 'lep1',\n",
       " 'LEP2': 'lep2',\n",
       " 'PFA': 'pfa',\n",
       " 'IMD': 'imd',\n",
       " 'CALNCV': 'calncv',\n",
       " 'ICB': 'icb',\n",
       " 'OA21': 'oa21',\n",
       " 'LSOA21': 'lsoa21',\n",
       " 'MSOA21': 'msoa21',\n",
       " 'BUA22': 'bua22',\n",
       " 'x': 'x',\n",
       " 'y': 'y'}"
      ]
     },
     "execution_count": 31,
     "metadata": {},
     "output_type": "execute_result"
    }
   ],
   "source": [
    "pc_rename_dict"
   ]
  },
  {
   "cell_type": "code",
   "execution_count": 32,
   "metadata": {},
   "outputs": [],
   "source": [
    "pc_centroids_df = (pc_centroids_q\n",
    "                   .filter(pl.col('LAUA').is_in(la_list))\n",
    "                   .rename(mapping=pc_rename_dict)).collect()\n",
    "# pc_centroids_df.glimpse()"
   ]
  },
  {
   "cell_type": "markdown",
   "metadata": {},
   "source": [
    "Tenure - ts054 from NOMIS - slightly cleaned - remove csv header "
   ]
  },
  {
   "cell_type": "code",
   "execution_count": 33,
   "metadata": {},
   "outputs": [],
   "source": [
    "ca_tenure_lsoa = (pl.scan_csv('data/ts054_tenure_nomis.csv')\n",
    "                  .select(pl.all().name.map(lambda col_name: col_name.replace(' ', '_')))\n",
    "                  .select(pl.all().name.to_lowercase())\n",
    "                  .select(pl.all().name.map(lambda col_name: col_name.replace(':', '')))\n",
    "                  .with_columns(pl.col('lsoa').str.slice(0, 9).alias('lsoacd'))\n",
    "                  .filter(pl.col('lsoacd').is_in(ca_lsoa_codes))\n",
    "                  ).collect()"
   ]
  },
  {
   "cell_type": "code",
   "execution_count": 34,
   "metadata": {},
   "outputs": [],
   "source": [
    "# ca_tenure_lsoa.glimpse()"
   ]
  },
  {
   "cell_type": "code",
   "execution_count": 35,
   "metadata": {},
   "outputs": [],
   "source": [
    "del postcodes_df"
   ]
  },
  {
   "cell_type": "markdown",
   "metadata": {},
   "source": [
    "Load the data into a duckDB data base"
   ]
  },
  {
   "cell_type": "code",
   "execution_count": 36,
   "metadata": {},
   "outputs": [],
   "source": [
    "con = duckdb.connect('data/ca_epc.duckdb')"
   ]
  },
  {
   "cell_type": "code",
   "execution_count": 39,
   "metadata": {},
   "outputs": [],
   "source": [
    "try:\n",
    "    con.execute(\"BEGIN TRANSACTION;\")\n",
    "    con.execute('INSTALL spatial;')\n",
    "    con.execute('LOAD spatial;')\n",
    "    con.execute(f'CREATE OR REPLACE TABLE lsoa_pwc_tbl AS SELECT * FROM ST_Read(\"{reproject_path}\")')\n",
    "    con.execute(f'CREATE OR REPLACE TABLE lsoa_poly_tbl AS SELECT * FROM ST_Read(\"{reproject_lsoa_poly_path}\")')\n",
    "    con.execute('CREATE UNIQUE INDEX lsoacd_poly_idx ON lsoa_poly_tbl (lsoacd)')\n",
    "    con.execute('CREATE UNIQUE INDEX lsoacd_pwc_idx ON lsoa_pwc_tbl (lsoacd)')\n",
    "    con.execute('CREATE OR REPLACE TABLE ca_tenure_lsoa_tbl AS SELECT * FROM ca_tenure_lsoa')\n",
    "    con.execute('CREATE UNIQUE INDEX lsoacd_tenure_idx ON ca_tenure_lsoa_tbl (lsoacd)')\n",
    "    con.execute('CREATE OR REPLACE TABLE ca_la_tbl AS SELECT * FROM ca_la_df')\n",
    "    con.execute('CREATE OR REPLACE TABLE imd_tbl AS SELECT * FROM imd_df')\n",
    "    # con.execute('CREATE OR REPLACE TABLE postcodes_tbl AS SELECT * FROM postcodes_df')\n",
    "    # con.execute('CREATE UNIQUE INDEX postcode_idx ON postcodes_tbl (postcode)')\n",
    "    con.execute('CREATE OR REPLACE TABLE postcode_centroids_tbl AS SELECT * FROM pc_centroids_df')\n",
    "    con.execute('CREATE UNIQUE INDEX postcode_centroids_idx ON postcode_centroids_tbl (PCDS)')\n",
    "    con.execute('CREATE OR REPLACE TABLE epc_non_domestic_tbl AS SELECT * FROM epc_non_domestic_df')\n",
    "    con.execute('CREATE UNIQUE INDEX uprn_nondom_idx ON epc_non_domestic_tbl (uprn)')\n",
    "    con.execute('CREATE OR REPLACE TABLE ca_la_dft_lookup_tbl AS SELECT * FROM ca_la_dft_lookup_df')\n",
    "    con.execute('CREATE UNIQUE INDEX ca_la_dft_lookup_idx ON ca_la_dft_lookup_tbl (ladcd)')\n",
    "    con.execute(\"COMMIT;\")\n",
    "except Exception as e:\n",
    "    # If an error occurs, rollback the transaction\n",
    "    con.execute(\"ROLLBACK;\")\n",
    "    print(f\"Transaction rolled back due to an error: {e}\")"
   ]
  },
  {
   "cell_type": "markdown",
   "metadata": {},
   "source": [
    "Have to do the domestic epc's outside the transaction block otherwise memory fail"
   ]
  },
  {
   "cell_type": "code",
   "execution_count": 40,
   "metadata": {},
   "outputs": [],
   "source": [
    "del epc_non_domestic_df, pc_centroids_df"
   ]
  },
  {
   "cell_type": "code",
   "execution_count": 41,
   "metadata": {},
   "outputs": [
    {
     "data": {
      "text/plain": [
       "<duckdb.duckdb.DuckDBPyConnection at 0x13400337370>"
      ]
     },
     "execution_count": 41,
     "metadata": {},
     "output_type": "execute_result"
    }
   ],
   "source": [
    "con.execute('CREATE OR REPLACE TABLE epc_domestic_tbl AS SELECT * FROM epc_domestic_df')\n",
    "con.execute('CREATE UNIQUE INDEX uprn_idx ON epc_domestic_tbl (uprn)')"
   ]
  },
  {
   "cell_type": "code",
   "execution_count": 44,
   "metadata": {},
   "outputs": [],
   "source": [
    "del epc_domestic_df, ca_tenure_lsoa"
   ]
  },
  {
   "cell_type": "code",
   "execution_count": 45,
   "metadata": {},
   "outputs": [
    {
     "data": {
      "text/plain": [
       "<duckdb.duckdb.DuckDBPyConnection at 0x13400337370>"
      ]
     },
     "execution_count": 45,
     "metadata": {},
     "output_type": "execute_result"
    }
   ],
   "source": [
    "con.execute(\"EXPORT DATABASE 'data/db_export' (FORMAT PARQUET);\")"
   ]
  },
  {
   "cell_type": "code",
   "execution_count": 46,
   "metadata": {},
   "outputs": [],
   "source": [
    "con.close()"
   ]
  },
  {
   "cell_type": "code",
   "execution_count": null,
   "metadata": {},
   "outputs": [],
   "source": [
    "# con = duckdb.connect('data/ca_epc_test.duckdb')\n",
    "\n",
    "# con.execute(command_list[5])"
   ]
  },
  {
   "cell_type": "markdown",
   "metadata": {},
   "source": [
    "below is superseded by transaction above"
   ]
  },
  {
   "cell_type": "code",
   "execution_count": null,
   "metadata": {},
   "outputs": [],
   "source": [
    "# out = get_ca.load_data(command_list=command_list, db_path='data/ca_epc.duckdb', overwrite = True)"
   ]
  },
  {
   "cell_type": "markdown",
   "metadata": {},
   "source": [
    "Introspect Database\n"
   ]
  },
  {
   "cell_type": "code",
   "execution_count": null,
   "metadata": {},
   "outputs": [],
   "source": [
    "con = duckdb.connect('data/ca_epc.duckdb')"
   ]
  },
  {
   "cell_type": "code",
   "execution_count": null,
   "metadata": {},
   "outputs": [
    {
     "data": {
      "text/plain": [
       "┌──────────┬─────────┬──────────────────────┬──────────────────────┬───────────────────────────────────────┬───────────┐\n",
       "│ database │ schema  │         name         │     column_names     │             column_types              │ temporary │\n",
       "│ varchar  │ varchar │       varchar        │      varchar[]       │               varchar[]               │  boolean  │\n",
       "├──────────┼─────────┼──────────────────────┼──────────────────────┼───────────────────────────────────────┼───────────┤\n",
       "│ ca_epc   │ main    │ ca_la_dft_lookup_tbl │ [dft_la_id, ladcd,…  │ [BIGINT, VARCHAR, BIGINT]             │ false     │\n",
       "│ ca_epc   │ main    │ ca_la_tbl            │ [ladcd, ladnm, cau…  │ [VARCHAR, VARCHAR, VARCHAR, VARCHAR]  │ false     │\n",
       "│ ca_epc   │ main    │ ca_tenure_lsoa_tbl   │ [lsoa, total, owne…  │ [VARCHAR, BIGINT, BIGINT, BIGINT, B…  │ false     │\n",
       "│ ca_epc   │ main    │ epc_domestic_tbl     │ [uprn, lmk_key, po…  │ [BIGINT, VARCHAR, VARCHAR, VARCHAR,…  │ false     │\n",
       "│ ca_epc   │ main    │ epc_non_domestic_tbl │ [uprn, lmk_key, po…  │ [VARCHAR, VARCHAR, VARCHAR, BIGINT,…  │ false     │\n",
       "│ ca_epc   │ main    │ imd_tbl              │ [lsoacd, lsoanm, l…  │ [VARCHAR, VARCHAR, VARCHAR, VARCHAR…  │ false     │\n",
       "│ ca_epc   │ main    │ lsoa_poly_tbl        │ [LSOA21NM, BNG_E, …  │ [VARCHAR, INTEGER, INTEGER, DOUBLE,…  │ false     │\n",
       "│ ca_epc   │ main    │ lsoa_pwc_tbl         │ [lsoacd, geom]       │ [VARCHAR, GEOMETRY]                   │ false     │\n",
       "│ ca_epc   │ main    │ postcode_centroids…  │ [objectid, pcd, pc…  │ [BIGINT, VARCHAR, VARCHAR, VARCHAR,…  │ false     │\n",
       "└──────────┴─────────┴──────────────────────┴──────────────────────┴───────────────────────────────────────┴───────────┘"
      ]
     },
     "execution_count": 39,
     "metadata": {},
     "output_type": "execute_result"
    }
   ],
   "source": [
    "con.sql(\"SHOW ALL TABLES;\")"
   ]
  },
  {
   "cell_type": "code",
   "execution_count": null,
   "metadata": {},
   "outputs": [
    {
     "data": {
      "text/plain": [
       "┌───────────────────────────┬─────────────┬─────────┬─────────┬─────────┬─────────┐\n",
       "│        column_name        │ column_type │  null   │   key   │ default │  extra  │\n",
       "│          varchar          │   varchar   │ varchar │ varchar │ varchar │ varchar │\n",
       "├───────────────────────────┼─────────────┼─────────┼─────────┼─────────┼─────────┤\n",
       "│ uprn                      │ BIGINT      │ YES     │ NULL    │ NULL    │ NULL    │\n",
       "│ lmk_key                   │ VARCHAR     │ YES     │ NULL    │ NULL    │ NULL    │\n",
       "│ postcode                  │ VARCHAR     │ YES     │ NULL    │ NULL    │ NULL    │\n",
       "│ local_authority           │ VARCHAR     │ YES     │ NULL    │ NULL    │ NULL    │\n",
       "│ property_type             │ VARCHAR     │ YES     │ NULL    │ NULL    │ NULL    │\n",
       "│ transaction_type          │ VARCHAR     │ YES     │ NULL    │ NULL    │ NULL    │\n",
       "│ tenure                    │ VARCHAR     │ YES     │ NULL    │ NULL    │ NULL    │\n",
       "│ mains_gas_flag            │ VARCHAR     │ YES     │ NULL    │ NULL    │ NULL    │\n",
       "│ hot_water_energy_eff      │ VARCHAR     │ YES     │ NULL    │ NULL    │ NULL    │\n",
       "│ windows_description       │ VARCHAR     │ YES     │ NULL    │ NULL    │ NULL    │\n",
       "│          ·                │   ·         │  ·      │  ·      │  ·      │  ·      │\n",
       "│          ·                │   ·         │  ·      │  ·      │  ·      │  ·      │\n",
       "│          ·                │   ·         │  ·      │  ·      │  ·      │  ·      │\n",
       "│ hot_water_cost_current    │ BIGINT      │ YES     │ NULL    │ NULL    │ NULL    │\n",
       "│ hot_water_cost_potential  │ BIGINT      │ YES     │ NULL    │ NULL    │ NULL    │\n",
       "│ total_floor_area          │ DOUBLE      │ YES     │ NULL    │ NULL    │ NULL    │\n",
       "│ number_habitable_rooms    │ BIGINT      │ YES     │ NULL    │ NULL    │ NULL    │\n",
       "│ number_heated_rooms       │ BIGINT      │ YES     │ NULL    │ NULL    │ NULL    │\n",
       "│ photo_supply              │ DOUBLE      │ YES     │ NULL    │ NULL    │ NULL    │\n",
       "│ building_reference_number │ BIGINT      │ YES     │ NULL    │ NULL    │ NULL    │\n",
       "│ date                      │ VARCHAR     │ YES     │ NULL    │ NULL    │ NULL    │\n",
       "│ year                      │ INTEGER     │ YES     │ NULL    │ NULL    │ NULL    │\n",
       "│ month                     │ SMALLINT    │ YES     │ NULL    │ NULL    │ NULL    │\n",
       "├───────────────────────────┴─────────────┴─────────┴─────────┴─────────┴─────────┤\n",
       "│ 52 rows (20 shown)                                                    6 columns │\n",
       "└─────────────────────────────────────────────────────────────────────────────────┘"
      ]
     },
     "execution_count": 40,
     "metadata": {},
     "output_type": "execute_result"
    }
   ],
   "source": [
    "con.sql('DESCRIBE epc_domestic_tbl')"
   ]
  },
  {
   "cell_type": "code",
   "execution_count": null,
   "metadata": {},
   "outputs": [
    {
     "data": {
      "text/plain": [
       "┌───────────────────────────┬─────────────┬─────────┬─────────┬─────────┬─────────┐\n",
       "│        column_name        │ column_type │  null   │   key   │ default │  extra  │\n",
       "│          varchar          │   varchar   │ varchar │ varchar │ varchar │ varchar │\n",
       "├───────────────────────────┼─────────────┼─────────┼─────────┼─────────┼─────────┤\n",
       "│ uprn                      │ VARCHAR     │ YES     │ NULL    │ NULL    │ NULL    │\n",
       "│ lmk_key                   │ VARCHAR     │ YES     │ NULL    │ NULL    │ NULL    │\n",
       "│ postcode                  │ VARCHAR     │ YES     │ NULL    │ NULL    │ NULL    │\n",
       "│ building_reference_number │ BIGINT      │ YES     │ NULL    │ NULL    │ NULL    │\n",
       "│ asset_rating              │ BIGINT      │ YES     │ NULL    │ NULL    │ NULL    │\n",
       "│ asset_rating_band         │ VARCHAR     │ YES     │ NULL    │ NULL    │ NULL    │\n",
       "│ property_type             │ VARCHAR     │ YES     │ NULL    │ NULL    │ NULL    │\n",
       "│ local_authority           │ VARCHAR     │ YES     │ NULL    │ NULL    │ NULL    │\n",
       "│ constituency              │ VARCHAR     │ YES     │ NULL    │ NULL    │ NULL    │\n",
       "│ transaction_type          │ VARCHAR     │ YES     │ NULL    │ NULL    │ NULL    │\n",
       "│ standard_emissions        │ DOUBLE      │ YES     │ NULL    │ NULL    │ NULL    │\n",
       "│ typical_emissions         │ DOUBLE      │ YES     │ NULL    │ NULL    │ NULL    │\n",
       "│ target_emissions          │ DOUBLE      │ YES     │ NULL    │ NULL    │ NULL    │\n",
       "│ building_emissions        │ DOUBLE      │ YES     │ NULL    │ NULL    │ NULL    │\n",
       "│ building_level            │ BIGINT      │ YES     │ NULL    │ NULL    │ NULL    │\n",
       "│ renewable_sources         │ VARCHAR     │ YES     │ NULL    │ NULL    │ NULL    │\n",
       "│ date                      │ VARCHAR     │ YES     │ NULL    │ NULL    │ NULL    │\n",
       "│ year                      │ INTEGER     │ YES     │ NULL    │ NULL    │ NULL    │\n",
       "│ month                     │ SMALLINT    │ YES     │ NULL    │ NULL    │ NULL    │\n",
       "├───────────────────────────┴─────────────┴─────────┴─────────┴─────────┴─────────┤\n",
       "│ 19 rows                                                               6 columns │\n",
       "└─────────────────────────────────────────────────────────────────────────────────┘"
      ]
     },
     "execution_count": 41,
     "metadata": {},
     "output_type": "execute_result"
    }
   ],
   "source": [
    "con.sql('DESCRIBE epc_non_domestic_tbl')"
   ]
  },
  {
   "cell_type": "code",
   "execution_count": null,
   "metadata": {},
   "outputs": [
    {
     "data": {
      "text/plain": [
       "┌──────────┐\n",
       "│ num_rows │\n",
       "│  int64   │\n",
       "├──────────┤\n",
       "│     9585 │\n",
       "└──────────┘"
      ]
     },
     "execution_count": 42,
     "metadata": {},
     "output_type": "execute_result"
    }
   ],
   "source": [
    "con.sql('SELECT COUNT(*) num_rows FROM lsoa_pwc_tbl')"
   ]
  },
  {
   "cell_type": "code",
   "execution_count": null,
   "metadata": {},
   "outputs": [],
   "source": []
  },
  {
   "cell_type": "code",
   "execution_count": null,
   "metadata": {},
   "outputs": [],
   "source": [
    "con.close()"
   ]
  },
  {
   "cell_type": "markdown",
   "metadata": {},
   "source": [
    "Section below is to load data into SQLite."
   ]
  },
  {
   "cell_type": "code",
   "execution_count": null,
   "metadata": {},
   "outputs": [],
   "source": [
    "# dictionary of all the dfs to be imported to sqlite - for datasette\n",
    "dfs_dict = {\n",
    "    'ca_la_tbl':ca_la_df,\n",
    "    'imd_tbl':imd_df,\n",
    "    'postcodes_tbl':postcodes_df,\n",
    "    'epc_domestic_tbl':epc_domestic_df,\n",
    "    'epc_non_domestic_tbl': epc_non_domestic_df,\n",
    "    'ca_la_dft_lookup_tbl':ca_la_dft_lookup_df\n",
    "\n",
    "}"
   ]
  },
  {
   "cell_type": "code",
   "execution_count": null,
   "metadata": {},
   "outputs": [],
   "source": [
    "# %pip install adbc_driver_sqlite"
   ]
  },
  {
   "cell_type": "code",
   "execution_count": null,
   "metadata": {},
   "outputs": [
    {
     "data": {
      "text/plain": [
       "[None, None, None, None, None, None]"
      ]
     },
     "execution_count": 23,
     "metadata": {},
     "output_type": "execute_result"
    }
   ],
   "source": [
    "[df.write_csv(f'data/holding/{table_name}.csv') for table_name, df in dfs_dict.items()]"
   ]
  },
  {
   "cell_type": "code",
   "execution_count": null,
   "metadata": {},
   "outputs": [],
   "source": [
    "def import_dfs(folder_path: str = 'data/holding'):\n",
    "    # Looping through each CSV file in the folder\n",
    "    for file in Path(folder_path).glob('*.csv'):\n",
    "        # Getting the stem (file name without extension) of the file\n",
    "        stem = file.stem\n",
    "\n",
    "        # Reading the CSV file into a DataFrame\n",
    "        df = pl.read_csv(file)\n",
    "\n",
    "        # Storing the DataFrame in the dictionary with the stem as the key\n",
    "        globals()[stem] = df\n",
    "    # return dataframes"
   ]
  },
  {
   "cell_type": "code",
   "execution_count": null,
   "metadata": {},
   "outputs": [],
   "source": [
    "import_dfs() # to save running the import routines"
   ]
  },
  {
   "cell_type": "code",
   "execution_count": null,
   "metadata": {},
   "outputs": [],
   "source": []
  },
  {
   "cell_type": "code",
   "execution_count": null,
   "metadata": {},
   "outputs": [],
   "source": [
    "get_ca.populate_sqlite(dfs_dict, db_path='data/sqlite/ca_epc.db', overwrite=True)"
   ]
  },
  {
   "cell_type": "code",
   "execution_count": null,
   "metadata": {},
   "outputs": [],
   "source": []
  },
  {
   "cell_type": "code",
   "execution_count": null,
   "metadata": {},
   "outputs": [],
   "source": []
  },
  {
   "cell_type": "code",
   "execution_count": null,
   "metadata": {},
   "outputs": [],
   "source": []
  },
  {
   "cell_type": "code",
   "execution_count": null,
   "metadata": {},
   "outputs": [
    {
     "ename": "NameError",
     "evalue": "name 'ca_la_df' is not defined",
     "output_type": "error",
     "traceback": [
      "\u001b[1;31m---------------------------------------------------------------------------\u001b[0m",
      "\u001b[1;31mNameError\u001b[0m                                 Traceback (most recent call last)",
      "Cell \u001b[1;32mIn[10], line 1\u001b[0m\n\u001b[1;32m----> 1\u001b[0m \u001b[43mget_ca\u001b[49m\u001b[38;5;241;43m.\u001b[39;49m\u001b[43mpopulate_sqlite\u001b[49m\u001b[43m(\u001b[49m\u001b[43mtables_dict\u001b[49m\u001b[43m,\u001b[49m\u001b[43m \u001b[49m\u001b[43muri\u001b[49m\u001b[43m)\u001b[49m\n",
      "File \u001b[1;32mc:\\Users\\steve.crawshaw\\OneDrive - West Of England Combined Authority\\Documents\\r-projects\\weca_cesap\\get_ca_data.py:414\u001b[0m, in \u001b[0;36mpopulate_sqlite\u001b[1;34m(tables_dict, uri)\u001b[0m\n\u001b[0;32m    405\u001b[0m \u001b[38;5;28;01mdef\u001b[39;00m \u001b[38;5;21mload_pldf\u001b[39m(pldf: pl\u001b[38;5;241m.\u001b[39mDataFrame, table_name: \u001b[38;5;28mstr\u001b[39m, uri: \u001b[38;5;28mstr\u001b[39m \u001b[38;5;241m=\u001b[39m uri):\n\u001b[0;32m    406\u001b[0m     (\u001b[38;5;28meval\u001b[39m(pldf) \u001b[38;5;66;03m# evaluate the string name of the pl.DataFrame\u001b[39;00m\n\u001b[0;32m    407\u001b[0m     \u001b[38;5;241m.\u001b[39mwrite_database(\n\u001b[0;32m    408\u001b[0m         table_name \u001b[38;5;241m=\u001b[39m table_name, \n\u001b[1;32m   (...)\u001b[0m\n\u001b[0;32m    412\u001b[0m     )\n\u001b[0;32m    413\u001b[0m     )\n\u001b[1;32m--> 414\u001b[0m [load_pldf(pldf, table_name) \u001b[38;5;28;01mfor\u001b[39;00m pldf, table_name \u001b[38;5;129;01min\u001b[39;00m tables_dict\u001b[38;5;241m.\u001b[39mitems()]\n",
      "File \u001b[1;32mc:\\Users\\steve.crawshaw\\OneDrive - West Of England Combined Authority\\Documents\\r-projects\\weca_cesap\\get_ca_data.py:414\u001b[0m, in \u001b[0;36m<listcomp>\u001b[1;34m(.0)\u001b[0m\n\u001b[0;32m    405\u001b[0m \u001b[38;5;28;01mdef\u001b[39;00m \u001b[38;5;21mload_pldf\u001b[39m(pldf: pl\u001b[38;5;241m.\u001b[39mDataFrame, table_name: \u001b[38;5;28mstr\u001b[39m, uri: \u001b[38;5;28mstr\u001b[39m \u001b[38;5;241m=\u001b[39m uri):\n\u001b[0;32m    406\u001b[0m     (\u001b[38;5;28meval\u001b[39m(pldf) \u001b[38;5;66;03m# evaluate the string name of the pl.DataFrame\u001b[39;00m\n\u001b[0;32m    407\u001b[0m     \u001b[38;5;241m.\u001b[39mwrite_database(\n\u001b[0;32m    408\u001b[0m         table_name \u001b[38;5;241m=\u001b[39m table_name, \n\u001b[1;32m   (...)\u001b[0m\n\u001b[0;32m    412\u001b[0m     )\n\u001b[0;32m    413\u001b[0m     )\n\u001b[1;32m--> 414\u001b[0m [\u001b[43mload_pldf\u001b[49m\u001b[43m(\u001b[49m\u001b[43mpldf\u001b[49m\u001b[43m,\u001b[49m\u001b[43m \u001b[49m\u001b[43mtable_name\u001b[49m\u001b[43m)\u001b[49m \u001b[38;5;28;01mfor\u001b[39;00m pldf, table_name \u001b[38;5;129;01min\u001b[39;00m tables_dict\u001b[38;5;241m.\u001b[39mitems()]\n",
      "File \u001b[1;32mc:\\Users\\steve.crawshaw\\OneDrive - West Of England Combined Authority\\Documents\\r-projects\\weca_cesap\\get_ca_data.py:406\u001b[0m, in \u001b[0;36mpopulate_sqlite.<locals>.load_pldf\u001b[1;34m(pldf, table_name, uri)\u001b[0m\n\u001b[0;32m    405\u001b[0m \u001b[38;5;28;01mdef\u001b[39;00m \u001b[38;5;21mload_pldf\u001b[39m(pldf: pl\u001b[38;5;241m.\u001b[39mDataFrame, table_name: \u001b[38;5;28mstr\u001b[39m, uri: \u001b[38;5;28mstr\u001b[39m \u001b[38;5;241m=\u001b[39m uri):\n\u001b[1;32m--> 406\u001b[0m     (\u001b[38;5;28;43meval\u001b[39;49m\u001b[43m(\u001b[49m\u001b[43mpldf\u001b[49m\u001b[43m)\u001b[49m \u001b[38;5;66;03m# evaluate the string name of the pl.DataFrame\u001b[39;00m\n\u001b[0;32m    407\u001b[0m     \u001b[38;5;241m.\u001b[39mwrite_database(\n\u001b[0;32m    408\u001b[0m         table_name \u001b[38;5;241m=\u001b[39m table_name, \n\u001b[0;32m    409\u001b[0m         if_exists \u001b[38;5;241m=\u001b[39m \u001b[38;5;124m'\u001b[39m\u001b[38;5;124mreplace\u001b[39m\u001b[38;5;124m'\u001b[39m,\n\u001b[0;32m    410\u001b[0m         connection \u001b[38;5;241m=\u001b[39m uri,\n\u001b[0;32m    411\u001b[0m         engine \u001b[38;5;241m=\u001b[39m \u001b[38;5;124m'\u001b[39m\u001b[38;5;124madbc\u001b[39m\u001b[38;5;124m'\u001b[39m\n\u001b[0;32m    412\u001b[0m     )\n\u001b[0;32m    413\u001b[0m     )\n",
      "File \u001b[1;32m<string>:1\u001b[0m\n",
      "\u001b[1;31mNameError\u001b[0m: name 'ca_la_df' is not defined"
     ]
    }
   ],
   "source": [
    "get_ca.populate_sqlite(tables_dict, uri)"
   ]
  },
  {
   "cell_type": "code",
   "execution_count": null,
   "metadata": {},
   "outputs": [],
   "source": []
  },
  {
   "cell_type": "code",
   "execution_count": null,
   "metadata": {},
   "outputs": [
    {
     "ename": "InternalError",
     "evalue": "INTERNAL: [SQLite] Failed to create table: table \"ca_la_tbl\" already exists (executed 'CREATE TABLE main . \"ca_la_tbl\" (\"ladcd\" TEXT, \"ladnm\" TEXT, \"cauthcd\" TEXT, \"cauthnm\" TEXT)')",
     "output_type": "error",
     "traceback": [
      "\u001b[1;31m---------------------------------------------------------------------------\u001b[0m",
      "\u001b[1;31mInternalError\u001b[0m                             Traceback (most recent call last)",
      "Cell \u001b[1;32mIn[46], line 1\u001b[0m\n\u001b[1;32m----> 1\u001b[0m [load_pldf(pldf, table_name) \u001b[38;5;28;01mfor\u001b[39;00m pldf, table_name \u001b[38;5;129;01min\u001b[39;00m tables_dict\u001b[38;5;241m.\u001b[39mitems()]\n",
      "Cell \u001b[1;32mIn[46], line 1\u001b[0m, in \u001b[0;36m<listcomp>\u001b[1;34m(.0)\u001b[0m\n\u001b[1;32m----> 1\u001b[0m [\u001b[43mload_pldf\u001b[49m\u001b[43m(\u001b[49m\u001b[43mpldf\u001b[49m\u001b[43m,\u001b[49m\u001b[43m \u001b[49m\u001b[43mtable_name\u001b[49m\u001b[43m)\u001b[49m \u001b[38;5;28;01mfor\u001b[39;00m pldf, table_name \u001b[38;5;129;01min\u001b[39;00m tables_dict\u001b[38;5;241m.\u001b[39mitems()]\n",
      "Cell \u001b[1;32mIn[45], line 2\u001b[0m, in \u001b[0;36mload_pldf\u001b[1;34m(pldf, table_name, uri)\u001b[0m\n\u001b[0;32m      1\u001b[0m \u001b[38;5;28;01mdef\u001b[39;00m \u001b[38;5;21mload_pldf\u001b[39m(pldf: pl\u001b[38;5;241m.\u001b[39mDataFrame, table_name: \u001b[38;5;28mstr\u001b[39m, uri: \u001b[38;5;28mstr\u001b[39m \u001b[38;5;241m=\u001b[39m uri):\n\u001b[1;32m----> 2\u001b[0m     (\u001b[38;5;28;43meval\u001b[39;49m\u001b[43m(\u001b[49m\u001b[43mpldf\u001b[49m\u001b[43m)\u001b[49m\u001b[43m \u001b[49m\u001b[38;5;66;43;03m# evaluate the string name of the pl.DataFrame\u001b[39;49;00m\n\u001b[0;32m      3\u001b[0m \u001b[43m     \u001b[49m\u001b[38;5;241;43m.\u001b[39;49m\u001b[43mwrite_database\u001b[49m\u001b[43m(\u001b[49m\n\u001b[0;32m      4\u001b[0m \u001b[43m         \u001b[49m\u001b[43mtable_name\u001b[49m\u001b[43m \u001b[49m\u001b[38;5;241;43m=\u001b[39;49m\u001b[43m \u001b[49m\u001b[43mtable_name\u001b[49m\u001b[43m,\u001b[49m\u001b[43m \u001b[49m\n\u001b[0;32m      5\u001b[0m \u001b[43m         \u001b[49m\u001b[43mif_exists\u001b[49m\u001b[43m \u001b[49m\u001b[38;5;241;43m=\u001b[39;49m\u001b[43m \u001b[49m\u001b[38;5;124;43m'\u001b[39;49m\u001b[38;5;124;43mreplace\u001b[39;49m\u001b[38;5;124;43m'\u001b[39;49m\u001b[43m,\u001b[49m\n\u001b[0;32m      6\u001b[0m \u001b[43m         \u001b[49m\u001b[43mconnection\u001b[49m\u001b[43m \u001b[49m\u001b[38;5;241;43m=\u001b[39;49m\u001b[43m \u001b[49m\u001b[43muri\u001b[49m\u001b[43m,\u001b[49m\n\u001b[0;32m      7\u001b[0m \u001b[43m         \u001b[49m\u001b[43mengine\u001b[49m\u001b[43m \u001b[49m\u001b[38;5;241;43m=\u001b[39;49m\u001b[43m \u001b[49m\u001b[38;5;124;43m'\u001b[39;49m\u001b[38;5;124;43madbc\u001b[39;49m\u001b[38;5;124;43m'\u001b[39;49m\n\u001b[0;32m      8\u001b[0m \u001b[43m     \u001b[49m\u001b[43m)\u001b[49m\n\u001b[0;32m      9\u001b[0m      )\n",
      "File \u001b[1;32mc:\\Users\\steve.crawshaw\\micromamba\\envs\\llm\\lib\\site-packages\\polars\\utils\\deprecation.py:95\u001b[0m, in \u001b[0;36mdeprecate_renamed_parameter.<locals>.decorate.<locals>.wrapper\u001b[1;34m(*args, **kwargs)\u001b[0m\n\u001b[0;32m     90\u001b[0m \u001b[38;5;129m@wraps\u001b[39m(function)\n\u001b[0;32m     91\u001b[0m \u001b[38;5;28;01mdef\u001b[39;00m \u001b[38;5;21mwrapper\u001b[39m(\u001b[38;5;241m*\u001b[39margs: P\u001b[38;5;241m.\u001b[39margs, \u001b[38;5;241m*\u001b[39m\u001b[38;5;241m*\u001b[39mkwargs: P\u001b[38;5;241m.\u001b[39mkwargs) \u001b[38;5;241m-\u001b[39m\u001b[38;5;241m>\u001b[39m T:\n\u001b[0;32m     92\u001b[0m     _rename_keyword_argument(\n\u001b[0;32m     93\u001b[0m         old_name, new_name, kwargs, function\u001b[38;5;241m.\u001b[39m\u001b[38;5;18m__name__\u001b[39m, version\n\u001b[0;32m     94\u001b[0m     )\n\u001b[1;32m---> 95\u001b[0m     \u001b[38;5;28;01mreturn\u001b[39;00m function(\u001b[38;5;241m*\u001b[39margs, \u001b[38;5;241m*\u001b[39m\u001b[38;5;241m*\u001b[39mkwargs)\n",
      "File \u001b[1;32mc:\\Users\\steve.crawshaw\\micromamba\\envs\\llm\\lib\\site-packages\\polars\\dataframe\\frame.py:3423\u001b[0m, in \u001b[0;36mDataFrame.write_database\u001b[1;34m(self, table_name, connection, if_exists, engine)\u001b[0m\n\u001b[0;32m   3418\u001b[0m         \u001b[38;5;28;01mraise\u001b[39;00m \u001b[38;5;167;01mValueError\u001b[39;00m(\n\u001b[0;32m   3419\u001b[0m             \u001b[38;5;124mf\u001b[39m\u001b[38;5;124m\"\u001b[39m\u001b[38;5;124munexpected value for `if_exists`: \u001b[39m\u001b[38;5;132;01m{\u001b[39;00mif_exists\u001b[38;5;132;01m!r}\u001b[39;00m\u001b[38;5;124m\"\u001b[39m\n\u001b[0;32m   3420\u001b[0m             \u001b[38;5;124mf\u001b[39m\u001b[38;5;124m\"\u001b[39m\u001b[38;5;130;01m\\n\u001b[39;00m\u001b[38;5;130;01m\\n\u001b[39;00m\u001b[38;5;124mChoose one of: \u001b[39m\u001b[38;5;132;01m{\u001b[39;00m\u001b[38;5;124m'\u001b[39m\u001b[38;5;124mfail\u001b[39m\u001b[38;5;124m'\u001b[39m,\u001b[38;5;250m \u001b[39m\u001b[38;5;124m'\u001b[39m\u001b[38;5;124mreplace\u001b[39m\u001b[38;5;124m'\u001b[39m,\u001b[38;5;250m \u001b[39m\u001b[38;5;124m'\u001b[39m\u001b[38;5;124mappend\u001b[39m\u001b[38;5;124m'\u001b[39m\u001b[38;5;132;01m}\u001b[39;00m\u001b[38;5;124m\"\u001b[39m\n\u001b[0;32m   3421\u001b[0m         )\n\u001b[0;32m   3422\u001b[0m     \u001b[38;5;28;01mwith\u001b[39;00m _open_adbc_connection(connection) \u001b[38;5;28;01mas\u001b[39;00m conn, conn\u001b[38;5;241m.\u001b[39mcursor() \u001b[38;5;28;01mas\u001b[39;00m cursor:\n\u001b[1;32m-> 3423\u001b[0m         \u001b[43mcursor\u001b[49m\u001b[38;5;241;43m.\u001b[39;49m\u001b[43madbc_ingest\u001b[49m\u001b[43m(\u001b[49m\u001b[43mtable_name\u001b[49m\u001b[43m,\u001b[49m\u001b[43m \u001b[49m\u001b[38;5;28;43mself\u001b[39;49m\u001b[38;5;241;43m.\u001b[39;49m\u001b[43mto_arrow\u001b[49m\u001b[43m(\u001b[49m\u001b[43m)\u001b[49m\u001b[43m,\u001b[49m\u001b[43m \u001b[49m\u001b[43mmode\u001b[49m\u001b[43m)\u001b[49m\n\u001b[0;32m   3424\u001b[0m         conn\u001b[38;5;241m.\u001b[39mcommit()\n\u001b[0;32m   3426\u001b[0m \u001b[38;5;28;01melif\u001b[39;00m engine \u001b[38;5;241m==\u001b[39m \u001b[38;5;124m\"\u001b[39m\u001b[38;5;124msqlalchemy\u001b[39m\u001b[38;5;124m\"\u001b[39m:\n",
      "File \u001b[1;32mc:\\Users\\steve.crawshaw\\micromamba\\envs\\llm\\lib\\site-packages\\adbc_driver_manager\\dbapi.py:894\u001b[0m, in \u001b[0;36mCursor.adbc_ingest\u001b[1;34m(self, table_name, data, mode, catalog_name, db_schema_name, temporary)\u001b[0m\n\u001b[0;32m    891\u001b[0m     \u001b[38;5;28mself\u001b[39m\u001b[38;5;241m.\u001b[39m_stmt\u001b[38;5;241m.\u001b[39mbind_stream(handle)\n\u001b[0;32m    893\u001b[0m \u001b[38;5;28mself\u001b[39m\u001b[38;5;241m.\u001b[39m_last_query \u001b[38;5;241m=\u001b[39m \u001b[38;5;28;01mNone\u001b[39;00m\n\u001b[1;32m--> 894\u001b[0m \u001b[38;5;28;01mreturn\u001b[39;00m \u001b[38;5;28;43mself\u001b[39;49m\u001b[38;5;241;43m.\u001b[39;49m\u001b[43m_stmt\u001b[49m\u001b[38;5;241;43m.\u001b[39;49m\u001b[43mexecute_update\u001b[49m\u001b[43m(\u001b[49m\u001b[43m)\u001b[49m\n",
      "File \u001b[1;32mc:\\Users\\steve.crawshaw\\micromamba\\envs\\llm\\lib\\site-packages\\adbc_driver_manager\\_lib.pyx:1184\u001b[0m, in \u001b[0;36madbc_driver_manager._lib.AdbcStatement.execute_update\u001b[1;34m()\u001b[0m\n",
      "File \u001b[1;32mc:\\Users\\steve.crawshaw\\micromamba\\envs\\llm\\lib\\site-packages\\adbc_driver_manager\\_lib.pyx:227\u001b[0m, in \u001b[0;36madbc_driver_manager._lib.check_error\u001b[1;34m()\u001b[0m\n",
      "\u001b[1;31mInternalError\u001b[0m: INTERNAL: [SQLite] Failed to create table: table \"ca_la_tbl\" already exists (executed 'CREATE TABLE main . \"ca_la_tbl\" (\"ladcd\" TEXT, \"ladnm\" TEXT, \"cauthcd\" TEXT, \"cauthnm\" TEXT)')"
     ]
    }
   ],
   "source": []
  },
  {
   "cell_type": "code",
   "execution_count": null,
   "metadata": {},
   "outputs": [],
   "source": [
    "# population weighted centroids for each LSOA - has to be downloaded as there is no straightforward way to query the CA LSOA's from\n",
    "# open online datasets\n",
    "\n",
    "lsoa_bng_file_path = get_ca.filter_geojson('data/geojson/LLSOA_Dec_2021_PWC_for_England_and_Wales_2022_-7534040603619445107.geojson',\n",
    " output_file='data/geojson/ca_lsoa_pwc.geojson',\n",
    " property_name = 'LSOA21CD',\n",
    " ca_lsoa_codes = ca_lsoa_codes)"
   ]
  },
  {
   "cell_type": "code",
   "execution_count": null,
   "metadata": {},
   "outputs": [
    {
     "data": {
      "text/plain": [
       "'data/geojson/ca_lsoa_pwc_wgs84.geojson'"
      ]
     },
     "execution_count": 10,
     "metadata": {},
     "output_type": "execute_result"
    }
   ],
   "source": [
    "get_ca.reproject(input_bng_file='data/geojson/ca_lsoa_pwc.geojson',\n",
    "                  output_wgs84_file='data/geojson/ca_lsoa_pwc_wgs84.geojson',\n",
    "                    lsoa_code='LSOA21CD')"
   ]
  },
  {
   "cell_type": "code",
   "execution_count": null,
   "metadata": {},
   "outputs": [],
   "source": [
    "\n",
    "db = Database('data/ca_epc.db', recreate = True)\n",
    "db.close()"
   ]
  },
  {
   "cell_type": "code",
   "execution_count": null,
   "metadata": {},
   "outputs": [],
   "source": [
    "# %pip install geojson-to-sqlite"
   ]
  },
  {
   "cell_type": "code",
   "execution_count": null,
   "metadata": {},
   "outputs": [
    {
     "name": "stderr",
     "output_type": "stream",
     "text": [
      "'geojson-to-sqlite' is not recognized as an internal or external command,\n",
      "operable program or batch file.\n"
     ]
    }
   ],
   "source": [
    "# import the lsoa PWC file as geojson to the DB setting the primary key to lsoacd\n",
    "!geojson-to-sqlite data/sqlite/ca_epc.db lsoa_pwc_tbl data/geojson/ca_lsoa_pwc_wgs84.geojson --pk=lsoacd\n"
   ]
  },
  {
   "cell_type": "code",
   "execution_count": null,
   "metadata": {},
   "outputs": [
    {
     "name": "stdout",
     "output_type": "stream",
     "text": [
      "CREATE TABLE [lsoa_pwc_tbl] (\n",
      "   [id] INTEGER,\n",
      "   [FID] INTEGER,\n",
      "   [GlobalID] TEXT,\n",
      "   [lsoacd] TEXT PRIMARY KEY,\n",
      "   [geometry] TEXT\n",
      ");\n"
     ]
    }
   ],
   "source": [
    "db = Database('data/ca_epc.db', recreate = False)\n",
    "print(db.schema)"
   ]
  },
  {
   "cell_type": "code",
   "execution_count": null,
   "metadata": {},
   "outputs": [
    {
     "data": {
      "text/plain": [
       "<Table imd_tbl (lsoacd, lsoanm, ladcd, ladnm, imd)>"
      ]
     },
     "execution_count": 12,
     "metadata": {},
     "output_type": "execute_result"
    }
   ],
   "source": [
    "db['imd_tbl'].create(\n",
    "{\n",
    " 'lsoacd': str,\n",
    " 'lsoanm': str,\n",
    " 'ladcd': str,\n",
    " 'ladnm': str,\n",
    " 'imd': int\n",
    " },\n",
    " pk = 'lsoacd'\n",
    ")"
   ]
  },
  {
   "cell_type": "code",
   "execution_count": null,
   "metadata": {},
   "outputs": [
    {
     "data": {
      "text/plain": [
       "<Table ca_la_tbl (ladcd, ladnm, cauthcd, cauthnm)>"
      ]
     },
     "execution_count": 13,
     "metadata": {},
     "output_type": "execute_result"
    }
   ],
   "source": [
    "db['ca_la_tbl'].create(\n",
    "{\n",
    " 'ladcd': str,\n",
    " 'ladnm': str,\n",
    " 'cauthcd': str,\n",
    " 'cauthnm': str\n",
    " },\n",
    " pk = 'ladcd'\n",
    ")"
   ]
  },
  {
   "cell_type": "code",
   "execution_count": null,
   "metadata": {},
   "outputs": [
    {
     "data": {
      "text/plain": [
       "<Table postcodes_tbl (pcds, lsoacd, msoacd, ladcd, ladnm)>"
      ]
     },
     "execution_count": 14,
     "metadata": {},
     "output_type": "execute_result"
    }
   ],
   "source": [
    "db['postcodes_tbl'].create(\n",
    "    {\"pcds\": str,\n",
    "     \"lsoacd\": str,\n",
    "     \"msoacd\": str,\n",
    "     \"ladcd\": str,\n",
    "     \"ladnm\": str},\n",
    "     pk = 'pcds'\n",
    "     )"
   ]
  },
  {
   "cell_type": "code",
   "execution_count": null,
   "metadata": {},
   "outputs": [],
   "source": [
    "print(db.schema)"
   ]
  },
  {
   "cell_type": "code",
   "execution_count": null,
   "metadata": {},
   "outputs": [
    {
     "data": {
      "text/plain": [
       "<Table imd_tbl (lsoacd, lsoanm, ladcd, ladnm, imd)>"
      ]
     },
     "execution_count": 16,
     "metadata": {},
     "output_type": "execute_result"
    }
   ],
   "source": [
    "# db['epc_clean_tbl'].add_foreign_key('postcode', 'postcodes_tbl', 'pcds') # too big causes crash\n",
    "db['postcodes_tbl'].add_foreign_key('lsoacd', 'imd_tbl', 'lsoacd')\n",
    "db['postcodes_tbl'].add_foreign_key('ladcd', 'ca_la_tbl', 'ladcd')\n",
    "db['postcodes_tbl'].add_foreign_key('lsoacd', 'lsoa_pwc_tbl', 'lsoacd')\n",
    "db['imd_tbl'].add_foreign_key('lsoacd', 'lsoa_pwc_tbl', 'lsoacd')"
   ]
  },
  {
   "cell_type": "code",
   "execution_count": null,
   "metadata": {},
   "outputs": [
    {
     "data": {
      "text/plain": [
       "<Table imd_tbl (lsoacd, lsoanm, ladcd, ladnm, imd)>"
      ]
     },
     "execution_count": 17,
     "metadata": {},
     "output_type": "execute_result"
    }
   ],
   "source": [
    "db['ca_la_tbl'].insert_all(ca_la_tbl_payload)\n",
    "# db['epc_clean_tbl'].insert_all(epc_clean_tbl_payload)\n",
    "db['postcodes_tbl'].insert_all(postcodes_tbl_payload)\n",
    "db['imd_tbl'].insert_all(imd_tbl_payload)\n"
   ]
  },
  {
   "cell_type": "code",
   "execution_count": null,
   "metadata": {},
   "outputs": [],
   "source": [
    "db.close()"
   ]
  }
 ],
 "metadata": {
  "kernelspec": {
   "display_name": "Python 3",
   "language": "python",
   "name": "python3"
  },
  "language_info": {
   "codemirror_mode": {
    "name": "ipython",
    "version": 3
   },
   "file_extension": ".py",
   "mimetype": "text/x-python",
   "name": "python",
   "nbconvert_exporter": "python",
   "pygments_lexer": "ipython3",
   "version": "3.10.12"
  }
 },
 "nbformat": 4,
 "nbformat_minor": 2
}
