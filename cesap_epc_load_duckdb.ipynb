{
 "cells": [
  {
   "cell_type": "code",
   "execution_count": 1,
   "metadata": {},
   "outputs": [],
   "source": [
    "# use .venv - make sure to restart jupyter kernel. duckdb need python 3.10\n",
    "import polars as pl\n",
    "import pyarrow\n",
    "import duckdb\n",
    "import get_ca_data as get_ca # functions for retrieving CA \\ common data\n",
    "from pathlib import Path\n"
   ]
  },
  {
   "cell_type": "markdown",
   "metadata": {},
   "source": [
    "This notebook retrieves all the base data needed for comparison analysis with other Combined Authorities and loads it into a duckdb database.\n",
    "SQLite was tried, but it is slow, not directly compatible with polars and does not work well with datasette because of the size of data."
   ]
  },
  {
   "cell_type": "code",
   "execution_count": 2,
   "metadata": {},
   "outputs": [],
   "source": [
    "ca_la_df = get_ca.get_ca_la_df(2023, inc_ns=True) # include NS\n",
    "# ca_la_df.glimpse()\n"
   ]
  },
  {
   "cell_type": "code",
   "execution_count": 3,
   "metadata": {},
   "outputs": [
    {
     "data": {
      "text/plain": [
       "'There are 54 Local Authorities in Combined Authorities'"
      ]
     },
     "execution_count": 3,
     "metadata": {},
     "output_type": "execute_result"
    }
   ],
   "source": [
    "# retrieve the epc certs from the source csv s\n",
    "la_list = (ca_la_df['ladcd']) #includes north somerset\n",
    "f'There are {str(la_list.shape)[1:3]} Local Authorities in Combined Authorities'\n"
   ]
  },
  {
   "cell_type": "markdown",
   "metadata": {},
   "source": [
    "Get the lookup table that relates DFT Local authority ID's in the Combined authorities to ONS LA codes"
   ]
  },
  {
   "cell_type": "code",
   "execution_count": 4,
   "metadata": {},
   "outputs": [],
   "source": [
    "ca_la_dft_lookup_df = get_ca.get_ca_la_dft_lookup(\n",
    "    dft_csv_path = 'https://storage.googleapis.com/dft-statistics/road-traffic/downloads/data-gov-uk/local_authority_traffic.csv',\n",
    "    la_list = la_list)\n",
    "# ca_la_dft_lookup_df.glimpse()"
   ]
  },
  {
   "cell_type": "code",
   "execution_count": 5,
   "metadata": {},
   "outputs": [],
   "source": [
    "ca_la_codes = get_ca.get_ca_la_codes(ca_la_df)\n",
    "postcode_file = get_ca.get_zipped_csv_file(url = \"https://www.arcgis.com/sharing/rest/content/items/3770c5e8b0c24f1dbe6d2fc6b46a0b18/data\",\n",
    "                      file_folder_name = \"postcode_lookup\")\n",
    "postcodes_df = get_ca.get_postcode_df(postcode_file, ca_la_codes)"
   ]
  },
  {
   "cell_type": "code",
   "execution_count": 6,
   "metadata": {},
   "outputs": [],
   "source": [
    "# this is hit by the 2000 record limit too so use DL file\n",
    "# input_file = get_ca.get_geojson(url = \"https://services1.arcgis.com/ESMARspQHYMw9BZ9/arcgis/rest/services/LLSOA_Dec_2021_PWC_for_England_and_Wales_2022/FeatureServer/0/query\",\n",
    "#                       destination_directory = \"data\\\\geojson\")"
   ]
  },
  {
   "cell_type": "code",
   "execution_count": 7,
   "metadata": {},
   "outputs": [],
   "source": [
    "ca_lsoa_codes = get_ca.get_ca_lsoa_codes(postcodes_df)"
   ]
  },
  {
   "cell_type": "markdown",
   "metadata": {},
   "source": [
    "run cell below if not needing to update LSOA geodata (its expensive and crashes)"
   ]
  },
  {
   "cell_type": "code",
   "execution_count": 8,
   "metadata": {},
   "outputs": [],
   "source": [
    "reproject_path = 'data/geojson/ca_lsoa_pwc_wgs84.geojson'\n",
    "reproject_lsoa_poly_path = 'data/geojson/ca_lsoa_poly_wgs84.geojson'"
   ]
  },
  {
   "cell_type": "code",
   "execution_count": 17,
   "metadata": {},
   "outputs": [],
   "source": [
    "# rename the LSOA features and return the path\n",
    "cleaned_lsoa_pwc_path = get_ca.clean_lsoa_geojson('data/geojson/LLSOA_Dec_2021_PWC_for_England_and_Wales_2022_-7534040603619445107 (2).geojson',\n",
    "                                                  lsoacd='LSOA21CD')"
   ]
  },
  {
   "cell_type": "code",
   "execution_count": 18,
   "metadata": {},
   "outputs": [],
   "source": [
    "# filter for just the LSOA's in Combined Authorities\n",
    "ca_lsoa_pwc_path = get_ca.filter_geojson(input_file = cleaned_lsoa_pwc_path,\n",
    "                                         output_file='data/geojson/ca_lsoa_pwc.geojson',\n",
    "                                         property_name ='lsoacd',\n",
    "                                         ca_lsoa_codes = ca_lsoa_codes)"
   ]
  },
  {
   "cell_type": "code",
   "execution_count": 20,
   "metadata": {},
   "outputs": [],
   "source": [
    "cleaned_lsoa_poly_path = get_ca.clean_lsoa_geojson('data/geojson/Lower_layer_Super_Output_Areas_2021_EW_BFC_V8_-8407643096148449625.geojson', lsoacd='LSOA21CD')"
   ]
  },
  {
   "cell_type": "code",
   "execution_count": 19,
   "metadata": {},
   "outputs": [],
   "source": [
    "# reproject to WGS84:4326 as default from ONS is 27700\n",
    "reproject_path = get_ca.reproject(ca_lsoa_pwc_path, output_wgs84_file='data/geojson/ca_lsoa_pwc_wgs84.geojson', lsoa_code = 'lsoacd')"
   ]
  },
  {
   "cell_type": "code",
   "execution_count": 21,
   "metadata": {},
   "outputs": [],
   "source": [
    "# filter for just the LSOA's polys in Combined Authorities\n",
    "ca_lsoa_poly_path = get_ca.filter_geojson(input_file = cleaned_lsoa_poly_path,\n",
    "                                         output_file='data/geojson/ca_lsoa_poly.geojson',\n",
    "                                         property_name ='lsoacd',\n",
    "                                         ca_lsoa_codes = ca_lsoa_codes)"
   ]
  },
  {
   "cell_type": "code",
   "execution_count": 22,
   "metadata": {},
   "outputs": [],
   "source": [
    "reproject_lsoa_poly_path = get_ca.reproject(ca_lsoa_poly_path, output_wgs84_file='data/geojson/ca_lsoa_poly_wgs84.geojson', lsoa_code = 'lsoacd')"
   ]
  },
  {
   "cell_type": "code",
   "execution_count": 9,
   "metadata": {},
   "outputs": [],
   "source": [
    "url_imd_csv = \"https://open-geography-portalx-ons.hub.arcgis.com/datasets/ons::index-of-multiple-deprivation-dec-2019-lookup-in-england.csv?where=1=1&outSR=%7B%22latestWkid%22%3A3857%2C%22wkid%22%3A102100%7D\""
   ]
  },
  {
   "cell_type": "code",
   "execution_count": 10,
   "metadata": {},
   "outputs": [],
   "source": [
    "imd_df_raw = pl.read_csv(url_imd_csv)"
   ]
  },
  {
   "cell_type": "code",
   "execution_count": 11,
   "metadata": {},
   "outputs": [],
   "source": [
    "rename_dict_imd = get_ca.get_rename_dict(imd_df_raw, get_ca.remove_numbers, rm_numbers = True)"
   ]
  },
  {
   "cell_type": "code",
   "execution_count": 12,
   "metadata": {},
   "outputs": [],
   "source": [
    "imd_df = (\n",
    "    imd_df_raw\n",
    "    .rename(rename_dict_imd)\n",
    "    .select(pl.all().exclude('fid'))\n",
    "    .filter(pl.col('lsoacd').is_in(ca_lsoa_codes))\n",
    ")\n",
    "n_unmatched_lsoas = len(ca_lsoa_codes) - imd_df.shape[0]"
   ]
  },
  {
   "cell_type": "code",
   "execution_count": 13,
   "metadata": {},
   "outputs": [],
   "source": [
    "del imd_df_raw"
   ]
  },
  {
   "cell_type": "code",
   "execution_count": 14,
   "metadata": {},
   "outputs": [],
   "source": [
    "# https://geoportal.statistics.gov.uk/datasets/lsoa-dec-2021-pwc-for-england-and-wales/explore"
   ]
  },
  {
   "cell_type": "code",
   "execution_count": 15,
   "metadata": {},
   "outputs": [],
   "source": [
    "cols_schema_nondom = {\n",
    "    'LMK_KEY': pl.Utf8,\n",
    "    'POSTCODE': pl.Utf8,\n",
    "    'BUILDING_REFERENCE_NUMBER': pl.Int64,\n",
    "    'ASSET_RATING': pl.Int64,\n",
    "    'ASSET_RATING_BAND': pl.Utf8,\n",
    "    'PROPERTY_TYPE': pl.Utf8,\n",
    "    'LOCAL_AUTHORITY': pl.Utf8,\n",
    "    'CONSTITUENCY': pl.Utf8,\n",
    "    'TRANSACTION_TYPE': pl.Utf8,\n",
    "    'STANDARD_EMISSIONS': pl.Float64,\n",
    "    'TYPICAL_EMISSIONS': pl.Float64,\n",
    "    'TARGET_EMISSIONS': pl.Float64,\n",
    "    'BUILDING_EMISSIONS': pl.Float64,\n",
    "    'BUILDING_LEVEL': pl.Int64,\n",
    "    'RENEWABLE_SOURCES': pl.Utf8,\n",
    "    'LODGEMENT_DATETIME': pl.Utf8,\n",
    "    'UPRN': pl.Utf8\n",
    "    }"
   ]
  },
  {
   "cell_type": "code",
   "execution_count": 16,
   "metadata": {},
   "outputs": [],
   "source": [
    "epc_non_domestic = (pl.scan_csv(\n",
    "    'data/all-non-domestic-certificates-single-file/certificates.csv',\n",
    "    schema = cols_schema_nondom,\n",
    "\n",
    ")\n",
    ".filter(pl.col('LOCAL_AUTHORITY').is_in(la_list.to_list()))\n",
    ".with_columns(pl.col('LODGEMENT_DATETIME').str.to_datetime(format='%Y-%m-%d %H:%M:%S', strict=False))\n",
    "                    .sort(pl.col(['UPRN', 'LODGEMENT_DATETIME']))\n",
    "                    .group_by('UPRN').last()\n",
    ").collect()"
   ]
  },
  {
   "cell_type": "code",
   "execution_count": 17,
   "metadata": {},
   "outputs": [],
   "source": [
    "cols_schema_dom = {\n",
    "                        'LMK_KEY':pl.Utf8,\n",
    "                        'POSTCODE':pl.Utf8,\n",
    "                        'LOCAL_AUTHORITY':pl.Utf8,\n",
    "                        'PROPERTY_TYPE':pl.Utf8,\n",
    "                        'LODGEMENT_DATETIME':pl.Utf8,\n",
    "                        'TRANSACTION_TYPE': pl.Utf8,\n",
    "                        'TENURE':pl.Utf8,\n",
    "                        'MAINS_GAS_FLAG':pl.Utf8,\n",
    "                        'HOT_WATER_ENERGY_EFF':pl.Utf8,\n",
    "                        'WINDOWS_DESCRIPTION':pl.Utf8,\n",
    "                        'WINDOWS_ENERGY_EFF':pl.Utf8,\n",
    "                        'WALLS_DESCRIPTION':pl.Utf8,\n",
    "                        'WALLS_ENERGY_EFF':pl.Utf8,\n",
    "                        'ROOF_DESCRIPTION':pl.Utf8,\n",
    "                        'ROOF_ENERGY_EFF':pl.Utf8,\n",
    "                        'MAINHEAT_DESCRIPTION':pl.Utf8,\n",
    "                        'MAINHEAT_ENERGY_EFF':pl.Utf8,\n",
    "                        'MAINHEAT_ENV_EFF':pl.Utf8,\n",
    "                        'MAIN_HEATING_CONTROLS':pl.Utf8,\n",
    "                        'MAINHEATCONT_DESCRIPTION':pl.Utf8,\n",
    "                        'MAINHEATC_ENERGY_EFF':pl.Utf8,\n",
    "                        'MAIN_FUEL':pl.Utf8,\n",
    "                        'SOLAR_WATER_HEATING_FLAG':pl.Utf8,\n",
    "                        'CONSTRUCTION_AGE_BAND':pl.Utf8,\n",
    "                        'CURRENT_ENERGY_RATING':pl.Utf8,\n",
    "                        'POTENTIAL_ENERGY_RATING':pl.Utf8,\n",
    "                        'CURRENT_ENERGY_EFFICIENCY':pl.Utf8,\n",
    "                        'POTENTIAL_ENERGY_EFFICIENCY':pl.Utf8,\n",
    "                        'BUILT_FORM':pl.Utf8,\n",
    "                        'CONSTITUENCY':pl.Utf8,\n",
    "                        'FLOOR_DESCRIPTION':pl.Utf8,\n",
    "                        'ENVIRONMENT_IMPACT_CURRENT':pl.Int64,\n",
    "                        'ENVIRONMENT_IMPACT_POTENTIAL':pl.Int64,\n",
    "                        'ENERGY_CONSUMPTION_CURRENT':pl.Int64,\n",
    "                        'ENERGY_CONSUMPTION_POTENTIAL':pl.Int64,\n",
    "                        'CO2_EMISS_CURR_PER_FLOOR_AREA':pl.Int64,\n",
    "                        'CO2_EMISSIONS_CURRENT': pl.Float64,\n",
    "                        'CO2_EMISSIONS_POTENTIAL':pl.Float64,\n",
    "                        'LIGHTING_COST_CURRENT':pl.Int64,\n",
    "                        'LIGHTING_COST_POTENTIAL':pl.Int64,\n",
    "                        'HEATING_COST_CURRENT':pl.Int64,\n",
    "                        'HEATING_COST_POTENTIAL':pl.Int64,\n",
    "                        'HOT_WATER_COST_CURRENT':pl.Int64,\n",
    "                        'HOT_WATER_COST_POTENTIAL':pl.Int64,\n",
    "                        'TOTAL_FLOOR_AREA':pl.Float64,\n",
    "                        'NUMBER_HABITABLE_ROOMS':pl.Int64,\n",
    "                        'NUMBER_HEATED_ROOMS':pl.Int64,\n",
    "                        'PHOTO_SUPPLY':pl.Float64,\n",
    "                        'UPRN':pl.Int64,\n",
    "                        'BUILDING_REFERENCE_NUMBER':pl.Int64\n",
    "                    }"
   ]
  },
  {
   "cell_type": "code",
   "execution_count": 18,
   "metadata": {},
   "outputs": [
    {
     "name": "stdout",
     "output_type": "stream",
     "text": [
      "Rows: 4778169\n",
      "Columns: 50\n",
      "$ UPRN                                   <i64> None, 4210003725, 10001239702, 10001239704, 10001239709, 10001239711, 10001239712, 10001239714, 10001239715, 10001239716\n",
      "$ LMK_KEY                                <str> '75436a7d8ce6132957c7c841b1bcec12a5749b472666c674b982b87b7b78d975', '8126d78434eb72180e023c7d522d811b8a11a9d6f206aa19a867f06df5d4599c', '69223609222016052017263804808356', '1099459139642014100812510823040588', '876abfcefe535b31e3e3e46264de08d97acec07eb72415f2fa967061afc6315d', 'e9c4c64a24ad61bbf2c4de0d3bd97725b8dde5d9b21a12e2cd0888e34ac6af15', '1019963559062013100615514564448457', '1485207013512016100421133096069648', '1389662563632016072714480291278400', 'aade8e478efe85ef7a8b090f1a4eedd4941217246ccb9019e35ef1d944af8505'\n",
      "$ POSTCODE                               <str> 'BL5 3FS', 'BL3 1PS', 'BL1 5WA', 'BL3 5NP', 'BL3 5NP', 'BL3 5NP', 'BL3 5NP', 'BL3 5NP', 'BL3 5NP', 'BL3 5NP'\n",
      "$ LOCAL_AUTHORITY                        <str> 'E08000001', 'E08000001', 'E08000001', 'E08000001', 'E08000001', 'E08000001', 'E08000001', 'E08000001', 'E08000001', 'E08000001'\n",
      "$ PROPERTY_TYPE                          <str> 'House', 'House', 'House', 'House', 'House', 'House', 'House', 'House', 'House', 'House'\n",
      "$ LODGEMENT_DATETIME            <datetime[μs]> 2024-01-31 14:42:28, 2021-04-03 11:13:34, 2016-05-20 17:26:38, 2014-10-08 12:51:08, 2022-05-18 19:12:32, 2021-01-20 00:00:00, 2013-10-06 15:51:45, 2016-10-04 21:13:30, 2016-07-27 14:48:02, 2021-09-22 16:29:52\n",
      "$ TRANSACTION_TYPE                       <str> 'marketed sale', 'marketed sale', 'marketed sale', 'none of the above', 'non marketed sale', 'rental', 'rental (private)', 'marketed sale', 'ECO assessment', 'rental'\n",
      "$ TENURE                                 <str> 'Owner-occupied', 'Owner-occupied', 'owner-occupied', 'rental (private)', 'Owner-occupied', 'Rented (private)', 'rental (private)', 'owner-occupied', 'owner-occupied', 'Rented (private)'\n",
      "$ MAINS_GAS_FLAG                         <str> None, 'Y', 'Y', 'Y', 'Y', 'Y', 'Y', 'Y', 'Y', 'Y'\n",
      "$ HOT_WATER_ENERGY_EFF                   <str> 'Good', 'Good', 'Good', 'Good', 'Good', 'Good', 'Good', 'Good', 'Average', 'Average'\n",
      "$ WINDOWS_DESCRIPTION                    <str> 'High performance glazing', 'Fully double glazed', 'Fully double glazed', 'Fully double glazed', 'Fully double glazed', 'Fully double glazed', 'Fully double glazed', 'Fully double glazed', 'Fully double glazed', 'Fully double glazed'\n",
      "$ WINDOWS_ENERGY_EFF                     <str> 'Very Good', 'Good', 'Good', 'Average', 'Good', 'Average', 'Average', 'Average', 'Average', 'Average'\n",
      "$ WALLS_DESCRIPTION                      <str> 'Average thermal transmittance 0.25 W/m-¦K', 'Cavity wall, as built, insulated (assumed)', 'Cavity wall, as built, insulated (assumed)', 'Cavity wall, filled cavity', 'Cavity wall, as built, no insulation (assumed)', 'Cavity wall, filled cavity', 'Cavity wall, filled cavity', 'Cavity wall, filled cavity', 'Cavity wall, as built, no insulation (assumed)', 'Cavity wall, filled cavity'\n",
      "$ WALLS_ENERGY_EFF                       <str> 'Very Good', 'Good', 'Good', 'Good', 'Poor', 'Average', 'Good', 'Good', 'Very Poor', 'Good'\n",
      "$ ROOF_DESCRIPTION                       <str> 'Average thermal transmittance 0.11 W/m-¦K', 'Pitched, 300 mm loft insulation', 'Pitched, 150 mm loft insulation', 'Pitched, 150 mm loft insulation', 'Pitched, 250 mm loft insulation', 'Pitched, 300 mm loft insulation', 'Pitched, 200 mm loft insulation', 'Pitched, limited insulation (assumed)', 'Pitched, no insulation (assumed)', 'Pitched, 150 mm loft insulation'\n",
      "$ ROOF_ENERGY_EFF                        <str> 'Very Good', 'Very Good', 'Good', 'Good', 'Good', 'Very Good', 'Good', 'Very Poor', 'Very Poor', 'Good'\n",
      "$ MAINHEAT_DESCRIPTION                   <str> 'Boiler and radiators, mains gas', 'Boiler and radiators, mains gas', 'Boiler and underfloor heating, mains gas', 'Boiler and radiators, mains gas', 'Boiler and radiators, mains gas', 'Boiler and radiators, mains gas', 'Boiler and radiators, mains gas', 'Boiler and radiators, mains gas', 'Boiler and radiators, mains gas', 'Electric storage heaters'\n",
      "$ MAINHEAT_ENERGY_EFF                    <str> 'Good', 'Good', 'Good', 'Good', 'Good', 'Good', 'Good', 'Good', 'Good', 'Average'\n",
      "$ MAINHEAT_ENV_EFF                       <str> 'Good', 'Good', 'Good', 'Good', 'Good', 'Good', 'Good', 'Good', 'Good', 'Very Poor'\n",
      "$ MAIN_HEATING_CONTROLS                  <str> None, None, '2105', '2107', None, None, '2106', '2102', '2106', None\n",
      "$ MAINHEATCONT_DESCRIPTION               <str> 'Time and temperature zone control', 'Programmer, room thermostat and TRVs', 'Programmer and at least two room thermostats', 'Programmer, TRVs and bypass', 'Programmer, no room thermostat', 'Programmer, TRVs and bypass', 'Programmer, room thermostat and TRVs', 'Programmer, no room thermostat', 'Programmer, room thermostat and TRVs', 'Automatic charge control'\n",
      "$ MAINHEATC_ENERGY_EFF                   <str> 'Very Good', 'Good', 'Good', 'Average', 'Very Poor', 'Average', 'Good', 'Very Poor', 'Good', 'Average'\n",
      "$ MAIN_FUEL                              <str> 'Gas: mains gas', 'mains gas (not community)', 'mains gas (not community)', 'mains gas (not community)', 'mains gas (not community)', 'mains gas (not community)', 'mains gas (not community)', 'mains gas (not community)', 'mains gas (not community)', 'electricity (not community)'\n",
      "$ SOLAR_WATER_HEATING_FLAG               <str> None, 'N', 'N', None, 'N', 'N', None, 'N', 'N', 'N'\n",
      "$ CONSTRUCTION_AGE_BAND                  <str> '2023', 'England and Wales: 2003-2006', 'England and Wales: 2003-2006', 'England and Wales: 1967-1975', 'England and Wales: 1967-1975', 'England and Wales: 1967-1975', 'England and Wales: 1996-2002', 'England and Wales: 1967-1975', 'England and Wales: before 1900', 'England and Wales: 1976-1982'\n",
      "$ CURRENT_ENERGY_RATING                  <str> 'B', 'C', 'C', 'D', 'C', 'C', 'C', 'D', 'E', 'D'\n",
      "$ POTENTIAL_ENERGY_RATING                <str> 'A', 'B', 'B', 'B', 'A', 'B', 'B', 'B', 'C', 'B'\n",
      "$ CURRENT_ENERGY_EFFICIENCY              <str> '84', '76', '76', '67', '73', '69', '76', '59', '49', '59'\n",
      "$ POTENTIAL_ENERGY_EFFICIENCY            <str> '94', '88', '82', '89', '92', '88', '91', '84', '80', '88'\n",
      "$ BUILT_FORM                             <str> 'Detached', 'Mid-Terrace', 'Detached', 'Semi-Detached', 'Mid-Terrace', 'Mid-Terrace', 'Mid-Terrace', 'Mid-Terrace', 'Mid-Terrace', 'Mid-Terrace'\n",
      "$ CONSTITUENCY                           <str> 'E14000580', 'E14000579', 'E14000580', 'E14000579', 'E14000579', 'E14000579', 'E14000579', 'E14000579', 'E14000579', 'E14000579'\n",
      "$ FLOOR_DESCRIPTION                      <str> 'Average thermal transmittance 0.12 W/m-¦K', 'Solid, insulated (assumed)', 'Solid, insulated (assumed)', 'Solid, no insulation (assumed)', 'Solid, no insulation (assumed)', 'Solid, no insulation (assumed)', 'Solid, limited insulation (assumed)', 'Solid, no insulation (assumed)', 'Solid, no insulation (assumed)', 'Solid, no insulation (assumed)'\n",
      "$ ENVIRONMENT_IMPACT_CURRENT             <i64> 85, 74, 71, 68, 73, 69, 79, 57, 42, 41\n",
      "$ ENVIRONMENT_IMPACT_POTENTIAL           <i64> 94, 86, 76, 92, 93, 88, 94, 84, 77, 87\n",
      "$ ENERGY_CONSUMPTION_CURRENT             <i64> 91, 151, 153, 220, 209, 241, 142, 331, 433, 445\n",
      "$ ENERGY_CONSUMPTION_POTENTIAL           <i64> 34, 82, 127, 55, 58, 99, 36, 129, 168, 92\n",
      "$ CO2_EMISS_CURR_PER_FLOOR_AREA          <i64> 16, 27, 27, 42, 37, 42, 27, 58, 76, 75\n",
      "$ CO2_EMISSIONS_CURRENT                  <f64> 1.7, 3.0, 6.1, 2.3, 2.1, 2.4, 1.5, 3.2, 5.1, 5.6\n",
      "$ CO2_EMISSIONS_POTENTIAL                <f64> 0.7, 1.7, 5.1, 0.6, 0.6, 1.0, 0.4, 1.3, 2.0, 1.2\n",
      "$ LIGHTING_COST_CURRENT                  <i64> 141, 97, 172, 72, 50, 72, 37, 70, 93, 92\n",
      "$ LIGHTING_COST_POTENTIAL                <i64> 141, 97, 102, 36, 50, 48, 37, 39, 46, 62\n",
      "$ HEATING_COST_CURRENT                   <i64> 481, 505, 1074, 441, 371, 418, 301, 623, 917, 787\n",
      "$ HEATING_COST_POTENTIAL                 <i64> 481, 447, 1088, 358, 289, 360, 301, 480, 589, 366\n",
      "$ HOT_WATER_COST_CURRENT                 <i64> 149, 95, 137, 96, 69, 82, 80, 103, 135, 272\n",
      "$ HOT_WATER_COST_POTENTIAL               <i64> 91, 68, 137, 59, 48, 59, 56, 47, 49, 68\n",
      "$ TOTAL_FLOOR_AREA                       <f64> 106.0, 113.0, 227.0, 55.0, 56.0, 56.0, 56.0, 55.0, 67.0, 74.0\n",
      "$ NUMBER_HABITABLE_ROOMS                 <i64> None, 5, 8, 4, 3, 3, 4, 4, 3, 5\n",
      "$ NUMBER_HEATED_ROOMS                    <i64> None, 5, 8, 4, 3, 3, 4, 3, 3, 4\n",
      "$ PHOTO_SUPPLY                           <f64> None, 0.0, None, 0.0, 0.0, 0.0, 0.0, None, None, 0.0\n",
      "$ BUILDING_REFERENCE_NUMBER              <i64> 10005486265, 10000999752, 5002084468, 2651730278, 10002847611, 10000431747, 5653574178, 6852367478, 6061480478, 10001357190\n",
      "\n"
     ]
    }
   ],
   "source": [
    "epc_domestic = get_ca.ingest_certs(la_list = la_list,\n",
    "                                   cols_schema = cols_schema_dom,\n",
    "                                   root_dir = 'data/all-domestic-certificates')\n",
    "epc_domestic.glimpse()\n"
   ]
  },
  {
   "cell_type": "code",
   "execution_count": 19,
   "metadata": {},
   "outputs": [],
   "source": [
    "certs_df = (epc_domestic        \n",
    "    \n",
    "    .with_columns([pl.col('LODGEMENT_DATETIME')\n",
    "                   .dt.date()\n",
    "                   .alias('date')])\n",
    "    .with_columns([pl.col('date').dt.year().alias('year'),\n",
    "                   pl.col('date').dt.month().cast(pl.Int16).alias('month'),\n",
    "                   pl.col('date').cast(pl.Utf8)])\n",
    "    .filter(~pl.col('UPRN').is_duplicated()) # some nulls and duplicates (~134) so remove\n",
    "    .drop('lodgement_datetime'))"
   ]
  },
  {
   "cell_type": "code",
   "execution_count": 20,
   "metadata": {},
   "outputs": [
    {
     "name": "stdout",
     "output_type": "stream",
     "text": [
      "Rows: 4776233\n",
      "Columns: 52\n",
      "$ uprn                          <i64> 10001239702, 10001239704, 10001239709, 10001239711, 10001239712, 10001239714, 10001239715, 10001239716, 10001239717, 10001239718\n",
      "$ lmk_key                       <str> '69223609222016052017263804808356', '1099459139642014100812510823040588', '876abfcefe535b31e3e3e46264de08d97acec07eb72415f2fa967061afc6315d', 'e9c4c64a24ad61bbf2c4de0d3bd97725b8dde5d9b21a12e2cd0888e34ac6af15', '1019963559062013100615514564448457', '1485207013512016100421133096069648', '1389662563632016072714480291278400', 'aade8e478efe85ef7a8b090f1a4eedd4941217246ccb9019e35ef1d944af8505', '1006031609732013112914032764978690', 'de7a02fb12a4ef27399bd7054917b4fd2c166ac4a3d7da461f4f4b7876c8a664'\n",
      "$ postcode                      <str> 'BL1 5WA', 'BL3 5NP', 'BL3 5NP', 'BL3 5NP', 'BL3 5NP', 'BL3 5NP', 'BL3 5NP', 'BL3 5NP', 'BL3 5NP', 'BL3 5NP'\n",
      "$ local_authority               <str> 'E08000001', 'E08000001', 'E08000001', 'E08000001', 'E08000001', 'E08000001', 'E08000001', 'E08000001', 'E08000001', 'E08000001'\n",
      "$ property_type                 <str> 'House', 'House', 'House', 'House', 'House', 'House', 'House', 'House', 'House', 'House'\n",
      "$ transaction_type              <str> 'marketed sale', 'none of the above', 'non marketed sale', 'rental', 'rental (private)', 'marketed sale', 'ECO assessment', 'rental', 'FiT application', 'marketed sale'\n",
      "$ tenure                        <str> 'owner-occupied', 'rental (private)', 'Owner-occupied', 'Rented (private)', 'rental (private)', 'owner-occupied', 'owner-occupied', 'Rented (private)', 'rental (private)', 'Owner-occupied'\n",
      "$ mains_gas_flag                <str> 'Y', 'Y', 'Y', 'Y', 'Y', 'Y', 'Y', 'Y', 'Y', 'Y'\n",
      "$ hot_water_energy_eff          <str> 'Good', 'Good', 'Good', 'Good', 'Good', 'Good', 'Average', 'Average', 'Average', 'Good'\n",
      "$ windows_description           <str> 'Fully double glazed', 'Fully double glazed', 'Fully double glazed', 'Fully double glazed', 'Fully double glazed', 'Fully double glazed', 'Fully double glazed', 'Fully double glazed', 'Fully double glazed', 'Fully double glazed'\n",
      "$ windows_energy_eff            <str> 'Good', 'Average', 'Good', 'Average', 'Average', 'Average', 'Average', 'Average', 'Average', 'Average'\n",
      "$ walls_description             <str> 'Cavity wall, as built, insulated (assumed)', 'Cavity wall, filled cavity', 'Cavity wall, as built, no insulation (assumed)', 'Cavity wall, filled cavity', 'Cavity wall, filled cavity', 'Cavity wall, filled cavity', 'Cavity wall, as built, no insulation (assumed)', 'Cavity wall, filled cavity', 'Cavity wall, as built, no insulation (assumed)', 'Cavity wall, filled cavity'\n",
      "$ walls_energy_eff              <str> 'Good', 'Good', 'Poor', 'Average', 'Good', 'Good', 'Very Poor', 'Good', 'Poor', 'Average'\n",
      "$ roof_description              <str> 'Pitched, 150 mm loft insulation', 'Pitched, 150 mm loft insulation', 'Pitched, 250 mm loft insulation', 'Pitched, 300 mm loft insulation', 'Pitched, 200 mm loft insulation', 'Pitched, limited insulation (assumed)', 'Pitched, no insulation (assumed)', 'Pitched, 150 mm loft insulation', 'Pitched, no insulation (assumed)', 'Pitched, 250 mm loft insulation'\n",
      "$ roof_energy_eff               <str> 'Good', 'Good', 'Good', 'Very Good', 'Good', 'Very Poor', 'Very Poor', 'Good', 'Very Poor', 'Good'\n",
      "$ mainheat_description          <str> 'Boiler and underfloor heating, mains gas', 'Boiler and radiators, mains gas', 'Boiler and radiators, mains gas', 'Boiler and radiators, mains gas', 'Boiler and radiators, mains gas', 'Boiler and radiators, mains gas', 'Boiler and radiators, mains gas', 'Electric storage heaters', 'Boiler and radiators, mains gas', 'Boiler and radiators, mains gas'\n",
      "$ mainheat_energy_eff           <str> 'Good', 'Good', 'Good', 'Good', 'Good', 'Good', 'Good', 'Average', 'Good', 'Good'\n",
      "$ mainheat_env_eff              <str> 'Good', 'Good', 'Good', 'Good', 'Good', 'Good', 'Good', 'Very Poor', 'Good', 'Good'\n",
      "$ main_heating_controls         <str> '2105', '2107', None, None, '2106', '2102', '2106', None, '2107', None\n",
      "$ mainheatcont_description      <str> 'Programmer and at least two room thermostats', 'Programmer, TRVs and bypass', 'Programmer, no room thermostat', 'Programmer, TRVs and bypass', 'Programmer, room thermostat and TRVs', 'Programmer, no room thermostat', 'Programmer, room thermostat and TRVs', 'Automatic charge control', 'Programmer, TRVs and bypass', 'Programmer, room thermostat and TRVs'\n",
      "$ mainheatc_energy_eff          <str> 'Good', 'Average', 'Very Poor', 'Average', 'Good', 'Very Poor', 'Good', 'Average', 'Average', 'Good'\n",
      "$ main_fuel                     <str> 'mains gas (not community)', 'mains gas (not community)', 'mains gas (not community)', 'mains gas (not community)', 'mains gas (not community)', 'mains gas (not community)', 'mains gas (not community)', 'electricity (not community)', 'mains gas (not community)', 'mains gas (not community)'\n",
      "$ solar_water_heating_flag      <str> 'N', None, 'N', 'N', None, 'N', 'N', 'N', None, 'N'\n",
      "$ construction_age_band         <str> 'England and Wales: 2003-2006', 'England and Wales: 1967-1975', 'England and Wales: 1967-1975', 'England and Wales: 1967-1975', 'England and Wales: 1996-2002', 'England and Wales: 1967-1975', 'England and Wales: before 1900', 'England and Wales: 1976-1982', 'England and Wales: 1930-1949', 'England and Wales: 1967-1975'\n",
      "$ current_energy_rating         <str> 'C', 'D', 'C', 'C', 'C', 'D', 'E', 'D', 'D', 'C'\n",
      "$ potential_energy_rating       <str> 'B', 'B', 'A', 'B', 'B', 'B', 'C', 'B', 'B', 'B'\n",
      "$ current_energy_efficiency     <str> '76', '67', '73', '69', '76', '59', '49', '59', '60', '73'\n",
      "$ potential_energy_efficiency   <str> '82', '89', '92', '88', '91', '84', '80', '88', '86', '88'\n",
      "$ built_form                    <str> 'Detached', 'Semi-Detached', 'Mid-Terrace', 'Mid-Terrace', 'Mid-Terrace', 'Mid-Terrace', 'Mid-Terrace', 'Mid-Terrace', 'Mid-Terrace', 'Mid-Terrace'\n",
      "$ constituency                  <str> 'E14000580', 'E14000579', 'E14000579', 'E14000579', 'E14000579', 'E14000579', 'E14000579', 'E14000579', 'E14000579', 'E14000579'\n",
      "$ floor_description             <str> 'Solid, insulated (assumed)', 'Solid, no insulation (assumed)', 'Solid, no insulation (assumed)', 'Solid, no insulation (assumed)', 'Solid, limited insulation (assumed)', 'Solid, no insulation (assumed)', 'Solid, no insulation (assumed)', 'Solid, no insulation (assumed)', 'Solid, no insulation (assumed)', 'Solid, no insulation (assumed)'\n",
      "$ environment_impact_current    <i64> 71, 68, 73, 69, 79, 57, 42, 41, 57, 74\n",
      "$ environment_impact_potential  <i64> 76, 92, 93, 88, 94, 84, 77, 87, 87, 88\n",
      "$ energy_consumption_current    <i64> 153, 220, 209, 241, 142, 331, 433, 445, 286, 204\n",
      "$ energy_consumption_potential  <i64> 127, 55, 58, 99, 36, 129, 168, 92, 87, 97\n",
      "$ co2_emiss_curr_per_floor_area <i64> 27, 42, 37, 42, 27, 58, 76, 75, 55, 36\n",
      "$ co2_emissions_current         <f64> 6.1, 2.3, 2.1, 2.4, 1.5, 3.2, 5.1, 5.6, 3.2, 2.0\n",
      "$ co2_emissions_potential       <f64> 5.1, 0.6, 0.6, 1.0, 0.4, 1.3, 2.0, 1.2, 1.0, 1.0\n",
      "$ lighting_cost_current         <i64> 172, 72, 50, 72, 37, 70, 93, 92, 36, 48\n",
      "$ lighting_cost_potential       <i64> 102, 36, 50, 48, 37, 39, 46, 62, 36, 48\n",
      "$ heating_cost_current          <i64> 1074, 441, 371, 418, 301, 623, 917, 787, 516, 356\n",
      "$ heating_cost_potential        <i64> 1088, 358, 289, 360, 301, 480, 589, 366, 403, 356\n",
      "$ hot_water_cost_current        <i64> 137, 96, 69, 82, 80, 103, 135, 272, 174, 87\n",
      "$ hot_water_cost_potential      <i64> 137, 59, 48, 59, 56, 47, 49, 68, 62, 59\n",
      "$ total_floor_area              <f64> 227.0, 55.0, 56.0, 56.0, 56.0, 55.0, 67.0, 74.0, 58.0, 55.0\n",
      "$ number_habitable_rooms        <i64> 8, 4, 3, 3, 4, 4, 3, 5, 3, 4\n",
      "$ number_heated_rooms           <i64> 8, 4, 3, 3, 4, 3, 3, 4, 3, 4\n",
      "$ photo_supply                  <f64> None, 0.0, 0.0, 0.0, 0.0, None, None, 0.0, 0.0, 0.0\n",
      "$ building_reference_number     <i64> 5002084468, 2651730278, 10002847611, 10000431747, 5653574178, 6852367478, 6061480478, 10001357190, 54673178, 10000947734\n",
      "$ date                          <str> '2016-05-20', '2014-10-08', '2022-05-18', '2021-01-20', '2013-10-06', '2016-10-04', '2016-07-27', '2021-09-22', '2013-11-29', '2021-06-23'\n",
      "$ year                          <i32> 2016, 2014, 2022, 2021, 2013, 2016, 2016, 2021, 2013, 2021\n",
      "$ month                         <i16> 5, 10, 5, 1, 10, 10, 7, 9, 11, 6\n",
      "\n"
     ]
    }
   ],
   "source": [
    "epc_domestic_df = get_ca.wrangle_epc(certs_df = certs_df)\n",
    "epc_domestic_df.glimpse()"
   ]
  },
  {
   "cell_type": "code",
   "execution_count": 21,
   "metadata": {},
   "outputs": [
    {
     "name": "stdout",
     "output_type": "stream",
     "text": [
      "Rows: 162851\n",
      "Columns: 19\n",
      "$ uprn                      <str> '10023053058', '100012687166', '32176581', '45159707', '100110747621', '100110779122', '10013314398', '39037016', '100071420623', '100110747674'\n",
      "$ lmk_key                   <str> '140522430962019020918095246020310', '13905181032019101610321999900496', '93940850142014072316320817200230', '0b932a1e8f3229f5fab28caacf82aff6137b83c3982acaa923b23de5bd81ba86', '36262460022017092118521403780050', '97847160962014121515481567920260', '65627902752012060813421608009206', '45082700202010120109090701809990', '9275c9a341eaa5b199d86fa8a4c3c63dae746adbbf9c4d4c4399652d4cb13ea1', '112413790062016051718135917950950'\n",
      "$ postcode                  <str> 'M90 5UJ', 'M24 1SN', 'B43 6PB', 'SR1 2NG', 'DL14 7EH', 'TS17 0RR', 'DL1 1YN', 'WA12 9BW', 'B11 1AX', 'DL14 7EQ'\n",
      "$ building_reference_number <i64> 144536660000, 864949200000, 214985210000, 10004529300, 507466340000, 666265770000, 261428500000, 822210800000, 726283000001, 519497700000\n",
      "$ asset_rating              <i64> 113, 60, 75, 115, 71, 88, 67, 151, 83, 56\n",
      "$ asset_rating_band         <str> 'E', 'C', 'C', 'E', 'C', 'D', 'C', 'G', 'D', 'C'\n",
      "$ property_type             <str> 'B8 Storage or Distribution', 'B8 Storage or Distribution', 'A1/A2 Retail and Financial/Professional services', 'Retail/Financial and Professional Services', 'A3/A4/A5 Restaurant and Cafes/Drinking Establishments and Hot Food takeaways', 'A1/A2 Retail and Financial/Professional services', 'B1 Offices and Workshop businesses', 'Restaurant/public house', 'B1 Offices and Workshop businesses', 'A1/A2 Retail and Financial/Professional services'\n",
      "$ local_authority           <str> 'E08000003', 'E08000004', 'E08000028', 'E08000024', 'E06000047', 'E06000004', 'E06000005', 'E08000013', 'E08000025', 'E06000047'\n",
      "$ constituency              <str> 'E14001059', 'E14000871', 'E14001029', 'E14000982', 'E14000569', 'E14000971', 'E14000658', 'E14000962', 'E14000564', 'E14000569'\n",
      "$ transaction_type          <str> 'Mandatory issue (Marketed sale).', 'Mandatory issue (Property to let).', 'Mandatory issue (Marketed sale).', 'Mandatory issue (Property to let).', 'Mandatory issue (Property to let).', 'Mandatory issue (Marketed sale).', 'Mandatory issue (Property to let).', 'Mandatory issue (Non-marketed sale).', 'Mandatory issue (Property to let).', 'Mandatory issue (Property to let).'\n",
      "$ standard_emissions        <f64> 27.08, 27.99, 66.07, 5.6, 81.79, 73.62, 30.64, 58.13, 14.17, 74.62\n",
      "$ typical_emissions         <f64> 45.0, 32.87, 94.63, 8.86, 119.52, 122.27, 50.83, 63.99, 34.37, 112.95\n",
      "$ target_emissions          <f64> 15.36, 11.22, 32.29, 2.21, 40.79, 41.73, 19.06, 48.21, 11.73, 38.54\n",
      "$ building_emissions        <f64> 61.19, 33.51, 99.21, 12.83, 116.02, 129.2, 40.93, 175.9, 23.54, 83.92\n",
      "$ building_level            <i64> 3, 3, 3, 3, 3, 3, 3, 3, 3, 3\n",
      "$ renewable_sources         <str> None, None, None, None, None, None, None, None, None, None\n",
      "$ date                      <str> '2019-02-09', '2019-10-16', '2014-07-23', '2023-05-22', '2017-09-21', '2014-12-15', '2012-06-08', '2010-12-01', '2020-09-19', '2016-05-17'\n",
      "$ year                      <i32> 2019, 2019, 2014, 2023, 2017, 2014, 2012, 2010, 2020, 2016\n",
      "$ month                     <i16> 2, 10, 7, 5, 9, 12, 6, 12, 9, 5\n",
      "\n"
     ]
    }
   ],
   "source": [
    "epc_non_domestic_df = get_ca.wrangle_epc(epc_non_domestic)\n",
    "epc_non_domestic_df.glimpse()"
   ]
  },
  {
   "cell_type": "code",
   "execution_count": 22,
   "metadata": {},
   "outputs": [],
   "source": [
    "del epc_domestic\n",
    "del certs_df\n",
    "del epc_non_domestic"
   ]
  },
  {
   "cell_type": "markdown",
   "metadata": {},
   "source": [
    "Collect centroids - here to stop crash"
   ]
  },
  {
   "cell_type": "code",
   "execution_count": 23,
   "metadata": {},
   "outputs": [],
   "source": [
    "pc_centroids_q = pl.scan_csv('data/postcode_centroids.csv',\n",
    "                             dtypes={\n",
    "                                 'RU11IND': pl.Utf8,\n",
    "                                 'x': pl.Float64,\n",
    "                                 'y': pl.Float64\n",
    "                                 })\n",
    "# pc_centroids_df.head()"
   ]
  },
  {
   "cell_type": "code",
   "execution_count": 24,
   "metadata": {},
   "outputs": [],
   "source": [
    "pc_min_df = pc_centroids_q.head(1).collect()"
   ]
  },
  {
   "cell_type": "code",
   "execution_count": 27,
   "metadata": {},
   "outputs": [],
   "source": [
    "pc_rename_dict = get_ca.get_rename_dict(pc_min_df, get_ca.remove_numbers, rm_numbers=False)"
   ]
  },
  {
   "cell_type": "code",
   "execution_count": 28,
   "metadata": {},
   "outputs": [
    {
     "data": {
      "text/plain": [
       "{'OBJECTID': 'objectid',\n",
       " 'PCD': 'pcd',\n",
       " 'PCD2': 'pcd2',\n",
       " 'PCDS': 'pcds',\n",
       " 'DOINTR': 'dointr',\n",
       " 'DOTERM': 'doterm',\n",
       " 'USERTYPE': 'usertype',\n",
       " 'OSEAST1M': 'oseast1m',\n",
       " 'OSNRTH1M': 'osnrth1m',\n",
       " 'OSGRDIND': 'osgrdind',\n",
       " 'OA11': 'oa11',\n",
       " 'CTY': 'cty',\n",
       " 'CED': 'ced',\n",
       " 'LAUA': 'laua',\n",
       " 'WARD': 'ward',\n",
       " 'HLTHAU': 'hlthau',\n",
       " 'NHSER': 'nhser',\n",
       " 'CTRY': 'ctry',\n",
       " 'RGN': 'rgn',\n",
       " 'PCON': 'pcon',\n",
       " 'EER': 'eer',\n",
       " 'TECLEC': 'teclec',\n",
       " 'TTWA': 'ttwa',\n",
       " 'PCT': 'pct',\n",
       " 'ITL': 'itl',\n",
       " 'NPARK': 'npark',\n",
       " 'LSOA11': 'lsoa11',\n",
       " 'MSOA11': 'msoa11',\n",
       " 'WZ11': 'wz11',\n",
       " 'SICBL': 'sicbl',\n",
       " 'BUA11': 'bua11',\n",
       " 'BUASD11': 'buasd11',\n",
       " 'RU11IND': 'ru11ind',\n",
       " 'OAC11': 'oac11',\n",
       " 'LAT': 'lat',\n",
       " 'LONG': 'long',\n",
       " 'LEP1': 'lep1',\n",
       " 'LEP2': 'lep2',\n",
       " 'PFA': 'pfa',\n",
       " 'IMD': 'imd',\n",
       " 'CALNCV': 'calncv',\n",
       " 'ICB': 'icb',\n",
       " 'OA21': 'oa21',\n",
       " 'LSOA21': 'lsoa21',\n",
       " 'MSOA21': 'msoa21',\n",
       " 'BUA22': 'bua22',\n",
       " 'x': 'x',\n",
       " 'y': 'y'}"
      ]
     },
     "execution_count": 28,
     "metadata": {},
     "output_type": "execute_result"
    }
   ],
   "source": [
    "pc_rename_dict"
   ]
  },
  {
   "cell_type": "code",
   "execution_count": 29,
   "metadata": {},
   "outputs": [],
   "source": [
    "pc_centroids_df = (pc_centroids_q\n",
    "                   .filter(pl.col('LAUA').is_in(la_list))\n",
    "                   .rename(mapping=pc_rename_dict)).collect()\n",
    "# pc_centroids_df.glimpse()"
   ]
  },
  {
   "cell_type": "markdown",
   "metadata": {},
   "source": [
    "Tenure - ts054 from NOMIS - slightly cleaned - remove csv header "
   ]
  },
  {
   "cell_type": "code",
   "execution_count": 30,
   "metadata": {},
   "outputs": [],
   "source": [
    "ca_tenure_lsoa = (pl.scan_csv('data/ts054_tenure_nomis.csv')\n",
    "                  .select(pl.all().name.map(lambda col_name: col_name.replace(' ', '_')))\n",
    "                  .select(pl.all().name.to_lowercase())\n",
    "                  .select(pl.all().name.map(lambda col_name: col_name.replace(':', '')))\n",
    "                  .with_columns(pl.col('lsoa').str.slice(0, 9).alias('lsoacd'))\n",
    "                  .filter(pl.col('lsoacd').is_in(ca_lsoa_codes))\n",
    "                  ).collect()"
   ]
  },
  {
   "cell_type": "code",
   "execution_count": 31,
   "metadata": {},
   "outputs": [],
   "source": [
    "# ca_tenure_lsoa.glimpse()"
   ]
  },
  {
   "cell_type": "code",
   "execution_count": 32,
   "metadata": {},
   "outputs": [],
   "source": [
    "del postcodes_df"
   ]
  },
  {
   "cell_type": "markdown",
   "metadata": {},
   "source": [
    "Load the data into a duckDB data base"
   ]
  },
  {
   "cell_type": "code",
   "execution_count": 33,
   "metadata": {},
   "outputs": [],
   "source": [
    "con = duckdb.connect('data/ca_epc.duckdb')"
   ]
  },
  {
   "cell_type": "code",
   "execution_count": 34,
   "metadata": {},
   "outputs": [],
   "source": [
    "try:\n",
    "    con.execute(\"BEGIN TRANSACTION;\")\n",
    "    con.execute('INSTALL spatial;')\n",
    "    con.execute('LOAD spatial;')\n",
    "    con.execute(f'CREATE OR REPLACE TABLE lsoa_pwc_tbl AS SELECT * FROM ST_Read(\"{reproject_path}\")')\n",
    "    con.execute(f'CREATE OR REPLACE TABLE lsoa_poly_tbl AS SELECT * FROM ST_Read(\"{reproject_lsoa_poly_path}\")')\n",
    "    con.execute('CREATE UNIQUE INDEX lsoacd_poly_idx ON lsoa_poly_tbl (lsoacd)')\n",
    "    con.execute('CREATE UNIQUE INDEX lsoacd_pwc_idx ON lsoa_pwc_tbl (lsoacd)')\n",
    "    con.execute('CREATE OR REPLACE TABLE ca_tenure_lsoa_tbl AS SELECT * FROM ca_tenure_lsoa')\n",
    "    con.execute('CREATE UNIQUE INDEX lsoacd_tenure_idx ON ca_tenure_lsoa_tbl (lsoacd)')\n",
    "    con.execute('CREATE OR REPLACE TABLE ca_la_tbl AS SELECT * FROM ca_la_df')\n",
    "    con.execute('CREATE OR REPLACE TABLE imd_tbl AS SELECT * FROM imd_df')\n",
    "    # con.execute('CREATE OR REPLACE TABLE postcodes_tbl AS SELECT * FROM postcodes_df')\n",
    "    # con.execute('CREATE UNIQUE INDEX postcode_idx ON postcodes_tbl (postcode)')\n",
    "    con.execute('CREATE OR REPLACE TABLE postcode_centroids_tbl AS SELECT * FROM pc_centroids_df')\n",
    "    con.execute('CREATE UNIQUE INDEX postcode_centroids_idx ON postcode_centroids_tbl (PCDS)')\n",
    "    con.execute('CREATE OR REPLACE TABLE epc_non_domestic_tbl AS SELECT * FROM epc_non_domestic_df')\n",
    "    con.execute('CREATE UNIQUE INDEX uprn_nondom_idx ON epc_non_domestic_tbl (uprn)')\n",
    "    con.execute('CREATE OR REPLACE TABLE ca_la_dft_lookup_tbl AS SELECT * FROM ca_la_dft_lookup_df')\n",
    "    con.execute('CREATE UNIQUE INDEX ca_la_dft_lookup_idx ON ca_la_dft_lookup_tbl (ladcd)')\n",
    "    con.execute(\"COMMIT;\")\n",
    "except Exception as e:\n",
    "    # If an error occurs, rollback the transaction\n",
    "    con.execute(\"ROLLBACK;\")\n",
    "    print(f\"Transaction rolled back due to an error: {e}\")"
   ]
  },
  {
   "cell_type": "markdown",
   "metadata": {},
   "source": [
    "Have to do the domestic epc's outside the transaction block otherwise memory fail"
   ]
  },
  {
   "cell_type": "code",
   "execution_count": 35,
   "metadata": {},
   "outputs": [
    {
     "data": {
      "text/plain": [
       "<duckdb.duckdb.DuckDBPyConnection at 0x1e117ca23f0>"
      ]
     },
     "execution_count": 35,
     "metadata": {},
     "output_type": "execute_result"
    }
   ],
   "source": [
    "con.execute('CREATE OR REPLACE TABLE epc_domestic_tbl AS SELECT * FROM epc_domestic_df')\n",
    "con.execute('CREATE UNIQUE INDEX uprn_idx ON epc_domestic_tbl (uprn)')"
   ]
  },
  {
   "cell_type": "code",
   "execution_count": null,
   "metadata": {},
   "outputs": [],
   "source": []
  },
  {
   "cell_type": "code",
   "execution_count": 36,
   "metadata": {},
   "outputs": [],
   "source": [
    "con.close()"
   ]
  },
  {
   "cell_type": "code",
   "execution_count": 44,
   "metadata": {},
   "outputs": [],
   "source": [
    "# con = duckdb.connect('data/ca_epc_test.duckdb')\n",
    "\n",
    "# con.execute(command_list[5])"
   ]
  },
  {
   "cell_type": "markdown",
   "metadata": {},
   "source": [
    "below is superseded by transaction above"
   ]
  },
  {
   "cell_type": "code",
   "execution_count": 88,
   "metadata": {},
   "outputs": [],
   "source": [
    "# out = get_ca.load_data(command_list=command_list, db_path='data/ca_epc.duckdb', overwrite = True)"
   ]
  },
  {
   "cell_type": "markdown",
   "metadata": {},
   "source": [
    "Introspect Database\n"
   ]
  },
  {
   "cell_type": "code",
   "execution_count": 85,
   "metadata": {},
   "outputs": [],
   "source": [
    "con = duckdb.connect('data/ca_epc.duckdb')"
   ]
  },
  {
   "cell_type": "code",
   "execution_count": 3,
   "metadata": {},
   "outputs": [
    {
     "data": {
      "text/plain": [
       "┌──────────┬─────────┬──────────────────────┬──────────────────────┬───────────────────────────────────────┬───────────┐\n",
       "│ database │ schema  │         name         │     column_names     │             column_types              │ temporary │\n",
       "│ varchar  │ varchar │       varchar        │      varchar[]       │               varchar[]               │  boolean  │\n",
       "├──────────┼─────────┼──────────────────────┼──────────────────────┼───────────────────────────────────────┼───────────┤\n",
       "│ ca_epc   │ main    │ ca_la_dft_lookup_tbl │ [dft_la_id, ladcd,…  │ [BIGINT, VARCHAR, BIGINT]             │ false     │\n",
       "│ ca_epc   │ main    │ ca_la_tbl            │ [ladcd, ladnm, cau…  │ [VARCHAR, VARCHAR, VARCHAR, VARCHAR]  │ false     │\n",
       "│ ca_epc   │ main    │ ca_tenure_lsoa_tbl   │ [lsoa, total, owne…  │ [VARCHAR, BIGINT, BIGINT, BIGINT, B…  │ false     │\n",
       "│ ca_epc   │ main    │ epc_domestic_tbl     │ [uprn, lmk_key, po…  │ [BIGINT, VARCHAR, VARCHAR, VARCHAR,…  │ false     │\n",
       "│ ca_epc   │ main    │ epc_non_domestic_tbl │ [uprn, lmk_key, po…  │ [VARCHAR, VARCHAR, VARCHAR, BIGINT,…  │ false     │\n",
       "│ ca_epc   │ main    │ imd_tbl              │ [lsoacd, lsoanm, l…  │ [VARCHAR, VARCHAR, VARCHAR, VARCHAR…  │ false     │\n",
       "│ ca_epc   │ main    │ lsoa_poly_tbl        │ [LSOA21NM, BNG_E, …  │ [VARCHAR, INTEGER, INTEGER, DOUBLE,…  │ false     │\n",
       "│ ca_epc   │ main    │ lsoa_pwc_tbl         │ [lsoacd, geom]       │ [VARCHAR, GEOMETRY]                   │ false     │\n",
       "│ ca_epc   │ main    │ postcodes_tbl        │ [postcode, lsoacd,…  │ [VARCHAR, VARCHAR, VARCHAR, VARCHAR…  │ false     │\n",
       "└──────────┴─────────┴──────────────────────┴──────────────────────┴───────────────────────────────────────┴───────────┘"
      ]
     },
     "execution_count": 3,
     "metadata": {},
     "output_type": "execute_result"
    }
   ],
   "source": [
    "con.sql(\"SHOW ALL TABLES;\")"
   ]
  },
  {
   "cell_type": "code",
   "execution_count": 4,
   "metadata": {},
   "outputs": [
    {
     "data": {
      "text/plain": [
       "┌───────────────────────────┬─────────────┬─────────┬─────────┬─────────┬─────────┐\n",
       "│        column_name        │ column_type │  null   │   key   │ default │  extra  │\n",
       "│          varchar          │   varchar   │ varchar │ varchar │ varchar │ varchar │\n",
       "├───────────────────────────┼─────────────┼─────────┼─────────┼─────────┼─────────┤\n",
       "│ uprn                      │ BIGINT      │ YES     │ NULL    │ NULL    │ NULL    │\n",
       "│ lmk_key                   │ VARCHAR     │ YES     │ NULL    │ NULL    │ NULL    │\n",
       "│ postcode                  │ VARCHAR     │ YES     │ NULL    │ NULL    │ NULL    │\n",
       "│ local_authority           │ VARCHAR     │ YES     │ NULL    │ NULL    │ NULL    │\n",
       "│ property_type             │ VARCHAR     │ YES     │ NULL    │ NULL    │ NULL    │\n",
       "│ transaction_type          │ VARCHAR     │ YES     │ NULL    │ NULL    │ NULL    │\n",
       "│ tenure                    │ VARCHAR     │ YES     │ NULL    │ NULL    │ NULL    │\n",
       "│ mains_gas_flag            │ VARCHAR     │ YES     │ NULL    │ NULL    │ NULL    │\n",
       "│ hot_water_energy_eff      │ VARCHAR     │ YES     │ NULL    │ NULL    │ NULL    │\n",
       "│ windows_description       │ VARCHAR     │ YES     │ NULL    │ NULL    │ NULL    │\n",
       "│          ·                │   ·         │  ·      │  ·      │  ·      │  ·      │\n",
       "│          ·                │   ·         │  ·      │  ·      │  ·      │  ·      │\n",
       "│          ·                │   ·         │  ·      │  ·      │  ·      │  ·      │\n",
       "│ hot_water_cost_current    │ BIGINT      │ YES     │ NULL    │ NULL    │ NULL    │\n",
       "│ hot_water_cost_potential  │ BIGINT      │ YES     │ NULL    │ NULL    │ NULL    │\n",
       "│ total_floor_area          │ DOUBLE      │ YES     │ NULL    │ NULL    │ NULL    │\n",
       "│ number_habitable_rooms    │ BIGINT      │ YES     │ NULL    │ NULL    │ NULL    │\n",
       "│ number_heated_rooms       │ BIGINT      │ YES     │ NULL    │ NULL    │ NULL    │\n",
       "│ photo_supply              │ DOUBLE      │ YES     │ NULL    │ NULL    │ NULL    │\n",
       "│ building_reference_number │ BIGINT      │ YES     │ NULL    │ NULL    │ NULL    │\n",
       "│ date                      │ VARCHAR     │ YES     │ NULL    │ NULL    │ NULL    │\n",
       "│ year                      │ INTEGER     │ YES     │ NULL    │ NULL    │ NULL    │\n",
       "│ month                     │ SMALLINT    │ YES     │ NULL    │ NULL    │ NULL    │\n",
       "├───────────────────────────┴─────────────┴─────────┴─────────┴─────────┴─────────┤\n",
       "│ 52 rows (20 shown)                                                    6 columns │\n",
       "└─────────────────────────────────────────────────────────────────────────────────┘"
      ]
     },
     "execution_count": 4,
     "metadata": {},
     "output_type": "execute_result"
    }
   ],
   "source": [
    "con.sql('DESCRIBE epc_domestic_tbl')"
   ]
  },
  {
   "cell_type": "code",
   "execution_count": 33,
   "metadata": {},
   "outputs": [
    {
     "data": {
      "text/plain": [
       "┌───────────────────────────┬─────────────┬─────────┬─────────┬─────────┬─────────┐\n",
       "│        column_name        │ column_type │  null   │   key   │ default │  extra  │\n",
       "│          varchar          │   varchar   │ varchar │ varchar │ varchar │ varchar │\n",
       "├───────────────────────────┼─────────────┼─────────┼─────────┼─────────┼─────────┤\n",
       "│ uprn                      │ VARCHAR     │ YES     │ NULL    │ NULL    │ NULL    │\n",
       "│ lmk_key                   │ VARCHAR     │ YES     │ NULL    │ NULL    │ NULL    │\n",
       "│ postcode                  │ VARCHAR     │ YES     │ NULL    │ NULL    │ NULL    │\n",
       "│ building_reference_number │ BIGINT      │ YES     │ NULL    │ NULL    │ NULL    │\n",
       "│ asset_rating              │ BIGINT      │ YES     │ NULL    │ NULL    │ NULL    │\n",
       "│ asset_rating_band         │ VARCHAR     │ YES     │ NULL    │ NULL    │ NULL    │\n",
       "│ property_type             │ VARCHAR     │ YES     │ NULL    │ NULL    │ NULL    │\n",
       "│ local_authority           │ VARCHAR     │ YES     │ NULL    │ NULL    │ NULL    │\n",
       "│ constituency              │ VARCHAR     │ YES     │ NULL    │ NULL    │ NULL    │\n",
       "│ transaction_type          │ VARCHAR     │ YES     │ NULL    │ NULL    │ NULL    │\n",
       "│ standard_emissions        │ DOUBLE      │ YES     │ NULL    │ NULL    │ NULL    │\n",
       "│ typical_emissions         │ DOUBLE      │ YES     │ NULL    │ NULL    │ NULL    │\n",
       "│ target_emissions          │ DOUBLE      │ YES     │ NULL    │ NULL    │ NULL    │\n",
       "│ building_emissions        │ DOUBLE      │ YES     │ NULL    │ NULL    │ NULL    │\n",
       "│ building_level            │ BIGINT      │ YES     │ NULL    │ NULL    │ NULL    │\n",
       "│ renewable_sources         │ VARCHAR     │ YES     │ NULL    │ NULL    │ NULL    │\n",
       "│ date                      │ VARCHAR     │ YES     │ NULL    │ NULL    │ NULL    │\n",
       "│ year                      │ INTEGER     │ YES     │ NULL    │ NULL    │ NULL    │\n",
       "│ month                     │ SMALLINT    │ YES     │ NULL    │ NULL    │ NULL    │\n",
       "├───────────────────────────┴─────────────┴─────────┴─────────┴─────────┴─────────┤\n",
       "│ 19 rows                                                               6 columns │\n",
       "└─────────────────────────────────────────────────────────────────────────────────┘"
      ]
     },
     "execution_count": 33,
     "metadata": {},
     "output_type": "execute_result"
    }
   ],
   "source": [
    "con.sql('DESCRIBE epc_non_domestic_tbl')"
   ]
  },
  {
   "cell_type": "code",
   "execution_count": 6,
   "metadata": {},
   "outputs": [
    {
     "data": {
      "text/plain": [
       "┌──────────┐\n",
       "│ num_rows │\n",
       "│  int64   │\n",
       "├──────────┤\n",
       "│     9585 │\n",
       "└──────────┘"
      ]
     },
     "execution_count": 6,
     "metadata": {},
     "output_type": "execute_result"
    }
   ],
   "source": [
    "con.sql('SELECT COUNT(*) num_rows FROM lsoa_pwc_tbl')"
   ]
  },
  {
   "cell_type": "code",
   "execution_count": null,
   "metadata": {},
   "outputs": [],
   "source": []
  },
  {
   "cell_type": "code",
   "execution_count": 91,
   "metadata": {},
   "outputs": [],
   "source": [
    "con.close()"
   ]
  },
  {
   "cell_type": "markdown",
   "metadata": {},
   "source": [
    "Section below is to load data into SQLite."
   ]
  },
  {
   "cell_type": "code",
   "execution_count": 26,
   "metadata": {},
   "outputs": [],
   "source": [
    "# dictionary of all the dfs to be imported to sqlite - for datasette\n",
    "dfs_dict = {\n",
    "    'ca_la_tbl':ca_la_df,\n",
    "    'imd_tbl':imd_df,\n",
    "    'postcodes_tbl':postcodes_df,\n",
    "    'epc_domestic_tbl':epc_domestic_df,\n",
    "    'epc_non_domestic_tbl': epc_non_domestic_df,\n",
    "    'ca_la_dft_lookup_tbl':ca_la_dft_lookup_df\n",
    "\n",
    "}"
   ]
  },
  {
   "cell_type": "code",
   "execution_count": 4,
   "metadata": {},
   "outputs": [],
   "source": [
    "# %pip install adbc_driver_sqlite"
   ]
  },
  {
   "cell_type": "code",
   "execution_count": 23,
   "metadata": {},
   "outputs": [
    {
     "data": {
      "text/plain": [
       "[None, None, None, None, None, None]"
      ]
     },
     "execution_count": 23,
     "metadata": {},
     "output_type": "execute_result"
    }
   ],
   "source": [
    "[df.write_csv(f'data/holding/{table_name}.csv') for table_name, df in dfs_dict.items()]"
   ]
  },
  {
   "cell_type": "code",
   "execution_count": 3,
   "metadata": {},
   "outputs": [],
   "source": [
    "def import_dfs(folder_path: str = 'data/holding'):\n",
    "    # Looping through each CSV file in the folder\n",
    "    for file in Path(folder_path).glob('*.csv'):\n",
    "        # Getting the stem (file name without extension) of the file\n",
    "        stem = file.stem\n",
    "\n",
    "        # Reading the CSV file into a DataFrame\n",
    "        df = pl.read_csv(file)\n",
    "\n",
    "        # Storing the DataFrame in the dictionary with the stem as the key\n",
    "        globals()[stem] = df\n",
    "    # return dataframes"
   ]
  },
  {
   "cell_type": "code",
   "execution_count": 6,
   "metadata": {},
   "outputs": [],
   "source": [
    "import_dfs() # to save running the import routines"
   ]
  },
  {
   "cell_type": "code",
   "execution_count": 13,
   "metadata": {},
   "outputs": [],
   "source": []
  },
  {
   "cell_type": "code",
   "execution_count": 28,
   "metadata": {},
   "outputs": [],
   "source": [
    "get_ca.populate_sqlite(dfs_dict, db_path='data/sqlite/ca_epc.db', overwrite=True)"
   ]
  },
  {
   "cell_type": "code",
   "execution_count": null,
   "metadata": {},
   "outputs": [],
   "source": []
  },
  {
   "cell_type": "code",
   "execution_count": 7,
   "metadata": {},
   "outputs": [],
   "source": []
  },
  {
   "cell_type": "code",
   "execution_count": 8,
   "metadata": {},
   "outputs": [],
   "source": []
  },
  {
   "cell_type": "code",
   "execution_count": 10,
   "metadata": {},
   "outputs": [
    {
     "ename": "NameError",
     "evalue": "name 'ca_la_df' is not defined",
     "output_type": "error",
     "traceback": [
      "\u001b[1;31m---------------------------------------------------------------------------\u001b[0m",
      "\u001b[1;31mNameError\u001b[0m                                 Traceback (most recent call last)",
      "Cell \u001b[1;32mIn[10], line 1\u001b[0m\n\u001b[1;32m----> 1\u001b[0m \u001b[43mget_ca\u001b[49m\u001b[38;5;241;43m.\u001b[39;49m\u001b[43mpopulate_sqlite\u001b[49m\u001b[43m(\u001b[49m\u001b[43mtables_dict\u001b[49m\u001b[43m,\u001b[49m\u001b[43m \u001b[49m\u001b[43muri\u001b[49m\u001b[43m)\u001b[49m\n",
      "File \u001b[1;32mc:\\Users\\steve.crawshaw\\OneDrive - West Of England Combined Authority\\Documents\\r-projects\\weca_cesap\\get_ca_data.py:414\u001b[0m, in \u001b[0;36mpopulate_sqlite\u001b[1;34m(tables_dict, uri)\u001b[0m\n\u001b[0;32m    405\u001b[0m \u001b[38;5;28;01mdef\u001b[39;00m \u001b[38;5;21mload_pldf\u001b[39m(pldf: pl\u001b[38;5;241m.\u001b[39mDataFrame, table_name: \u001b[38;5;28mstr\u001b[39m, uri: \u001b[38;5;28mstr\u001b[39m \u001b[38;5;241m=\u001b[39m uri):\n\u001b[0;32m    406\u001b[0m     (\u001b[38;5;28meval\u001b[39m(pldf) \u001b[38;5;66;03m# evaluate the string name of the pl.DataFrame\u001b[39;00m\n\u001b[0;32m    407\u001b[0m     \u001b[38;5;241m.\u001b[39mwrite_database(\n\u001b[0;32m    408\u001b[0m         table_name \u001b[38;5;241m=\u001b[39m table_name, \n\u001b[1;32m   (...)\u001b[0m\n\u001b[0;32m    412\u001b[0m     )\n\u001b[0;32m    413\u001b[0m     )\n\u001b[1;32m--> 414\u001b[0m [load_pldf(pldf, table_name) \u001b[38;5;28;01mfor\u001b[39;00m pldf, table_name \u001b[38;5;129;01min\u001b[39;00m tables_dict\u001b[38;5;241m.\u001b[39mitems()]\n",
      "File \u001b[1;32mc:\\Users\\steve.crawshaw\\OneDrive - West Of England Combined Authority\\Documents\\r-projects\\weca_cesap\\get_ca_data.py:414\u001b[0m, in \u001b[0;36m<listcomp>\u001b[1;34m(.0)\u001b[0m\n\u001b[0;32m    405\u001b[0m \u001b[38;5;28;01mdef\u001b[39;00m \u001b[38;5;21mload_pldf\u001b[39m(pldf: pl\u001b[38;5;241m.\u001b[39mDataFrame, table_name: \u001b[38;5;28mstr\u001b[39m, uri: \u001b[38;5;28mstr\u001b[39m \u001b[38;5;241m=\u001b[39m uri):\n\u001b[0;32m    406\u001b[0m     (\u001b[38;5;28meval\u001b[39m(pldf) \u001b[38;5;66;03m# evaluate the string name of the pl.DataFrame\u001b[39;00m\n\u001b[0;32m    407\u001b[0m     \u001b[38;5;241m.\u001b[39mwrite_database(\n\u001b[0;32m    408\u001b[0m         table_name \u001b[38;5;241m=\u001b[39m table_name, \n\u001b[1;32m   (...)\u001b[0m\n\u001b[0;32m    412\u001b[0m     )\n\u001b[0;32m    413\u001b[0m     )\n\u001b[1;32m--> 414\u001b[0m [\u001b[43mload_pldf\u001b[49m\u001b[43m(\u001b[49m\u001b[43mpldf\u001b[49m\u001b[43m,\u001b[49m\u001b[43m \u001b[49m\u001b[43mtable_name\u001b[49m\u001b[43m)\u001b[49m \u001b[38;5;28;01mfor\u001b[39;00m pldf, table_name \u001b[38;5;129;01min\u001b[39;00m tables_dict\u001b[38;5;241m.\u001b[39mitems()]\n",
      "File \u001b[1;32mc:\\Users\\steve.crawshaw\\OneDrive - West Of England Combined Authority\\Documents\\r-projects\\weca_cesap\\get_ca_data.py:406\u001b[0m, in \u001b[0;36mpopulate_sqlite.<locals>.load_pldf\u001b[1;34m(pldf, table_name, uri)\u001b[0m\n\u001b[0;32m    405\u001b[0m \u001b[38;5;28;01mdef\u001b[39;00m \u001b[38;5;21mload_pldf\u001b[39m(pldf: pl\u001b[38;5;241m.\u001b[39mDataFrame, table_name: \u001b[38;5;28mstr\u001b[39m, uri: \u001b[38;5;28mstr\u001b[39m \u001b[38;5;241m=\u001b[39m uri):\n\u001b[1;32m--> 406\u001b[0m     (\u001b[38;5;28;43meval\u001b[39;49m\u001b[43m(\u001b[49m\u001b[43mpldf\u001b[49m\u001b[43m)\u001b[49m \u001b[38;5;66;03m# evaluate the string name of the pl.DataFrame\u001b[39;00m\n\u001b[0;32m    407\u001b[0m     \u001b[38;5;241m.\u001b[39mwrite_database(\n\u001b[0;32m    408\u001b[0m         table_name \u001b[38;5;241m=\u001b[39m table_name, \n\u001b[0;32m    409\u001b[0m         if_exists \u001b[38;5;241m=\u001b[39m \u001b[38;5;124m'\u001b[39m\u001b[38;5;124mreplace\u001b[39m\u001b[38;5;124m'\u001b[39m,\n\u001b[0;32m    410\u001b[0m         connection \u001b[38;5;241m=\u001b[39m uri,\n\u001b[0;32m    411\u001b[0m         engine \u001b[38;5;241m=\u001b[39m \u001b[38;5;124m'\u001b[39m\u001b[38;5;124madbc\u001b[39m\u001b[38;5;124m'\u001b[39m\n\u001b[0;32m    412\u001b[0m     )\n\u001b[0;32m    413\u001b[0m     )\n",
      "File \u001b[1;32m<string>:1\u001b[0m\n",
      "\u001b[1;31mNameError\u001b[0m: name 'ca_la_df' is not defined"
     ]
    }
   ],
   "source": [
    "get_ca.populate_sqlite(tables_dict, uri)"
   ]
  },
  {
   "cell_type": "code",
   "execution_count": null,
   "metadata": {},
   "outputs": [],
   "source": []
  },
  {
   "cell_type": "code",
   "execution_count": 46,
   "metadata": {},
   "outputs": [
    {
     "ename": "InternalError",
     "evalue": "INTERNAL: [SQLite] Failed to create table: table \"ca_la_tbl\" already exists (executed 'CREATE TABLE main . \"ca_la_tbl\" (\"ladcd\" TEXT, \"ladnm\" TEXT, \"cauthcd\" TEXT, \"cauthnm\" TEXT)')",
     "output_type": "error",
     "traceback": [
      "\u001b[1;31m---------------------------------------------------------------------------\u001b[0m",
      "\u001b[1;31mInternalError\u001b[0m                             Traceback (most recent call last)",
      "Cell \u001b[1;32mIn[46], line 1\u001b[0m\n\u001b[1;32m----> 1\u001b[0m [load_pldf(pldf, table_name) \u001b[38;5;28;01mfor\u001b[39;00m pldf, table_name \u001b[38;5;129;01min\u001b[39;00m tables_dict\u001b[38;5;241m.\u001b[39mitems()]\n",
      "Cell \u001b[1;32mIn[46], line 1\u001b[0m, in \u001b[0;36m<listcomp>\u001b[1;34m(.0)\u001b[0m\n\u001b[1;32m----> 1\u001b[0m [\u001b[43mload_pldf\u001b[49m\u001b[43m(\u001b[49m\u001b[43mpldf\u001b[49m\u001b[43m,\u001b[49m\u001b[43m \u001b[49m\u001b[43mtable_name\u001b[49m\u001b[43m)\u001b[49m \u001b[38;5;28;01mfor\u001b[39;00m pldf, table_name \u001b[38;5;129;01min\u001b[39;00m tables_dict\u001b[38;5;241m.\u001b[39mitems()]\n",
      "Cell \u001b[1;32mIn[45], line 2\u001b[0m, in \u001b[0;36mload_pldf\u001b[1;34m(pldf, table_name, uri)\u001b[0m\n\u001b[0;32m      1\u001b[0m \u001b[38;5;28;01mdef\u001b[39;00m \u001b[38;5;21mload_pldf\u001b[39m(pldf: pl\u001b[38;5;241m.\u001b[39mDataFrame, table_name: \u001b[38;5;28mstr\u001b[39m, uri: \u001b[38;5;28mstr\u001b[39m \u001b[38;5;241m=\u001b[39m uri):\n\u001b[1;32m----> 2\u001b[0m     (\u001b[38;5;28;43meval\u001b[39;49m\u001b[43m(\u001b[49m\u001b[43mpldf\u001b[49m\u001b[43m)\u001b[49m\u001b[43m \u001b[49m\u001b[38;5;66;43;03m# evaluate the string name of the pl.DataFrame\u001b[39;49;00m\n\u001b[0;32m      3\u001b[0m \u001b[43m     \u001b[49m\u001b[38;5;241;43m.\u001b[39;49m\u001b[43mwrite_database\u001b[49m\u001b[43m(\u001b[49m\n\u001b[0;32m      4\u001b[0m \u001b[43m         \u001b[49m\u001b[43mtable_name\u001b[49m\u001b[43m \u001b[49m\u001b[38;5;241;43m=\u001b[39;49m\u001b[43m \u001b[49m\u001b[43mtable_name\u001b[49m\u001b[43m,\u001b[49m\u001b[43m \u001b[49m\n\u001b[0;32m      5\u001b[0m \u001b[43m         \u001b[49m\u001b[43mif_exists\u001b[49m\u001b[43m \u001b[49m\u001b[38;5;241;43m=\u001b[39;49m\u001b[43m \u001b[49m\u001b[38;5;124;43m'\u001b[39;49m\u001b[38;5;124;43mreplace\u001b[39;49m\u001b[38;5;124;43m'\u001b[39;49m\u001b[43m,\u001b[49m\n\u001b[0;32m      6\u001b[0m \u001b[43m         \u001b[49m\u001b[43mconnection\u001b[49m\u001b[43m \u001b[49m\u001b[38;5;241;43m=\u001b[39;49m\u001b[43m \u001b[49m\u001b[43muri\u001b[49m\u001b[43m,\u001b[49m\n\u001b[0;32m      7\u001b[0m \u001b[43m         \u001b[49m\u001b[43mengine\u001b[49m\u001b[43m \u001b[49m\u001b[38;5;241;43m=\u001b[39;49m\u001b[43m \u001b[49m\u001b[38;5;124;43m'\u001b[39;49m\u001b[38;5;124;43madbc\u001b[39;49m\u001b[38;5;124;43m'\u001b[39;49m\n\u001b[0;32m      8\u001b[0m \u001b[43m     \u001b[49m\u001b[43m)\u001b[49m\n\u001b[0;32m      9\u001b[0m      )\n",
      "File \u001b[1;32mc:\\Users\\steve.crawshaw\\micromamba\\envs\\llm\\lib\\site-packages\\polars\\utils\\deprecation.py:95\u001b[0m, in \u001b[0;36mdeprecate_renamed_parameter.<locals>.decorate.<locals>.wrapper\u001b[1;34m(*args, **kwargs)\u001b[0m\n\u001b[0;32m     90\u001b[0m \u001b[38;5;129m@wraps\u001b[39m(function)\n\u001b[0;32m     91\u001b[0m \u001b[38;5;28;01mdef\u001b[39;00m \u001b[38;5;21mwrapper\u001b[39m(\u001b[38;5;241m*\u001b[39margs: P\u001b[38;5;241m.\u001b[39margs, \u001b[38;5;241m*\u001b[39m\u001b[38;5;241m*\u001b[39mkwargs: P\u001b[38;5;241m.\u001b[39mkwargs) \u001b[38;5;241m-\u001b[39m\u001b[38;5;241m>\u001b[39m T:\n\u001b[0;32m     92\u001b[0m     _rename_keyword_argument(\n\u001b[0;32m     93\u001b[0m         old_name, new_name, kwargs, function\u001b[38;5;241m.\u001b[39m\u001b[38;5;18m__name__\u001b[39m, version\n\u001b[0;32m     94\u001b[0m     )\n\u001b[1;32m---> 95\u001b[0m     \u001b[38;5;28;01mreturn\u001b[39;00m function(\u001b[38;5;241m*\u001b[39margs, \u001b[38;5;241m*\u001b[39m\u001b[38;5;241m*\u001b[39mkwargs)\n",
      "File \u001b[1;32mc:\\Users\\steve.crawshaw\\micromamba\\envs\\llm\\lib\\site-packages\\polars\\dataframe\\frame.py:3423\u001b[0m, in \u001b[0;36mDataFrame.write_database\u001b[1;34m(self, table_name, connection, if_exists, engine)\u001b[0m\n\u001b[0;32m   3418\u001b[0m         \u001b[38;5;28;01mraise\u001b[39;00m \u001b[38;5;167;01mValueError\u001b[39;00m(\n\u001b[0;32m   3419\u001b[0m             \u001b[38;5;124mf\u001b[39m\u001b[38;5;124m\"\u001b[39m\u001b[38;5;124munexpected value for `if_exists`: \u001b[39m\u001b[38;5;132;01m{\u001b[39;00mif_exists\u001b[38;5;132;01m!r}\u001b[39;00m\u001b[38;5;124m\"\u001b[39m\n\u001b[0;32m   3420\u001b[0m             \u001b[38;5;124mf\u001b[39m\u001b[38;5;124m\"\u001b[39m\u001b[38;5;130;01m\\n\u001b[39;00m\u001b[38;5;130;01m\\n\u001b[39;00m\u001b[38;5;124mChoose one of: \u001b[39m\u001b[38;5;132;01m{\u001b[39;00m\u001b[38;5;124m'\u001b[39m\u001b[38;5;124mfail\u001b[39m\u001b[38;5;124m'\u001b[39m,\u001b[38;5;250m \u001b[39m\u001b[38;5;124m'\u001b[39m\u001b[38;5;124mreplace\u001b[39m\u001b[38;5;124m'\u001b[39m,\u001b[38;5;250m \u001b[39m\u001b[38;5;124m'\u001b[39m\u001b[38;5;124mappend\u001b[39m\u001b[38;5;124m'\u001b[39m\u001b[38;5;132;01m}\u001b[39;00m\u001b[38;5;124m\"\u001b[39m\n\u001b[0;32m   3421\u001b[0m         )\n\u001b[0;32m   3422\u001b[0m     \u001b[38;5;28;01mwith\u001b[39;00m _open_adbc_connection(connection) \u001b[38;5;28;01mas\u001b[39;00m conn, conn\u001b[38;5;241m.\u001b[39mcursor() \u001b[38;5;28;01mas\u001b[39;00m cursor:\n\u001b[1;32m-> 3423\u001b[0m         \u001b[43mcursor\u001b[49m\u001b[38;5;241;43m.\u001b[39;49m\u001b[43madbc_ingest\u001b[49m\u001b[43m(\u001b[49m\u001b[43mtable_name\u001b[49m\u001b[43m,\u001b[49m\u001b[43m \u001b[49m\u001b[38;5;28;43mself\u001b[39;49m\u001b[38;5;241;43m.\u001b[39;49m\u001b[43mto_arrow\u001b[49m\u001b[43m(\u001b[49m\u001b[43m)\u001b[49m\u001b[43m,\u001b[49m\u001b[43m \u001b[49m\u001b[43mmode\u001b[49m\u001b[43m)\u001b[49m\n\u001b[0;32m   3424\u001b[0m         conn\u001b[38;5;241m.\u001b[39mcommit()\n\u001b[0;32m   3426\u001b[0m \u001b[38;5;28;01melif\u001b[39;00m engine \u001b[38;5;241m==\u001b[39m \u001b[38;5;124m\"\u001b[39m\u001b[38;5;124msqlalchemy\u001b[39m\u001b[38;5;124m\"\u001b[39m:\n",
      "File \u001b[1;32mc:\\Users\\steve.crawshaw\\micromamba\\envs\\llm\\lib\\site-packages\\adbc_driver_manager\\dbapi.py:894\u001b[0m, in \u001b[0;36mCursor.adbc_ingest\u001b[1;34m(self, table_name, data, mode, catalog_name, db_schema_name, temporary)\u001b[0m\n\u001b[0;32m    891\u001b[0m     \u001b[38;5;28mself\u001b[39m\u001b[38;5;241m.\u001b[39m_stmt\u001b[38;5;241m.\u001b[39mbind_stream(handle)\n\u001b[0;32m    893\u001b[0m \u001b[38;5;28mself\u001b[39m\u001b[38;5;241m.\u001b[39m_last_query \u001b[38;5;241m=\u001b[39m \u001b[38;5;28;01mNone\u001b[39;00m\n\u001b[1;32m--> 894\u001b[0m \u001b[38;5;28;01mreturn\u001b[39;00m \u001b[38;5;28;43mself\u001b[39;49m\u001b[38;5;241;43m.\u001b[39;49m\u001b[43m_stmt\u001b[49m\u001b[38;5;241;43m.\u001b[39;49m\u001b[43mexecute_update\u001b[49m\u001b[43m(\u001b[49m\u001b[43m)\u001b[49m\n",
      "File \u001b[1;32mc:\\Users\\steve.crawshaw\\micromamba\\envs\\llm\\lib\\site-packages\\adbc_driver_manager\\_lib.pyx:1184\u001b[0m, in \u001b[0;36madbc_driver_manager._lib.AdbcStatement.execute_update\u001b[1;34m()\u001b[0m\n",
      "File \u001b[1;32mc:\\Users\\steve.crawshaw\\micromamba\\envs\\llm\\lib\\site-packages\\adbc_driver_manager\\_lib.pyx:227\u001b[0m, in \u001b[0;36madbc_driver_manager._lib.check_error\u001b[1;34m()\u001b[0m\n",
      "\u001b[1;31mInternalError\u001b[0m: INTERNAL: [SQLite] Failed to create table: table \"ca_la_tbl\" already exists (executed 'CREATE TABLE main . \"ca_la_tbl\" (\"ladcd\" TEXT, \"ladnm\" TEXT, \"cauthcd\" TEXT, \"cauthnm\" TEXT)')"
     ]
    }
   ],
   "source": []
  },
  {
   "cell_type": "code",
   "execution_count": 9,
   "metadata": {},
   "outputs": [],
   "source": [
    "# population weighted centroids for each LSOA - has to be downloaded as there is no straightforward way to query the CA LSOA's from\n",
    "# open online datasets\n",
    "\n",
    "lsoa_bng_file_path = get_ca.filter_geojson('data/geojson/LLSOA_Dec_2021_PWC_for_England_and_Wales_2022_-7534040603619445107.geojson',\n",
    " output_file='data/geojson/ca_lsoa_pwc.geojson',\n",
    " property_name = 'LSOA21CD',\n",
    " ca_lsoa_codes = ca_lsoa_codes)"
   ]
  },
  {
   "cell_type": "code",
   "execution_count": 10,
   "metadata": {},
   "outputs": [
    {
     "data": {
      "text/plain": [
       "'data/geojson/ca_lsoa_pwc_wgs84.geojson'"
      ]
     },
     "execution_count": 10,
     "metadata": {},
     "output_type": "execute_result"
    }
   ],
   "source": [
    "get_ca.reproject(input_bng_file='data/geojson/ca_lsoa_pwc.geojson',\n",
    "                  output_wgs84_file='data/geojson/ca_lsoa_pwc_wgs84.geojson',\n",
    "                    lsoa_code='LSOA21CD')"
   ]
  },
  {
   "cell_type": "code",
   "execution_count": 9,
   "metadata": {},
   "outputs": [],
   "source": [
    "\n",
    "db = Database('data/ca_epc.db', recreate = True)\n",
    "db.close()"
   ]
  },
  {
   "cell_type": "code",
   "execution_count": 62,
   "metadata": {},
   "outputs": [],
   "source": [
    "# %pip install geojson-to-sqlite"
   ]
  },
  {
   "cell_type": "code",
   "execution_count": 60,
   "metadata": {},
   "outputs": [
    {
     "name": "stderr",
     "output_type": "stream",
     "text": [
      "'geojson-to-sqlite' is not recognized as an internal or external command,\n",
      "operable program or batch file.\n"
     ]
    }
   ],
   "source": [
    "# import the lsoa PWC file as geojson to the DB setting the primary key to lsoacd\n",
    "!geojson-to-sqlite data/sqlite/ca_epc.db lsoa_pwc_tbl data/geojson/ca_lsoa_pwc_wgs84.geojson --pk=lsoacd\n"
   ]
  },
  {
   "cell_type": "code",
   "execution_count": 11,
   "metadata": {},
   "outputs": [
    {
     "name": "stdout",
     "output_type": "stream",
     "text": [
      "CREATE TABLE [lsoa_pwc_tbl] (\n",
      "   [id] INTEGER,\n",
      "   [FID] INTEGER,\n",
      "   [GlobalID] TEXT,\n",
      "   [lsoacd] TEXT PRIMARY KEY,\n",
      "   [geometry] TEXT\n",
      ");\n"
     ]
    }
   ],
   "source": [
    "db = Database('data/ca_epc.db', recreate = False)\n",
    "print(db.schema)"
   ]
  },
  {
   "cell_type": "code",
   "execution_count": 12,
   "metadata": {},
   "outputs": [
    {
     "data": {
      "text/plain": [
       "<Table imd_tbl (lsoacd, lsoanm, ladcd, ladnm, imd)>"
      ]
     },
     "execution_count": 12,
     "metadata": {},
     "output_type": "execute_result"
    }
   ],
   "source": [
    "db['imd_tbl'].create(\n",
    "{\n",
    " 'lsoacd': str,\n",
    " 'lsoanm': str,\n",
    " 'ladcd': str,\n",
    " 'ladnm': str,\n",
    " 'imd': int\n",
    " },\n",
    " pk = 'lsoacd'\n",
    ")"
   ]
  },
  {
   "cell_type": "code",
   "execution_count": 13,
   "metadata": {},
   "outputs": [
    {
     "data": {
      "text/plain": [
       "<Table ca_la_tbl (ladcd, ladnm, cauthcd, cauthnm)>"
      ]
     },
     "execution_count": 13,
     "metadata": {},
     "output_type": "execute_result"
    }
   ],
   "source": [
    "db['ca_la_tbl'].create(\n",
    "{\n",
    " 'ladcd': str,\n",
    " 'ladnm': str,\n",
    " 'cauthcd': str,\n",
    " 'cauthnm': str\n",
    " },\n",
    " pk = 'ladcd'\n",
    ")"
   ]
  },
  {
   "cell_type": "code",
   "execution_count": 14,
   "metadata": {},
   "outputs": [
    {
     "data": {
      "text/plain": [
       "<Table postcodes_tbl (pcds, lsoacd, msoacd, ladcd, ladnm)>"
      ]
     },
     "execution_count": 14,
     "metadata": {},
     "output_type": "execute_result"
    }
   ],
   "source": [
    "db['postcodes_tbl'].create(\n",
    "    {\"pcds\": str,\n",
    "     \"lsoacd\": str,\n",
    "     \"msoacd\": str,\n",
    "     \"ladcd\": str,\n",
    "     \"ladnm\": str},\n",
    "     pk = 'pcds'\n",
    "     )"
   ]
  },
  {
   "cell_type": "code",
   "execution_count": null,
   "metadata": {},
   "outputs": [],
   "source": [
    "print(db.schema)"
   ]
  },
  {
   "cell_type": "code",
   "execution_count": 16,
   "metadata": {},
   "outputs": [
    {
     "data": {
      "text/plain": [
       "<Table imd_tbl (lsoacd, lsoanm, ladcd, ladnm, imd)>"
      ]
     },
     "execution_count": 16,
     "metadata": {},
     "output_type": "execute_result"
    }
   ],
   "source": [
    "# db['epc_clean_tbl'].add_foreign_key('postcode', 'postcodes_tbl', 'pcds') # too big causes crash\n",
    "db['postcodes_tbl'].add_foreign_key('lsoacd', 'imd_tbl', 'lsoacd')\n",
    "db['postcodes_tbl'].add_foreign_key('ladcd', 'ca_la_tbl', 'ladcd')\n",
    "db['postcodes_tbl'].add_foreign_key('lsoacd', 'lsoa_pwc_tbl', 'lsoacd')\n",
    "db['imd_tbl'].add_foreign_key('lsoacd', 'lsoa_pwc_tbl', 'lsoacd')"
   ]
  },
  {
   "cell_type": "code",
   "execution_count": 17,
   "metadata": {},
   "outputs": [
    {
     "data": {
      "text/plain": [
       "<Table imd_tbl (lsoacd, lsoanm, ladcd, ladnm, imd)>"
      ]
     },
     "execution_count": 17,
     "metadata": {},
     "output_type": "execute_result"
    }
   ],
   "source": [
    "db['ca_la_tbl'].insert_all(ca_la_tbl_payload)\n",
    "# db['epc_clean_tbl'].insert_all(epc_clean_tbl_payload)\n",
    "db['postcodes_tbl'].insert_all(postcodes_tbl_payload)\n",
    "db['imd_tbl'].insert_all(imd_tbl_payload)\n"
   ]
  },
  {
   "cell_type": "code",
   "execution_count": null,
   "metadata": {},
   "outputs": [],
   "source": [
    "db.close()"
   ]
  }
 ],
 "metadata": {
  "kernelspec": {
   "display_name": "Python 3",
   "language": "python",
   "name": "python3"
  },
  "language_info": {
   "codemirror_mode": {
    "name": "ipython",
    "version": 3
   },
   "file_extension": ".py",
   "mimetype": "text/x-python",
   "name": "python",
   "nbconvert_exporter": "python",
   "pygments_lexer": "ipython3",
   "version": "3.10.0"
  }
 },
 "nbformat": 4,
 "nbformat_minor": 2
}
