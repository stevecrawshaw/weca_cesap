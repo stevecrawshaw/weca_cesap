{
 "cells": [
  {
   "cell_type": "code",
   "execution_count": 2,
   "metadata": {},
   "outputs": [],
   "source": [
    "# use llm env - make sure to restart jupyter kernel. duckdb need python 3.10\n",
    "import polars as pl\n",
    "import duckdb\n",
    "import get_ca_data as get_ca # functions for retrieving CA \\ common data\n",
    "from pathlib import Path"
   ]
  },
  {
   "cell_type": "code",
   "execution_count": 3,
   "metadata": {},
   "outputs": [
    {
     "data": {
      "text/html": [
       "<div><style>\n",
       ".dataframe > thead > tr > th,\n",
       ".dataframe > tbody > tr > td {\n",
       "  text-align: right;\n",
       "  white-space: pre-wrap;\n",
       "}\n",
       "</style>\n",
       "<small>shape: (0, 0)</small><table border=\"1\" class=\"dataframe\"><thead><tr></tr><tr></tr></thead><tbody></tbody></table></div>"
      ],
      "text/plain": [
       "shape: (0, 0)\n",
       "┌┐\n",
       "╞╡\n",
       "└┘"
      ]
     },
     "execution_count": 3,
     "metadata": {},
     "output_type": "execute_result"
    }
   ],
   "source": [
    "pl.DataFrame()\n",
    "# get_ca.ingest_certs."
   ]
  },
  {
   "cell_type": "markdown",
   "metadata": {},
   "source": [
    "This notebook retrieves all the base data needed for comparison analysis with other Combined Authorities and loads it into a duckdb database.\n",
    "SQLite was tried, but it is slow, not directly compatible with polars and does not work well with datasette because of the size of data."
   ]
  },
  {
   "cell_type": "code",
   "execution_count": 4,
   "metadata": {},
   "outputs": [
    {
     "name": "stdout",
     "output_type": "stream",
     "text": [
      "Rows: 54\n",
      "Columns: 4\n",
      "$ ladcd   <str> E08000001, E08000002, E08000003, E08000004, E08000005, E08000006, E08000007, E08000008, E08000009, E08000010\n",
      "$ ladnm   <str> Bolton, Bury, Manchester, Oldham, Rochdale, Salford, Stockport, Tameside, Trafford, Wigan\n",
      "$ cauthcd <str> E47000001, E47000001, E47000001, E47000001, E47000001, E47000001, E47000001, E47000001, E47000001, E47000001\n",
      "$ cauthnm <str> Greater Manchester, Greater Manchester, Greater Manchester, Greater Manchester, Greater Manchester, Greater Manchester, Greater Manchester, Greater Manchester, Greater Manchester, Greater Manchester\n",
      "\n"
     ]
    }
   ],
   "source": [
    "ca_la_df = get_ca.get_ca_la_df(2023, inc_ns=True) # include NS\n",
    "ca_la_df.glimpse()\n"
   ]
  },
  {
   "cell_type": "code",
   "execution_count": 5,
   "metadata": {},
   "outputs": [
    {
     "data": {
      "text/plain": [
       "'There are 54 Local Authorities in Combined Authorities'"
      ]
     },
     "execution_count": 5,
     "metadata": {},
     "output_type": "execute_result"
    }
   ],
   "source": [
    "# retrieve the epc certs from the source csv s\n",
    "la_list = (ca_la_df['ladcd']) #includes north somerset\n",
    "f'There are {str(la_list.shape)[1:3]} Local Authorities in Combined Authorities'\n"
   ]
  },
  {
   "cell_type": "markdown",
   "metadata": {},
   "source": [
    "Get the lookup table that relates DFT Local authority ID's in the Combined authorities to ONS LA codes"
   ]
  },
  {
   "cell_type": "code",
   "execution_count": 6,
   "metadata": {},
   "outputs": [
    {
     "name": "stdout",
     "output_type": "stream",
     "text": [
      "Rows: 49\n",
      "Columns: 3\n",
      "$ dft_la_id <i64> 56, 62, 63, 75, 79, 84, 85, 86, 87, 88\n",
      "$ ladcd     <str> E08000007, E08000018, E08000035, E08000010, E08000017, E08000015, E08000003, E08000002, E08000033, E08000036\n",
      "$ year      <i64> 2022, 2022, 2022, 2022, 2022, 2022, 2022, 2022, 2022, 2022\n",
      "\n"
     ]
    }
   ],
   "source": [
    "ca_la_dft_lookup_df = get_ca.get_ca_la_dft_lookup(\n",
    "    dft_csv_path = 'https://storage.googleapis.com/dft-statistics/road-traffic/downloads/data-gov-uk/local_authority_traffic.csv',\n",
    "    la_list = la_list)\n",
    "ca_la_dft_lookup_df.glimpse()"
   ]
  },
  {
   "cell_type": "code",
   "execution_count": 7,
   "metadata": {},
   "outputs": [],
   "source": [
    "cols_schema_nondom = {\n",
    "    'LMK_KEY': pl.Utf8,\n",
    "    'POSTCODE': pl.Utf8,\n",
    "    'BUILDING_REFERENCE_NUMBER': pl.Int64,\n",
    "    'ASSET_RATING': pl.Int64,\n",
    "    'ASSET_RATING_BAND': pl.Utf8,\n",
    "    'PROPERTY_TYPE': pl.Utf8,\n",
    "    'LOCAL_AUTHORITY': pl.Utf8,\n",
    "    'CONSTITUENCY': pl.Utf8,\n",
    "    'TRANSACTION_TYPE': pl.Utf8,\n",
    "    'STANDARD_EMISSIONS': pl.Float64,\n",
    "    'TYPICAL_EMISSIONS': pl.Float64,\n",
    "    'TARGET_EMISSIONS': pl.Float64,\n",
    "    'BUILDING_EMISSIONS': pl.Float64,\n",
    "    'BUILDING_LEVEL': pl.Int64,\n",
    "    'RENEWABLE_SOURCES': pl.Utf8,\n",
    "    'LODGEMENT_DATETIME': pl.Utf8,\n",
    "    'UPRN': pl.Utf8\n",
    "    }"
   ]
  },
  {
   "cell_type": "code",
   "execution_count": 8,
   "metadata": {},
   "outputs": [
    {
     "name": "stdout",
     "output_type": "stream",
     "text": [
      "Rows: 160684\n",
      "Columns: 17\n",
      "$ UPRN                               <str> 10070926743, 200002544806, 100012552086, 10070921447, 10070929417, 200002560793, 100012555277, 100012562246, 200002559499, 100012561389\n",
      "$ LMK_KEY                            <str> 125957590402017103112461189509700, 22707574052009090708511004000692, 8c225de542537f954b5eca17edcfa9025092ea349033c9547022fa54b527239c, 96442130542014102317572942609200, 154396610062020032416120001970160, 34614150032010042919154815000094, 16919593052009051119231403000989, 29e1dfa1becc02ea35249557037efecc19f79ad8ca041743faed058bee6ce61d, 135962200002018081509452114400980, 120366573032017031410360532000594\n",
      "$ POSTCODE                           <str> BL5 1FH, BL1 2BZ, BL1 2HJ, BL5 3RZ, BL6 6GQ, BL3 6NR, BL1 7AF, BL6 7AX, BL1 8TU, BL5 3AZ\n",
      "$ BUILDING_REFERENCE_NUMBER          <i64> 245049580000, 626444090000, 10001294401, 757153640000, 608615160000, 543507450000, 990433780000, 10001709451, 300340410000, 747250200000\n",
      "$ ASSET_RATING                       <i64> 17, 133, 77, 83, 30, 61, 73, 64, 56, 102\n",
      "$ ASSET_RATING_BAND                  <str> A, F, D, D, B, C, C, C, C, E\n",
      "$ PROPERTY_TYPE                      <str> B8 Storage or Distribution, Office, A1/A2 Retail and Financial/Professional services, A1/A2 Retail and Financial/Professional services, C2 Residential Institutions - Hospitals and Care Homes, Workshops/maintenance depot, Retail, A1/A2 Retail and Financial/Professional services, A1/A2 Retail and Financial/Professional services, A1/A2 Retail and Financial/Professional services\n",
      "$ LOCAL_AUTHORITY                    <str> E08000001, E08000001, E08000001, E08000001, E08000001, E08000001, E08000001, E08000001, E08000001, E08000001\n",
      "$ CONSTITUENCY                       <str> E14000579, E14000578, E14000578, E14000580, E14000580, E14000579, E14000578, E14000580, E14000578, E14000580\n",
      "$ TRANSACTION_TYPE                   <str> Mandatory issue (Property on construction)., None, Mandatory issue (Marketed sale), Mandatory issue (Marketed sale)., Mandatory issue (Marketed sale)., Mandatory issue (Marketed sale)., None, Mandatory issue (Marketed sale), Mandatory issue (Property on construction)., Mandatory issue (Marketed sale).\n",
      "$ STANDARD_EMISSIONS                 <f64> 45.15, None, 62.37, 41.93, 78.36, 46.91, None, 75.18, 53.33, 60.11\n",
      "$ TYPICAL_EMISSIONS                  <f64> 53.83, None, 96.01, 64.66, 140.95, 59.22, None, 105.55, 117.46, 87.01\n",
      "$ TARGET_EMISSIONS                   <f64> 20.19, None, 32.76, 22.07, 48.1, 28.12, None, 36.02, 40.08, 29.69\n",
      "$ BUILDING_EMISSIONS                 <f64> 15.13, None, 96.49, 69.36, 46.76, 57.58, None, 96.35, 59.8, 122.77\n",
      "$ BUILDING_LEVEL                     <i64> 5, 3, 3, 3, 4, 3, 3, 3, 4, 3\n",
      "$ RENEWABLE_SOURCES                  <str> None, None, None, None, None, None, None, None, None, None\n",
      "$ LODGEMENT_DATETIME        <datetime[μs]> 2017-10-31 12:46:11, 2009-09-07 08:51:10, 2021-06-17 10:14:59, 2014-10-23 17:57:29, 2020-03-24 16:12:00, 2010-04-29 19:15:48, 2009-05-11 19:23:14, 2021-09-19 09:36:23, 2018-08-15 09:45:21, 2017-03-14 10:36:05\n",
      "\n"
     ]
    }
   ],
   "source": [
    "\n",
    "epc_non_domestic = get_ca.ingest_certs(la_list,\n",
    "                                              cols_schema = cols_schema_nondom,\n",
    "                                              root_dir = 'data/all-non-domestic-certificates')\n",
    "epc_non_domestic.glimpse()"
   ]
  },
  {
   "cell_type": "code",
   "execution_count": 9,
   "metadata": {},
   "outputs": [
    {
     "data": {
      "text/html": [
       "<div><style>\n",
       ".dataframe > thead > tr > th,\n",
       ".dataframe > tbody > tr > td {\n",
       "  text-align: right;\n",
       "  white-space: pre-wrap;\n",
       "}\n",
       "</style>\n",
       "<small>shape: (3, 2)</small><table border=\"1\" class=\"dataframe\"><thead><tr><th>dates</th><th>index</th></tr><tr><td>datetime[μs]</td><td>i64</td></tr></thead><tbody><tr><td>2014-01-23 19:35:54</td><td>1</td></tr><tr><td>2016-07-25 17:56:11</td><td>2</td></tr><tr><td>2022-09-15 16:26:14</td><td>3</td></tr></tbody></table></div>"
      ],
      "text/plain": [
       "shape: (3, 2)\n",
       "┌─────────────────────┬───────┐\n",
       "│ dates               ┆ index │\n",
       "│ ---                 ┆ ---   │\n",
       "│ datetime[μs]        ┆ i64   │\n",
       "╞═════════════════════╪═══════╡\n",
       "│ 2014-01-23 19:35:54 ┆ 1     │\n",
       "│ 2016-07-25 17:56:11 ┆ 2     │\n",
       "│ 2022-09-15 16:26:14 ┆ 3     │\n",
       "└─────────────────────┴───────┘"
      ]
     },
     "execution_count": 9,
     "metadata": {},
     "output_type": "execute_result"
    }
   ],
   "source": [
    "dates = ['2014-01-23 19:35:54', '2016-07-25 17:56:11', '2022-09-15 16:26:14']\n",
    "index = [1, 2, 3]\n",
    "date_df = pl.DataFrame({'dates':dates,\n",
    "           'index': index})\n",
    "\n",
    "date_df.with_columns(pl.col('dates').str.to_datetime(format='%Y-%m-%d %H:%M:%S'))"
   ]
  },
  {
   "cell_type": "code",
   "execution_count": 10,
   "metadata": {},
   "outputs": [],
   "source": [
    "cols_schema_dom = {\n",
    "                        'LMK_KEY':pl.Utf8,\n",
    "                        'POSTCODE':pl.Utf8,\n",
    "                        'CURRENT_ENERGY_RATING':pl.Utf8,\n",
    "                        'LOCAL_AUTHORITY':pl.Utf8,\n",
    "                        'PROPERTY_TYPE':pl.Utf8,\n",
    "                        'LODGEMENT_DATETIME':pl.Utf8,\n",
    "                        'TRANSACTION_TYPE': pl.Utf8,\n",
    "                        'ENVIRONMENT_IMPACT_CURRENT':pl.Int64,\n",
    "                        'CO2_EMISSIONS_CURRENT': pl.Float64,\n",
    "                        'TENURE':pl.Utf8,\n",
    "                        'UPRN':pl.Int64\n",
    "                    }"
   ]
  },
  {
   "cell_type": "code",
   "execution_count": 11,
   "metadata": {},
   "outputs": [
    {
     "name": "stdout",
     "output_type": "stream",
     "text": [
      "Rows: 4728852\n",
      "Columns: 11\n",
      "$ UPRN                                <i64> None, 4210003725, 10001239702, 10001239704, 10001239709, 10001239711, 10001239712, 10001239714, 10001239715, 10001239716\n",
      "$ LMK_KEY                             <str> 632d66abdfbd4f709d71851927a2d79fce2fd90e4d67fe999bc22b5a9970bcc2, 8126d78434eb72180e023c7d522d811b8a11a9d6f206aa19a867f06df5d4599c, 69223609222016052017263804808356, 1099459139642014100812510823040588, 876abfcefe535b31e3e3e46264de08d97acec07eb72415f2fa967061afc6315d, e9c4c64a24ad61bbf2c4de0d3bd97725b8dde5d9b21a12e2cd0888e34ac6af15, 1019963559062013100615514564448457, 1485207013512016100421133096069648, 1389662563632016072714480291278400, aade8e478efe85ef7a8b090f1a4eedd4941217246ccb9019e35ef1d944af8505\n",
      "$ POSTCODE                            <str> BL5 3WB, BL3 1PS, BL1 5WA, BL3 5NP, BL3 5NP, BL3 5NP, BL3 5NP, BL3 5NP, BL3 5NP, BL3 5NP\n",
      "$ CURRENT_ENERGY_RATING               <str> B, C, C, D, C, C, C, D, E, D\n",
      "$ LOCAL_AUTHORITY                     <str> E08000001, E08000001, E08000001, E08000001, E08000001, E08000001, E08000001, E08000001, E08000001, E08000001\n",
      "$ PROPERTY_TYPE                       <str> Flat, House, House, House, House, House, House, House, House, House\n",
      "$ LODGEMENT_DATETIME         <datetime[μs]> 2023-08-31 09:36:01, 2021-04-03 11:13:34, 2016-05-20 17:26:38, 2014-10-08 12:51:08, 2022-05-18 19:12:32, 2021-01-20 00:00:00, 2013-10-06 15:51:45, 2016-10-04 21:13:30, 2016-07-27 14:48:02, 2021-09-22 16:29:52\n",
      "$ TRANSACTION_TYPE                    <str> marketed sale, marketed sale, marketed sale, none of the above, non marketed sale, rental, rental (private), marketed sale, ECO assessment, rental\n",
      "$ ENVIRONMENT_IMPACT_CURRENT          <i64> 87, 74, 71, 68, 73, 69, 79, 57, 42, 41\n",
      "$ CO2_EMISSIONS_CURRENT               <f64> 0.8, 3.0, 6.1, 2.3, 2.1, 2.4, 1.5, 3.2, 5.1, 5.6\n",
      "$ TENURE                              <str> Owner-occupied, Owner-occupied, owner-occupied, rental (private), Owner-occupied, Rented (private), rental (private), owner-occupied, owner-occupied, Rented (private)\n",
      "\n"
     ]
    }
   ],
   "source": [
    "epc_domestic = get_ca.ingest_certs(la_list = la_list,\n",
    "                                   cols_schema = cols_schema_dom,\n",
    "                                   root_dir = 'data/all-domestic-certificates')\n",
    "epc_domestic.glimpse()\n"
   ]
  },
  {
   "cell_type": "code",
   "execution_count": 12,
   "metadata": {},
   "outputs": [],
   "source": [
    "# read from saved file\n",
    "epc_clean = (pl.read_csv('data/epc_subset_polars_last.csv',\n",
    "                          dtypes={'LODGEMENT_DATETIME': pl.Datetime}))\n",
    "# epc_clean.glimpse()"
   ]
  },
  {
   "cell_type": "code",
   "execution_count": 13,
   "metadata": {},
   "outputs": [
    {
     "name": "stdout",
     "output_type": "stream",
     "text": [
      "Rows: 4726616\n",
      "Columns: 13\n",
      "$ uprn                       <i64> 10001239702, 10001239704, 10001239709, 10001239711, 10001239712, 10001239714, 10001239715, 10001239716, 10001239717, 10001239718\n",
      "$ lmk_key                    <str> 69223609222016052017263804808356, 1099459139642014100812510823040588, 876abfcefe535b31e3e3e46264de08d97acec07eb72415f2fa967061afc6315d, e9c4c64a24ad61bbf2c4de0d3bd97725b8dde5d9b21a12e2cd0888e34ac6af15, 1019963559062013100615514564448457, 1485207013512016100421133096069648, 1389662563632016072714480291278400, aade8e478efe85ef7a8b090f1a4eedd4941217246ccb9019e35ef1d944af8505, 1006031609732013112914032764978690, de7a02fb12a4ef27399bd7054917b4fd2c166ac4a3d7da461f4f4b7876c8a664\n",
      "$ postcode                   <str> BL1 5WA, BL3 5NP, BL3 5NP, BL3 5NP, BL3 5NP, BL3 5NP, BL3 5NP, BL3 5NP, BL3 5NP, BL3 5NP\n",
      "$ current_energy_rating      <str> C, D, C, C, C, D, E, D, D, C\n",
      "$ local_authority            <str> E08000001, E08000001, E08000001, E08000001, E08000001, E08000001, E08000001, E08000001, E08000001, E08000001\n",
      "$ property_type              <str> House, House, House, House, House, House, House, House, House, House\n",
      "$ transaction_type           <str> marketed sale, none of the above, non marketed sale, rental, rental (private), marketed sale, ECO assessment, rental, FiT application, marketed sale\n",
      "$ environment_impact_current <i64> 71, 68, 73, 69, 79, 57, 42, 41, 57, 74\n",
      "$ co2_emissions_current      <f64> 6.1, 2.3, 2.1, 2.4, 1.5, 3.2, 5.1, 5.6, 3.2, 2.0\n",
      "$ tenure                     <str> owner-occupied, rental (private), Owner-occupied, Rented (private), rental (private), owner-occupied, owner-occupied, Rented (private), rental (private), Owner-occupied\n",
      "$ date                       <str> 2016-05-20, 2014-10-08, 2022-05-18, 2021-01-20, 2013-10-06, 2016-10-04, 2016-07-27, 2021-09-22, 2013-11-29, 2021-06-23\n",
      "$ year                       <i32> 2016, 2014, 2022, 2021, 2013, 2016, 2016, 2021, 2013, 2021\n",
      "$ month                      <i16> 5, 10, 5, 1, 10, 10, 7, 9, 11, 6\n",
      "\n"
     ]
    }
   ],
   "source": [
    "epc_domestic_df = get_ca.wrangle_epc(epc_domestic)\n",
    "epc_domestic_df.glimpse()"
   ]
  },
  {
   "cell_type": "code",
   "execution_count": 14,
   "metadata": {},
   "outputs": [
    {
     "name": "stdout",
     "output_type": "stream",
     "text": [
      "Rows: 160550\n",
      "Columns: 19\n",
      "$ uprn                      <str> 10070926743, 200002544806, 100012552086, 10070921447, 10070929417, 200002560793, 100012555277, 100012562246, 200002559499, 100012561389\n",
      "$ lmk_key                   <str> 125957590402017103112461189509700, 22707574052009090708511004000692, 8c225de542537f954b5eca17edcfa9025092ea349033c9547022fa54b527239c, 96442130542014102317572942609200, 154396610062020032416120001970160, 34614150032010042919154815000094, 16919593052009051119231403000989, 29e1dfa1becc02ea35249557037efecc19f79ad8ca041743faed058bee6ce61d, 135962200002018081509452114400980, 120366573032017031410360532000594\n",
      "$ postcode                  <str> BL5 1FH, BL1 2BZ, BL1 2HJ, BL5 3RZ, BL6 6GQ, BL3 6NR, BL1 7AF, BL6 7AX, BL1 8TU, BL5 3AZ\n",
      "$ building_reference_number <i64> 245049580000, 626444090000, 10001294401, 757153640000, 608615160000, 543507450000, 990433780000, 10001709451, 300340410000, 747250200000\n",
      "$ asset_rating              <i64> 17, 133, 77, 83, 30, 61, 73, 64, 56, 102\n",
      "$ asset_rating_band         <str> A, F, D, D, B, C, C, C, C, E\n",
      "$ property_type             <str> B8 Storage or Distribution, Office, A1/A2 Retail and Financial/Professional services, A1/A2 Retail and Financial/Professional services, C2 Residential Institutions - Hospitals and Care Homes, Workshops/maintenance depot, Retail, A1/A2 Retail and Financial/Professional services, A1/A2 Retail and Financial/Professional services, A1/A2 Retail and Financial/Professional services\n",
      "$ local_authority           <str> E08000001, E08000001, E08000001, E08000001, E08000001, E08000001, E08000001, E08000001, E08000001, E08000001\n",
      "$ constituency              <str> E14000579, E14000578, E14000578, E14000580, E14000580, E14000579, E14000578, E14000580, E14000578, E14000580\n",
      "$ transaction_type          <str> Mandatory issue (Property on construction)., None, Mandatory issue (Marketed sale), Mandatory issue (Marketed sale)., Mandatory issue (Marketed sale)., Mandatory issue (Marketed sale)., None, Mandatory issue (Marketed sale), Mandatory issue (Property on construction)., Mandatory issue (Marketed sale).\n",
      "$ standard_emissions        <f64> 45.15, None, 62.37, 41.93, 78.36, 46.91, None, 75.18, 53.33, 60.11\n",
      "$ typical_emissions         <f64> 53.83, None, 96.01, 64.66, 140.95, 59.22, None, 105.55, 117.46, 87.01\n",
      "$ target_emissions          <f64> 20.19, None, 32.76, 22.07, 48.1, 28.12, None, 36.02, 40.08, 29.69\n",
      "$ building_emissions        <f64> 15.13, None, 96.49, 69.36, 46.76, 57.58, None, 96.35, 59.8, 122.77\n",
      "$ building_level            <i64> 5, 3, 3, 3, 4, 3, 3, 3, 4, 3\n",
      "$ renewable_sources         <str> None, None, None, None, None, None, None, None, None, None\n",
      "$ date                      <str> 2017-10-31, 2009-09-07, 2021-06-17, 2014-10-23, 2020-03-24, 2010-04-29, 2009-05-11, 2021-09-19, 2018-08-15, 2017-03-14\n",
      "$ year                      <i32> 2017, 2009, 2021, 2014, 2020, 2010, 2009, 2021, 2018, 2017\n",
      "$ month                     <i16> 10, 9, 6, 10, 3, 4, 5, 9, 8, 3\n",
      "\n"
     ]
    }
   ],
   "source": [
    "epc_non_domestic_df = get_ca.wrangle_epc(epc_non_domestic)\n",
    "epc_non_domestic_df.glimpse()"
   ]
  },
  {
   "cell_type": "code",
   "execution_count": 15,
   "metadata": {},
   "outputs": [],
   "source": [
    "ca_la_codes = get_ca.get_ca_la_codes(ca_la_df)\n",
    "postcode_file = get_ca.get_zipped_csv_file(url = \"https://www.arcgis.com/sharing/rest/content/items/3770c5e8b0c24f1dbe6d2fc6b46a0b18/data\",\n",
    "                      file_folder_name = \"postcode_lookup\")\n",
    "postcodes_df = get_ca.get_postcode_df(postcode_file, ca_la_codes)"
   ]
  },
  {
   "cell_type": "code",
   "execution_count": 16,
   "metadata": {},
   "outputs": [],
   "source": [
    "# this is hit by the 2000 record limit too so use DL file\n",
    "# input_file = get_ca.get_geojson(url = \"https://services1.arcgis.com/ESMARspQHYMw9BZ9/arcgis/rest/services/LLSOA_Dec_2021_PWC_for_England_and_Wales_2022/FeatureServer/0/query\",\n",
    "#                       destination_directory = \"data\\\\geojson\")"
   ]
  },
  {
   "cell_type": "code",
   "execution_count": 17,
   "metadata": {},
   "outputs": [],
   "source": [
    "ca_lsoa_codes = get_ca.get_ca_lsoa_codes(postcodes_df)"
   ]
  },
  {
   "cell_type": "code",
   "execution_count": 18,
   "metadata": {},
   "outputs": [],
   "source": [
    "url_imd_csv = \"https://open-geography-portalx-ons.hub.arcgis.com/datasets/ons::index-of-multiple-deprivation-dec-2019-lookup-in-england.csv?where=1=1&outSR=%7B%22latestWkid%22%3A3857%2C%22wkid%22%3A102100%7D\""
   ]
  },
  {
   "cell_type": "code",
   "execution_count": 19,
   "metadata": {},
   "outputs": [],
   "source": [
    "imd_df_raw = pl.read_csv(url_imd_csv)"
   ]
  },
  {
   "cell_type": "code",
   "execution_count": 20,
   "metadata": {},
   "outputs": [],
   "source": [
    "rename_dict_imd = get_ca.get_rename_dict(imd_df_raw, get_ca.remove_numbers, rm_numbers = True)"
   ]
  },
  {
   "cell_type": "code",
   "execution_count": 21,
   "metadata": {},
   "outputs": [],
   "source": [
    "imd_df = (\n",
    "    imd_df_raw\n",
    "    .rename(rename_dict_imd)\n",
    "    .select(pl.all().exclude('fid'))\n",
    "    .filter(pl.col('lsoacd').is_in(ca_lsoa_codes))\n",
    ")\n",
    "n_unmatched_lsoas = len(ca_lsoa_codes) - imd_df.shape[0]"
   ]
  },
  {
   "cell_type": "code",
   "execution_count": 22,
   "metadata": {},
   "outputs": [],
   "source": [
    "# https://geoportal.statistics.gov.uk/datasets/lsoa-dec-2021-pwc-for-england-and-wales/explore"
   ]
  },
  {
   "cell_type": "code",
   "execution_count": 23,
   "metadata": {},
   "outputs": [],
   "source": [
    "# rename the LSOA features and return the path\n",
    "cleaned_lsoa_pwc_path = get_ca.clean_lsoa_geojson('data/geojson/LLSOA_Dec_2021_PWC_for_England_and_Wales_2022_-7534040603619445107 (2).geojson',\n",
    "                                                  lsoacd='LSOA21CD')"
   ]
  },
  {
   "cell_type": "code",
   "execution_count": 24,
   "metadata": {},
   "outputs": [],
   "source": [
    "# filter for just the LSOA's in Combined Authorities\n",
    "ca_lsoa_pwc_path = get_ca.filter_geojson(input_file = cleaned_lsoa_pwc_path,\n",
    "                                         output_file='data/geojson/ca_lsoa_pwc.geojson',\n",
    "                                         property_name ='lsoacd',\n",
    "                                         ca_lsoa_codes = ca_lsoa_codes)"
   ]
  },
  {
   "cell_type": "code",
   "execution_count": 25,
   "metadata": {},
   "outputs": [],
   "source": [
    "# reproject to WGS84:4326 as default from ONS is 27700\n",
    "reproject_path = get_ca.reproject(ca_lsoa_pwc_path, output_wgs84_file='data/geojson/ca_lsoa_pwc_wgs84.geojson', lsoa_code = 'lsoacd')"
   ]
  },
  {
   "cell_type": "markdown",
   "metadata": {},
   "source": [
    "Load the data into a duckDB data base"
   ]
  },
  {
   "cell_type": "code",
   "execution_count": 26,
   "metadata": {},
   "outputs": [],
   "source": [
    "command_list = [\n",
    "    'INSTALL spatial;',\n",
    "    'LOAD spatial;',\n",
    "    f'CREATE OR REPLACE TABLE lsoa_pwc_tbl AS SELECT * FROM ST_Read(\"{reproject_path}\")',\n",
    "    'CREATE UNIQUE INDEX lsoacd_idx ON lsoa_pwc_tbl (lsoacd)',\n",
    "    'CREATE OR REPLACE TABLE ca_la_tbl AS SELECT * FROM ca_la_df',\n",
    "    'CREATE OR REPLACE TABLE imd_tbl AS SELECT * FROM imd_df',\n",
    "    'CREATE OR REPLACE TABLE postcodes_tbl AS SELECT * FROM postcodes_df',\n",
    "    'CREATE UNIQUE INDEX postcode_idx ON postcodes_tbl (postcode)',\n",
    "    'CREATE OR REPLACE TABLE epc_domestic_tbl AS SELECT * FROM epc_domestic_df',\n",
    "    'CREATE UNIQUE INDEX uprn_idx ON epc_domestic_tbl (uprn)',\n",
    "    'CREATE OR REPLACE TABLE epc_non_domestic_tbl AS SELECT * FROM epc_non_domestic_df',\n",
    "    'CREATE UNIQUE INDEX uprn_nondom_idx ON epc_non_domestic_tbl (uprn)',\n",
    "    'CREATE OR REPLACE TABLE ca_la_dft_lookup_tbl AS SELECT * FROM ca_la_dft_lookup_df',\n",
    "    'CREATE UNIQUE INDEX ca_la_dft_lookup_idx ON ca_la_dft_lookup_tbl (ladcd)'\n",
    "]"
   ]
  },
  {
   "cell_type": "code",
   "execution_count": 27,
   "metadata": {},
   "outputs": [],
   "source": [
    "# con = duckdb.connect('data/ca_epc_test.duckdb')\n",
    "\n",
    "# con.execute(command_list[5])"
   ]
  },
  {
   "cell_type": "code",
   "execution_count": 28,
   "metadata": {},
   "outputs": [],
   "source": [
    "out = get_ca.load_data(command_list=command_list, db_path='data/ca_epc.duckdb', overwrite = True)"
   ]
  },
  {
   "cell_type": "markdown",
   "metadata": {},
   "source": [
    "Introspect Database\n"
   ]
  },
  {
   "cell_type": "code",
   "execution_count": 29,
   "metadata": {},
   "outputs": [],
   "source": [
    "con = duckdb.connect(out)"
   ]
  },
  {
   "cell_type": "code",
   "execution_count": 30,
   "metadata": {},
   "outputs": [
    {
     "data": {
      "text/plain": [
       "┌──────────┬─────────┬──────────────────────┬──────────────────────┬───────────────────────────────────────┬───────────┐\n",
       "│ database │ schema  │         name         │     column_names     │             column_types              │ temporary │\n",
       "│ varchar  │ varchar │       varchar        │      varchar[]       │               varchar[]               │  boolean  │\n",
       "├──────────┼─────────┼──────────────────────┼──────────────────────┼───────────────────────────────────────┼───────────┤\n",
       "│ ca_epc   │ main    │ ca_la_dft_lookup_tbl │ [dft_la_id, ladcd,…  │ [BIGINT, VARCHAR, BIGINT]             │ false     │\n",
       "│ ca_epc   │ main    │ ca_la_tbl            │ [ladcd, ladnm, cau…  │ [VARCHAR, VARCHAR, VARCHAR, VARCHAR]  │ false     │\n",
       "│ ca_epc   │ main    │ epc_domestic_tbl     │ [uprn, lmk_key, po…  │ [BIGINT, VARCHAR, VARCHAR, VARCHAR,…  │ false     │\n",
       "│ ca_epc   │ main    │ epc_non_domestic_tbl │ [uprn, lmk_key, po…  │ [VARCHAR, VARCHAR, VARCHAR, BIGINT,…  │ false     │\n",
       "│ ca_epc   │ main    │ imd_tbl              │ [lsoacd, lsoanm, l…  │ [VARCHAR, VARCHAR, VARCHAR, VARCHAR…  │ false     │\n",
       "│ ca_epc   │ main    │ lsoa_pwc_tbl         │ [lsoacd, geom]       │ [VARCHAR, GEOMETRY]                   │ false     │\n",
       "│ ca_epc   │ main    │ postcodes_tbl        │ [postcode, lsoacd,…  │ [VARCHAR, VARCHAR, VARCHAR, VARCHAR…  │ false     │\n",
       "└──────────┴─────────┴──────────────────────┴──────────────────────┴───────────────────────────────────────┴───────────┘"
      ]
     },
     "execution_count": 30,
     "metadata": {},
     "output_type": "execute_result"
    }
   ],
   "source": [
    "con.sql(\"SHOW ALL TABLES;\")"
   ]
  },
  {
   "cell_type": "code",
   "execution_count": 31,
   "metadata": {},
   "outputs": [
    {
     "data": {
      "text/plain": [
       "┌────────────────────────────┬─────────────┬─────────┬─────────┬─────────┬───────┐\n",
       "│        column_name         │ column_type │  null   │   key   │ default │ extra │\n",
       "│          varchar           │   varchar   │ varchar │ varchar │ varchar │ int32 │\n",
       "├────────────────────────────┼─────────────┼─────────┼─────────┼─────────┼───────┤\n",
       "│ uprn                       │ BIGINT      │ YES     │ NULL    │ NULL    │  NULL │\n",
       "│ lmk_key                    │ VARCHAR     │ YES     │ NULL    │ NULL    │  NULL │\n",
       "│ postcode                   │ VARCHAR     │ YES     │ NULL    │ NULL    │  NULL │\n",
       "│ current_energy_rating      │ VARCHAR     │ YES     │ NULL    │ NULL    │  NULL │\n",
       "│ local_authority            │ VARCHAR     │ YES     │ NULL    │ NULL    │  NULL │\n",
       "│ property_type              │ VARCHAR     │ YES     │ NULL    │ NULL    │  NULL │\n",
       "│ transaction_type           │ VARCHAR     │ YES     │ NULL    │ NULL    │  NULL │\n",
       "│ environment_impact_current │ BIGINT      │ YES     │ NULL    │ NULL    │  NULL │\n",
       "│ co2_emissions_current      │ DOUBLE      │ YES     │ NULL    │ NULL    │  NULL │\n",
       "│ tenure                     │ VARCHAR     │ YES     │ NULL    │ NULL    │  NULL │\n",
       "│ date                       │ VARCHAR     │ YES     │ NULL    │ NULL    │  NULL │\n",
       "│ year                       │ INTEGER     │ YES     │ NULL    │ NULL    │  NULL │\n",
       "│ month                      │ SMALLINT    │ YES     │ NULL    │ NULL    │  NULL │\n",
       "├────────────────────────────┴─────────────┴─────────┴─────────┴─────────┴───────┤\n",
       "│ 13 rows                                                              6 columns │\n",
       "└────────────────────────────────────────────────────────────────────────────────┘"
      ]
     },
     "execution_count": 31,
     "metadata": {},
     "output_type": "execute_result"
    }
   ],
   "source": [
    "con.sql('DESCRIBE epc_domestic_tbl')"
   ]
  },
  {
   "cell_type": "code",
   "execution_count": 32,
   "metadata": {},
   "outputs": [
    {
     "data": {
      "text/plain": [
       "┌───────────────────────────┬─────────────┬─────────┬─────────┬─────────┬───────┐\n",
       "│        column_name        │ column_type │  null   │   key   │ default │ extra │\n",
       "│          varchar          │   varchar   │ varchar │ varchar │ varchar │ int32 │\n",
       "├───────────────────────────┼─────────────┼─────────┼─────────┼─────────┼───────┤\n",
       "│ uprn                      │ VARCHAR     │ YES     │ NULL    │ NULL    │  NULL │\n",
       "│ lmk_key                   │ VARCHAR     │ YES     │ NULL    │ NULL    │  NULL │\n",
       "│ postcode                  │ VARCHAR     │ YES     │ NULL    │ NULL    │  NULL │\n",
       "│ building_reference_number │ BIGINT      │ YES     │ NULL    │ NULL    │  NULL │\n",
       "│ asset_rating              │ BIGINT      │ YES     │ NULL    │ NULL    │  NULL │\n",
       "│ asset_rating_band         │ VARCHAR     │ YES     │ NULL    │ NULL    │  NULL │\n",
       "│ property_type             │ VARCHAR     │ YES     │ NULL    │ NULL    │  NULL │\n",
       "│ local_authority           │ VARCHAR     │ YES     │ NULL    │ NULL    │  NULL │\n",
       "│ constituency              │ VARCHAR     │ YES     │ NULL    │ NULL    │  NULL │\n",
       "│ transaction_type          │ VARCHAR     │ YES     │ NULL    │ NULL    │  NULL │\n",
       "│ standard_emissions        │ DOUBLE      │ YES     │ NULL    │ NULL    │  NULL │\n",
       "│ typical_emissions         │ DOUBLE      │ YES     │ NULL    │ NULL    │  NULL │\n",
       "│ target_emissions          │ DOUBLE      │ YES     │ NULL    │ NULL    │  NULL │\n",
       "│ building_emissions        │ DOUBLE      │ YES     │ NULL    │ NULL    │  NULL │\n",
       "│ building_level            │ BIGINT      │ YES     │ NULL    │ NULL    │  NULL │\n",
       "│ renewable_sources         │ VARCHAR     │ YES     │ NULL    │ NULL    │  NULL │\n",
       "│ date                      │ VARCHAR     │ YES     │ NULL    │ NULL    │  NULL │\n",
       "│ year                      │ INTEGER     │ YES     │ NULL    │ NULL    │  NULL │\n",
       "│ month                     │ SMALLINT    │ YES     │ NULL    │ NULL    │  NULL │\n",
       "├───────────────────────────┴─────────────┴─────────┴─────────┴─────────┴───────┤\n",
       "│ 19 rows                                                             6 columns │\n",
       "└───────────────────────────────────────────────────────────────────────────────┘"
      ]
     },
     "execution_count": 32,
     "metadata": {},
     "output_type": "execute_result"
    }
   ],
   "source": [
    "con.sql('DESCRIBE epc_non_domestic_tbl')"
   ]
  },
  {
   "cell_type": "code",
   "execution_count": 33,
   "metadata": {},
   "outputs": [
    {
     "data": {
      "text/plain": [
       "┌──────────┐\n",
       "│ num_rows │\n",
       "│  int64   │\n",
       "├──────────┤\n",
       "│     9585 │\n",
       "└──────────┘"
      ]
     },
     "execution_count": 33,
     "metadata": {},
     "output_type": "execute_result"
    }
   ],
   "source": [
    "con.sql('SELECT COUNT(*) num_rows FROM lsoa_pwc_tbl')"
   ]
  },
  {
   "cell_type": "code",
   "execution_count": 34,
   "metadata": {},
   "outputs": [],
   "source": [
    "con.close()"
   ]
  },
  {
   "cell_type": "markdown",
   "metadata": {},
   "source": [
    "Section below is to load data into SQLite."
   ]
  },
  {
   "cell_type": "code",
   "execution_count": 26,
   "metadata": {},
   "outputs": [],
   "source": [
    "# dictionary of all the dfs to be imported to sqlite - for datasette\n",
    "dfs_dict = {\n",
    "    'ca_la_tbl':ca_la_df,\n",
    "    'imd_tbl':imd_df,\n",
    "    'postcodes_tbl':postcodes_df,\n",
    "    'epc_domestic_tbl':epc_domestic_df,\n",
    "    'epc_non_domestic_tbl': epc_non_domestic_df,\n",
    "    'ca_la_dft_lookup_tbl':ca_la_dft_lookup_df\n",
    "\n",
    "}"
   ]
  },
  {
   "cell_type": "code",
   "execution_count": 4,
   "metadata": {},
   "outputs": [],
   "source": [
    "# %pip install adbc_driver_sqlite"
   ]
  },
  {
   "cell_type": "code",
   "execution_count": 23,
   "metadata": {},
   "outputs": [
    {
     "data": {
      "text/plain": [
       "[None, None, None, None, None, None]"
      ]
     },
     "execution_count": 23,
     "metadata": {},
     "output_type": "execute_result"
    }
   ],
   "source": [
    "[df.write_csv(f'data/holding/{table_name}.csv') for table_name, df in dfs_dict.items()]"
   ]
  },
  {
   "cell_type": "code",
   "execution_count": 3,
   "metadata": {},
   "outputs": [],
   "source": [
    "def import_dfs(folder_path: str = 'data/holding'):\n",
    "    # Looping through each CSV file in the folder\n",
    "    for file in Path(folder_path).glob('*.csv'):\n",
    "        # Getting the stem (file name without extension) of the file\n",
    "        stem = file.stem\n",
    "\n",
    "        # Reading the CSV file into a DataFrame\n",
    "        df = pl.read_csv(file)\n",
    "\n",
    "        # Storing the DataFrame in the dictionary with the stem as the key\n",
    "        globals()[stem] = df\n",
    "    # return dataframes"
   ]
  },
  {
   "cell_type": "code",
   "execution_count": 6,
   "metadata": {},
   "outputs": [],
   "source": [
    "import_dfs() # to save running the import routines"
   ]
  },
  {
   "cell_type": "code",
   "execution_count": 13,
   "metadata": {},
   "outputs": [],
   "source": []
  },
  {
   "cell_type": "code",
   "execution_count": 28,
   "metadata": {},
   "outputs": [],
   "source": [
    "get_ca.populate_sqlite(dfs_dict, db_path='data/sqlite/ca_epc.db', overwrite=True)"
   ]
  },
  {
   "cell_type": "code",
   "execution_count": null,
   "metadata": {},
   "outputs": [],
   "source": []
  },
  {
   "cell_type": "code",
   "execution_count": 7,
   "metadata": {},
   "outputs": [],
   "source": []
  },
  {
   "cell_type": "code",
   "execution_count": 8,
   "metadata": {},
   "outputs": [],
   "source": []
  },
  {
   "cell_type": "code",
   "execution_count": 10,
   "metadata": {},
   "outputs": [
    {
     "ename": "NameError",
     "evalue": "name 'ca_la_df' is not defined",
     "output_type": "error",
     "traceback": [
      "\u001b[1;31m---------------------------------------------------------------------------\u001b[0m",
      "\u001b[1;31mNameError\u001b[0m                                 Traceback (most recent call last)",
      "Cell \u001b[1;32mIn[10], line 1\u001b[0m\n\u001b[1;32m----> 1\u001b[0m \u001b[43mget_ca\u001b[49m\u001b[38;5;241;43m.\u001b[39;49m\u001b[43mpopulate_sqlite\u001b[49m\u001b[43m(\u001b[49m\u001b[43mtables_dict\u001b[49m\u001b[43m,\u001b[49m\u001b[43m \u001b[49m\u001b[43muri\u001b[49m\u001b[43m)\u001b[49m\n",
      "File \u001b[1;32mc:\\Users\\steve.crawshaw\\OneDrive - West Of England Combined Authority\\Documents\\r-projects\\weca_cesap\\get_ca_data.py:414\u001b[0m, in \u001b[0;36mpopulate_sqlite\u001b[1;34m(tables_dict, uri)\u001b[0m\n\u001b[0;32m    405\u001b[0m \u001b[38;5;28;01mdef\u001b[39;00m \u001b[38;5;21mload_pldf\u001b[39m(pldf: pl\u001b[38;5;241m.\u001b[39mDataFrame, table_name: \u001b[38;5;28mstr\u001b[39m, uri: \u001b[38;5;28mstr\u001b[39m \u001b[38;5;241m=\u001b[39m uri):\n\u001b[0;32m    406\u001b[0m     (\u001b[38;5;28meval\u001b[39m(pldf) \u001b[38;5;66;03m# evaluate the string name of the pl.DataFrame\u001b[39;00m\n\u001b[0;32m    407\u001b[0m     \u001b[38;5;241m.\u001b[39mwrite_database(\n\u001b[0;32m    408\u001b[0m         table_name \u001b[38;5;241m=\u001b[39m table_name, \n\u001b[1;32m   (...)\u001b[0m\n\u001b[0;32m    412\u001b[0m     )\n\u001b[0;32m    413\u001b[0m     )\n\u001b[1;32m--> 414\u001b[0m [load_pldf(pldf, table_name) \u001b[38;5;28;01mfor\u001b[39;00m pldf, table_name \u001b[38;5;129;01min\u001b[39;00m tables_dict\u001b[38;5;241m.\u001b[39mitems()]\n",
      "File \u001b[1;32mc:\\Users\\steve.crawshaw\\OneDrive - West Of England Combined Authority\\Documents\\r-projects\\weca_cesap\\get_ca_data.py:414\u001b[0m, in \u001b[0;36m<listcomp>\u001b[1;34m(.0)\u001b[0m\n\u001b[0;32m    405\u001b[0m \u001b[38;5;28;01mdef\u001b[39;00m \u001b[38;5;21mload_pldf\u001b[39m(pldf: pl\u001b[38;5;241m.\u001b[39mDataFrame, table_name: \u001b[38;5;28mstr\u001b[39m, uri: \u001b[38;5;28mstr\u001b[39m \u001b[38;5;241m=\u001b[39m uri):\n\u001b[0;32m    406\u001b[0m     (\u001b[38;5;28meval\u001b[39m(pldf) \u001b[38;5;66;03m# evaluate the string name of the pl.DataFrame\u001b[39;00m\n\u001b[0;32m    407\u001b[0m     \u001b[38;5;241m.\u001b[39mwrite_database(\n\u001b[0;32m    408\u001b[0m         table_name \u001b[38;5;241m=\u001b[39m table_name, \n\u001b[1;32m   (...)\u001b[0m\n\u001b[0;32m    412\u001b[0m     )\n\u001b[0;32m    413\u001b[0m     )\n\u001b[1;32m--> 414\u001b[0m [\u001b[43mload_pldf\u001b[49m\u001b[43m(\u001b[49m\u001b[43mpldf\u001b[49m\u001b[43m,\u001b[49m\u001b[43m \u001b[49m\u001b[43mtable_name\u001b[49m\u001b[43m)\u001b[49m \u001b[38;5;28;01mfor\u001b[39;00m pldf, table_name \u001b[38;5;129;01min\u001b[39;00m tables_dict\u001b[38;5;241m.\u001b[39mitems()]\n",
      "File \u001b[1;32mc:\\Users\\steve.crawshaw\\OneDrive - West Of England Combined Authority\\Documents\\r-projects\\weca_cesap\\get_ca_data.py:406\u001b[0m, in \u001b[0;36mpopulate_sqlite.<locals>.load_pldf\u001b[1;34m(pldf, table_name, uri)\u001b[0m\n\u001b[0;32m    405\u001b[0m \u001b[38;5;28;01mdef\u001b[39;00m \u001b[38;5;21mload_pldf\u001b[39m(pldf: pl\u001b[38;5;241m.\u001b[39mDataFrame, table_name: \u001b[38;5;28mstr\u001b[39m, uri: \u001b[38;5;28mstr\u001b[39m \u001b[38;5;241m=\u001b[39m uri):\n\u001b[1;32m--> 406\u001b[0m     (\u001b[38;5;28;43meval\u001b[39;49m\u001b[43m(\u001b[49m\u001b[43mpldf\u001b[49m\u001b[43m)\u001b[49m \u001b[38;5;66;03m# evaluate the string name of the pl.DataFrame\u001b[39;00m\n\u001b[0;32m    407\u001b[0m     \u001b[38;5;241m.\u001b[39mwrite_database(\n\u001b[0;32m    408\u001b[0m         table_name \u001b[38;5;241m=\u001b[39m table_name, \n\u001b[0;32m    409\u001b[0m         if_exists \u001b[38;5;241m=\u001b[39m \u001b[38;5;124m'\u001b[39m\u001b[38;5;124mreplace\u001b[39m\u001b[38;5;124m'\u001b[39m,\n\u001b[0;32m    410\u001b[0m         connection \u001b[38;5;241m=\u001b[39m uri,\n\u001b[0;32m    411\u001b[0m         engine \u001b[38;5;241m=\u001b[39m \u001b[38;5;124m'\u001b[39m\u001b[38;5;124madbc\u001b[39m\u001b[38;5;124m'\u001b[39m\n\u001b[0;32m    412\u001b[0m     )\n\u001b[0;32m    413\u001b[0m     )\n",
      "File \u001b[1;32m<string>:1\u001b[0m\n",
      "\u001b[1;31mNameError\u001b[0m: name 'ca_la_df' is not defined"
     ]
    }
   ],
   "source": [
    "get_ca.populate_sqlite(tables_dict, uri)"
   ]
  },
  {
   "cell_type": "code",
   "execution_count": null,
   "metadata": {},
   "outputs": [],
   "source": []
  },
  {
   "cell_type": "code",
   "execution_count": 46,
   "metadata": {},
   "outputs": [
    {
     "ename": "InternalError",
     "evalue": "INTERNAL: [SQLite] Failed to create table: table \"ca_la_tbl\" already exists (executed 'CREATE TABLE main . \"ca_la_tbl\" (\"ladcd\" TEXT, \"ladnm\" TEXT, \"cauthcd\" TEXT, \"cauthnm\" TEXT)')",
     "output_type": "error",
     "traceback": [
      "\u001b[1;31m---------------------------------------------------------------------------\u001b[0m",
      "\u001b[1;31mInternalError\u001b[0m                             Traceback (most recent call last)",
      "Cell \u001b[1;32mIn[46], line 1\u001b[0m\n\u001b[1;32m----> 1\u001b[0m [load_pldf(pldf, table_name) \u001b[38;5;28;01mfor\u001b[39;00m pldf, table_name \u001b[38;5;129;01min\u001b[39;00m tables_dict\u001b[38;5;241m.\u001b[39mitems()]\n",
      "Cell \u001b[1;32mIn[46], line 1\u001b[0m, in \u001b[0;36m<listcomp>\u001b[1;34m(.0)\u001b[0m\n\u001b[1;32m----> 1\u001b[0m [\u001b[43mload_pldf\u001b[49m\u001b[43m(\u001b[49m\u001b[43mpldf\u001b[49m\u001b[43m,\u001b[49m\u001b[43m \u001b[49m\u001b[43mtable_name\u001b[49m\u001b[43m)\u001b[49m \u001b[38;5;28;01mfor\u001b[39;00m pldf, table_name \u001b[38;5;129;01min\u001b[39;00m tables_dict\u001b[38;5;241m.\u001b[39mitems()]\n",
      "Cell \u001b[1;32mIn[45], line 2\u001b[0m, in \u001b[0;36mload_pldf\u001b[1;34m(pldf, table_name, uri)\u001b[0m\n\u001b[0;32m      1\u001b[0m \u001b[38;5;28;01mdef\u001b[39;00m \u001b[38;5;21mload_pldf\u001b[39m(pldf: pl\u001b[38;5;241m.\u001b[39mDataFrame, table_name: \u001b[38;5;28mstr\u001b[39m, uri: \u001b[38;5;28mstr\u001b[39m \u001b[38;5;241m=\u001b[39m uri):\n\u001b[1;32m----> 2\u001b[0m     (\u001b[38;5;28;43meval\u001b[39;49m\u001b[43m(\u001b[49m\u001b[43mpldf\u001b[49m\u001b[43m)\u001b[49m\u001b[43m \u001b[49m\u001b[38;5;66;43;03m# evaluate the string name of the pl.DataFrame\u001b[39;49;00m\n\u001b[0;32m      3\u001b[0m \u001b[43m     \u001b[49m\u001b[38;5;241;43m.\u001b[39;49m\u001b[43mwrite_database\u001b[49m\u001b[43m(\u001b[49m\n\u001b[0;32m      4\u001b[0m \u001b[43m         \u001b[49m\u001b[43mtable_name\u001b[49m\u001b[43m \u001b[49m\u001b[38;5;241;43m=\u001b[39;49m\u001b[43m \u001b[49m\u001b[43mtable_name\u001b[49m\u001b[43m,\u001b[49m\u001b[43m \u001b[49m\n\u001b[0;32m      5\u001b[0m \u001b[43m         \u001b[49m\u001b[43mif_exists\u001b[49m\u001b[43m \u001b[49m\u001b[38;5;241;43m=\u001b[39;49m\u001b[43m \u001b[49m\u001b[38;5;124;43m'\u001b[39;49m\u001b[38;5;124;43mreplace\u001b[39;49m\u001b[38;5;124;43m'\u001b[39;49m\u001b[43m,\u001b[49m\n\u001b[0;32m      6\u001b[0m \u001b[43m         \u001b[49m\u001b[43mconnection\u001b[49m\u001b[43m \u001b[49m\u001b[38;5;241;43m=\u001b[39;49m\u001b[43m \u001b[49m\u001b[43muri\u001b[49m\u001b[43m,\u001b[49m\n\u001b[0;32m      7\u001b[0m \u001b[43m         \u001b[49m\u001b[43mengine\u001b[49m\u001b[43m \u001b[49m\u001b[38;5;241;43m=\u001b[39;49m\u001b[43m \u001b[49m\u001b[38;5;124;43m'\u001b[39;49m\u001b[38;5;124;43madbc\u001b[39;49m\u001b[38;5;124;43m'\u001b[39;49m\n\u001b[0;32m      8\u001b[0m \u001b[43m     \u001b[49m\u001b[43m)\u001b[49m\n\u001b[0;32m      9\u001b[0m      )\n",
      "File \u001b[1;32mc:\\Users\\steve.crawshaw\\micromamba\\envs\\llm\\lib\\site-packages\\polars\\utils\\deprecation.py:95\u001b[0m, in \u001b[0;36mdeprecate_renamed_parameter.<locals>.decorate.<locals>.wrapper\u001b[1;34m(*args, **kwargs)\u001b[0m\n\u001b[0;32m     90\u001b[0m \u001b[38;5;129m@wraps\u001b[39m(function)\n\u001b[0;32m     91\u001b[0m \u001b[38;5;28;01mdef\u001b[39;00m \u001b[38;5;21mwrapper\u001b[39m(\u001b[38;5;241m*\u001b[39margs: P\u001b[38;5;241m.\u001b[39margs, \u001b[38;5;241m*\u001b[39m\u001b[38;5;241m*\u001b[39mkwargs: P\u001b[38;5;241m.\u001b[39mkwargs) \u001b[38;5;241m-\u001b[39m\u001b[38;5;241m>\u001b[39m T:\n\u001b[0;32m     92\u001b[0m     _rename_keyword_argument(\n\u001b[0;32m     93\u001b[0m         old_name, new_name, kwargs, function\u001b[38;5;241m.\u001b[39m\u001b[38;5;18m__name__\u001b[39m, version\n\u001b[0;32m     94\u001b[0m     )\n\u001b[1;32m---> 95\u001b[0m     \u001b[38;5;28;01mreturn\u001b[39;00m function(\u001b[38;5;241m*\u001b[39margs, \u001b[38;5;241m*\u001b[39m\u001b[38;5;241m*\u001b[39mkwargs)\n",
      "File \u001b[1;32mc:\\Users\\steve.crawshaw\\micromamba\\envs\\llm\\lib\\site-packages\\polars\\dataframe\\frame.py:3423\u001b[0m, in \u001b[0;36mDataFrame.write_database\u001b[1;34m(self, table_name, connection, if_exists, engine)\u001b[0m\n\u001b[0;32m   3418\u001b[0m         \u001b[38;5;28;01mraise\u001b[39;00m \u001b[38;5;167;01mValueError\u001b[39;00m(\n\u001b[0;32m   3419\u001b[0m             \u001b[38;5;124mf\u001b[39m\u001b[38;5;124m\"\u001b[39m\u001b[38;5;124munexpected value for `if_exists`: \u001b[39m\u001b[38;5;132;01m{\u001b[39;00mif_exists\u001b[38;5;132;01m!r}\u001b[39;00m\u001b[38;5;124m\"\u001b[39m\n\u001b[0;32m   3420\u001b[0m             \u001b[38;5;124mf\u001b[39m\u001b[38;5;124m\"\u001b[39m\u001b[38;5;130;01m\\n\u001b[39;00m\u001b[38;5;130;01m\\n\u001b[39;00m\u001b[38;5;124mChoose one of: \u001b[39m\u001b[38;5;132;01m{\u001b[39;00m\u001b[38;5;124m'\u001b[39m\u001b[38;5;124mfail\u001b[39m\u001b[38;5;124m'\u001b[39m,\u001b[38;5;250m \u001b[39m\u001b[38;5;124m'\u001b[39m\u001b[38;5;124mreplace\u001b[39m\u001b[38;5;124m'\u001b[39m,\u001b[38;5;250m \u001b[39m\u001b[38;5;124m'\u001b[39m\u001b[38;5;124mappend\u001b[39m\u001b[38;5;124m'\u001b[39m\u001b[38;5;132;01m}\u001b[39;00m\u001b[38;5;124m\"\u001b[39m\n\u001b[0;32m   3421\u001b[0m         )\n\u001b[0;32m   3422\u001b[0m     \u001b[38;5;28;01mwith\u001b[39;00m _open_adbc_connection(connection) \u001b[38;5;28;01mas\u001b[39;00m conn, conn\u001b[38;5;241m.\u001b[39mcursor() \u001b[38;5;28;01mas\u001b[39;00m cursor:\n\u001b[1;32m-> 3423\u001b[0m         \u001b[43mcursor\u001b[49m\u001b[38;5;241;43m.\u001b[39;49m\u001b[43madbc_ingest\u001b[49m\u001b[43m(\u001b[49m\u001b[43mtable_name\u001b[49m\u001b[43m,\u001b[49m\u001b[43m \u001b[49m\u001b[38;5;28;43mself\u001b[39;49m\u001b[38;5;241;43m.\u001b[39;49m\u001b[43mto_arrow\u001b[49m\u001b[43m(\u001b[49m\u001b[43m)\u001b[49m\u001b[43m,\u001b[49m\u001b[43m \u001b[49m\u001b[43mmode\u001b[49m\u001b[43m)\u001b[49m\n\u001b[0;32m   3424\u001b[0m         conn\u001b[38;5;241m.\u001b[39mcommit()\n\u001b[0;32m   3426\u001b[0m \u001b[38;5;28;01melif\u001b[39;00m engine \u001b[38;5;241m==\u001b[39m \u001b[38;5;124m\"\u001b[39m\u001b[38;5;124msqlalchemy\u001b[39m\u001b[38;5;124m\"\u001b[39m:\n",
      "File \u001b[1;32mc:\\Users\\steve.crawshaw\\micromamba\\envs\\llm\\lib\\site-packages\\adbc_driver_manager\\dbapi.py:894\u001b[0m, in \u001b[0;36mCursor.adbc_ingest\u001b[1;34m(self, table_name, data, mode, catalog_name, db_schema_name, temporary)\u001b[0m\n\u001b[0;32m    891\u001b[0m     \u001b[38;5;28mself\u001b[39m\u001b[38;5;241m.\u001b[39m_stmt\u001b[38;5;241m.\u001b[39mbind_stream(handle)\n\u001b[0;32m    893\u001b[0m \u001b[38;5;28mself\u001b[39m\u001b[38;5;241m.\u001b[39m_last_query \u001b[38;5;241m=\u001b[39m \u001b[38;5;28;01mNone\u001b[39;00m\n\u001b[1;32m--> 894\u001b[0m \u001b[38;5;28;01mreturn\u001b[39;00m \u001b[38;5;28;43mself\u001b[39;49m\u001b[38;5;241;43m.\u001b[39;49m\u001b[43m_stmt\u001b[49m\u001b[38;5;241;43m.\u001b[39;49m\u001b[43mexecute_update\u001b[49m\u001b[43m(\u001b[49m\u001b[43m)\u001b[49m\n",
      "File \u001b[1;32mc:\\Users\\steve.crawshaw\\micromamba\\envs\\llm\\lib\\site-packages\\adbc_driver_manager\\_lib.pyx:1184\u001b[0m, in \u001b[0;36madbc_driver_manager._lib.AdbcStatement.execute_update\u001b[1;34m()\u001b[0m\n",
      "File \u001b[1;32mc:\\Users\\steve.crawshaw\\micromamba\\envs\\llm\\lib\\site-packages\\adbc_driver_manager\\_lib.pyx:227\u001b[0m, in \u001b[0;36madbc_driver_manager._lib.check_error\u001b[1;34m()\u001b[0m\n",
      "\u001b[1;31mInternalError\u001b[0m: INTERNAL: [SQLite] Failed to create table: table \"ca_la_tbl\" already exists (executed 'CREATE TABLE main . \"ca_la_tbl\" (\"ladcd\" TEXT, \"ladnm\" TEXT, \"cauthcd\" TEXT, \"cauthnm\" TEXT)')"
     ]
    }
   ],
   "source": []
  },
  {
   "cell_type": "code",
   "execution_count": 9,
   "metadata": {},
   "outputs": [],
   "source": [
    "# population weighted centroids for each LSOA - has to be downloaded as there is no straightforward way to query the CA LSOA's from\n",
    "# open online datasets\n",
    "\n",
    "lsoa_bng_file_path = get_ca.filter_geojson('data/geojson/LLSOA_Dec_2021_PWC_for_England_and_Wales_2022_-7534040603619445107.geojson',\n",
    " output_file='data/geojson/ca_lsoa_pwc.geojson',\n",
    " property_name = 'LSOA21CD',\n",
    " ca_lsoa_codes = ca_lsoa_codes)"
   ]
  },
  {
   "cell_type": "code",
   "execution_count": 10,
   "metadata": {},
   "outputs": [
    {
     "data": {
      "text/plain": [
       "'data/geojson/ca_lsoa_pwc_wgs84.geojson'"
      ]
     },
     "execution_count": 10,
     "metadata": {},
     "output_type": "execute_result"
    }
   ],
   "source": [
    "get_ca.reproject(input_bng_file='data/geojson/ca_lsoa_pwc.geojson',\n",
    "                  output_wgs84_file='data/geojson/ca_lsoa_pwc_wgs84.geojson',\n",
    "                    lsoa_code='LSOA21CD')"
   ]
  },
  {
   "cell_type": "code",
   "execution_count": 9,
   "metadata": {},
   "outputs": [],
   "source": [
    "\n",
    "db = Database('data/ca_epc.db', recreate = True)\n",
    "db.close()"
   ]
  },
  {
   "cell_type": "code",
   "execution_count": 62,
   "metadata": {},
   "outputs": [],
   "source": [
    "# %pip install geojson-to-sqlite"
   ]
  },
  {
   "cell_type": "code",
   "execution_count": 60,
   "metadata": {},
   "outputs": [
    {
     "name": "stderr",
     "output_type": "stream",
     "text": [
      "'geojson-to-sqlite' is not recognized as an internal or external command,\n",
      "operable program or batch file.\n"
     ]
    }
   ],
   "source": [
    "# import the lsoa PWC file as geojson to the DB setting the primary key to lsoacd\n",
    "!geojson-to-sqlite data/sqlite/ca_epc.db lsoa_pwc_tbl data/geojson/ca_lsoa_pwc_wgs84.geojson --pk=lsoacd\n"
   ]
  },
  {
   "cell_type": "code",
   "execution_count": 11,
   "metadata": {},
   "outputs": [
    {
     "name": "stdout",
     "output_type": "stream",
     "text": [
      "CREATE TABLE [lsoa_pwc_tbl] (\n",
      "   [id] INTEGER,\n",
      "   [FID] INTEGER,\n",
      "   [GlobalID] TEXT,\n",
      "   [lsoacd] TEXT PRIMARY KEY,\n",
      "   [geometry] TEXT\n",
      ");\n"
     ]
    }
   ],
   "source": [
    "db = Database('data/ca_epc.db', recreate = False)\n",
    "print(db.schema)"
   ]
  },
  {
   "cell_type": "code",
   "execution_count": 12,
   "metadata": {},
   "outputs": [
    {
     "data": {
      "text/plain": [
       "<Table imd_tbl (lsoacd, lsoanm, ladcd, ladnm, imd)>"
      ]
     },
     "execution_count": 12,
     "metadata": {},
     "output_type": "execute_result"
    }
   ],
   "source": [
    "db['imd_tbl'].create(\n",
    "{\n",
    " 'lsoacd': str,\n",
    " 'lsoanm': str,\n",
    " 'ladcd': str,\n",
    " 'ladnm': str,\n",
    " 'imd': int\n",
    " },\n",
    " pk = 'lsoacd'\n",
    ")"
   ]
  },
  {
   "cell_type": "code",
   "execution_count": 13,
   "metadata": {},
   "outputs": [
    {
     "data": {
      "text/plain": [
       "<Table ca_la_tbl (ladcd, ladnm, cauthcd, cauthnm)>"
      ]
     },
     "execution_count": 13,
     "metadata": {},
     "output_type": "execute_result"
    }
   ],
   "source": [
    "db['ca_la_tbl'].create(\n",
    "{\n",
    " 'ladcd': str,\n",
    " 'ladnm': str,\n",
    " 'cauthcd': str,\n",
    " 'cauthnm': str\n",
    " },\n",
    " pk = 'ladcd'\n",
    ")"
   ]
  },
  {
   "cell_type": "code",
   "execution_count": 14,
   "metadata": {},
   "outputs": [
    {
     "data": {
      "text/plain": [
       "<Table postcodes_tbl (pcds, lsoacd, msoacd, ladcd, ladnm)>"
      ]
     },
     "execution_count": 14,
     "metadata": {},
     "output_type": "execute_result"
    }
   ],
   "source": [
    "db['postcodes_tbl'].create(\n",
    "    {\"pcds\": str,\n",
    "     \"lsoacd\": str,\n",
    "     \"msoacd\": str,\n",
    "     \"ladcd\": str,\n",
    "     \"ladnm\": str},\n",
    "     pk = 'pcds'\n",
    "     )"
   ]
  },
  {
   "cell_type": "code",
   "execution_count": null,
   "metadata": {},
   "outputs": [],
   "source": [
    "print(db.schema)"
   ]
  },
  {
   "cell_type": "code",
   "execution_count": 16,
   "metadata": {},
   "outputs": [
    {
     "data": {
      "text/plain": [
       "<Table imd_tbl (lsoacd, lsoanm, ladcd, ladnm, imd)>"
      ]
     },
     "execution_count": 16,
     "metadata": {},
     "output_type": "execute_result"
    }
   ],
   "source": [
    "# db['epc_clean_tbl'].add_foreign_key('postcode', 'postcodes_tbl', 'pcds') # too big causes crash\n",
    "db['postcodes_tbl'].add_foreign_key('lsoacd', 'imd_tbl', 'lsoacd')\n",
    "db['postcodes_tbl'].add_foreign_key('ladcd', 'ca_la_tbl', 'ladcd')\n",
    "db['postcodes_tbl'].add_foreign_key('lsoacd', 'lsoa_pwc_tbl', 'lsoacd')\n",
    "db['imd_tbl'].add_foreign_key('lsoacd', 'lsoa_pwc_tbl', 'lsoacd')"
   ]
  },
  {
   "cell_type": "code",
   "execution_count": 17,
   "metadata": {},
   "outputs": [
    {
     "data": {
      "text/plain": [
       "<Table imd_tbl (lsoacd, lsoanm, ladcd, ladnm, imd)>"
      ]
     },
     "execution_count": 17,
     "metadata": {},
     "output_type": "execute_result"
    }
   ],
   "source": [
    "db['ca_la_tbl'].insert_all(ca_la_tbl_payload)\n",
    "# db['epc_clean_tbl'].insert_all(epc_clean_tbl_payload)\n",
    "db['postcodes_tbl'].insert_all(postcodes_tbl_payload)\n",
    "db['imd_tbl'].insert_all(imd_tbl_payload)\n"
   ]
  },
  {
   "cell_type": "code",
   "execution_count": null,
   "metadata": {},
   "outputs": [],
   "source": [
    "db.close()"
   ]
  }
 ],
 "metadata": {
  "kernelspec": {
   "display_name": "Python 3",
   "language": "python",
   "name": "python3"
  },
  "language_info": {
   "codemirror_mode": {
    "name": "ipython",
    "version": 3
   },
   "file_extension": ".py",
   "mimetype": "text/x-python",
   "name": "python",
   "nbconvert_exporter": "python",
   "pygments_lexer": "ipython3",
   "version": "3.10.0"
  }
 },
 "nbformat": 4,
 "nbformat_minor": 2
}
