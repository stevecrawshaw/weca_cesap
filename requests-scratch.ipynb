{
 "cells": [
  {
   "cell_type": "code",
   "execution_count": 1,
   "metadata": {},
   "outputs": [],
   "source": [
    "import requests\n",
    "import json\n",
    "import polars as pl\n",
    "import get_ca_data as get_ca"
   ]
  },
  {
   "cell_type": "code",
   "execution_count": 2,
   "metadata": {},
   "outputs": [],
   "source": [
    "ca_lsoa_codes = get_ca.get_ca_lsoa_codes(\n",
    "    get_ca.get_postcode_df(\n",
    "        get_ca.get_zipped_csv_file(),\n",
    "         get_ca.get_ca_la_codes(\n",
    "            get_ca.get_ca_la_df(year = 2023)\n",
    "            )\n",
    "            )\n",
    "            )"
   ]
  },
  {
   "cell_type": "code",
   "execution_count": 18,
   "metadata": {},
   "outputs": [],
   "source": [
    "# record limit of 2000 makes this useless\n",
    "base_url = \"https://services3.arcgis.com/ivmBBrHfQfDnDf8Q/arcgis/rest/services/Indices_of_Multiple_Deprivation_(IMD)_2019/FeatureServer/0/query\""
   ]
  },
  {
   "cell_type": "code",
   "execution_count": 3,
   "metadata": {},
   "outputs": [],
   "source": [
    "# lets use data.gov.uk lookups\n",
    "\n",
    "url_imd_csv = \"https://open-geography-portalx-ons.hub.arcgis.com/datasets/ons::index-of-multiple-deprivation-dec-2019-lookup-in-england.csv?where=1=1&outSR=%7B%22latestWkid%22%3A3857%2C%22wkid%22%3A102100%7D\""
   ]
  },
  {
   "cell_type": "code",
   "execution_count": 4,
   "metadata": {},
   "outputs": [],
   "source": [
    "imd_df_raw = pl.read_csv(url_imd_csv)"
   ]
  },
  {
   "cell_type": "code",
   "execution_count": 5,
   "metadata": {},
   "outputs": [],
   "source": [
    " def remove_numbers(input_string):\n",
    "        # rename columns\n",
    "        # Create a translation table that maps each digit to None\n",
    "        lowercase_string = input_string.lower()\n",
    "        translation_table = str.maketrans(\"\", \"\", \"0123456789\")\n",
    "        # Use the translation table to remove all numbers from the input string\n",
    "        result_string = lowercase_string.translate(translation_table)\n",
    "        return result_string"
   ]
  },
  {
   "cell_type": "code",
   "execution_count": 6,
   "metadata": {},
   "outputs": [],
   "source": [
    "def get_rename_dict(df, remove_numbers, rm_numbers = False):\n",
    "    old = df.columns\n",
    "    if rm_numbers == False:\n",
    "        new = [colstring.lower() for colstring in df.columns]\n",
    "    else:\n",
    "        new = [remove_numbers(colstring).lower() for colstring in df.columns]\n",
    "    return dict(zip(old, new))"
   ]
  },
  {
   "cell_type": "code",
   "execution_count": 7,
   "metadata": {},
   "outputs": [
    {
     "data": {
      "text/plain": [
       "{'FID': 'fid',\n",
       " 'LSOA11CD': 'lsoacd',\n",
       " 'LSOA11NM': 'lsoanm',\n",
       " 'LAD19CD': 'ladcd',\n",
       " 'LAD19NM': 'ladnm',\n",
       " 'IMD19': 'imd'}"
      ]
     },
     "execution_count": 7,
     "metadata": {},
     "output_type": "execute_result"
    }
   ],
   "source": [
    "rename_dict = get_rename_dict(imd_df_raw, remove_numbers, rm_numbers = True)\n",
    "rename_dict"
   ]
  },
  {
   "cell_type": "code",
   "execution_count": 8,
   "metadata": {},
   "outputs": [
    {
     "data": {
      "text/plain": [
       "(9028, 5)"
      ]
     },
     "execution_count": 8,
     "metadata": {},
     "output_type": "execute_result"
    }
   ],
   "source": [
    "imd_df = (\n",
    "    imd_df_raw\n",
    "    .rename(rename_dict)\n",
    "    .select(pl.all().exclude('fid'))\n",
    "    .filter(pl.col('lsoacd').is_in(ca_lsoa_codes))\n",
    ")\n",
    "\n",
    "imd_df.shape"
   ]
  },
  {
   "cell_type": "code",
   "execution_count": 10,
   "metadata": {},
   "outputs": [
    {
     "data": {
      "text/plain": [
       "419"
      ]
     },
     "execution_count": 10,
     "metadata": {},
     "output_type": "execute_result"
    }
   ],
   "source": [
    "n_unmatched_lsoas = len(ca_lsoa_codes) - imd_df.shape[0]\n",
    "n_unmatched_lsoas"
   ]
  },
  {
   "cell_type": "code",
   "execution_count": null,
   "metadata": {},
   "outputs": [],
   "source": []
  }
 ],
 "metadata": {
  "kernelspec": {
   "display_name": "Python 3",
   "language": "python",
   "name": "python3"
  },
  "language_info": {
   "codemirror_mode": {
    "name": "ipython",
    "version": 3
   },
   "file_extension": ".py",
   "mimetype": "text/x-python",
   "name": "python",
   "nbconvert_exporter": "python",
   "pygments_lexer": "ipython3",
   "version": "3.12.0"
  }
 },
 "nbformat": 4,
 "nbformat_minor": 2
}
