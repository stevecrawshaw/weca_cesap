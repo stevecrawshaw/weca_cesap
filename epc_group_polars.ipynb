{
 "cells": [
  {
   "cell_type": "code",
   "execution_count": 12,
   "id": "b8e152f7-d9f4-4674-9852-d545ced89997",
   "metadata": {
    "tags": []
   },
   "outputs": [],
   "source": [
    "import polars as pl\n",
    "import os\n",
    "import re"
   ]
  },
  {
   "cell_type": "code",
   "execution_count": 54,
   "id": "fcde1a22",
   "metadata": {},
   "outputs": [],
   "source": [
    "root_dir = 'data/all-domestic-certificates'"
   ]
  },
  {
   "cell_type": "code",
   "execution_count": 57,
   "id": "4d42c248",
   "metadata": {},
   "outputs": [],
   "source": [
    "bathbit = 'domestic-E06000055-Bedford'"
   ]
  },
  {
   "cell_type": "code",
   "execution_count": 61,
   "id": "0c79dd83",
   "metadata": {},
   "outputs": [],
   "source": [
    "path = os.path.join(root_dir, bathbit, 'domestic.csv')"
   ]
  },
  {
   "cell_type": "code",
   "execution_count": 62,
   "id": "8e82a2d0",
   "metadata": {},
   "outputs": [
    {
     "data": {
      "text/plain": [
       "False"
      ]
     },
     "execution_count": 62,
     "metadata": {},
     "output_type": "execute_result"
    }
   ],
   "source": [
    "os.path.exists(path)"
   ]
  },
  {
   "cell_type": "code",
   "execution_count": null,
   "id": "f213392b",
   "metadata": {},
   "outputs": [],
   "source": []
  },
  {
   "cell_type": "code",
   "execution_count": 3,
   "id": "476b2baf",
   "metadata": {},
   "outputs": [],
   "source": [
    "ca_la_tbl = pl.read_csv('data/ca_la_tbl.csv')"
   ]
  },
  {
   "cell_type": "code",
   "execution_count": 74,
   "metadata": {},
   "outputs": [],
   "source": [
    "la_list = ca_la_tbl['LAD22CD']"
   ]
  },
  {
   "cell_type": "code",
   "execution_count": 75,
   "id": "ee0a98b8",
   "metadata": {},
   "outputs": [
    {
     "data": {
      "text/html": [
       "<div><style>\n",
       ".dataframe > thead > tr > th,\n",
       ".dataframe > tbody > tr > td {\n",
       "  text-align: right;\n",
       "}\n",
       "</style>\n",
       "<small>shape: (53,)</small><table border=\"1\" class=\"dataframe\"><thead><tr><th>LAD22CD</th></tr><tr><td>str</td></tr></thead><tbody><tr><td>&quot;E08000001&quot;</td></tr><tr><td>&quot;E08000002&quot;</td></tr><tr><td>&quot;E08000003&quot;</td></tr><tr><td>&quot;E08000004&quot;</td></tr><tr><td>&quot;E08000005&quot;</td></tr><tr><td>&quot;E08000006&quot;</td></tr><tr><td>&quot;E08000007&quot;</td></tr><tr><td>&quot;E08000008&quot;</td></tr><tr><td>&quot;E08000009&quot;</td></tr><tr><td>&quot;E08000010&quot;</td></tr><tr><td>&quot;E08000016&quot;</td></tr><tr><td>&quot;E08000017&quot;</td></tr><tr><td>&hellip;</td></tr><tr><td>&quot;E07000011&quot;</td></tr><tr><td>&quot;E07000012&quot;</td></tr><tr><td>&quot;E06000022&quot;</td></tr><tr><td>&quot;E06000023&quot;</td></tr><tr><td>&quot;E06000025&quot;</td></tr><tr><td>&quot;E06000047&quot;</td></tr><tr><td>&quot;E08000023&quot;</td></tr><tr><td>&quot;E08000024&quot;</td></tr><tr><td>&quot;E08000037&quot;</td></tr><tr><td>&quot;E06000057&quot;</td></tr><tr><td>&quot;E08000021&quot;</td></tr><tr><td>&quot;E08000022&quot;</td></tr></tbody></table></div>"
      ],
      "text/plain": [
       "shape: (53,)\n",
       "Series: 'LAD22CD' [str]\n",
       "[\n",
       "\t\"E08000001\"\n",
       "\t\"E08000002\"\n",
       "\t\"E08000003\"\n",
       "\t\"E08000004\"\n",
       "\t\"E08000005\"\n",
       "\t\"E08000006\"\n",
       "\t\"E08000007\"\n",
       "\t\"E08000008\"\n",
       "\t\"E08000009\"\n",
       "\t\"E08000010\"\n",
       "\t\"E08000016\"\n",
       "\t\"E08000017\"\n",
       "\t…\n",
       "\t\"E07000010\"\n",
       "\t\"E07000011\"\n",
       "\t\"E07000012\"\n",
       "\t\"E06000022\"\n",
       "\t\"E06000023\"\n",
       "\t\"E06000025\"\n",
       "\t\"E06000047\"\n",
       "\t\"E08000023\"\n",
       "\t\"E08000024\"\n",
       "\t\"E08000037\"\n",
       "\t\"E06000057\"\n",
       "\t\"E08000021\"\n",
       "\t\"E08000022\"\n",
       "]"
      ]
     },
     "execution_count": 75,
     "metadata": {},
     "output_type": "execute_result"
    }
   ],
   "source": [
    "la_list"
   ]
  },
  {
   "cell_type": "code",
   "execution_count": 76,
   "id": "01f3265f",
   "metadata": {},
   "outputs": [],
   "source": [
    "all_dataframes = []"
   ]
  },
  {
   "cell_type": "code",
   "execution_count": 77,
   "metadata": {},
   "outputs": [],
   "source": [
    "for item in la_list:\n",
    "    for folder_name in os.listdir(root_dir):\n",
    "        # Check if the folder name matches an item in la_vec\n",
    "        if item in folder_name:\n",
    "            file_path = os.path.join(root_dir, folder_name, \"certificates.csv\")\n",
    "            # print(file_path)\n",
    "            # Check if domestic.csv actually exists inside the folder\n",
    "            if os.path.exists(file_path):\n",
    "                q = (\n",
    "                pl.scan_csv(file_path,\n",
    "                 infer_schema_length=0) #all as strings\n",
    "                    .select(pl.col(['LMK_KEY',\n",
    "                    'POSTCODE',\n",
    "                    'CURRENT_ENERGY_RATING',\n",
    "                    'LOCAL_AUTHORITY',\n",
    "                    'PROPERTY_TYPE',\n",
    "                    'LODGEMENT_DATETIME',\n",
    "                    'TRANSACTION_TYPE',\n",
    "                    'ENVIRONMENT_IMPACT_CURRENT',\n",
    "                    'TENURE',\n",
    "                    'UPRN']))\n",
    "                .with_columns([pl.col('LODGEMENT_DATETIME').str.to_datetime(),\n",
    "                  pl.col('ENVIRONMENT_IMPACT_CURRENT').cast(pl.Int64),\n",
    "                  pl.col('UPRN').cast(pl.Int64)])\n",
    "                .sort(pl.col(['UPRN', 'LODGEMENT_DATETIME']))\n",
    "                .groupby('UPRN').last()\n",
    "                )\n",
    "                df = q.collect()\n",
    "                all_dataframes.append(df)"
   ]
  },
  {
   "cell_type": "code",
   "execution_count": 71,
   "id": "a290bd76",
   "metadata": {},
   "outputs": [
    {
     "data": {
      "text/plain": [
       "[shape: (81_915, 10)\n",
       " ┌──────────┬──────────┬──────────┬────────────┬───┬────────────┬────────────┬────────────┬─────────┐\n",
       " │ UPRN     ┆ LMK_KEY  ┆ POSTCODE ┆ CURRENT_EN ┆ … ┆ LODGEMENT_ ┆ TRANSACTIO ┆ ENVIRONMEN ┆ TENURE  │\n",
       " │ ---      ┆ ---      ┆ ---      ┆ ERGY_RATIN ┆   ┆ DATETIME   ┆ N_TYPE     ┆ T_IMPACT_C ┆ ---     │\n",
       " │ i64      ┆ str      ┆ str      ┆ G          ┆   ┆ ---        ┆ ---        ┆ URRENT     ┆ str     │\n",
       " │          ┆          ┆          ┆ ---        ┆   ┆ datetime[μ ┆ str        ┆ ---        ┆         │\n",
       " │          ┆          ┆          ┆ str        ┆   ┆ s]         ┆            ┆ i64        ┆         │\n",
       " ╞══════════╪══════════╪══════════╪════════════╪═══╪════════════╪════════════╪════════════╪═════════╡\n",
       " │ null     ┆ 632d66ab ┆ BL5 3WB  ┆ B          ┆ … ┆ 2023-08-31 ┆ marketed   ┆ 87         ┆ Owner-o │\n",
       " │          ┆ dfbd4f70 ┆          ┆            ┆   ┆ 09:36:01   ┆ sale       ┆            ┆ ccupied │\n",
       " │          ┆ 9d718519 ┆          ┆            ┆   ┆            ┆            ┆            ┆         │\n",
       " │          ┆ 27a2d79f ┆          ┆            ┆   ┆            ┆            ┆            ┆         │\n",
       " │          ┆ …        ┆          ┆            ┆   ┆            ┆            ┆            ┆         │\n",
       " │ 42100037 ┆ 8126d784 ┆ BL3 1PS  ┆ C          ┆ … ┆ 2021-04-03 ┆ marketed   ┆ 74         ┆ Owner-o │\n",
       " │ 25       ┆ 34eb7218 ┆          ┆            ┆   ┆ 11:13:34   ┆ sale       ┆            ┆ ccupied │\n",
       " │          ┆ 0e023c7d ┆          ┆            ┆   ┆            ┆            ┆            ┆         │\n",
       " │          ┆ 522d811b ┆          ┆            ┆   ┆            ┆            ┆            ┆         │\n",
       " │          ┆ …        ┆          ┆            ┆   ┆            ┆            ┆            ┆         │\n",
       " │ 10001239 ┆ 69223609 ┆ BL1 5WA  ┆ C          ┆ … ┆ 2016-05-20 ┆ marketed   ┆ 71         ┆ owner-o │\n",
       " │ 702      ┆ 22201605 ┆          ┆            ┆   ┆ 17:26:38   ┆ sale       ┆            ┆ ccupied │\n",
       " │          ┆ 20172638 ┆          ┆            ┆   ┆            ┆            ┆            ┆         │\n",
       " │          ┆ 04808356 ┆          ┆            ┆   ┆            ┆            ┆            ┆         │\n",
       " │ 10001239 ┆ 10994591 ┆ BL3 5NP  ┆ D          ┆ … ┆ 2014-10-08 ┆ none of    ┆ 68         ┆ rental  │\n",
       " │ 704      ┆ 39642014 ┆          ┆            ┆   ┆ 12:51:08   ┆ the above  ┆            ┆ (privat │\n",
       " │          ┆ 10081251 ┆          ┆            ┆   ┆            ┆            ┆            ┆ e)      │\n",
       " │          ┆ 08230405 ┆          ┆            ┆   ┆            ┆            ┆            ┆         │\n",
       " │          ┆ …        ┆          ┆            ┆   ┆            ┆            ┆            ┆         │\n",
       " │ …        ┆ …        ┆ …        ┆ …          ┆ … ┆ …          ┆ …          ┆ …          ┆ …       │\n",
       " │ 20000307 ┆ 11856564 ┆ BL1 3DN  ┆ C          ┆ … ┆ 2014-08-05 ┆ rental     ┆ 80         ┆ rental  │\n",
       " │ 7435     ┆ 71312014 ┆          ┆            ┆   ┆ 09:51:20   ┆ (social)   ┆            ┆ (social │\n",
       " │          ┆ 08050951 ┆          ┆            ┆   ┆            ┆            ┆            ┆ )       │\n",
       " │          ┆ 20947407 ┆          ┆            ┆   ┆            ┆            ┆            ┆         │\n",
       " │          ┆ …        ┆          ┆            ┆   ┆            ┆            ┆            ┆         │\n",
       " │ 20000307 ┆ 16132709 ┆ BL1 3DN  ┆ C          ┆ … ┆ 2018-03-07 ┆ rental     ┆ 80         ┆ rental  │\n",
       " │ 7436     ┆ 41752018 ┆          ┆            ┆   ┆ 15:40:01   ┆ (social)   ┆            ┆ (social │\n",
       " │          ┆ 03071540 ┆          ┆            ┆   ┆            ┆            ┆            ┆ )       │\n",
       " │          ┆ 01970805 ┆          ┆            ┆   ┆            ┆            ┆            ┆         │\n",
       " │          ┆ …        ┆          ┆            ┆   ┆            ┆            ┆            ┆         │\n",
       " │ 20000307 ┆ b804b181 ┆ BL1 3DN  ┆ C          ┆ … ┆ 2022-02-06 ┆ rental     ┆ 80         ┆ Rented  │\n",
       " │ 7437     ┆ 64b81cd0 ┆          ┆            ┆   ┆ 13:02:48   ┆            ┆            ┆ (social │\n",
       " │          ┆ bd9c9ea7 ┆          ┆            ┆   ┆            ┆            ┆            ┆ )       │\n",
       " │          ┆ 7f28d85e ┆          ┆            ┆   ┆            ┆            ┆            ┆         │\n",
       " │          ┆ …        ┆          ┆            ┆   ┆            ┆            ┆            ┆         │\n",
       " │ 20000450 ┆ 14518569 ┆ BB1 5JF  ┆ B          ┆ … ┆ 2013-08-17 ┆ new        ┆ 82         ┆ NO      │\n",
       " │ 5486     ┆ 10201308 ┆          ┆            ┆   ┆ 15:17:32   ┆ dwelling   ┆            ┆ DATA!   │\n",
       " │          ┆ 17151732 ┆          ┆            ┆   ┆            ┆            ┆            ┆         │\n",
       " │          ┆ 40879538 ┆          ┆            ┆   ┆            ┆            ┆            ┆         │\n",
       " └──────────┴──────────┴──────────┴────────────┴───┴────────────┴────────────┴────────────┴─────────┘,\n",
       " shape: (54_054, 10)\n",
       " ┌──────────┬──────────┬──────────┬────────────┬───┬────────────┬────────────┬────────────┬─────────┐\n",
       " │ UPRN     ┆ LMK_KEY  ┆ POSTCODE ┆ CURRENT_EN ┆ … ┆ LODGEMENT_ ┆ TRANSACTIO ┆ ENVIRONMEN ┆ TENURE  │\n",
       " │ ---      ┆ ---      ┆ ---      ┆ ERGY_RATIN ┆   ┆ DATETIME   ┆ N_TYPE     ┆ T_IMPACT_C ┆ ---     │\n",
       " │ i64      ┆ str      ┆ str      ┆ G          ┆   ┆ ---        ┆ ---        ┆ URRENT     ┆ str     │\n",
       " │          ┆          ┆          ┆ ---        ┆   ┆ datetime[μ ┆ str        ┆ ---        ┆         │\n",
       " │          ┆          ┆          ┆ str        ┆   ┆ s]         ┆            ┆ i64        ┆         │\n",
       " ╞══════════╪══════════╪══════════╪════════════╪═══╪════════════╪════════════╪════════════╪═════════╡\n",
       " │ null     ┆ 89afe568 ┆ BL2 5RD  ┆ C          ┆ … ┆ 2023-08-24 ┆ rental     ┆ 80         ┆ Rented  │\n",
       " │          ┆ 88958ee9 ┆          ┆            ┆   ┆ 05:36:17   ┆            ┆            ┆ (privat │\n",
       " │          ┆ 4a2402ad ┆          ┆            ┆   ┆            ┆            ┆            ┆ e)      │\n",
       " │          ┆ 330cfb64 ┆          ┆            ┆   ┆            ┆            ┆            ┆         │\n",
       " │          ┆ …        ┆          ┆            ┆   ┆            ┆            ┆            ┆         │\n",
       " │ 42100000 ┆ 14319508 ┆ BL9 6HE  ┆ C          ┆ … ┆ 2016-04-12 ┆ marketed   ┆ 70         ┆ owner-o │\n",
       " │ 00       ┆ 89502016 ┆          ┆            ┆   ┆ 15:34:08   ┆ sale       ┆            ┆ ccupied │\n",
       " │          ┆ 04121534 ┆          ┆            ┆   ┆            ┆            ┆            ┆         │\n",
       " │          ┆ 08423692 ┆          ┆            ┆   ┆            ┆            ┆            ┆         │\n",
       " │          ┆ …        ┆          ┆            ┆   ┆            ┆            ┆            ┆         │\n",
       " │ 42100000 ┆ 26049580 ┆ BL9 6HE  ┆ C          ┆ … ┆ 2009-04-02 ┆ marketed   ┆ 73         ┆ owner-o │\n",
       " │ 01       ┆ 41320090 ┆          ┆            ┆   ┆ 16:40:25   ┆ sale       ┆            ┆ ccupied │\n",
       " │          ┆ 40216402 ┆          ┆            ┆   ┆            ┆            ┆            ┆         │\n",
       " │          ┆ 54306810 ┆          ┆            ┆   ┆            ┆            ┆            ┆         │\n",
       " │          ┆ …        ┆          ┆            ┆   ┆            ┆            ┆            ┆         │\n",
       " │ 42100000 ┆ 15053811 ┆ BL9 6HE  ┆ C          ┆ … ┆ 2016-12-16 ┆ marketed   ┆ 74         ┆ owner-o │\n",
       " │ 02       ┆ 56912016 ┆          ┆            ┆   ┆ 14:37:50   ┆ sale       ┆            ┆ ccupied │\n",
       " │          ┆ 12161437 ┆          ┆            ┆   ┆            ┆            ┆            ┆         │\n",
       " │          ┆ 50909694 ┆          ┆            ┆   ┆            ┆            ┆            ┆         │\n",
       " │          ┆ …        ┆          ┆            ┆   ┆            ┆            ┆            ┆         │\n",
       " │ …        ┆ …        ┆ …        ┆ …          ┆ … ┆ …          ┆ …          ┆ …          ┆ …       │\n",
       " │ 20000285 ┆ 17079212 ┆ M45 6TQ  ┆ D          ┆ … ┆ 2019-03-22 ┆ none of    ┆ 62         ┆ unknown │\n",
       " │ 2042     ┆ 83052019 ┆          ┆            ┆   ┆ 13:18:52   ┆ the above  ┆            ┆         │\n",
       " │          ┆ 03221318 ┆          ┆            ┆   ┆            ┆            ┆            ┆         │\n",
       " │          ┆ 52952107 ┆          ┆            ┆   ┆            ┆            ┆            ┆         │\n",
       " │          ┆ …        ┆          ┆            ┆   ┆            ┆            ┆            ┆         │\n",
       " │ 20000285 ┆ 26677755 ┆ M45 8HR  ┆ C          ┆ … ┆ 2017-03-29 ┆ none of    ┆ 74         ┆ rental  │\n",
       " │ 2054     ┆ 83520170 ┆          ┆            ┆   ┆ 16:00:02   ┆ the above  ┆            ┆ (social │\n",
       " │          ┆ 32916000 ┆          ┆            ┆   ┆            ┆            ┆            ┆ )       │\n",
       " │          ┆ 29623086 ┆          ┆            ┆   ┆            ┆            ┆            ┆         │\n",
       " │          ┆ …        ┆          ┆            ┆   ┆            ┆            ┆            ┆         │\n",
       " │ 20000285 ┆ 26481161 ┆ M45 8HR  ┆ C          ┆ … ┆ 2017-03-29 ┆ none of    ┆ 76         ┆ rental  │\n",
       " │ 2055     ┆ 92620170 ┆          ┆            ┆   ┆ 16:03:09   ┆ the above  ┆            ┆ (social │\n",
       " │          ┆ 32916030 ┆          ┆            ┆   ┆            ┆            ┆            ┆ )       │\n",
       " │          ┆ 94068822 ┆          ┆            ┆   ┆            ┆            ┆            ┆         │\n",
       " │          ┆ …        ┆          ┆            ┆   ┆            ┆            ┆            ┆         │\n",
       " │ 20000285 ┆ 28018938 ┆ M45 8QN  ┆ C          ┆ … ┆ 2009-05-07 ┆ rental     ┆ 74         ┆ rental  │\n",
       " │ 2056     ┆ 00220090 ┆          ┆            ┆   ┆ 11:57:49   ┆ (private)  ┆            ┆ (privat │\n",
       " │          ┆ 50711574 ┆          ┆            ┆   ┆            ┆            ┆            ┆ e)      │\n",
       " │          ┆ 93176886 ┆          ┆            ┆   ┆            ┆            ┆            ┆         │\n",
       " │          ┆ …        ┆          ┆            ┆   ┆            ┆            ┆            ┆         │\n",
       " └──────────┴──────────┴──────────┴────────────┴───┴────────────┴────────────┴────────────┴─────────┘,\n",
       " shape: (189_819, 10)\n",
       " ┌──────────┬──────────┬──────────┬────────────┬───┬────────────┬────────────┬────────────┬─────────┐\n",
       " │ UPRN     ┆ LMK_KEY  ┆ POSTCODE ┆ CURRENT_EN ┆ … ┆ LODGEMENT_ ┆ TRANSACTIO ┆ ENVIRONMEN ┆ TENURE  │\n",
       " │ ---      ┆ ---      ┆ ---      ┆ ERGY_RATIN ┆   ┆ DATETIME   ┆ N_TYPE     ┆ T_IMPACT_C ┆ ---     │\n",
       " │ i64      ┆ str      ┆ str      ┆ G          ┆   ┆ ---        ┆ ---        ┆ URRENT     ┆ str     │\n",
       " │          ┆          ┆          ┆ ---        ┆   ┆ datetime[μ ┆ str        ┆ ---        ┆         │\n",
       " │          ┆          ┆          ┆ str        ┆   ┆ s]         ┆            ┆ i64        ┆         │\n",
       " ╞══════════╪══════════╪══════════╪════════════╪═══╪════════════╪════════════╪════════════╪═════════╡\n",
       " │ null     ┆ fb2bdd9a ┆ M15 4ZW  ┆ D          ┆ … ┆ 2023-08-31 ┆ new        ┆ 92         ┆ Not     │\n",
       " │          ┆ e8ed0a54 ┆          ┆            ┆   ┆ 14:55:40   ┆ dwelling   ┆            ┆ defined │\n",
       " │          ┆ a741765a ┆          ┆            ┆   ┆            ┆            ┆            ┆ - use   │\n",
       " │          ┆ 00326b97 ┆          ┆            ┆   ┆            ┆            ┆            ┆ in the  │\n",
       " │          ┆ …        ┆          ┆            ┆   ┆            ┆            ┆            ┆ case    │\n",
       " │          ┆          ┆          ┆            ┆   ┆            ┆            ┆            ┆ of…     │\n",
       " │ 25118595 ┆ 41239803 ┆ MK4 4HS  ┆ B          ┆ … ┆ 2009-07-14 ┆ new        ┆ 84         ┆ null    │\n",
       " │          ┆ 02009071 ┆          ┆            ┆   ┆ 16:22:16   ┆ dwelling   ┆            ┆         │\n",
       " │          ┆ 41622164 ┆          ┆            ┆   ┆            ┆            ┆            ┆         │\n",
       " │          ┆ 9619648  ┆          ┆            ┆   ┆            ┆            ┆            ┆         │\n",
       " │ 77000004 ┆ 81243816 ┆ M7 4YB   ┆ C          ┆ … ┆ 2023-04-28 ┆ rental     ┆ 70         ┆ Rented  │\n",
       " │          ┆ 090955f8 ┆          ┆            ┆   ┆ 14:46:31   ┆            ┆            ┆ (social │\n",
       " │          ┆ ab8a4694 ┆          ┆            ┆   ┆            ┆            ┆            ┆ )       │\n",
       " │          ┆ b40121e9 ┆          ┆            ┆   ┆            ┆            ┆            ┆         │\n",
       " │          ┆ …        ┆          ┆            ┆   ┆            ┆            ┆            ┆         │\n",
       " │ 77000006 ┆ 17327028 ┆ M7 4YB   ┆ C          ┆ … ┆ 2019-06-28 ┆ rental     ┆ 73         ┆ rental  │\n",
       " │          ┆ 39262019 ┆          ┆            ┆   ┆ 18:16:41   ┆ (social)   ┆            ┆ (social │\n",
       " │          ┆ 06281816 ┆          ┆            ┆   ┆            ┆            ┆            ┆ )       │\n",
       " │          ┆ 41856880 ┆          ┆            ┆   ┆            ┆            ┆            ┆         │\n",
       " │          ┆ …        ┆          ┆            ┆   ┆            ┆            ┆            ┆         │\n",
       " │ …        ┆ …        ┆ …        ┆ …          ┆ … ┆ …          ┆ …          ┆ …          ┆ …       │\n",
       " │ 20000013 ┆ 42909961 ┆ M21 9HQ  ┆ D          ┆ … ┆ 2010-01-30 ┆ rental     ┆ 57         ┆ rental  │\n",
       " │ 8770     ┆ 92620100 ┆          ┆            ┆   ┆ 13:46:35   ┆ (private)  ┆            ┆ (privat │\n",
       " │          ┆ 13013463 ┆          ┆            ┆   ┆            ┆            ┆            ┆ e)      │\n",
       " │          ┆ 52275855 ┆          ┆            ┆   ┆            ┆            ┆            ┆         │\n",
       " │          ┆ …        ┆          ┆            ┆   ┆            ┆            ┆            ┆         │\n",
       " │ 20000439 ┆ 01c6a4e9 ┆ M11 4PE  ┆ E          ┆ … ┆ 2022-08-23 ┆ ECO        ┆ 48         ┆ Rented  │\n",
       " │ 9043     ┆ c50edaad ┆          ┆            ┆   ┆ 15:56:42   ┆ assessment ┆            ┆ (privat │\n",
       " │          ┆ 67f85498 ┆          ┆            ┆   ┆            ┆            ┆            ┆ e)      │\n",
       " │          ┆ b18d0c48 ┆          ┆            ┆   ┆            ┆            ┆            ┆         │\n",
       " │          ┆ …        ┆          ┆            ┆   ┆            ┆            ┆            ┆         │\n",
       " │ 42200002 ┆ 10020439 ┆ M35 0JP  ┆ D          ┆ … ┆ 2013-09-06 ┆ none of    ┆ 52         ┆ owner-o │\n",
       " │ 9787     ┆ 89222013 ┆          ┆            ┆   ┆ 10:12:23   ┆ the above  ┆            ┆ ccupied │\n",
       " │          ┆ 09061012 ┆          ┆            ┆   ┆            ┆            ┆            ┆         │\n",
       " │          ┆ 23334182 ┆          ┆            ┆   ┆            ┆            ┆            ┆         │\n",
       " │          ┆ …        ┆          ┆            ┆   ┆            ┆            ┆            ┆         │\n",
       " │ 42200009 ┆ 36a683e9 ┆ M40 3QH  ┆ D          ┆ … ┆ 2021-09-02 ┆ marketed   ┆ 52         ┆ Owner-o │\n",
       " │ 8899     ┆ 9f29b5bb ┆          ┆            ┆   ┆ 05:59:22   ┆ sale       ┆            ┆ ccupied │\n",
       " │          ┆ 45d72425 ┆          ┆            ┆   ┆            ┆            ┆            ┆         │\n",
       " │          ┆ c38b0826 ┆          ┆            ┆   ┆            ┆            ┆            ┆         │\n",
       " │          ┆ …        ┆          ┆            ┆   ┆            ┆            ┆            ┆         │\n",
       " └──────────┴──────────┴──────────┴────────────┴───┴────────────┴────────────┴────────────┴─────────┘]"
      ]
     },
     "execution_count": 71,
     "metadata": {},
     "output_type": "execute_result"
    }
   ],
   "source": [
    "all_dataframes"
   ]
  },
  {
   "cell_type": "code",
   "execution_count": 78,
   "id": "885a9c8d",
   "metadata": {},
   "outputs": [],
   "source": [
    "cons_df = pl.concat(all_dataframes)"
   ]
  },
  {
   "cell_type": "code",
   "execution_count": 79,
   "metadata": {},
   "outputs": [
    {
     "name": "stdout",
     "output_type": "stream",
     "text": [
      "Rows: 4660486\n",
      "Columns: 10\n",
      "$ UPRN                                <i64> None, 4210003725, 10001239702, 10001239704, 10001239709, 10001239711, 10001239712, 10001239714, 10001239715, 10001239716\n",
      "$ LMK_KEY                             <str> 632d66abdfbd4f709d71851927a2d79fce2fd90e4d67fe999bc22b5a9970bcc2, 8126d78434eb72180e023c7d522d811b8a11a9d6f206aa19a867f06df5d4599c, 69223609222016052017263804808356, 1099459139642014100812510823040588, 876abfcefe535b31e3e3e46264de08d97acec07eb72415f2fa967061afc6315d, e9c4c64a24ad61bbf2c4de0d3bd97725b8dde5d9b21a12e2cd0888e34ac6af15, 1019963559062013100615514564448457, 1485207013512016100421133096069648, 1389662563632016072714480291278400, aade8e478efe85ef7a8b090f1a4eedd4941217246ccb9019e35ef1d944af8505\n",
      "$ POSTCODE                            <str> BL5 3WB, BL3 1PS, BL1 5WA, BL3 5NP, BL3 5NP, BL3 5NP, BL3 5NP, BL3 5NP, BL3 5NP, BL3 5NP\n",
      "$ CURRENT_ENERGY_RATING               <str> B, C, C, D, C, C, C, D, E, D\n",
      "$ LOCAL_AUTHORITY                     <str> E08000001, E08000001, E08000001, E08000001, E08000001, E08000001, E08000001, E08000001, E08000001, E08000001\n",
      "$ PROPERTY_TYPE                       <str> Flat, House, House, House, House, House, House, House, House, House\n",
      "$ LODGEMENT_DATETIME         <datetime[μs]> 2023-08-31 09:36:01, 2021-04-03 11:13:34, 2016-05-20 17:26:38, 2014-10-08 12:51:08, 2022-05-18 19:12:32, 2021-01-20 00:00:00, 2013-10-06 15:51:45, 2016-10-04 21:13:30, 2016-07-27 14:48:02, 2021-09-22 16:29:52\n",
      "$ TRANSACTION_TYPE                    <str> marketed sale, marketed sale, marketed sale, none of the above, non marketed sale, rental, rental (private), marketed sale, ECO assessment, rental\n",
      "$ ENVIRONMENT_IMPACT_CURRENT          <i64> 87, 74, 71, 68, 73, 69, 79, 57, 42, 41\n",
      "$ TENURE                              <str> Owner-occupied, Owner-occupied, owner-occupied, rental (private), Owner-occupied, Rented (private), rental (private), owner-occupied, owner-occupied, Rented (private)\n",
      "\n"
     ]
    }
   ],
   "source": [
    "cons_df.glimpse()"
   ]
  },
  {
   "cell_type": "code",
   "execution_count": null,
   "metadata": {},
   "outputs": [],
   "source": []
  },
  {
   "cell_type": "code",
   "execution_count": null,
   "metadata": {},
   "outputs": [],
   "source": []
  },
  {
   "cell_type": "code",
   "execution_count": 12,
   "id": "b36aeb2f-02e3-4970-8bb7-f8e5aadefa86",
   "metadata": {
    "tags": []
   },
   "outputs": [],
   "source": [
    "q = (\n",
    "    pl.scan_csv('data/domestic_cert_ca_tbl.csv',\n",
    "                 infer_schema_length=0) #all as strings\n",
    "    .select(pl.col(['LMK_KEY',\n",
    "                    'POSTCODE',\n",
    "                    'CURRENT_ENERGY_RATING',\n",
    "                    'LOCAL_AUTHORITY',\n",
    "                    'PROPERTY_TYPE',\n",
    "                    'LODGEMENT_DATETIME',\n",
    "                    'TRANSACTION_TYPE',\n",
    "                    'ENVIRONMENT_IMPACT_CURRENT',\n",
    "                    'TENURE',\n",
    "                    'UPRN']))\n",
    "    .with_columns([pl.col('LODGEMENT_DATETIME').str.to_datetime(),\n",
    "                  pl.col('ENVIRONMENT_IMPACT_CURRENT').cast(pl.Int64),\n",
    "                  pl.col('UPRN').cast(pl.Int64)])\n",
    "    .sort(pl.col(['UPRN', 'LODGEMENT_DATETIME']))\n",
    "    .groupby('UPRN').last()\n",
    ")"
   ]
  },
  {
   "cell_type": "code",
   "execution_count": 13,
   "id": "bac2f7ce-9c60-41a4-b3a8-de1d8e124df1",
   "metadata": {
    "tags": []
   },
   "outputs": [
    {
     "name": "stdout",
     "output_type": "stream",
     "text": [
      "CPU times: total: 1min 7s\n",
      "Wall time: 28.4 s\n"
     ]
    }
   ],
   "source": [
    "%%time\n",
    "epc_latest_certs = q.collect()"
   ]
  },
  {
   "cell_type": "code",
   "execution_count": 14,
   "id": "32dbd4c0-da4e-43a9-b021-43574736e8fa",
   "metadata": {
    "collapsed": true,
    "jupyter": {
     "outputs_hidden": true
    },
    "tags": []
   },
   "outputs": [
    {
     "name": "stdout",
     "output_type": "stream",
     "text": [
      "Rows: 4659361\n",
      "Columns: 10\n",
      "$ UPRN                                        <i64> None, 30, 97, 100, 103, 104, 105, 106, 107, 109\n",
      "$ LMK_KEY                                     <str> 551348c87dcc73ed08d7f9b1aacf7548ff9940715eba79f4f30e61bf93f00e8e, 945145029922013062317101139638477, 1647265119642018071017301852989308, c59230c17d9b975cd1ba5457629112006a624d024894858dd75c712939ace92f, 248960a413bfe4ea746cd67d64f65b144b2343128715131a5e508aa02234fada, 883728034532015041312250532978807, 1240896913412015041413072693950436, 1679813059832018111912231061978999, 1542211424712017050910121296030754, 1280502619602015021114473434359198\n",
      "$ POSTCODE                                    <str> B31 5FQ, BS10 7RZ, BS10 6LU, BS10 6LU, BS10 6LU, BS10 6LX, BS10 6LU, BS10 6LX, BS10 6LU, BS10 6LU\n",
      "$ CURRENT_ENERGY_RATING                       <str> B, G, D, D, C, D, C, C, D, C\n",
      "$ LOCAL_AUTHORITY                             <str> E08000025, E06000023, E06000023, E06000023, E06000023, E06000023, E06000023, E06000023, E06000023, E06000023\n",
      "$ PROPERTY_TYPE                               <str> House, Bungalow, House, House, House, House, House, House, House, House\n",
      "$ LODGEMENT_DATETIME         <datetime[μs, +00:00]> 2023-08-31 22:17:36+00:00, 2013-06-23 17:10:11+00:00, 2018-07-10 17:30:18+00:00, 2021-06-14 17:43:31+00:00, 2022-03-17 23:11:33+00:00, 2015-04-13 12:25:05+00:00, 2015-04-14 13:07:26+00:00, 2018-11-19 12:23:10+00:00, 2017-05-09 10:12:12+00:00, 2015-02-11 14:47:34+00:00\n",
      "$ TRANSACTION_TYPE                            <str> new dwelling, assessment for green deal, marketed sale, marketed sale, marketed sale, assessment for green deal, assessment for green deal, marketed sale, marketed sale, rental (private)\n",
      "$ ENVIRONMENT_IMPACT_CURRENT                  <i64> 86, 36, 62, 58, 70, 63, 69, 69, 59, 67\n",
      "$ TENURE                                      <str> Not defined - use in the case of a new dwelling for which the intended tenure in not known. It is not to be used for an existing dwelling, owner-occupied, owner-occupied, Owner-occupied, Owner-occupied, owner-occupied, owner-occupied, owner-occupied, owner-occupied, rental (private)\n",
      "\n"
     ]
    }
   ],
   "source": [
    "epc_latest_certs.glimpse()"
   ]
  },
  {
   "cell_type": "code",
   "execution_count": 15,
   "id": "46b894ff-542a-4ae9-895a-77c44136b8a8",
   "metadata": {},
   "outputs": [],
   "source": [
    "epc_latest_certs.write_csv('data/epc_subset_polars_last.csv')"
   ]
  },
  {
   "cell_type": "code",
   "execution_count": null,
   "id": "06ecd17a",
   "metadata": {},
   "outputs": [],
   "source": []
  }
 ],
 "metadata": {
  "kernelspec": {
   "display_name": "Python 3 (ipykernel)",
   "language": "python",
   "name": "python3"
  },
  "language_info": {
   "codemirror_mode": {
    "name": "ipython",
    "version": 3
   },
   "file_extension": ".py",
   "mimetype": "text/x-python",
   "name": "python",
   "nbconvert_exporter": "python",
   "pygments_lexer": "ipython3",
   "version": "3.10.11"
  }
 },
 "nbformat": 4,
 "nbformat_minor": 5
}
