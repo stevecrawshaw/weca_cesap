{
 "cells": [
  {
   "cell_type": "markdown",
   "id": "8566791c",
   "metadata": {},
   "source": [
    "Using the Polars Library in python for fast data operations"
   ]
  },
  {
   "cell_type": "markdown",
   "id": "b5e435a3",
   "metadata": {},
   "source": [
    "Import the necessary modules"
   ]
  },
  {
   "cell_type": "code",
   "execution_count": 1,
   "id": "b8e152f7-d9f4-4674-9852-d545ced89997",
   "metadata": {
    "tags": []
   },
   "outputs": [],
   "source": [
    "import polars as pl # fast, optimised, memory efficient parallel data frame library\n",
    "import os # file wrangling\n",
    "import requests\n",
    "import zipfile\n",
    "import get_ca_data as get_ca"
   ]
  },
  {
   "cell_type": "code",
   "execution_count": 2,
   "id": "c97ffd50",
   "metadata": {},
   "outputs": [],
   "source": [
    "def get_postcode_file(url = \"https://www.arcgis.com/sharing/rest/content/items/3770c5e8b0c24f1dbe6d2fc6b46a0b18/data\",\n",
    "                      destination_directory = \"data\\\\postcode_lookup\"):\n",
    "    \"\"\"\n",
    "    Delete any existing files in the folder\n",
    "    Download and unzip a CSV lookup file for the UK\n",
    "    Return the path of the downloaded file\n",
    "    \"\"\"\n",
    "    \n",
    "    files = [f for f in os.listdir(destination_directory) if os.path.isfile(os.path.join(destination_directory, f))]\n",
    "\n",
    "    if files:\n",
    "        for file in files:\n",
    "            file_path = os.path.join(destination_directory, file)\n",
    "            os.remove(file_path)\n",
    "    else:\n",
    "        print(\"No files found in the directory.\")\n",
    "\n",
    "    # Download the file\n",
    "    response = requests.get(url)\n",
    "    if response.status_code != 200:\n",
    "            raise Exception(f'API call failed {response.status_code}')\n",
    "    with open(\"postcode_lookup.zip\", \"wb\") as f:\n",
    "        f.write(response.content)\n",
    "\n",
    "    # Unzip the file\n",
    "    with zipfile.ZipFile(\"postcode_lookup.zip\", \"r\") as zip_ref:\n",
    "        zip_ref.extractall(destination_directory)\n",
    "\n",
    "    postcodes_files_list =  [os.path.join(destination_directory, file) for file in os.listdir(destination_directory)]\n",
    "    if len(postcodes_files_list) == 1:\n",
    "        postcodes_path = postcodes_files_list[0]\n",
    "    else:\n",
    "         print(\"More than one file present\")\n",
    "    return postcodes_path\n",
    "\n"
   ]
  },
  {
   "cell_type": "code",
   "execution_count": 3,
   "id": "1cf61129",
   "metadata": {},
   "outputs": [],
   "source": [
    "def get_ca_la_codes(ca_la_df):\n",
    "    \"\"\"\n",
    "    Return a list of the LA codes which comprise each Combined Authority\n",
    "    \"\"\"\n",
    "    ca_la_codes = (ca_la_df\n",
    "                .select(pl.col('LADCD'))\n",
    "                .to_series()\n",
    "                .to_list()\n",
    "                )"
   ]
  },
  {
   "cell_type": "code",
   "execution_count": 6,
   "id": "602f3516",
   "metadata": {},
   "outputs": [],
   "source": [
    "def get_postcode_df(postcode_file, ca_la_codes):\n",
    "    \"\"\"\n",
    "    Read the postcode file and filter the df \n",
    "    to return only those postcodes within Combined authorities\n",
    "    \"\"\"\n",
    "\n",
    "    old = ['pcds', 'lsoa21cd', 'msoa21cd', 'ladcd', 'ladnm']\n",
    "    new = ['pcds', 'lsoacd', 'msoacd', 'ladcd', 'ladnm']\n",
    "    rename_dict = dict(zip(old, new))\n",
    "\n",
    "    postcodes_q = (\n",
    "        pl.scan_csv(postcode_file)\n",
    "        .select(pl.col(old))\n",
    "        .filter(pl.col('ladcd').is_in(ca_la_codes))\n",
    "        .rename(rename_dict)\n",
    "        )\n",
    "    return postcodes_q.collect()\n"
   ]
  },
  {
   "cell_type": "code",
   "execution_count": 5,
   "id": "2ed6ede4",
   "metadata": {},
   "outputs": [],
   "source": [
    "ca_la_df = get_ca.get_ca_la_df(year = 2023)\n",
    "ca_la_codes = get_ca_la_codes(ca_la_df)\n",
    "postcode_file = get_postcode_file(url = \"https://www.arcgis.com/sharing/rest/content/items/3770c5e8b0c24f1dbe6d2fc6b46a0b18/data\",\n",
    "                      destination_directory = \"data\\\\postcode_lookup\")\n",
    "postcodes_df = get_postcode_df(postcode_file, ca_la_codes)\n",
    "\n",
    "# postcodes_path"
   ]
  },
  {
   "cell_type": "code",
   "execution_count": 7,
   "id": "f1c5ff23",
   "metadata": {},
   "outputs": [
    {
     "data": {
      "text/plain": [
       "['pcds', 'lsoacd', 'msoacd', 'ladcd', 'ladnm']"
      ]
     },
     "execution_count": 7,
     "metadata": {},
     "output_type": "execute_result"
    }
   ],
   "source": [
    "\n",
    "postcodes_df.columns"
   ]
  },
  {
   "cell_type": "code",
   "execution_count": null,
   "id": "0294fe52",
   "metadata": {},
   "outputs": [],
   "source": [
    "url = \"https://services1.arcgis.com/ESMARspQHYMw9BZ9/arcgis/rest/services/LLSOA_Dec_2021_PWC_for_England_and_Wales_2022/FeatureServer/0/query?outFields=*&where=1%3D1&f=geojson\""
   ]
  },
  {
   "cell_type": "code",
   "execution_count": 2,
   "id": "4aef219b",
   "metadata": {},
   "outputs": [],
   "source": [
    "def get_geojson(url = \"https://services1.arcgis.com/ESMARspQHYMw9BZ9/arcgis/rest/services/LLSOA_Dec_2021_PWC_for_England_and_Wales_2022/FeatureServer/0/query\",\n",
    "                      destination_directory = \"data/geojson\"):\n",
    "    \"\"\"\n",
    "    Download geoJSON from ESRI ONS OG\n",
    "    Return the path of the downloaded file\n",
    "    \"\"\"\n",
    "    \n",
    "    files = [f for f in os.listdir(destination_directory) if os.path.isfile(os.path.join(destination_directory, f))]\n",
    "\n",
    "    if files:\n",
    "        for file in files:\n",
    "            file_path = os.path.join(destination_directory, file)\n",
    "            os.remove(file_path)\n",
    "    else:\n",
    "        print(\"No files found in the directory.\")\n",
    "\n",
    "    params = {\n",
    "         'outFields': '*',\n",
    "         'where': '1=1',\n",
    "         'f': 'geojson'\n",
    "\n",
    "    }\n",
    "    # Download the file\n",
    "    response = requests.get(url, params)\n",
    "    if response.status_code != 200:\n",
    "            raise Exception(f'API call failed {response.status_code}')\n",
    "    with open(\"esri.geojson\", \"wb\") as f:\n",
    "        f.write(response.content)\n",
    "\n",
    "    files_list =  [os.path.join(destination_directory, file) for file in os.listdir(destination_directory)]\n",
    "    if len(files_list) == 1:\n",
    "        path = files_list[0]\n",
    "    else:\n",
    "         print(\"More than one file present\")\n",
    "    return path\n",
    "\n"
   ]
  },
  {
   "cell_type": "code",
   "execution_count": 3,
   "id": "ab81a67b",
   "metadata": {},
   "outputs": [
    {
     "name": "stdout",
     "output_type": "stream",
     "text": [
      "No files found in the directory.\n",
      "More than one file present\n"
     ]
    },
    {
     "ename": "UnboundLocalError",
     "evalue": "cannot access local variable 'path' where it is not associated with a value",
     "output_type": "error",
     "traceback": [
      "\u001b[1;31m---------------------------------------------------------------------------\u001b[0m",
      "\u001b[1;31mUnboundLocalError\u001b[0m                         Traceback (most recent call last)",
      "\u001b[1;32mc:\\Users\\steve.crawshaw\\OneDrive - West Of England Combined Authority\\Documents\\r-projects\\weca_cesap\\epc_group_polars.ipynb Cell 11\u001b[0m line \u001b[0;36m1\n\u001b[1;32m----> <a href='vscode-notebook-cell:/c%3A/Users/steve.crawshaw/OneDrive%20-%20West%20Of%20England%20Combined%20Authority/Documents/r-projects/weca_cesap/epc_group_polars.ipynb#X43sZmlsZQ%3D%3D?line=0'>1</a>\u001b[0m get_geojson()\n",
      "\u001b[1;32mc:\\Users\\steve.crawshaw\\OneDrive - West Of England Combined Authority\\Documents\\r-projects\\weca_cesap\\epc_group_polars.ipynb Cell 11\u001b[0m line \u001b[0;36m3\n\u001b[0;32m     <a href='vscode-notebook-cell:/c%3A/Users/steve.crawshaw/OneDrive%20-%20West%20Of%20England%20Combined%20Authority/Documents/r-projects/weca_cesap/epc_group_polars.ipynb#X43sZmlsZQ%3D%3D?line=32'>33</a>\u001b[0m \u001b[39melse\u001b[39;00m:\n\u001b[0;32m     <a href='vscode-notebook-cell:/c%3A/Users/steve.crawshaw/OneDrive%20-%20West%20Of%20England%20Combined%20Authority/Documents/r-projects/weca_cesap/epc_group_polars.ipynb#X43sZmlsZQ%3D%3D?line=33'>34</a>\u001b[0m      \u001b[39mprint\u001b[39m(\u001b[39m\"\u001b[39m\u001b[39mMore than one file present\u001b[39m\u001b[39m\"\u001b[39m)\n\u001b[1;32m---> <a href='vscode-notebook-cell:/c%3A/Users/steve.crawshaw/OneDrive%20-%20West%20Of%20England%20Combined%20Authority/Documents/r-projects/weca_cesap/epc_group_polars.ipynb#X43sZmlsZQ%3D%3D?line=34'>35</a>\u001b[0m \u001b[39mreturn\u001b[39;00m path\n",
      "\u001b[1;31mUnboundLocalError\u001b[0m: cannot access local variable 'path' where it is not associated with a value"
     ]
    }
   ],
   "source": [
    "get_geojson()"
   ]
  },
  {
   "cell_type": "code",
   "execution_count": 8,
   "id": "fcde1a22",
   "metadata": {},
   "outputs": [
    {
     "data": {
      "text/plain": [
       "'There are 53 Local Authorities in Combined Authorities'"
      ]
     },
     "execution_count": 8,
     "metadata": {},
     "output_type": "execute_result"
    }
   ],
   "source": [
    "root_dir = 'data/all-domestic-certificates'\n",
    "# la_list = pl.read_csv('data/ca_la_tbl.csv')['LAD22CD'] # All the LA codes for LA's within Combined Authorities\n",
    "la_list = get_ca.get_ca_la_df(2023)['LADCD']\n",
    "f'There are {str(la_list.shape)[1:3]} Local Authorities in Combined Authorities'\n"
   ]
  },
  {
   "cell_type": "markdown",
   "id": "dcd1e70b",
   "metadata": {},
   "source": [
    "Open the certificates csv in each folder where the la code is within a CA.\n",
    "\n",
    "Use lazy evaluation to select columns,\n",
    "\n",
    "change data types and group by UPRN, \n",
    "\n",
    "filter for the most recent certificate. \n",
    "\n",
    "Collect the data and append dataframe to the list.\n",
    "\n",
    "Concatenate the list of dataframes"
   ]
  },
  {
   "cell_type": "code",
   "execution_count": 9,
   "metadata": {},
   "outputs": [],
   "source": [
    "def ingest_certs(la_list, root_dir):\n",
    "    all_dataframes = []\n",
    "    for item in la_list:\n",
    "        for folder_name in os.listdir(root_dir):\n",
    "            # Check if the folder name matches an item in la_list\n",
    "            if item in folder_name:\n",
    "                file_path = os.path.join(root_dir, folder_name, \"certificates.csv\")\n",
    "                # Check if certificates.csv actually exists inside the folder\n",
    "                if os.path.exists(file_path):\n",
    "                    # Optimised query which implements predicate pushdown for each file\n",
    "                    # Polars optimises the query to make it fast and efficient\n",
    "                    q = (\n",
    "                    pl.scan_csv(file_path,\n",
    "                    infer_schema_length=0) #all as strings\n",
    "                        .select(pl.col(['LMK_KEY',\n",
    "                        'POSTCODE',\n",
    "                        'CURRENT_ENERGY_RATING',\n",
    "                        'LOCAL_AUTHORITY',\n",
    "                        'PROPERTY_TYPE',\n",
    "                        'LODGEMENT_DATETIME',\n",
    "                        'TRANSACTION_TYPE',\n",
    "                        'ENVIRONMENT_IMPACT_CURRENT',\n",
    "                        'CO2_EMISSIONS_CURRENT',\n",
    "                        'TENURE',\n",
    "                        'UPRN']))\n",
    "                    .with_columns([pl.col('LODGEMENT_DATETIME').str.to_datetime(),\n",
    "                    pl.col('ENVIRONMENT_IMPACT_CURRENT').cast(pl.Int64),\n",
    "                    pl.col('CO2_EMISSIONS_CURRENT').cast(pl.Float32),\n",
    "                    pl.col('UPRN').cast(pl.Int64)])\n",
    "                    .sort(pl.col(['UPRN', 'LODGEMENT_DATETIME']))\n",
    "                    .group_by('UPRN').last()\n",
    "                    )\n",
    "                    # The query is collected for each file\n",
    "                    df = q.collect()\n",
    "                    # the collected dataframe is appended to the list\n",
    "                    all_dataframes.append(df)\n",
    "    # Concatenate list of dataframes into one consolidated DF                \n",
    "    cons_df = pl.concat(all_dataframes)                \n",
    "    return cons_df"
   ]
  },
  {
   "cell_type": "code",
   "execution_count": 10,
   "id": "885a9c8d",
   "metadata": {},
   "outputs": [],
   "source": [
    "cons_df = ingest_certs(la_list, root_dir)"
   ]
  },
  {
   "cell_type": "code",
   "execution_count": 11,
   "id": "7b32f6b7",
   "metadata": {},
   "outputs": [
    {
     "data": {
      "text/plain": [
       "['UPRN',\n",
       " 'LMK_KEY',\n",
       " 'POSTCODE',\n",
       " 'CURRENT_ENERGY_RATING',\n",
       " 'LOCAL_AUTHORITY',\n",
       " 'PROPERTY_TYPE',\n",
       " 'LODGEMENT_DATETIME',\n",
       " 'TRANSACTION_TYPE',\n",
       " 'ENVIRONMENT_IMPACT_CURRENT',\n",
       " 'CO2_EMISSIONS_CURRENT',\n",
       " 'TENURE']"
      ]
     },
     "execution_count": 11,
     "metadata": {},
     "output_type": "execute_result"
    }
   ],
   "source": [
    "cons_df.columns"
   ]
  },
  {
   "cell_type": "code",
   "execution_count": 12,
   "metadata": {},
   "outputs": [
    {
     "name": "stdout",
     "output_type": "stream",
     "text": [
      "Rows: 4660486\n",
      "Columns: 11\n",
      "$ UPRN                                <i64> None, 4210003725, 10001239702, 10001239704, 10001239709, 10001239711, 10001239712, 10001239714, 10001239715, 10001239716\n",
      "$ LMK_KEY                             <str> '632d66abdfbd4f709d71851927a2d79fce2fd90e4d67fe999bc22b5a9970bcc2', '8126d78434eb72180e023c7d522d811b8a11a9d6f206aa19a867f06df5d4599c', '69223609222016052017263804808356', '1099459139642014100812510823040588', '876abfcefe535b31e3e3e46264de08d97acec07eb72415f2fa967061afc6315d', 'e9c4c64a24ad61bbf2c4de0d3bd97725b8dde5d9b21a12e2cd0888e34ac6af15', '1019963559062013100615514564448457', '1485207013512016100421133096069648', '1389662563632016072714480291278400', 'aade8e478efe85ef7a8b090f1a4eedd4941217246ccb9019e35ef1d944af8505'\n",
      "$ POSTCODE                            <str> 'BL5 3WB', 'BL3 1PS', 'BL1 5WA', 'BL3 5NP', 'BL3 5NP', 'BL3 5NP', 'BL3 5NP', 'BL3 5NP', 'BL3 5NP', 'BL3 5NP'\n",
      "$ CURRENT_ENERGY_RATING               <str> 'B', 'C', 'C', 'D', 'C', 'C', 'C', 'D', 'E', 'D'\n",
      "$ LOCAL_AUTHORITY                     <str> 'E08000001', 'E08000001', 'E08000001', 'E08000001', 'E08000001', 'E08000001', 'E08000001', 'E08000001', 'E08000001', 'E08000001'\n",
      "$ PROPERTY_TYPE                       <str> 'Flat', 'House', 'House', 'House', 'House', 'House', 'House', 'House', 'House', 'House'\n",
      "$ LODGEMENT_DATETIME         <datetime[μs]> 2023-08-31 09:36:01, 2021-04-03 11:13:34, 2016-05-20 17:26:38, 2014-10-08 12:51:08, 2022-05-18 19:12:32, 2021-01-20 00:00:00, 2013-10-06 15:51:45, 2016-10-04 21:13:30, 2016-07-27 14:48:02, 2021-09-22 16:29:52\n",
      "$ TRANSACTION_TYPE                    <str> 'marketed sale', 'marketed sale', 'marketed sale', 'none of the above', 'non marketed sale', 'rental', 'rental (private)', 'marketed sale', 'ECO assessment', 'rental'\n",
      "$ ENVIRONMENT_IMPACT_CURRENT          <i64> 87, 74, 71, 68, 73, 69, 79, 57, 42, 41\n",
      "$ CO2_EMISSIONS_CURRENT               <f32> 0.800000011920929, 3.0, 6.099999904632568, 2.299999952316284, 2.0999999046325684, 2.4000000953674316, 1.5, 3.200000047683716, 5.099999904632568, 5.599999904632568\n",
      "$ TENURE                              <str> 'Owner-occupied', 'Owner-occupied', 'owner-occupied', 'rental (private)', 'Owner-occupied', 'Rented (private)', 'rental (private)', 'owner-occupied', 'owner-occupied', 'Rented (private)'\n",
      "\n"
     ]
    }
   ],
   "source": [
    "cons_df.glimpse()\n"
   ]
  },
  {
   "cell_type": "code",
   "execution_count": 13,
   "id": "763db1df",
   "metadata": {},
   "outputs": [
    {
     "data": {
      "text/plain": [
       "0.829428976"
      ]
     },
     "execution_count": 13,
     "metadata": {},
     "output_type": "execute_result"
    }
   ],
   "source": [
    "cons_df.estimated_size() / 1000000000"
   ]
  },
  {
   "cell_type": "code",
   "execution_count": 14,
   "id": "b1a82c29",
   "metadata": {},
   "outputs": [
    {
     "data": {
      "text/plain": [
       "(4660486, 11)"
      ]
     },
     "execution_count": 14,
     "metadata": {},
     "output_type": "execute_result"
    }
   ],
   "source": [
    "cons_df.shape"
   ]
  },
  {
   "cell_type": "code",
   "execution_count": 32,
   "id": "46b894ff-542a-4ae9-895a-77c44136b8a8",
   "metadata": {},
   "outputs": [],
   "source": [
    "cons_df.write_csv('data/epc_subset_polars_last.csv')"
   ]
  },
  {
   "cell_type": "code",
   "execution_count": 7,
   "id": "3b4ca37c",
   "metadata": {},
   "outputs": [],
   "source": [
    "postcodes_ca = ((cons_df\n",
    "                .select(pl.col('POSTCODE'))\n",
    "                .unique()\n",
    "                )\n",
    "                .to_series()\n",
    "                .to_list()\n",
    "                )"
   ]
  },
  {
   "cell_type": "code",
   "execution_count": 26,
   "id": "214c3e63",
   "metadata": {},
   "outputs": [],
   "source": [
    "q_pc_lsoa = (pl.scan_csv('data/PCD_OA_LSOA_MSOA_LAD_FEB19_UK_LU.csv', infer_schema_length=0)\n",
    "            .select([pl.col(['lsoa11cd', 'ladcd']),\n",
    "                     pl.col('pcds').alias('POSTCODE')])\n",
    "            .filter(pl.col('POSTCODE').is_in(postcodes_ca))         \n",
    "                     )"
   ]
  },
  {
   "cell_type": "code",
   "execution_count": 27,
   "id": "5202bb84",
   "metadata": {},
   "outputs": [],
   "source": [
    "pc_lsoa_df = q_pc_lsoa.collect()"
   ]
  },
  {
   "cell_type": "code",
   "execution_count": 28,
   "id": "14889785",
   "metadata": {},
   "outputs": [
    {
     "data": {
      "text/plain": [
       "(327000, 3)"
      ]
     },
     "execution_count": 28,
     "metadata": {},
     "output_type": "execute_result"
    }
   ],
   "source": [
    "pc_lsoa_df.shape"
   ]
  },
  {
   "cell_type": "code",
   "execution_count": 30,
   "id": "e62822f8",
   "metadata": {},
   "outputs": [],
   "source": [
    "ca_lsoa = (\n",
    "    pc_lsoa_df\n",
    "    .select('lsoa11cd')\n",
    "    .to_series()\n",
    "    .to_list()\n",
    ")"
   ]
  },
  {
   "cell_type": "code",
   "execution_count": 51,
   "id": "6c96a01c",
   "metadata": {},
   "outputs": [],
   "source": [
    "q_imd_lsoa = (pl.scan_csv('data/Index_of_Multiple_Deprivation_(Dec_2019)_Lookup_in_England.csv', infer_schema_length=0)\n",
    "              .select([pl.col(['LSOA11CD', 'LAD19CD']),\n",
    "                       pl.col('IMD19')\n",
    "                        .cast(pl.Int64)\n",
    "              ])\n",
    "              .filter(pl.col('LSOA11CD').is_in(ca_lsoa)))"
   ]
  },
  {
   "cell_type": "code",
   "execution_count": 35,
   "id": "25756d35",
   "metadata": {},
   "outputs": [],
   "source": [
    "imd_lsoa_df = q_imd_lsoa.collect()"
   ]
  },
  {
   "cell_type": "code",
   "execution_count": 52,
   "id": "aa1f8a8b",
   "metadata": {},
   "outputs": [],
   "source": [
    "ca_pc_lsoa_imd_df = (\n",
    "    cons_df.join(pc_lsoa_df, on = 'POSTCODE', how = 'inner')\n",
    "    .join(imd_lsoa_df, left_on = 'lsoa11cd', right_on = 'LSOA11CD', how = 'inner')\n",
    ")"
   ]
  },
  {
   "cell_type": "code",
   "execution_count": 49,
   "id": "bf311bcd",
   "metadata": {},
   "outputs": [],
   "source": [
    "\n",
    "ca_pc_lsoa_imd_df.columns = [item.lower() for item in ca_pc_lsoa_imd_df.columns]"
   ]
  },
  {
   "cell_type": "code",
   "execution_count": 50,
   "id": "b4e5e3e1",
   "metadata": {},
   "outputs": [
    {
     "name": "stdout",
     "output_type": "stream",
     "text": [
      "Rows: 4537641\n",
      "Columns: 14\n",
      "$ uprn                                <i64> None, 4210003725, 10001239702, 10001239704, 10001239709, 10001239711, 10001239712, 10001239714, 10001239715, 10001239716\n",
      "$ lmk_key                             <str> 632d66abdfbd4f709d71851927a2d79fce2fd90e4d67fe999bc22b5a9970bcc2, 8126d78434eb72180e023c7d522d811b8a11a9d6f206aa19a867f06df5d4599c, 69223609222016052017263804808356, 1099459139642014100812510823040588, 876abfcefe535b31e3e3e46264de08d97acec07eb72415f2fa967061afc6315d, e9c4c64a24ad61bbf2c4de0d3bd97725b8dde5d9b21a12e2cd0888e34ac6af15, 1019963559062013100615514564448457, 1485207013512016100421133096069648, 1389662563632016072714480291278400, aade8e478efe85ef7a8b090f1a4eedd4941217246ccb9019e35ef1d944af8505\n",
      "$ postcode                            <str> BL5 3WB, BL3 1PS, BL1 5WA, BL3 5NP, BL3 5NP, BL3 5NP, BL3 5NP, BL3 5NP, BL3 5NP, BL3 5NP\n",
      "$ current_energy_rating               <str> B, C, C, D, C, C, C, D, E, D\n",
      "$ local_authority                     <str> E08000001, E08000001, E08000001, E08000001, E08000001, E08000001, E08000001, E08000001, E08000001, E08000001\n",
      "$ property_type                       <str> Flat, House, House, House, House, House, House, House, House, House\n",
      "$ lodgement_datetime         <datetime[μs]> 2023-08-31 09:36:01, 2021-04-03 11:13:34, 2016-05-20 17:26:38, 2014-10-08 12:51:08, 2022-05-18 19:12:32, 2021-01-20 00:00:00, 2013-10-06 15:51:45, 2016-10-04 21:13:30, 2016-07-27 14:48:02, 2021-09-22 16:29:52\n",
      "$ transaction_type                    <str> marketed sale, marketed sale, marketed sale, none of the above, non marketed sale, rental, rental (private), marketed sale, ECO assessment, rental\n",
      "$ environment_impact_current          <i64> 87, 74, 71, 68, 73, 69, 79, 57, 42, 41\n",
      "$ tenure                              <str> Owner-occupied, Owner-occupied, owner-occupied, rental (private), Owner-occupied, Rented (private), rental (private), owner-occupied, owner-occupied, Rented (private)\n",
      "$ lsoa11cd                            <str> E01004781, E01004918, E01004843, E01004850, E01004850, E01004850, E01004850, E01004850, E01004850, E01004850\n",
      "$ ladcd                               <str> E08000001, E08000001, E08000001, E08000001, E08000001, E08000001, E08000001, E08000001, E08000001, E08000001\n",
      "$ lad19cd                             <str> E08000001, E08000001, E08000001, E08000001, E08000001, E08000001, E08000001, E08000001, E08000001, E08000001\n",
      "$ imd19                               <i64> 21281, 25097, 28022, 1127, 1127, 1127, 1127, 1127, 1127, 1127\n",
      "\n"
     ]
    }
   ],
   "source": [
    "ca_pc_lsoa_imd_df.glimpse()"
   ]
  },
  {
   "cell_type": "code",
   "execution_count": null,
   "id": "ca63d0b2",
   "metadata": {},
   "outputs": [],
   "source": []
  },
  {
   "cell_type": "code",
   "execution_count": null,
   "id": "2ab70daf",
   "metadata": {},
   "outputs": [],
   "source": []
  }
 ],
 "metadata": {
  "kernelspec": {
   "display_name": "Python 3 (ipykernel)",
   "language": "python",
   "name": "python3"
  },
  "language_info": {
   "codemirror_mode": {
    "name": "ipython",
    "version": 3
   },
   "file_extension": ".py",
   "mimetype": "text/x-python",
   "name": "python",
   "nbconvert_exporter": "python",
   "pygments_lexer": "ipython3",
   "version": "3.12.0"
  }
 },
 "nbformat": 4,
 "nbformat_minor": 5
}
