{
 "cells": [
  {
   "cell_type": "code",
   "execution_count": 1,
   "id": "b8e152f7-d9f4-4674-9852-d545ced89997",
   "metadata": {
    "tags": []
   },
   "outputs": [],
   "source": [
    "import polars as pl\n",
    "import os"
   ]
  },
  {
   "cell_type": "code",
   "execution_count": 2,
   "id": "fcde1a22",
   "metadata": {},
   "outputs": [],
   "source": [
    "root_dir = 'data/all-domestic-certificates'\n",
    "la_list = pl.read_csv('data/ca_la_tbl.csv')['LAD22CD']\n",
    "all_dataframes = []"
   ]
  },
  {
   "cell_type": "markdown",
   "id": "dcd1e70b",
   "metadata": {},
   "source": [
    "Open the certificates csv in each folder where the la code is within a CA. Use lazy evaluation to select columns, change data types and group by UPRN, filtering for the most recent certificate. Collect the data and append dataframe to the list."
   ]
  },
  {
   "cell_type": "code",
   "execution_count": 3,
   "metadata": {},
   "outputs": [],
   "source": [
    "for item in la_list:\n",
    "    for folder_name in os.listdir(root_dir):\n",
    "        # Check if the folder name matches an item in la_list\n",
    "        if item in folder_name:\n",
    "            file_path = os.path.join(root_dir, folder_name, \"certificates.csv\")\n",
    "            # Check if certificates.csv actually exists inside the folder\n",
    "            if os.path.exists(file_path):\n",
    "                q = (\n",
    "                pl.scan_csv(file_path,\n",
    "                 infer_schema_length=0) #all as strings\n",
    "                    .select(pl.col(['LMK_KEY',\n",
    "                    'POSTCODE',\n",
    "                    'CURRENT_ENERGY_RATING',\n",
    "                    'LOCAL_AUTHORITY',\n",
    "                    'PROPERTY_TYPE',\n",
    "                    'LODGEMENT_DATETIME',\n",
    "                    'TRANSACTION_TYPE',\n",
    "                    'ENVIRONMENT_IMPACT_CURRENT',\n",
    "                    'TENURE',\n",
    "                    'UPRN']))\n",
    "                .with_columns([pl.col('LODGEMENT_DATETIME').str.to_datetime(),\n",
    "                  pl.col('ENVIRONMENT_IMPACT_CURRENT').cast(pl.Int64),\n",
    "                  pl.col('UPRN').cast(pl.Int64)])\n",
    "                .sort(pl.col(['UPRN', 'LODGEMENT_DATETIME']))\n",
    "                .groupby('UPRN').last()\n",
    "                )\n",
    "                df = q.collect()\n",
    "                all_dataframes.append(df)"
   ]
  },
  {
   "cell_type": "code",
   "execution_count": 4,
   "id": "885a9c8d",
   "metadata": {},
   "outputs": [],
   "source": [
    "cons_df = pl.concat(all_dataframes)"
   ]
  },
  {
   "cell_type": "code",
   "execution_count": 53,
   "metadata": {},
   "outputs": [],
   "source": [
    "# cons_df.glimpse()"
   ]
  },
  {
   "cell_type": "code",
   "execution_count": 89,
   "id": "46b894ff-542a-4ae9-895a-77c44136b8a8",
   "metadata": {},
   "outputs": [],
   "source": [
    "cons_df.write_csv('data/epc_subset_polars_last.csv')"
   ]
  },
  {
   "cell_type": "code",
   "execution_count": 7,
   "id": "3b4ca37c",
   "metadata": {},
   "outputs": [],
   "source": [
    "postcodes_ca = ((cons_df\n",
    "                .select(pl.col('POSTCODE'))\n",
    "                .unique()\n",
    "                )\n",
    "                .to_series()\n",
    "                .to_list()\n",
    "                )"
   ]
  },
  {
   "cell_type": "code",
   "execution_count": 26,
   "id": "214c3e63",
   "metadata": {},
   "outputs": [],
   "source": [
    "q_pc_lsoa = (pl.scan_csv('data/PCD_OA_LSOA_MSOA_LAD_FEB19_UK_LU.csv', infer_schema_length=0)\n",
    "            .select([pl.col(['lsoa11cd', 'ladcd']),\n",
    "                     pl.col('pcds').alias('POSTCODE')])\n",
    "            .filter(pl.col('POSTCODE').is_in(postcodes_ca))         \n",
    "                     )"
   ]
  },
  {
   "cell_type": "code",
   "execution_count": 27,
   "id": "5202bb84",
   "metadata": {},
   "outputs": [],
   "source": [
    "pc_lsoa_df = q_pc_lsoa.collect()"
   ]
  },
  {
   "cell_type": "code",
   "execution_count": 28,
   "id": "14889785",
   "metadata": {},
   "outputs": [
    {
     "data": {
      "text/plain": [
       "(327000, 3)"
      ]
     },
     "execution_count": 28,
     "metadata": {},
     "output_type": "execute_result"
    }
   ],
   "source": [
    "pc_lsoa_df.shape"
   ]
  },
  {
   "cell_type": "code",
   "execution_count": 30,
   "id": "e62822f8",
   "metadata": {},
   "outputs": [],
   "source": [
    "ca_lsoa = (\n",
    "    pc_lsoa_df\n",
    "    .select('lsoa11cd')\n",
    "    .to_series()\n",
    "    .to_list()\n",
    ")"
   ]
  },
  {
   "cell_type": "code",
   "execution_count": 51,
   "id": "6c96a01c",
   "metadata": {},
   "outputs": [],
   "source": [
    "q_imd_lsoa = (pl.scan_csv('data/Index_of_Multiple_Deprivation_(Dec_2019)_Lookup_in_England.csv', infer_schema_length=0)\n",
    "              .select([pl.col(['LSOA11CD', 'LAD19CD']),\n",
    "                       pl.col('IMD19')\n",
    "                        .cast(pl.Int64)\n",
    "              ])\n",
    "              .filter(pl.col('LSOA11CD').is_in(ca_lsoa)))"
   ]
  },
  {
   "cell_type": "code",
   "execution_count": 35,
   "id": "25756d35",
   "metadata": {},
   "outputs": [],
   "source": [
    "imd_lsoa_df = q_imd_lsoa.collect()"
   ]
  },
  {
   "cell_type": "code",
   "execution_count": 52,
   "id": "aa1f8a8b",
   "metadata": {},
   "outputs": [],
   "source": [
    "ca_pc_lsoa_imd_df = (\n",
    "    cons_df.join(pc_lsoa_df, on = 'POSTCODE', how = 'inner')\n",
    "    .join(imd_lsoa_df, left_on = 'lsoa11cd', right_on = 'LSOA11CD', how = 'inner')\n",
    ")"
   ]
  },
  {
   "cell_type": "code",
   "execution_count": 49,
   "id": "bf311bcd",
   "metadata": {},
   "outputs": [],
   "source": [
    "\n",
    "ca_pc_lsoa_imd_df.columns = [item.lower() for item in ca_pc_lsoa_imd_df.columns]"
   ]
  },
  {
   "cell_type": "code",
   "execution_count": 50,
   "id": "b4e5e3e1",
   "metadata": {},
   "outputs": [
    {
     "name": "stdout",
     "output_type": "stream",
     "text": [
      "Rows: 4537641\n",
      "Columns: 14\n",
      "$ uprn                                <i64> None, 4210003725, 10001239702, 10001239704, 10001239709, 10001239711, 10001239712, 10001239714, 10001239715, 10001239716\n",
      "$ lmk_key                             <str> 632d66abdfbd4f709d71851927a2d79fce2fd90e4d67fe999bc22b5a9970bcc2, 8126d78434eb72180e023c7d522d811b8a11a9d6f206aa19a867f06df5d4599c, 69223609222016052017263804808356, 1099459139642014100812510823040588, 876abfcefe535b31e3e3e46264de08d97acec07eb72415f2fa967061afc6315d, e9c4c64a24ad61bbf2c4de0d3bd97725b8dde5d9b21a12e2cd0888e34ac6af15, 1019963559062013100615514564448457, 1485207013512016100421133096069648, 1389662563632016072714480291278400, aade8e478efe85ef7a8b090f1a4eedd4941217246ccb9019e35ef1d944af8505\n",
      "$ postcode                            <str> BL5 3WB, BL3 1PS, BL1 5WA, BL3 5NP, BL3 5NP, BL3 5NP, BL3 5NP, BL3 5NP, BL3 5NP, BL3 5NP\n",
      "$ current_energy_rating               <str> B, C, C, D, C, C, C, D, E, D\n",
      "$ local_authority                     <str> E08000001, E08000001, E08000001, E08000001, E08000001, E08000001, E08000001, E08000001, E08000001, E08000001\n",
      "$ property_type                       <str> Flat, House, House, House, House, House, House, House, House, House\n",
      "$ lodgement_datetime         <datetime[μs]> 2023-08-31 09:36:01, 2021-04-03 11:13:34, 2016-05-20 17:26:38, 2014-10-08 12:51:08, 2022-05-18 19:12:32, 2021-01-20 00:00:00, 2013-10-06 15:51:45, 2016-10-04 21:13:30, 2016-07-27 14:48:02, 2021-09-22 16:29:52\n",
      "$ transaction_type                    <str> marketed sale, marketed sale, marketed sale, none of the above, non marketed sale, rental, rental (private), marketed sale, ECO assessment, rental\n",
      "$ environment_impact_current          <i64> 87, 74, 71, 68, 73, 69, 79, 57, 42, 41\n",
      "$ tenure                              <str> Owner-occupied, Owner-occupied, owner-occupied, rental (private), Owner-occupied, Rented (private), rental (private), owner-occupied, owner-occupied, Rented (private)\n",
      "$ lsoa11cd                            <str> E01004781, E01004918, E01004843, E01004850, E01004850, E01004850, E01004850, E01004850, E01004850, E01004850\n",
      "$ ladcd                               <str> E08000001, E08000001, E08000001, E08000001, E08000001, E08000001, E08000001, E08000001, E08000001, E08000001\n",
      "$ lad19cd                             <str> E08000001, E08000001, E08000001, E08000001, E08000001, E08000001, E08000001, E08000001, E08000001, E08000001\n",
      "$ imd19                               <i64> 21281, 25097, 28022, 1127, 1127, 1127, 1127, 1127, 1127, 1127\n",
      "\n"
     ]
    }
   ],
   "source": [
    "ca_pc_lsoa_imd_df.glimpse()"
   ]
  },
  {
   "cell_type": "code",
   "execution_count": null,
   "id": "ca63d0b2",
   "metadata": {},
   "outputs": [],
   "source": []
  },
  {
   "cell_type": "code",
   "execution_count": null,
   "id": "2ab70daf",
   "metadata": {},
   "outputs": [],
   "source": []
  }
 ],
 "metadata": {
  "kernelspec": {
   "display_name": "Python 3 (ipykernel)",
   "language": "python",
   "name": "python3"
  },
  "language_info": {
   "codemirror_mode": {
    "name": "ipython",
    "version": 3
   },
   "file_extension": ".py",
   "mimetype": "text/x-python",
   "name": "python",
   "nbconvert_exporter": "python",
   "pygments_lexer": "ipython3",
   "version": "3.10.11"
  }
 },
 "nbformat": 4,
 "nbformat_minor": 5
}
