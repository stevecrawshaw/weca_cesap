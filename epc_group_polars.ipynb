{
 "cells": [
  {
   "cell_type": "code",
   "execution_count": 1,
   "id": "b8e152f7-d9f4-4674-9852-d545ced89997",
   "metadata": {
    "tags": []
   },
   "outputs": [],
   "source": [
    "import polars as pl"
   ]
  },
  {
   "cell_type": "code",
   "execution_count": 22,
   "id": "b36aeb2f-02e3-4970-8bb7-f8e5aadefa86",
   "metadata": {
    "tags": []
   },
   "outputs": [],
   "source": [
    "q = (\n",
    "    pl.scan_csv('data/domestic_cert_ca_tbl.csv',\n",
    "                 infer_schema_length=0) #all as strings\n",
    "    .select(pl.col(['LMK_KEY',\n",
    "                    'ADDRESS1',\n",
    "                    'ADDRESS2',\n",
    "                    'ADDRESS3',\n",
    "                    'POSTCODE',\n",
    "                    'CURRENT_ENERGY_RATING',\n",
    "                    'LOCAL_AUTHORITY',\n",
    "                    'PROPERTY_TYPE',\n",
    "                    'LODGEMENT_DATE',\n",
    "                    'TRANSACTION_TYPE',\n",
    "                    'ENVIRONMENT_IMPACT_CURRENT',\n",
    "                    'TENURE',\n",
    "                    'UPRN']))\n",
    "    .with_columns([pl.col('LODGEMENT_DATE').str.to_date('%Y-%m-%d'),\n",
    "                  pl.col('ENVIRONMENT_IMPACT_CURRENT').cast(pl.Int64),\n",
    "                  pl.col('UPRN').cast(pl.Int64)])\n",
    "    .sort(pl.col(['UPRN', 'LODGEMENT_DATE']))\n",
    "    .groupby('UPRN').last()\n",
    ")"
   ]
  },
  {
   "cell_type": "code",
   "execution_count": 23,
   "id": "bac2f7ce-9c60-41a4-b3a8-de1d8e124df1",
   "metadata": {
    "tags": []
   },
   "outputs": [
    {
     "name": "stdout",
     "output_type": "stream",
     "text": [
      "CPU times: total: 1min 36s\n",
      "Wall time: 35 s\n"
     ]
    }
   ],
   "source": [
    "%%time\n",
    "epc_latest_certs = q.collect()"
   ]
  },
  {
   "cell_type": "code",
   "execution_count": 24,
   "id": "32dbd4c0-da4e-43a9-b021-43574736e8fa",
   "metadata": {
    "collapsed": true,
    "jupyter": {
     "outputs_hidden": true
    },
    "tags": []
   },
   "outputs": [
    {
     "name": "stdout",
     "output_type": "stream",
     "text": [
      "Rows: 4659361\n",
      "Columns: 13\n",
      "$ UPRN                        <i64> None, 30, 97, 100, 103, 104, 105, 106, 107, 109\n",
      "$ LMK_KEY                     <str> 7dcb07a80200d9cfde763f0fae99f1d329abb67a7c0a438c2abe86f115cd03c1, 945145029922013062317101139638477, 1647265119642018071017301852989308, c59230c17d9b975cd1ba5457629112006a624d024894858dd75c712939ace92f, 248960a413bfe4ea746cd67d64f65b144b2343128715131a5e508aa02234fada, 883728034532015041312250532978807, 1240896913412015041413072693950436, 1679813059832018111912231061978999, 1542211424712017050910121296030754, 1280502619602015021114473434359198\n",
      "$ ADDRESS1                    <str> 103 Grayling Way, Birchington, 9, Charlton Gardens, 13 CHARLTON GARDENS, 15 Charlton Gardens, 6, Charlton Gardens, 17, Charlton Gardens, 14, Charlton Gardens, 19, Charlton Gardens, 21, Charlton Gardens\n",
      "$ ADDRESS2                    <str> Ryton Central, Severn Road, None, None, None, None, None, None, None, None\n",
      "$ ADDRESS3                    <str> None, Hallen, None, None, None, None, None, None, None, None\n",
      "$ POSTCODE                    <str> NE40 3BZ, BS10 7RZ, BS10 6LU, BS10 6LU, BS10 6LU, BS10 6LX, BS10 6LU, BS10 6LX, BS10 6LU, BS10 6LU\n",
      "$ CURRENT_ENERGY_RATING       <str> B, G, D, D, C, D, C, C, D, C\n",
      "$ LOCAL_AUTHORITY             <str> E08000037, E06000023, E06000023, E06000023, E06000023, E06000023, E06000023, E06000023, E06000023, E06000023\n",
      "$ PROPERTY_TYPE               <str> House, Bungalow, House, House, House, House, House, House, House, House\n",
      "$ LODGEMENT_DATE             <date> 2023-08-31, 2013-06-23, 2018-07-10, 2021-06-14, 2022-03-17, 2015-04-13, 2015-04-14, 2018-11-19, 2017-05-09, 2015-02-11\n",
      "$ TRANSACTION_TYPE            <str> new dwelling, assessment for green deal, marketed sale, marketed sale, marketed sale, assessment for green deal, assessment for green deal, marketed sale, marketed sale, rental (private)\n",
      "$ ENVIRONMENT_IMPACT_CURRENT  <i64> 86, 36, 62, 58, 70, 63, 69, 69, 59, 67\n",
      "$ TENURE                      <str> Not defined - use in the case of a new dwelling for which the intended tenure in not known. It is not to be used for an existing dwelling, owner-occupied, owner-occupied, Owner-occupied, Owner-occupied, owner-occupied, owner-occupied, owner-occupied, owner-occupied, rental (private)\n",
      "\n"
     ]
    }
   ],
   "source": [
    "epc_latest_certs.glimpse()"
   ]
  },
  {
   "cell_type": "code",
   "execution_count": 25,
   "id": "46b894ff-542a-4ae9-895a-77c44136b8a8",
   "metadata": {},
   "outputs": [],
   "source": [
    "epc_latest_certs.write_csv('data/epc_subset_polars_last.csv')"
   ]
  },
  {
   "cell_type": "code",
   "execution_count": null,
   "id": "06ecd17a",
   "metadata": {},
   "outputs": [],
   "source": []
  }
 ],
 "metadata": {
  "kernelspec": {
   "display_name": "Python 3 (ipykernel)",
   "language": "python",
   "name": "python3"
  },
  "language_info": {
   "codemirror_mode": {
    "name": "ipython",
    "version": 3
   },
   "file_extension": ".py",
   "mimetype": "text/x-python",
   "name": "python",
   "nbconvert_exporter": "python",
   "pygments_lexer": "ipython3",
   "version": "3.10.11"
  }
 },
 "nbformat": 4,
 "nbformat_minor": 5
}
