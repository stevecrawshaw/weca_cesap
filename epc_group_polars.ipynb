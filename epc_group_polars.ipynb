{
 "cells": [
  {
   "cell_type": "code",
   "execution_count": 82,
   "id": "b8e152f7-d9f4-4674-9852-d545ced89997",
   "metadata": {
    "tags": []
   },
   "outputs": [],
   "source": [
    "import polars as pl\n",
    "import os"
   ]
  },
  {
   "cell_type": "code",
   "execution_count": 83,
   "id": "fcde1a22",
   "metadata": {},
   "outputs": [],
   "source": [
    "root_dir = 'data/all-domestic-certificates'\n",
    "la_list = pl.read_csv('data/ca_la_tbl.csv')['LAD22CD']\n",
    "all_dataframes = []"
   ]
  },
  {
   "cell_type": "code",
   "execution_count": 85,
   "id": "01f3265f",
   "metadata": {},
   "outputs": [],
   "source": []
  },
  {
   "cell_type": "markdown",
   "id": "dcd1e70b",
   "metadata": {},
   "source": [
    "Open the certificates csv in each folder where the la code is within a CA. Use lazy evaluation to select columns, change data types and group by UPRN, filtering for the most recent certificate. Collect the data and append dataframe to the list."
   ]
  },
  {
   "cell_type": "code",
   "execution_count": 86,
   "metadata": {},
   "outputs": [],
   "source": [
    "for item in la_list:\n",
    "    for folder_name in os.listdir(root_dir):\n",
    "        # Check if the folder name matches an item in la_list\n",
    "        if item in folder_name:\n",
    "            file_path = os.path.join(root_dir, folder_name, \"certificates.csv\")\n",
    "            # Check if certificates.csv actually exists inside the folder\n",
    "            if os.path.exists(file_path):\n",
    "                q = (\n",
    "                pl.scan_csv(file_path,\n",
    "                 infer_schema_length=0) #all as strings\n",
    "                    .select(pl.col(['LMK_KEY',\n",
    "                    'POSTCODE',\n",
    "                    'CURRENT_ENERGY_RATING',\n",
    "                    'LOCAL_AUTHORITY',\n",
    "                    'PROPERTY_TYPE',\n",
    "                    'LODGEMENT_DATETIME',\n",
    "                    'TRANSACTION_TYPE',\n",
    "                    'ENVIRONMENT_IMPACT_CURRENT',\n",
    "                    'TENURE',\n",
    "                    'UPRN']))\n",
    "                .with_columns([pl.col('LODGEMENT_DATETIME').str.to_datetime(),\n",
    "                  pl.col('ENVIRONMENT_IMPACT_CURRENT').cast(pl.Int64),\n",
    "                  pl.col('UPRN').cast(pl.Int64)])\n",
    "                .sort(pl.col(['UPRN', 'LODGEMENT_DATETIME']))\n",
    "                .groupby('UPRN').last()\n",
    "                )\n",
    "                df = q.collect()\n",
    "                all_dataframes.append(df)"
   ]
  },
  {
   "cell_type": "code",
   "execution_count": 88,
   "id": "885a9c8d",
   "metadata": {},
   "outputs": [],
   "source": [
    "cons_df = pl.concat(all_dataframes)"
   ]
  },
  {
   "cell_type": "code",
   "execution_count": 79,
   "metadata": {},
   "outputs": [
    {
     "name": "stdout",
     "output_type": "stream",
     "text": [
      "Rows: 4660486\n",
      "Columns: 10\n",
      "$ UPRN                                <i64> None, 4210003725, 10001239702, 10001239704, 10001239709, 10001239711, 10001239712, 10001239714, 10001239715, 10001239716\n",
      "$ LMK_KEY                             <str> 632d66abdfbd4f709d71851927a2d79fce2fd90e4d67fe999bc22b5a9970bcc2, 8126d78434eb72180e023c7d522d811b8a11a9d6f206aa19a867f06df5d4599c, 69223609222016052017263804808356, 1099459139642014100812510823040588, 876abfcefe535b31e3e3e46264de08d97acec07eb72415f2fa967061afc6315d, e9c4c64a24ad61bbf2c4de0d3bd97725b8dde5d9b21a12e2cd0888e34ac6af15, 1019963559062013100615514564448457, 1485207013512016100421133096069648, 1389662563632016072714480291278400, aade8e478efe85ef7a8b090f1a4eedd4941217246ccb9019e35ef1d944af8505\n",
      "$ POSTCODE                            <str> BL5 3WB, BL3 1PS, BL1 5WA, BL3 5NP, BL3 5NP, BL3 5NP, BL3 5NP, BL3 5NP, BL3 5NP, BL3 5NP\n",
      "$ CURRENT_ENERGY_RATING               <str> B, C, C, D, C, C, C, D, E, D\n",
      "$ LOCAL_AUTHORITY                     <str> E08000001, E08000001, E08000001, E08000001, E08000001, E08000001, E08000001, E08000001, E08000001, E08000001\n",
      "$ PROPERTY_TYPE                       <str> Flat, House, House, House, House, House, House, House, House, House\n",
      "$ LODGEMENT_DATETIME         <datetime[μs]> 2023-08-31 09:36:01, 2021-04-03 11:13:34, 2016-05-20 17:26:38, 2014-10-08 12:51:08, 2022-05-18 19:12:32, 2021-01-20 00:00:00, 2013-10-06 15:51:45, 2016-10-04 21:13:30, 2016-07-27 14:48:02, 2021-09-22 16:29:52\n",
      "$ TRANSACTION_TYPE                    <str> marketed sale, marketed sale, marketed sale, none of the above, non marketed sale, rental, rental (private), marketed sale, ECO assessment, rental\n",
      "$ ENVIRONMENT_IMPACT_CURRENT          <i64> 87, 74, 71, 68, 73, 69, 79, 57, 42, 41\n",
      "$ TENURE                              <str> Owner-occupied, Owner-occupied, owner-occupied, rental (private), Owner-occupied, Rented (private), rental (private), owner-occupied, owner-occupied, Rented (private)\n",
      "\n"
     ]
    }
   ],
   "source": [
    "cons_df.glimpse()"
   ]
  },
  {
   "cell_type": "code",
   "execution_count": 89,
   "id": "46b894ff-542a-4ae9-895a-77c44136b8a8",
   "metadata": {},
   "outputs": [],
   "source": [
    "cons_df.write_csv('data/epc_subset_polars_last.csv')"
   ]
  },
  {
   "cell_type": "code",
   "execution_count": 107,
   "id": "3b4ca37c",
   "metadata": {},
   "outputs": [],
   "source": [
    "postcodes_ca = ((cons_df\n",
    "                .select(pl.col('POSTCODE'))\n",
    "                .unique()\n",
    "                )\n",
    "                .to_series()\n",
    "                .to_list()\n",
    "                )"
   ]
  },
  {
   "cell_type": "code",
   "execution_count": 109,
   "id": "ce7698bc",
   "metadata": {},
   "outputs": [],
   "source": [
    "postcode_chunks = [postcodes_ca[i:i+100] for i in range(0, len(postcodes_ca), 100)]"
   ]
  },
  {
   "cell_type": "code",
   "execution_count": 110,
   "id": "dd1f40a2",
   "metadata": {},
   "outputs": [
    {
     "data": {
      "text/plain": [
       "['BD15 0LW',\n",
       " 'L36 5XL',\n",
       " 'WF10 5BU',\n",
       " 'CB5 8QL',\n",
       " 'B16 8HF',\n",
       " 'LS1 5JW',\n",
       " 'L21 1HS',\n",
       " 'TS27 4RY',\n",
       " 'L32 0SN',\n",
       " 'B23 7DH',\n",
       " 'HX3 5BJ',\n",
       " 'DL13 4LN',\n",
       " 'TS25 5QD',\n",
       " 'SK8 5HH',\n",
       " 'NE29 8LP',\n",
       " 'M22 4LG',\n",
       " 'NE37 1JS',\n",
       " 'WS1 3RB',\n",
       " 'S66 7QT',\n",
       " 'DN2 6DA',\n",
       " 'BL3 6TE',\n",
       " 'OL6 8JW',\n",
       " 'BS14 9RD',\n",
       " 'BD3 7JU',\n",
       " 'LS27 0DN',\n",
       " 'WV12 5QJ',\n",
       " 'BL1 3RE',\n",
       " 'M35 9BP',\n",
       " 'CH42 4QU',\n",
       " 'B11 3QL',\n",
       " 'B43 5QN',\n",
       " 'WS9 8QX',\n",
       " 'BS32 4JR',\n",
       " 'HD3 3NY',\n",
       " 'DL4 1AR',\n",
       " 'SR7 9RS',\n",
       " 'LS14 2AW',\n",
       " 'CB4 2JA',\n",
       " 'NE32 5QZ',\n",
       " 'WV14 7NW',\n",
       " 'BS16 7JF',\n",
       " 'BL9 8DR',\n",
       " 'BL5 2ND',\n",
       " 'M41 8DZ',\n",
       " 'LS17 9LA',\n",
       " 'CH44 4EB',\n",
       " 'M46 9NS',\n",
       " 'SK14 3EB',\n",
       " 'DH4 6EP',\n",
       " 'WF9 4FR',\n",
       " 'PE7 1XX',\n",
       " 'NE34 9EN',\n",
       " 'M22 9WW',\n",
       " 'HD2 1SR',\n",
       " 'TS10 5JN',\n",
       " 'BS7 8HH',\n",
       " 'L30 5SD',\n",
       " 'BD5 0TJ',\n",
       " 'BD13 5HG',\n",
       " 'DL12 8NB',\n",
       " 'BL9 7UN',\n",
       " 'TS25 5AQ',\n",
       " 'TS27 4DA',\n",
       " 'M30 0YQ',\n",
       " 'PE4 6ST',\n",
       " 'BS4 3HH',\n",
       " 'NE43 7RG',\n",
       " 'B63 1JB',\n",
       " 'L6 5JP',\n",
       " 'TS3 9ES',\n",
       " 'B42 1SJ',\n",
       " 'SK7 2LF',\n",
       " 'M4 4AL',\n",
       " 'B92 7FG',\n",
       " 'M24 2NZ',\n",
       " 'CV2 5HE',\n",
       " 'M35 9AJ',\n",
       " 'WF8 1RP',\n",
       " 'WF17 9BB',\n",
       " 'LS15 8PZ',\n",
       " 'CV5 6DN',\n",
       " 'SK1 4BD',\n",
       " 'CB2 8BX',\n",
       " 'WA15 0RT',\n",
       " 'WA9 1SL',\n",
       " 'DN7 4BX',\n",
       " 'B34 6TZ',\n",
       " 'BS35 2EZ',\n",
       " 'B30 1QG',\n",
       " 'LS17 9LQ',\n",
       " 'BS16 5DB',\n",
       " 'L29 9AD',\n",
       " 'WA15 7LN',\n",
       " 'CH61 4YN',\n",
       " 'M27 0BS',\n",
       " 'BD4 7LE',\n",
       " 'TS20 1LT',\n",
       " 'CB24 8RG',\n",
       " 'S72 8QZ',\n",
       " 'DL14 6NH']"
      ]
     },
     "execution_count": 110,
     "metadata": {},
     "output_type": "execute_result"
    }
   ],
   "source": [
    "chunks[0]"
   ]
  }
 ],
 "metadata": {
  "kernelspec": {
   "display_name": "Python 3 (ipykernel)",
   "language": "python",
   "name": "python3"
  },
  "language_info": {
   "codemirror_mode": {
    "name": "ipython",
    "version": 3
   },
   "file_extension": ".py",
   "mimetype": "text/x-python",
   "name": "python",
   "nbconvert_exporter": "python",
   "pygments_lexer": "ipython3",
   "version": "3.10.11"
  }
 },
 "nbformat": 4,
 "nbformat_minor": 5
}
