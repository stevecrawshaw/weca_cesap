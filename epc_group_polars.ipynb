{
 "cells": [
  {
   "cell_type": "code",
   "execution_count": 82,
   "id": "b8e152f7-d9f4-4674-9852-d545ced89997",
   "metadata": {
    "tags": []
   },
   "outputs": [],
   "source": [
    "import polars as pl\n",
    "import os"
   ]
  },
  {
   "cell_type": "code",
   "execution_count": 83,
   "id": "fcde1a22",
   "metadata": {},
   "outputs": [],
   "source": [
    "root_dir = 'data/all-domestic-certificates'\n",
    "la_list = pl.read_csv('data/ca_la_tbl.csv')['LAD22CD']\n",
    "all_dataframes = []"
   ]
  },
  {
   "cell_type": "code",
   "execution_count": 85,
   "id": "01f3265f",
   "metadata": {},
   "outputs": [],
   "source": []
  },
  {
   "cell_type": "markdown",
   "id": "dcd1e70b",
   "metadata": {},
   "source": [
    "Open the certificates csv in each folder where the la code is within a CA. Use lazy evaluation to select columns, change data types and group by UPRN, filtering for the most recent certificate. Collect the data and append dataframe to the list."
   ]
  },
  {
   "cell_type": "code",
   "execution_count": 86,
   "metadata": {},
   "outputs": [],
   "source": [
    "for item in la_list:\n",
    "    for folder_name in os.listdir(root_dir):\n",
    "        # Check if the folder name matches an item in la_list\n",
    "        if item in folder_name:\n",
    "            file_path = os.path.join(root_dir, folder_name, \"certificates.csv\")\n",
    "            # Check if certificates.csv actually exists inside the folder\n",
    "            if os.path.exists(file_path):\n",
    "                q = (\n",
    "                pl.scan_csv(file_path,\n",
    "                 infer_schema_length=0) #all as strings\n",
    "                    .select(pl.col(['LMK_KEY',\n",
    "                    'POSTCODE',\n",
    "                    'CURRENT_ENERGY_RATING',\n",
    "                    'LOCAL_AUTHORITY',\n",
    "                    'PROPERTY_TYPE',\n",
    "                    'LODGEMENT_DATETIME',\n",
    "                    'TRANSACTION_TYPE',\n",
    "                    'ENVIRONMENT_IMPACT_CURRENT',\n",
    "                    'TENURE',\n",
    "                    'UPRN']))\n",
    "                .with_columns([pl.col('LODGEMENT_DATETIME').str.to_datetime(),\n",
    "                  pl.col('ENVIRONMENT_IMPACT_CURRENT').cast(pl.Int64),\n",
    "                  pl.col('UPRN').cast(pl.Int64)])\n",
    "                .sort(pl.col(['UPRN', 'LODGEMENT_DATETIME']))\n",
    "                .groupby('UPRN').last()\n",
    "                )\n",
    "                df = q.collect()\n",
    "                all_dataframes.append(df)"
   ]
  },
  {
   "cell_type": "code",
   "execution_count": 88,
   "id": "885a9c8d",
   "metadata": {},
   "outputs": [],
   "source": [
    "cons_df = pl.concat(all_dataframes)"
   ]
  },
  {
   "cell_type": "code",
   "execution_count": 79,
   "metadata": {},
   "outputs": [
    {
     "name": "stdout",
     "output_type": "stream",
     "text": [
      "Rows: 4660486\n",
      "Columns: 10\n",
      "$ UPRN                                <i64> None, 4210003725, 10001239702, 10001239704, 10001239709, 10001239711, 10001239712, 10001239714, 10001239715, 10001239716\n",
      "$ LMK_KEY                             <str> 632d66abdfbd4f709d71851927a2d79fce2fd90e4d67fe999bc22b5a9970bcc2, 8126d78434eb72180e023c7d522d811b8a11a9d6f206aa19a867f06df5d4599c, 69223609222016052017263804808356, 1099459139642014100812510823040588, 876abfcefe535b31e3e3e46264de08d97acec07eb72415f2fa967061afc6315d, e9c4c64a24ad61bbf2c4de0d3bd97725b8dde5d9b21a12e2cd0888e34ac6af15, 1019963559062013100615514564448457, 1485207013512016100421133096069648, 1389662563632016072714480291278400, aade8e478efe85ef7a8b090f1a4eedd4941217246ccb9019e35ef1d944af8505\n",
      "$ POSTCODE                            <str> BL5 3WB, BL3 1PS, BL1 5WA, BL3 5NP, BL3 5NP, BL3 5NP, BL3 5NP, BL3 5NP, BL3 5NP, BL3 5NP\n",
      "$ CURRENT_ENERGY_RATING               <str> B, C, C, D, C, C, C, D, E, D\n",
      "$ LOCAL_AUTHORITY                     <str> E08000001, E08000001, E08000001, E08000001, E08000001, E08000001, E08000001, E08000001, E08000001, E08000001\n",
      "$ PROPERTY_TYPE                       <str> Flat, House, House, House, House, House, House, House, House, House\n",
      "$ LODGEMENT_DATETIME         <datetime[μs]> 2023-08-31 09:36:01, 2021-04-03 11:13:34, 2016-05-20 17:26:38, 2014-10-08 12:51:08, 2022-05-18 19:12:32, 2021-01-20 00:00:00, 2013-10-06 15:51:45, 2016-10-04 21:13:30, 2016-07-27 14:48:02, 2021-09-22 16:29:52\n",
      "$ TRANSACTION_TYPE                    <str> marketed sale, marketed sale, marketed sale, none of the above, non marketed sale, rental, rental (private), marketed sale, ECO assessment, rental\n",
      "$ ENVIRONMENT_IMPACT_CURRENT          <i64> 87, 74, 71, 68, 73, 69, 79, 57, 42, 41\n",
      "$ TENURE                              <str> Owner-occupied, Owner-occupied, owner-occupied, rental (private), Owner-occupied, Rented (private), rental (private), owner-occupied, owner-occupied, Rented (private)\n",
      "\n"
     ]
    }
   ],
   "source": [
    "cons_df.glimpse()"
   ]
  },
  {
   "cell_type": "code",
   "execution_count": 89,
   "id": "46b894ff-542a-4ae9-895a-77c44136b8a8",
   "metadata": {},
   "outputs": [],
   "source": [
    "cons_df.write_csv('data/epc_subset_polars_last.csv')"
   ]
  }
 ],
 "metadata": {
  "kernelspec": {
   "display_name": "Python 3 (ipykernel)",
   "language": "python",
   "name": "python3"
  },
  "language_info": {
   "codemirror_mode": {
    "name": "ipython",
    "version": 3
   },
   "file_extension": ".py",
   "mimetype": "text/x-python",
   "name": "python",
   "nbconvert_exporter": "python",
   "pygments_lexer": "ipython3",
   "version": "3.10.11"
  }
 },
 "nbformat": 4,
 "nbformat_minor": 5
}
