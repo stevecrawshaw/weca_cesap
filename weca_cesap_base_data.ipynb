{
 "cells": [
  {
   "cell_type": "code",
   "execution_count": 1,
   "metadata": {},
   "outputs": [],
   "source": [
    "import polars as pl\n",
    "import requests\n",
    "import os\n",
    "import json\n",
    "import string\n",
    "import polars.selectors as cs\n",
    "from datetime import datetime\n",
    "from polars.selectors import expand_selector"
   ]
  },
  {
   "cell_type": "code",
   "execution_count": 9,
   "metadata": {},
   "outputs": [],
   "source": []
  },
  {
   "cell_type": "code",
   "execution_count": 10,
   "metadata": {},
   "outputs": [
    {
     "data": {
      "text/plain": [
       "[2021, 2022, 2023]"
      ]
     },
     "execution_count": 10,
     "metadata": {},
     "output_type": "execute_result"
    }
   ],
   "source": []
  },
  {
   "cell_type": "code",
   "execution_count": 27,
   "metadata": {},
   "outputs": [
    {
     "name": "stdout",
     "output_type": "stream",
     "text": [
      "23\n"
     ]
    }
   ],
   "source": []
  },
  {
   "cell_type": "code",
   "execution_count": 30,
   "metadata": {},
   "outputs": [],
   "source": [
    "def get_ca_la_df(year: int):\n",
    "    years = [2021, 2022, 2023, 2024, 2025]\n",
    "    \n",
    "    def remove_numbers(input_string):\n",
    "        # rename columns\n",
    "        # Create a translation table that maps each digit to None\n",
    "        translation_table = str.maketrans(\"\", \"\", \"0123456789\")\n",
    "        # Use the translation table to remove all numbers from the input string\n",
    "        result_string = input_string.translate(translation_table)\n",
    "        return result_string\n",
    "\n",
    "    try:\n",
    "        assert year in years\n",
    "        year_suffix = str(year)[2:4]\n",
    "        url = f'https://services1.arcgis.com/ESMARspQHYMw9BZ9/arcgis/rest/services/LAD{year_suffix}_CAUTH{year_suffix}_EN_LU/FeatureServer/0/query'\n",
    "        params = {\n",
    "        \"where\":\"1=1\", # maps to True\n",
    "        \"outFields\":\"*\", # all\n",
    "        \"SR\":\"4326\", # WGS84\n",
    "        \"f\":\"json\"\n",
    "        }\n",
    "\n",
    "        r = requests.get(url = url, params = params)\n",
    "        if r.status_code != 200:\n",
    "            raise Exception(f'API call failed {r.status_code}')\n",
    "    except AssertionError:\n",
    "        print(f'API call failed {r.status_code}')\n",
    "    except:\n",
    "        print(r.status_code)\n",
    "\n",
    "    else:\n",
    "        response = r.json()\n",
    "        attrs = response.get('features')\n",
    "        rows = [attr.get('attributes') for attr in attrs]\n",
    "        ca_la_df = pl.DataFrame(rows).select(pl.exclude('ObjectId'))\n",
    "\n",
    "        old_names = ca_la_df.columns\n",
    "        new_names = [remove_numbers(colstring) for colstring in old_names]\n",
    "        rename_dict = dict(zip(old_names, new_names))\n",
    "\n",
    "        clean_ca_la_df = (ca_la_df\n",
    "                        .rename(rename_dict))\n",
    "\n",
    "\n",
    "        return clean_ca_la_df\n",
    "        \n",
    "        \n"
   ]
  },
  {
   "cell_type": "code",
   "execution_count": 31,
   "metadata": {},
   "outputs": [],
   "source": [
    "ca_la_df = get_ca_la_df(2023)\n",
    "# ca_la_df.columns"
   ]
  },
  {
   "cell_type": "code",
   "execution_count": 33,
   "metadata": {},
   "outputs": [],
   "source": [
    "# ca_la_df"
   ]
  },
  {
   "cell_type": "code",
   "execution_count": null,
   "metadata": {},
   "outputs": [],
   "source": []
  },
  {
   "cell_type": "code",
   "execution_count": 21,
   "metadata": {},
   "outputs": [
    {
     "name": "stderr",
     "output_type": "stream",
     "text": [
      "c:\\Users\\steve.crawshaw\\micromamba\\envs\\ds01\\Lib\\site-packages\\ezodf\\tableutils.py:31: SyntaxWarning: invalid escape sequence '\\d'\n",
      "  CELL_ADDRESS = re.compile('^([A-Z]+)(\\d+)$')\n"
     ]
    }
   ],
   "source": [
    "chargers_df = pl.read_ods('data/electric-vehicle-charging-device-statistics-july-2023.ods', sheet_name = '1a')"
   ]
  },
  {
   "cell_type": "code",
   "execution_count": 52,
   "metadata": {},
   "outputs": [],
   "source": [
    "def rename_string(input_string):\n",
    "    # Remove newline characters\n",
    "    cleaned_string = input_string.replace(\"\\n\", \"\")\n",
    "    \n",
    "    # Define a translation table for punctuation marks and spaces\n",
    "    trans_table = str.maketrans(string.punctuation + \" \", \"_\" * (len(string.punctuation) + 1))\n",
    "    \n",
    "    # Convert to lowercase and apply the translation table\n",
    "    output_string = cleaned_string.lower().translate(trans_table)\n",
    "    \n",
    "    # Replace consecutive underscores with a single underscore\n",
    "    output_string = '_'.join(filter(None, output_string.split('_')))\n",
    "    \n",
    "    # Remove trailing underscores\n",
    "    output_string = output_string.rstrip('_')\n",
    "    \n",
    "    return output_string\n"
   ]
  },
  {
   "cell_type": "code",
   "execution_count": null,
   "metadata": {},
   "outputs": [],
   "source": []
  },
  {
   "cell_type": "code",
   "execution_count": 48,
   "metadata": {},
   "outputs": [],
   "source": [
    "new_names = (chargers_df\n",
    " .slice(1, 1)\n",
    " .transpose()\n",
    " .to_series())\n",
    "\n",
    "# f = open(\"data/names.txt\", \"w\")\n",
    "# f.write(str(list(new_names)))\n",
    "# f.close()"
   ]
  },
  {
   "cell_type": "code",
   "execution_count": 38,
   "metadata": {},
   "outputs": [],
   "source": [
    "old_names = chargers_df.columns"
   ]
  },
  {
   "cell_type": "code",
   "execution_count": 40,
   "metadata": {},
   "outputs": [],
   "source": [
    "rename_dict = dict(zip(old_names, new_names))"
   ]
  },
  {
   "cell_type": "code",
   "execution_count": 62,
   "metadata": {},
   "outputs": [],
   "source": [
    "mapper = { # dictionary for find and replace to apply in polars expression\n",
    "    'x' : None\n",
    "}"
   ]
  },
  {
   "cell_type": "code",
   "execution_count": 75,
   "metadata": {},
   "outputs": [],
   "source": [
    "chargers_clean_1 = (chargers_df\n",
    ".rename(mapping=rename_dict)\n",
    ".slice(2, None) # remove first 2 rows\n",
    ".select(pl.all().map_alias(lambda col_name: rename_string(col_name))) # use a renaming column to clean_names\n",
    ".filter(pl.col('local_authority_region_code').is_not_null()) #strip nulls rows\n",
    ".select(pl.all().map_dict(mapper, default = pl.first())) # turn all x into Null with mapper\n",
    " )"
   ]
  },
  {
   "cell_type": "code",
   "execution_count": 99,
   "metadata": {},
   "outputs": [],
   "source": [
    "lad_code = f'LAD{str(year)[2:4]}CD' # column name depending on year\n",
    "# have to do a stack here as can't cast strings to floats in place with_columns\n",
    "chargers_clean = (chargers_clean_1\n",
    "                    .select(cs.contains('local_authority'))\n",
    "                    .hstack(chargers_clean_1.select(cs.matches('population|devices')).cast(pl.Float64))\n",
    "                    .join(ca_la_df, left_on = 'local_authority_region_code', right_on = lad_code)\n",
    "                    \n",
    "                    )\n"
   ]
  },
  {
   "cell_type": "code",
   "execution_count": 136,
   "metadata": {},
   "outputs": [
    {
     "data": {
      "text/html": [
       "<div><style>\n",
       ".dataframe > thead > tr > th,\n",
       ".dataframe > tbody > tr > td {\n",
       "  text-align: right;\n",
       "  white-space: pre-wrap;\n",
       "}\n",
       "</style>\n",
       "<small>shape: (5, 37)</small><table border=\"1\" class=\"dataframe\"><thead><tr><th>local_authority_region_code</th><th>local_authority_region_name</th><th>jul_23_total_charging_devices_note_2</th><th>jul_23_per_100_000_population_note_3</th><th>apr_23_total_charging_devices</th><th>apr_23_per_100_000_population</th><th>jan_23_total_charging_devices</th><th>jan_23_per_100_000_population</th><th>oct_22_total_charging_devices</th><th>oct_22_per_100_000_population</th><th>july_22_total_charging_devices</th><th>july_22_per_100_000_population</th><th>apr_22_total_charging_devices</th><th>apr_22_per_100_000_population</th><th>jan_22_total_charging_devices_2</th><th>jan_22_per_100_000_population_3</th><th>oct_21_total_charging_devices</th><th>oct_21_per_100_000_population</th><th>july_21_total_charging_devices</th><th>july_21_per_100_000_population</th><th>apr_21_total_charging_devices</th><th>apr_21_per_100_000_population</th><th>jan_21_total_charging_devices</th><th>jan_21_per_100_000_population</th><th>oct_20_total_charging_devices</th><th>oct_20_per_100_000_population</th><th>july_20_total_charging_devices</th><th>july_20_per_100_000_population</th><th>apr_20_total_charging_devices</th><th>apr_20_per_100_000_population</th><th>jan_20_total_charging_devices</th><th>jan_20_per_100_000_population</th><th>oct_19_total_charging_devices</th><th>oct_19_per_100_000_population</th><th>LAD23NM</th><th>CAUTH23CD</th><th>CAUTH23NM</th></tr><tr><td>str</td><td>str</td><td>f64</td><td>f64</td><td>f64</td><td>f64</td><td>f64</td><td>f64</td><td>f64</td><td>f64</td><td>f64</td><td>f64</td><td>f64</td><td>f64</td><td>f64</td><td>f64</td><td>f64</td><td>f64</td><td>f64</td><td>f64</td><td>f64</td><td>f64</td><td>f64</td><td>f64</td><td>f64</td><td>f64</td><td>f64</td><td>f64</td><td>f64</td><td>f64</td><td>f64</td><td>f64</td><td>f64</td><td>f64</td><td>str</td><td>str</td><td>str</td></tr></thead><tbody><tr><td>&quot;E06000047&quot;</td><td>&quot;County Durham&quot;</td><td>259.0</td><td>49.6791</td><td>240.0</td><td>46.034687</td><td>229.0</td><td>43.924764</td><td>206.0</td><td>38.638354</td><td>174.0</td><td>32.63628</td><td>149.0</td><td>27.947159</td><td>128.0</td><td>24.008298</td><td>124.0</td><td>23.258039</td><td>116.0</td><td>21.75752</td><td>121.0</td><td>22.82614</td><td>110.0</td><td>20.751037</td><td>106.0</td><td>19.996453</td><td>105.0</td><td>19.807808</td><td>102.0</td><td>19.355573</td><td>96.0</td><td>18.21701</td><td>92.0</td><td>17.457968</td><td>&quot;County Durham&quot;</td><td>&quot;E47000010&quot;</td><td>&quot;North East&quot;</td></tr><tr><td>&quot;E06000005&quot;</td><td>&quot;Darlington&quot;</td><td>80.0</td><td>73.922123</td><td>73.0</td><td>67.453937</td><td>68.0</td><td>62.833805</td><td>54.0</td><td>50.278393</td><td>49.0</td><td>45.622987</td><td>31.0</td><td>28.863522</td><td>30.0</td><td>27.932441</td><td>31.0</td><td>28.863522</td><td>31.0</td><td>28.863522</td><td>29.0</td><td>27.152795</td><td>29.0</td><td>27.152795</td><td>29.0</td><td>27.152795</td><td>28.0</td><td>26.216492</td><td>28.0</td><td>26.274797</td><td>27.0</td><td>25.336411</td><td>27.0</td><td>25.336411</td><td>&quot;Darlington&quot;</td><td>&quot;E47000006&quot;</td><td>&quot;Tees Valley&quot;</td></tr><tr><td>&quot;E06000001&quot;</td><td>&quot;Hartlepool&quot;</td><td>27.0</td><td>29.166802</td><td>27.0</td><td>29.166802</td><td>24.0</td><td>25.926046</td><td>8.0</td><td>8.525513</td><td>11.0</td><td>11.72258</td><td>12.0</td><td>12.788269</td><td>13.0</td><td>13.853958</td><td>11.0</td><td>11.72258</td><td>10.0</td><td>10.656891</td><td>9.0</td><td>9.608917</td><td>8.0</td><td>8.54126</td><td>6.0</td><td>6.405945</td><td>6.0</td><td>6.405945</td><td>6.0</td><td>6.434868</td><td>5.0</td><td>5.36239</td><td>5.0</td><td>5.36239</td><td>&quot;Hartlepool&quot;</td><td>&quot;E47000006&quot;</td><td>&quot;Tees Valley&quot;</td></tr><tr><td>&quot;E06000002&quot;</td><td>&quot;Middlesbrough&quot;</td><td>63.0</td><td>43.830966</td><td>58.0</td><td>40.352317</td><td>51.0</td><td>35.48221</td><td>33.0</td><td>23.357044</td><td>38.0</td><td>26.89599</td><td>34.0</td><td>24.064833</td><td>32.0</td><td>22.649255</td><td>30.0</td><td>21.233677</td><td>30.0</td><td>21.233677</td><td>30.0</td><td>21.279614</td><td>30.0</td><td>21.279614</td><td>29.0</td><td>20.570294</td><td>29.0</td><td>20.570294</td><td>29.0</td><td>20.633961</td><td>27.0</td><td>19.210929</td><td>25.0</td><td>17.787897</td><td>&quot;Middlesbrough&quot;</td><td>&quot;E47000006&quot;</td><td>&quot;Tees Valley&quot;</td></tr><tr><td>&quot;E06000057&quot;</td><td>&quot;Northumberland…</td><td>280.0</td><td>87.076048</td><td>264.0</td><td>82.100274</td><td>251.0</td><td>78.057458</td><td>220.0</td><td>67.938978</td><td>226.0</td><td>69.79186</td><td>198.0</td><td>61.145081</td><td>197.0</td><td>60.836267</td><td>186.0</td><td>57.439318</td><td>172.0</td><td>53.115929</td><td>153.0</td><td>47.451571</td><td>149.0</td><td>46.211008</td><td>162.0</td><td>50.24284</td><td>152.0</td><td>47.14143</td><td>149.0</td><td>46.522665</td><td>138.0</td><td>43.088106</td><td>139.0</td><td>43.400338</td><td>&quot;Northumberland…</td><td>&quot;E47000011&quot;</td><td>&quot;North of Tyne&quot;</td></tr></tbody></table></div>"
      ],
      "text/plain": [
       "shape: (5, 37)\n",
       "┌───────────┬───────────┬───────────┬───────────┬───┬───────────┬───────────┬───────────┬──────────┐\n",
       "│ local_aut ┆ local_aut ┆ jul_23_to ┆ jul_23_pe ┆ … ┆ oct_19_pe ┆ LAD23NM   ┆ CAUTH23CD ┆ CAUTH23N │\n",
       "│ hority_re ┆ hority_re ┆ tal_charg ┆ r_100_000 ┆   ┆ r_100_000 ┆ ---       ┆ ---       ┆ M        │\n",
       "│ gion_code ┆ gion_name ┆ ing_devic ┆ _populati ┆   ┆ _populati ┆ str       ┆ str       ┆ ---      │\n",
       "│ ---       ┆ ---       ┆ es_no…    ┆ on_no…    ┆   ┆ on        ┆           ┆           ┆ str      │\n",
       "│ str       ┆ str       ┆ ---       ┆ ---       ┆   ┆ ---       ┆           ┆           ┆          │\n",
       "│           ┆           ┆ f64       ┆ f64       ┆   ┆ f64       ┆           ┆           ┆          │\n",
       "╞═══════════╪═══════════╪═══════════╪═══════════╪═══╪═══════════╪═══════════╪═══════════╪══════════╡\n",
       "│ E06000047 ┆ County    ┆ 259.0     ┆ 49.6791   ┆ … ┆ 17.457968 ┆ County    ┆ E47000010 ┆ North    │\n",
       "│           ┆ Durham    ┆           ┆           ┆   ┆           ┆ Durham    ┆           ┆ East     │\n",
       "│ E06000005 ┆ Darlingto ┆ 80.0      ┆ 73.922123 ┆ … ┆ 25.336411 ┆ Darlingto ┆ E47000006 ┆ Tees     │\n",
       "│           ┆ n         ┆           ┆           ┆   ┆           ┆ n         ┆           ┆ Valley   │\n",
       "│ E06000001 ┆ Hartlepoo ┆ 27.0      ┆ 29.166802 ┆ … ┆ 5.36239   ┆ Hartlepoo ┆ E47000006 ┆ Tees     │\n",
       "│           ┆ l         ┆           ┆           ┆   ┆           ┆ l         ┆           ┆ Valley   │\n",
       "│ E06000002 ┆ Middlesbr ┆ 63.0      ┆ 43.830966 ┆ … ┆ 17.787897 ┆ Middlesbr ┆ E47000006 ┆ Tees     │\n",
       "│           ┆ ough      ┆           ┆           ┆   ┆           ┆ ough      ┆           ┆ Valley   │\n",
       "│ E06000057 ┆ Northumbe ┆ 280.0     ┆ 87.076048 ┆ … ┆ 43.400338 ┆ Northumbe ┆ E47000011 ┆ North of │\n",
       "│           ┆ rland     ┆           ┆           ┆   ┆           ┆ rland     ┆           ┆ Tyne     │\n",
       "└───────────┴───────────┴───────────┴───────────┴───┴───────────┴───────────┴───────────┴──────────┘"
      ]
     },
     "execution_count": 136,
     "metadata": {},
     "output_type": "execute_result"
    }
   ],
   "source": [
    "chargers_clean.head()"
   ]
  },
  {
   "cell_type": "code",
   "execution_count": 150,
   "metadata": {},
   "outputs": [
    {
     "ename": "TypeError",
     "evalue": "argument 'value_vars': '_selector_proxy_' object cannot be converted to 'Sequence'",
     "output_type": "error",
     "traceback": [
      "\u001b[1;31m---------------------------------------------------------------------------\u001b[0m",
      "\u001b[1;31mTypeError\u001b[0m                                 Traceback (most recent call last)",
      "\u001b[1;32mc:\\Users\\steve.crawshaw\\OneDrive - West Of England Combined Authority\\Documents\\r-projects\\weca_cesap\\weca_cesap_base_data.ipynb Cell 15\u001b[0m line \u001b[0;36m5\n\u001b[0;32m      <a href='vscode-notebook-cell:/c%3A/Users/steve.crawshaw/OneDrive%20-%20West%20Of%20England%20Combined%20Authority/Documents/r-projects/weca_cesap/weca_cesap_base_data.ipynb#W6sZmlsZQ%3D%3D?line=0'>1</a>\u001b[0m (chargers_clean\n\u001b[0;32m      <a href='vscode-notebook-cell:/c%3A/Users/steve.crawshaw/OneDrive%20-%20West%20Of%20England%20Combined%20Authority/Documents/r-projects/weca_cesap/weca_cesap_base_data.ipynb#W6sZmlsZQ%3D%3D?line=1'>2</a>\u001b[0m \u001b[39m#  .pivot(values = ~cs.matches('local_authority|LAD|CAUTH'), columns=['LAD23NM', 'CAUTH23NM'], index='LAD23CD')\u001b[39;49;00m\n\u001b[0;32m      <a href='vscode-notebook-cell:/c%3A/Users/steve.crawshaw/OneDrive%20-%20West%20Of%20England%20Combined%20Authority/Documents/r-projects/weca_cesap/weca_cesap_base_data.ipynb#W6sZmlsZQ%3D%3D?line=2'>3</a>\u001b[0m \u001b[39m#  .select(~cs.matches('local_authority|LAD|CAUTH'))\u001b[39;49;00m\n\u001b[0;32m      <a href='vscode-notebook-cell:/c%3A/Users/steve.crawshaw/OneDrive%20-%20West%20Of%20England%20Combined%20Authority/Documents/r-projects/weca_cesap/weca_cesap_base_data.ipynb#W6sZmlsZQ%3D%3D?line=3'>4</a>\u001b[0m \u001b[39m#  .columns\u001b[39;49;00m\n\u001b[1;32m----> <a href='vscode-notebook-cell:/c%3A/Users/steve.crawshaw/OneDrive%20-%20West%20Of%20England%20Combined%20Authority/Documents/r-projects/weca_cesap/weca_cesap_base_data.ipynb#W6sZmlsZQ%3D%3D?line=4'>5</a>\u001b[0m \u001b[39m.\u001b[39;49mmelt(id_vars \u001b[39m=\u001b[39;49m [\u001b[39m'\u001b[39;49m\u001b[39mCAUTH23NM\u001b[39;49m\u001b[39m'\u001b[39;49m, \u001b[39m'\u001b[39;49m\u001b[39mCAUTH23CD\u001b[39;49m\u001b[39m'\u001b[39;49m, \u001b[39m'\u001b[39;49m\u001b[39mLAD23NM\u001b[39;49m\u001b[39m'\u001b[39;49m, \u001b[39m'\u001b[39;49m\u001b[39mlocal_authority_region_code\u001b[39;49m\u001b[39m'\u001b[39;49m, \u001b[39m'\u001b[39;49m\u001b[39mlocal_authority_region_name\u001b[39;49m\u001b[39m'\u001b[39;49m], value_vars\u001b[39m=\u001b[39;49mcs\u001b[39m.\u001b[39;49mnumeric())\n\u001b[0;32m      <a href='vscode-notebook-cell:/c%3A/Users/steve.crawshaw/OneDrive%20-%20West%20Of%20England%20Combined%20Authority/Documents/r-projects/weca_cesap/weca_cesap_base_data.ipynb#W6sZmlsZQ%3D%3D?line=5'>6</a>\u001b[0m \u001b[39m# .melt(id_vars=cs.string())\u001b[39;00m\n\u001b[0;32m      <a href='vscode-notebook-cell:/c%3A/Users/steve.crawshaw/OneDrive%20-%20West%20Of%20England%20Combined%20Authority/Documents/r-projects/weca_cesap/weca_cesap_base_data.ipynb#W6sZmlsZQ%3D%3D?line=6'>7</a>\u001b[0m \u001b[39m# .melt(value_vars=cs.numeric())\u001b[39;00m\n\u001b[0;32m      <a href='vscode-notebook-cell:/c%3A/Users/steve.crawshaw/OneDrive%20-%20West%20Of%20England%20Combined%20Authority/Documents/r-projects/weca_cesap/weca_cesap_base_data.ipynb#W6sZmlsZQ%3D%3D?line=7'>8</a>\u001b[0m )\n",
      "File \u001b[1;32mc:\\Users\\steve.crawshaw\\micromamba\\envs\\ds01\\Lib\\site-packages\\polars\\dataframe\\frame.py:7075\u001b[0m, in \u001b[0;36mDataFrame.melt\u001b[1;34m(self, id_vars, value_vars, variable_name, value_name)\u001b[0m\n\u001b[0;32m   7072\u001b[0m \u001b[39mif\u001b[39;00m id_vars \u001b[39mis\u001b[39;00m \u001b[39mNone\u001b[39;00m:\n\u001b[0;32m   7073\u001b[0m     id_vars \u001b[39m=\u001b[39m []\n\u001b[0;32m   7074\u001b[0m \u001b[39mreturn\u001b[39;00m \u001b[39mself\u001b[39m\u001b[39m.\u001b[39m_from_pydf(\n\u001b[1;32m-> 7075\u001b[0m     \u001b[39mself\u001b[39;49m\u001b[39m.\u001b[39;49m_df\u001b[39m.\u001b[39;49mmelt(id_vars, value_vars, value_name, variable_name)\n\u001b[0;32m   7076\u001b[0m )\n",
      "\u001b[1;31mTypeError\u001b[0m: argument 'value_vars': '_selector_proxy_' object cannot be converted to 'Sequence'"
     ]
    }
   ],
   "source": [
    "(chargers_clean\n",
    "#  .pivot(values = ~cs.matches('local_authority|LAD|CAUTH'), columns=['LAD23NM', 'CAUTH23NM'], index='LAD23CD')\n",
    "#  .select(~cs.matches('local_authority|LAD|CAUTH'))\n",
    "#  .columns\n",
    ".melt(id_vars = ['CAUTH23NM', 'CAUTH23CD', 'LAD23NM', 'local_authority_region_code', 'local_authority_region_name'], value_vars=cs.numeric())\n",
    "# .melt(id_vars=cs.string())\n",
    "# .melt(value_vars=cs.numeric())\n",
    ")"
   ]
  },
  {
   "cell_type": "code",
   "execution_count": 147,
   "metadata": {},
   "outputs": [
    {
     "data": {
      "text/plain": [
       "tuple"
      ]
     },
     "execution_count": 147,
     "metadata": {},
     "output_type": "execute_result"
    }
   ],
   "source": [
    "type(cs.expand_selector(chargers_clean, cs.numeric()))"
   ]
  },
  {
   "cell_type": "code",
   "execution_count": 151,
   "metadata": {},
   "outputs": [
    {
     "ename": "TypeError",
     "evalue": "argument 'value_vars': '_selector_proxy_' object cannot be converted to 'Sequence'",
     "output_type": "error",
     "traceback": [
      "\u001b[1;31m---------------------------------------------------------------------------\u001b[0m",
      "\u001b[1;31mTypeError\u001b[0m                                 Traceback (most recent call last)",
      "\u001b[1;32mc:\\Users\\steve.crawshaw\\OneDrive - West Of England Combined Authority\\Documents\\r-projects\\weca_cesap\\weca_cesap_base_data.ipynb Cell 17\u001b[0m line \u001b[0;36m8\n\u001b[0;32m      <a href='vscode-notebook-cell:/c%3A/Users/steve.crawshaw/OneDrive%20-%20West%20Of%20England%20Combined%20Authority/Documents/r-projects/weca_cesap/weca_cesap_base_data.ipynb#X33sZmlsZQ%3D%3D?line=0'>1</a>\u001b[0m df \u001b[39m=\u001b[39m pl\u001b[39m.\u001b[39mDataFrame(\n\u001b[0;32m      <a href='vscode-notebook-cell:/c%3A/Users/steve.crawshaw/OneDrive%20-%20West%20Of%20England%20Combined%20Authority/Documents/r-projects/weca_cesap/weca_cesap_base_data.ipynb#X33sZmlsZQ%3D%3D?line=1'>2</a>\u001b[0m     {\n\u001b[0;32m      <a href='vscode-notebook-cell:/c%3A/Users/steve.crawshaw/OneDrive%20-%20West%20Of%20England%20Combined%20Authority/Documents/r-projects/weca_cesap/weca_cesap_base_data.ipynb#X33sZmlsZQ%3D%3D?line=2'>3</a>\u001b[0m         \u001b[39m\"\u001b[39m\u001b[39ma\u001b[39m\u001b[39m\"\u001b[39m: [\u001b[39m\"\u001b[39m\u001b[39mx\u001b[39m\u001b[39m\"\u001b[39m, \u001b[39m\"\u001b[39m\u001b[39my\u001b[39m\u001b[39m\"\u001b[39m, \u001b[39m\"\u001b[39m\u001b[39mz\u001b[39m\u001b[39m\"\u001b[39m],\n\u001b[1;32m   (...)\u001b[0m\n\u001b[0;32m      <a href='vscode-notebook-cell:/c%3A/Users/steve.crawshaw/OneDrive%20-%20West%20Of%20England%20Combined%20Authority/Documents/r-projects/weca_cesap/weca_cesap_base_data.ipynb#X33sZmlsZQ%3D%3D?line=5'>6</a>\u001b[0m     }\n\u001b[0;32m      <a href='vscode-notebook-cell:/c%3A/Users/steve.crawshaw/OneDrive%20-%20West%20Of%20England%20Combined%20Authority/Documents/r-projects/weca_cesap/weca_cesap_base_data.ipynb#X33sZmlsZQ%3D%3D?line=6'>7</a>\u001b[0m )\n\u001b[1;32m----> <a href='vscode-notebook-cell:/c%3A/Users/steve.crawshaw/OneDrive%20-%20West%20Of%20England%20Combined%20Authority/Documents/r-projects/weca_cesap/weca_cesap_base_data.ipynb#X33sZmlsZQ%3D%3D?line=7'>8</a>\u001b[0m df\u001b[39m.\u001b[39;49mmelt(id_vars\u001b[39m=\u001b[39;49m\u001b[39m\"\u001b[39;49m\u001b[39ma\u001b[39;49m\u001b[39m\"\u001b[39;49m, value_vars\u001b[39m=\u001b[39;49mcs\u001b[39m.\u001b[39;49mnumeric())\n",
      "File \u001b[1;32mc:\\Users\\steve.crawshaw\\micromamba\\envs\\ds01\\Lib\\site-packages\\polars\\dataframe\\frame.py:7075\u001b[0m, in \u001b[0;36mDataFrame.melt\u001b[1;34m(self, id_vars, value_vars, variable_name, value_name)\u001b[0m\n\u001b[0;32m   7072\u001b[0m \u001b[39mif\u001b[39;00m id_vars \u001b[39mis\u001b[39;00m \u001b[39mNone\u001b[39;00m:\n\u001b[0;32m   7073\u001b[0m     id_vars \u001b[39m=\u001b[39m []\n\u001b[0;32m   7074\u001b[0m \u001b[39mreturn\u001b[39;00m \u001b[39mself\u001b[39m\u001b[39m.\u001b[39m_from_pydf(\n\u001b[1;32m-> 7075\u001b[0m     \u001b[39mself\u001b[39;49m\u001b[39m.\u001b[39;49m_df\u001b[39m.\u001b[39;49mmelt(id_vars, value_vars, value_name, variable_name)\n\u001b[0;32m   7076\u001b[0m )\n",
      "\u001b[1;31mTypeError\u001b[0m: argument 'value_vars': '_selector_proxy_' object cannot be converted to 'Sequence'"
     ]
    }
   ],
   "source": [
    "df = pl.DataFrame(\n",
    "    {\n",
    "        \"a\": [\"x\", \"y\", \"z\"],\n",
    "        \"b\": [1, 3, 5],\n",
    "        \"c\": [2, 4, 6],\n",
    "    }\n",
    ")\n",
    "df.melt(id_vars=\"a\", value_vars=cs.numeric())"
   ]
  },
  {
   "cell_type": "code",
   "execution_count": null,
   "metadata": {},
   "outputs": [],
   "source": []
  },
  {
   "cell_type": "code",
   "execution_count": null,
   "metadata": {},
   "outputs": [],
   "source": []
  },
  {
   "cell_type": "code",
   "execution_count": null,
   "metadata": {},
   "outputs": [],
   "source": []
  }
 ],
 "metadata": {
  "kernelspec": {
   "display_name": "Python 3",
   "language": "python",
   "name": "python3"
  },
  "language_info": {
   "codemirror_mode": {
    "name": "ipython",
    "version": 3
   },
   "file_extension": ".py",
   "mimetype": "text/x-python",
   "name": "python",
   "nbconvert_exporter": "python",
   "pygments_lexer": "ipython3",
   "version": "3.12.0"
  }
 },
 "nbformat": 4,
 "nbformat_minor": 2
}
