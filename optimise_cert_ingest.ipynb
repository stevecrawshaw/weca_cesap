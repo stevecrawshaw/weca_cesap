{
 "cells": [
  {
   "cell_type": "code",
   "execution_count": 1,
   "metadata": {},
   "outputs": [],
   "source": [
    "import polars as pl\n",
    "import os\n",
    "import get_ca_data as get_ca # functions for retrieving CA \\ common data\n"
   ]
  },
  {
   "cell_type": "code",
   "execution_count": 2,
   "metadata": {},
   "outputs": [],
   "source": [
    "ca_la_df = get_ca.get_ca_la_df(2023, inc_ns=True) # include NS\n",
    "la_list = ca_la_df['ladcd'] #includes north somerset"
   ]
  },
  {
   "cell_type": "markdown",
   "metadata": {},
   "source": [
    "Test the lazy query to understand what's included"
   ]
  },
  {
   "cell_type": "code",
   "execution_count": 5,
   "metadata": {},
   "outputs": [],
   "source": [
    "file_path = 'data/all-domestic-certificates/domestic-E06000001-Hartlepool/certificates.csv'"
   ]
  },
  {
   "cell_type": "code",
   "execution_count": 14,
   "metadata": {},
   "outputs": [],
   "source": [
    "cols_schema_nondom = {\n",
    "    'LMK_KEY': pl.Utf8,\n",
    "    'POSTCODE': pl.Utf8,\n",
    "    'BUILDING_REFERENCE_NUMBER': pl.Int64,\n",
    "    'ASSET_RATING': pl.Int64,\n",
    "    'ASSET_RATING_BAND': pl.Utf8,\n",
    "    'PROPERTY_TYPE': pl.Utf8,\n",
    "    'LOCAL_AUTHORITY': pl.Utf8,\n",
    "    'CONSTITUENCY': pl.Utf8,\n",
    "    'TRANSACTION_TYPE': pl.Utf8,\n",
    "    'STANDARD_EMISSIONS': pl.Float64,\n",
    "    'TYPICAL_EMISSIONS': pl.Float64,\n",
    "    'TARGET_EMISSIONS': pl.Float64,\n",
    "    'BUILDING_EMISSIONS': pl.Float64,\n",
    "    'BUILDING_LEVEL': pl.Int64,\n",
    "    'RENEWABLE_SOURCES': pl.Utf8,\n",
    "    'LODGEMENT_DATETIME': pl.Datetime,\n",
    "    'UPRN': pl.Int64\n",
    "    }"
   ]
  },
  {
   "cell_type": "code",
   "execution_count": 4,
   "metadata": {},
   "outputs": [],
   "source": [
    "cols_schema_dom = {\n",
    "                        'LMK_KEY':pl.Utf8,\n",
    "                        'POSTCODE':pl.Utf8,\n",
    "                        'CURRENT_ENERGY_RATING':pl.Utf8,\n",
    "                        'LOCAL_AUTHORITY':pl.Utf8,\n",
    "                        'PROPERTY_TYPE':pl.Utf8,\n",
    "                        'LODGEMENT_DATETIME':pl.Datetime,\n",
    "                        'TRANSACTION_TYPE': pl.Utf8,\n",
    "                        'ENVIRONMENT_IMPACT_CURRENT':pl.Int64,\n",
    "                        'CO2_EMISSIONS_CURRENT': pl.Float64,\n",
    "                        'TENURE':pl.Utf8,\n",
    "                        'UPRN':pl.Int64\n",
    "                    }"
   ]
  },
  {
   "cell_type": "code",
   "execution_count": 6,
   "metadata": {},
   "outputs": [],
   "source": [
    "def ingest_certs(la_list: list, cols_schema: dict, root_dir: str):\n",
    "    \"\"\"\n",
    "    Loop through all folders in a root directory\n",
    "    if the folder name matches an item in a list of folder names\n",
    "    us an optimised polars query to ingest a subset of columns and do \n",
    "    some transformations to create a single large DF of EPC data\n",
    "    \"\"\"\n",
    "    all_dataframes = []\n",
    "    cols_select_list = list(cols_schema.keys())\n",
    "    for item in la_list:\n",
    "        for folder_name in os.listdir(root_dir):\n",
    "            # Check if the folder name matches an item in la_list\n",
    "            if item in folder_name:\n",
    "                file_path = os.path.join(root_dir, folder_name, \"certificates.csv\")\n",
    "                # Check if certificates.csv actually exists inside the folder\n",
    "                if os.path.exists(file_path):\n",
    "                    # Optimised query which implements predicate pushdown for each file\n",
    "                    # Polars optimises the query to make it fast and efficient\n",
    "                    q = (\n",
    "                    pl.scan_csv(file_path,\n",
    "                    dtypes = cols_schema) #all as strings\n",
    "                        .select(pl.col(cols_select_list))\n",
    "                    .sort(pl.col(['UPRN', 'LODGEMENT_DATETIME']))\n",
    "                    .group_by('UPRN').last()\n",
    "                    )\n",
    "                    # The query is collected for each file\n",
    "                    df = q.collect()\n",
    "                    # the collected dataframe is appended to the list\n",
    "                    all_dataframes.append(df)\n",
    "    # Concatenate list of dataframes into one consolidated DF                \n",
    "    certs_df = pl.concat(all_dataframes)                \n",
    "    return certs_df"
   ]
  },
  {
   "cell_type": "code",
   "execution_count": 7,
   "metadata": {},
   "outputs": [],
   "source": [
    "dom_certs_df = opt_certs(la_list=la_list,\n",
    "                         cols_schema=cols_schema_dom,\n",
    "                         root_dir='data/all-domestic-certificates/')"
   ]
  },
  {
   "cell_type": "code",
   "execution_count": 15,
   "metadata": {},
   "outputs": [],
   "source": [
    "nondom_certs = opt_certs(la_list=la_list,\n",
    "                         cols_schema=cols_schema_nondom,\n",
    "                         root_dir='data/all-non-domestic-certificates/'\n",
    "\n",
    ")"
   ]
  },
  {
   "cell_type": "code",
   "execution_count": 16,
   "metadata": {},
   "outputs": [
    {
     "name": "stdout",
     "output_type": "stream",
     "text": [
      "Rows: 160684\n",
      "Columns: 17\n",
      "$ UPRN                               <i64> None, 10001240792, 10001240793, 10001240855, 10001240878, 10001240879, 10001240935, 10001240937, 10001241269, 10001241306\n",
      "$ LMK_KEY                            <str> '987452fe0c52d188f32ec4c6ea2b17225abd4e7e3658086c173267a59e5e184f', 'ffb12f5ee354363af759b2fb244c27889e121ed19ca6f08f3b6f39ed8b477179', '3387d6d899e4a5a1783ebb5b264e560568070ea39eb557bf18568d7cfbd02c82', '87637770952014011609163407009139', 'bb6f0769a6f508b6fde6eb41fe032bf904b830b55261731a9563386e1c2df1a0', '144594841032019042611130857000497', '4fa1809006824d509debfedbf0203725df4c4f3de7e33f1a5491f08d695bc311', '0443186cc593abd547c9d3e954712af9f45df3e22984eb76c643f714b2f11d6c', '63020028052012042010543409009768', '0d6fcf659ff3badad4c0c131b86a7f76adff28dba92b65da92e38c1e51419f90'\n",
      "$ POSTCODE                           <str> 'BL3 6JT', 'BL6 6QQ', 'BL6 6QQ', 'BL5 3XJ', 'BL5 3XH', 'BL5 3XH', 'BL3 6BT', 'BL3 6DH', 'BL1 4DH', 'BL6 6SY'\n",
      "$ BUILDING_REFERENCE_NUMBER          <i64> 10005205750, 10003935784, 10003551981, 194107230000, 10000867927, 477745350000, 10003554871, 10003379098, 787289160000, 10003373561\n",
      "$ ASSET_RATING                       <i64> 43, 29, 24, 53, 65, 44, 70, 39, 94, 63\n",
      "$ ASSET_RATING_BAND                  <str> 'B', 'B', 'A', 'C', 'C', 'B', 'C', 'B', 'D', 'C'\n",
      "$ PROPERTY_TYPE                      <str> 'Retail/Financial and Professional Services', 'Offices and Workshop Businesses', 'Offices and Workshop Businesses', 'B1 Offices and Workshop businesses', 'B8 Storage or Distribution', 'B1 Offices and Workshop businesses', 'Storage or Distribution', 'Restaurants and Cafes/Drinking Establishments/Takeaways', 'B1 Offices and Workshop businesses', 'Offices and Workshop Businesses'\n",
      "$ LOCAL_AUTHORITY                    <str> 'E08000001', 'E08000001', 'E08000001', 'E08000001', 'E08000001', 'E08000001', 'E08000001', 'E08000001', 'E08000001', 'E08000001'\n",
      "$ CONSTITUENCY                       <str> 'E14000579', 'E14000580', 'E14000580', 'E14000580', 'E14000580', 'E14000580', 'E14000579', 'E14000579', 'E14000578', 'E14000580'\n",
      "$ TRANSACTION_TYPE                   <str> 'Mandatory issue (Property to let).', 'Mandatory issue (Property to let).', 'Mandatory issue (Property to let).', 'Mandatory issue (Property to let).', 'Voluntary (No legal requirement for an EPC).', 'Mandatory issue (Marketed sale).', 'Mandatory issue (Property to let).', 'Mandatory issue (Marketed sale)', 'Mandatory issue (Property to let).', 'Mandatory issue (Marketed sale)'\n",
      "$ STANDARD_EMISSIONS                 <f64> 12.23, 17.37, 15.17, 29.94, 29.12, 26.69, 7.95, 91.64, 46.52, 21.07\n",
      "$ TYPICAL_EMISSIONS                  <f64> 13.76, 14.67, 11.99, 33.88, 42.64, 34.12, 13.71, 96.15, 83.79, 34.45\n",
      "$ TARGET_EMISSIONS                   <f64> 0.0, 3.66, 2.99, 12.71, 14.55, 11.65, 3.43, 23.98, 31.42, 8.61\n",
      "$ BUILDING_EMISSIONS                 <f64> 10.47, 10.17, 7.33, 31.62, 37.58, 23.53, 11.07, 72.07, 87.39, 26.53\n",
      "$ BUILDING_LEVEL                     <i64> 3, 3, 4, 3, 3, 3, 3, 3, 3, 3\n",
      "$ RENEWABLE_SOURCES                  <str> None, None, None, None, None, None, None, None, None, None\n",
      "$ LODGEMENT_DATETIME        <datetime[μs]> 2023-10-27 09:17:35, 2023-01-07 15:57:29, 2022-10-26 10:04:47, 2014-01-16 09:16:34, 2021-02-22 00:00:00, 2019-04-26 11:13:08, 2022-10-20 17:41:25, 2022-09-09 13:51:11, 2012-04-20 10:54:34, 2022-07-11 08:58:34\n",
      "\n"
     ]
    }
   ],
   "source": [
    "nondom_certs.glimpse()"
   ]
  },
  {
   "cell_type": "code",
   "execution_count": null,
   "metadata": {},
   "outputs": [],
   "source": []
  },
  {
   "cell_type": "code",
   "execution_count": null,
   "metadata": {},
   "outputs": [],
   "source": []
  },
  {
   "cell_type": "code",
   "execution_count": null,
   "metadata": {},
   "outputs": [],
   "source": []
  },
  {
   "cell_type": "code",
   "execution_count": null,
   "metadata": {},
   "outputs": [],
   "source": []
  },
  {
   "cell_type": "code",
   "execution_count": null,
   "metadata": {},
   "outputs": [],
   "source": []
  },
  {
   "cell_type": "code",
   "execution_count": null,
   "metadata": {},
   "outputs": [],
   "source": []
  },
  {
   "cell_type": "code",
   "execution_count": null,
   "metadata": {},
   "outputs": [],
   "source": []
  },
  {
   "cell_type": "code",
   "execution_count": null,
   "metadata": {},
   "outputs": [],
   "source": []
  }
 ],
 "metadata": {
  "kernelspec": {
   "display_name": "Python 3",
   "language": "python",
   "name": "python3"
  },
  "language_info": {
   "codemirror_mode": {
    "name": "ipython",
    "version": 3
   },
   "file_extension": ".py",
   "mimetype": "text/x-python",
   "name": "python",
   "nbconvert_exporter": "python",
   "pygments_lexer": "ipython3",
   "version": "3.11.6"
  }
 },
 "nbformat": 4,
 "nbformat_minor": 2
}
